{
 "cells": [
  {
   "cell_type": "markdown",
   "id": "instructional-favor",
   "metadata": {},
   "source": [
    "# Knihovna CtiOsCsv"
   ]
  },
  {
   "cell_type": "markdown",
   "id": "incorporated-employer",
   "metadata": {},
   "source": [
    "Nejdrive naimportujeme knihovny:"
   ]
  },
  {
   "cell_type": "code",
   "execution_count": 1,
   "id": "fewer-right",
   "metadata": {},
   "outputs": [],
   "source": [
    "import os\n",
    "import sys\n",
    "import sqlite3\n",
    "from ctios.csv import CtiOsCsv"
   ]
  },
  {
   "cell_type": "markdown",
   "id": "tutorial-space",
   "metadata": {},
   "source": [
    "Pote nadefinujeme parametry nutne pro inicializaci knihovny:"
   ]
  },
  {
   "cell_type": "code",
   "execution_count": 2,
   "id": "based-russian",
   "metadata": {},
   "outputs": [
    {
     "name": "stdout",
     "output_type": "stream",
     "text": [
      "/home/linwe/pywsdp/tests/input_data/ctios.txt\n",
      "/home/linwe/pywsdp/ctios/config/settings.ini\n",
      "/home/linwe/pywsdp/tests/output_data\n",
      "/home/linwe/pywsdp/tests/ctios\n"
     ]
    }
   ],
   "source": [
    "username = \"WSTEST\"\n",
    "password = \"WSHESLO\"\n",
    "txt_path = os.path.join(os.path.abspath('tests'), 'input_data', 'ctios.txt')\n",
    "config_path = os.path.join(os.path.abspath('ctios'), 'config', 'settings.ini') #nepovinny\n",
    "out_dir = os.path.join(os.path.abspath('tests'), 'output_data') #nepovinny\n",
    "log_dir = os.path.join(os.path.abspath('tests'), 'ctios') #nepovinny\n",
    "print(txt_path)\n",
    "print(config_path)\n",
    "print(out_dir)\n",
    "print(log_dir)"
   ]
  },
  {
   "cell_type": "markdown",
   "id": "dimensional-cream",
   "metadata": {},
   "source": [
    "Zavolame knihovnu a naplnime VFK databazi osobnimi udaji:\n"
   ]
  },
  {
   "cell_type": "code",
   "execution_count": 3,
   "id": "resident-premises",
   "metadata": {
    "scrolled": true
   },
   "outputs": [
    {
     "name": "stderr",
     "output_type": "stream",
     "text": [
      "pyctios      - INFO     - POSIDENT uecJ/wWk2Ej6CAnwe3i0y0jfrp9Xr1oMVJ+9kLKpkU8trb/GSsJmcvNw7XJ0dzNpkKLYrpaxDPIVMKGKnG/ZMzSYtEOoqKGnRHhbt/PXjUr/RJzL4O5LlsS30GNP3Kka USPESNE STAZEN\n",
      "pyctios      - INFO     - POSIDENT \n",
      "Vm+8vMmIsWsvcxR9zMDL9Cy+E0ZgHj9AJ3kwMqaLxguXn6wJcfM3e3LWpd7RzRxm3woikNUtGPF45crUFMpAsfsa/Bmx4YzTqTFCj0vhoQY= USPESNE STAZEN\n",
      "pyctios      - INFO     - POSIDENT \n",
      "T/sOfNBmULfA5GzBpJRYu3UWEwhw4PFYydRQSh7x1PSc4RTRLXYaXTfpbt2Da17zSJPbQDKce+cHMMQVCVBRj9+U8wwRYYTBTgLsWbpMpuY= USPESNE STAZEN\n",
      "pyctios      - INFO     - POSIDENT \n",
      "lWpFU3UmWlpSe8TtpUMRBCFflbRtrT1aEpzxnv1MEXnpCGhTicndBKbyJjsfMJMdgH+U78n9GU5DNm6bXxNhnC2JU2MIzwpJObcy4n2Baqk= USPESNE STAZEN\n",
      "pyctios      - INFO     - POSIDENT \n",
      "mDkas+QvEOd4+XBxuIW4Da3aEEdBAod5OJM/9la0ivdkMk7DTs9DqRZEI5Lc3wAC7Yb1sw4kp/JEFP3nnG2ZcPT36EJYO+EfrC0OlzewTfM= USPESNE STAZEN\n",
      "pyctios      - INFO     - POSIDENT \n",
      "7TsaZA7GFeEVxMscggvr2LkRAZwqfDywZ9HtkoX92fdNI/VFseD7SjfY8rJ7IlS7o2MG7D4mG56FZUTFOUWW7a5GeMmtDAasGLtodOgvIOA= USPESNE STAZEN\n",
      "pyctios      - INFO     - POSIDENT \n",
      "yqpT3s/QygUWqCsg/azKypTOTOuJdbjB/16kQv0m5uugaHFJh8Mtp2i7sCdt71GRZixdYAzCVqEa4mNgvEjDECGf0Fby1B2nv1NdlyFQPrg= USPESNE STAZEN\n",
      "pyctios      - INFO     - POSIDENT \n",
      "Z3anPBTLRy4YQTD0UgZkTJ+keVuWZ8j50lI8whQPyaERWuqwwnwsnvPL5JvmjhqosP5ukUJEFe29IEnCIx6/MSQ0jCVnAyGflCmCnQBnc3JQLWVD9vLnWZYbgp+9oL3r USPESNE STAZEN\n",
      "pyctios      - INFO     - POSIDENT \n",
      "i0/Tr+VNmKgY+wJydNVJbCob8vQemEnjdn3A2r2ffhs8dz4IHH2H2AVcFvTyEOe3ci6MD33ZHXqEu8Lr8L1xtG3SHwhy2TBVM3bEa6vFpMbxj5wBXmFfT/QAGRrOqWBN USPESNE STAZEN\n",
      "pyctios      - INFO     - POSIDENT \n",
      "/AOrBGOFR+4GtqsAvOXC/3kKd0OCEPBVRfEsIPHeW3CoGcU1dio8gmrulsH5/KEvySRvbRT2hlDOXICKukDLldMgNY5z+yASe8F1rqBlKug=\n",
      " USPESNE STAZEN\n",
      "pyctios      - INFO     - Radky v csv u POSIdentu uecJ/wWk2Ej6CAnwe3i0y0jfrp9Xr1oMVJ+9kLKpkU8trb/GSsJmcvNw7XJ0dzNpkKLYrpaxDPIVMKGKnG/ZMzSYtEOoqKGnRHhbt/PXjUr/RJzL4O5LlsS30GNP3Kka aktualizovany\n",
      "pyctios      - INFO     - Radky v csv u POSIdentu \n",
      "Vm+8vMmIsWsvcxR9zMDL9Cy+E0ZgHj9AJ3kwMqaLxguXn6wJcfM3e3LWpd7RzRxm3woikNUtGPF45crUFMpAsfsa/Bmx4YzTqTFCj0vhoQY= aktualizovany\n",
      "pyctios      - INFO     - Radky v csv u POSIdentu \n",
      "T/sOfNBmULfA5GzBpJRYu3UWEwhw4PFYydRQSh7x1PSc4RTRLXYaXTfpbt2Da17zSJPbQDKce+cHMMQVCVBRj9+U8wwRYYTBTgLsWbpMpuY= aktualizovany\n",
      "pyctios      - INFO     - Radky v csv u POSIdentu \n",
      "lWpFU3UmWlpSe8TtpUMRBCFflbRtrT1aEpzxnv1MEXnpCGhTicndBKbyJjsfMJMdgH+U78n9GU5DNm6bXxNhnC2JU2MIzwpJObcy4n2Baqk= aktualizovany\n",
      "pyctios      - INFO     - Radky v csv u POSIdentu \n",
      "mDkas+QvEOd4+XBxuIW4Da3aEEdBAod5OJM/9la0ivdkMk7DTs9DqRZEI5Lc3wAC7Yb1sw4kp/JEFP3nnG2ZcPT36EJYO+EfrC0OlzewTfM= aktualizovany\n",
      "pyctios      - INFO     - Radky v csv u POSIdentu \n",
      "7TsaZA7GFeEVxMscggvr2LkRAZwqfDywZ9HtkoX92fdNI/VFseD7SjfY8rJ7IlS7o2MG7D4mG56FZUTFOUWW7a5GeMmtDAasGLtodOgvIOA= aktualizovany\n",
      "pyctios      - INFO     - Radky v csv u POSIdentu \n",
      "yqpT3s/QygUWqCsg/azKypTOTOuJdbjB/16kQv0m5uugaHFJh8Mtp2i7sCdt71GRZixdYAzCVqEa4mNgvEjDECGf0Fby1B2nv1NdlyFQPrg= aktualizovany\n",
      "pyctios      - INFO     - Radky v csv u POSIdentu \n",
      "Z3anPBTLRy4YQTD0UgZkTJ+keVuWZ8j50lI8whQPyaERWuqwwnwsnvPL5JvmjhqosP5ukUJEFe29IEnCIx6/MSQ0jCVnAyGflCmCnQBnc3JQLWVD9vLnWZYbgp+9oL3r aktualizovany\n",
      "pyctios      - INFO     - Radky v csv u POSIdentu \n",
      "i0/Tr+VNmKgY+wJydNVJbCob8vQemEnjdn3A2r2ffhs8dz4IHH2H2AVcFvTyEOe3ci6MD33ZHXqEu8Lr8L1xtG3SHwhy2TBVM3bEa6vFpMbxj5wBXmFfT/QAGRrOqWBN aktualizovany\n",
      "pyctios      - INFO     - Radky v csv u POSIdentu \n",
      "/AOrBGOFR+4GtqsAvOXC/3kKd0OCEPBVRfEsIPHeW3CoGcU1dio8gmrulsH5/KEvySRvbRT2hlDOXICKukDLldMgNY5z+yASe8F1rqBlKug=\n",
      " aktualizovany\n",
      "pyctios      - INFO     - Pocet dotazovanych posidentu: 10.\n",
      "pyctios      - INFO     - Pocet pozadavku do ktereho byl dotaz rozdelen: 1.\n",
      "pyctios      - INFO     - Pocet uspesne stazenych posidentu: 10\n",
      "pyctios      - INFO     - Neplatny identifikator: 0x.\n",
      "pyctios      - INFO     - Expirovany identifikator: 0x.\n",
      "pyctios      - INFO     - Opravneny subjekt neexistuje: 0x.\n"
     ]
    }
   ],
   "source": [
    "ctios = CtiOsCsv(username=username,\n",
    "                 password=password,\n",
    "                 txt_path=txt_path,\n",
    "                 config_path=config_path,\n",
    "                 out_dir=out_dir,\n",
    "                 log_dir=log_dir)\n",
    "ctios.process()"
   ]
  },
  {
   "cell_type": "code",
   "execution_count": null,
   "id": "hollow-preserve",
   "metadata": {},
   "outputs": [],
   "source": []
  }
 ],
 "metadata": {
  "kernelspec": {
   "display_name": "Python 3",
   "language": "python",
   "name": "python3"
  },
  "language_info": {
   "codemirror_mode": {
    "name": "ipython",
    "version": 3
   },
   "file_extension": ".py",
   "mimetype": "text/x-python",
   "name": "python",
   "nbconvert_exporter": "python",
   "pygments_lexer": "ipython3",
   "version": "3.6.9"
  }
 },
 "nbformat": 4,
 "nbformat_minor": 5
}
