{
 "cells": [
  {
   "cell_type": "markdown",
   "id": "instructional-favor",
   "metadata": {},
   "source": [
    "# Knihovna CtiOsCsv"
   ]
  },
  {
   "cell_type": "markdown",
   "id": "incorporated-employer",
   "metadata": {},
   "source": [
    "Knihovna CtiOsCsv slouzi k ziskani csv s osobnimi udaji na zaklade vstupu ve forme seznamu pseudoidentifikatoru.\n",
    "\n",
    "Nejdrive naimportujeme knihovny:"
   ]
  },
  {
   "cell_type": "code",
   "execution_count": 1,
   "id": "fewer-right",
   "metadata": {},
   "outputs": [],
   "source": [
    "import os\n",
    "import sys\n",
    "import sqlite3\n",
    "from ctios.csv import CtiOsCsv"
   ]
  },
  {
   "cell_type": "markdown",
   "id": "tutorial-space",
   "metadata": {},
   "source": [
    "Pote nadefinujeme parametry nutne pro inicializaci knihovny:"
   ]
  },
  {
   "cell_type": "code",
   "execution_count": 2,
   "id": "based-russian",
   "metadata": {},
   "outputs": [
    {
     "name": "stdout",
     "output_type": "stream",
     "text": [
      "/home/linwe/pywsdp/tests/output_data/ctios.csv\n",
      "/home/linwe/pywsdp/tests/input_data/ctios_1.txt\n"
     ]
    }
   ],
   "source": [
    "username = \"WSTEST\"\n",
    "password = \"WSHESLO\"\n",
    "csv_path = os.path.join(os.path.abspath('tests'), 'output_data', 'ctios.csv')\n",
    "txt_path = os.path.join(os.path.abspath('tests'), 'input_data', 'ctios_1.txt')\n",
    "print(csv_path)\n",
    "print(txt_path)"
   ]
  },
  {
   "cell_type": "markdown",
   "id": "dimensional-cream",
   "metadata": {},
   "source": [
    "Zavolame knihovnu a naplnime VFK databazi osobnimi udaji:\n"
   ]
  },
  {
   "cell_type": "code",
   "execution_count": 3,
   "id": "resident-premises",
   "metadata": {
    "scrolled": true
   },
   "outputs": [
    {
     "name": "stdout",
     "output_type": "stream",
     "text": [
      "['<v2:pOSIdent>m+o3Qoxrit4ZwyJIPjx3X788EOgtJieiZYw/eqwxTPERjsqLramxBhGoAaAnooYAliQoVBYy7Q7fN2cVAxsAoUoPFaReqsfYWOZJjMBj/6Q=</v2:pOSIdent>', '<v2:pOSIdent>\\nmSH6sS5yv6vA2jEOtyHeXaXIJpC2m0Ai56aKzsVmEphUNyjFQYgC8MOLnu3+3Zugm8JQW2AJqEJYcSiqXdPbnb/03PKgyNkYWaS876wv0tg=</v2:pOSIdent>', '<v2:pOSIdent>\\nxairWnG248pu7itR19AIT87mDFI8yY0K0ms7v/iDY679wQ4EN5bMhMPSTXxgWDxMWZ0IoV/ihjGkNMXeqXHrMZsEbHBTzD9RUIOXw5M1hmE=</v2:pOSIdent>', '<v2:pOSIdent>\\n4m3Yuf1esDMzbgNGYW7kvzjlaZALZ3v3D7cXmxgCcFp0RerVtxqo8yb87oI0FBCtp49AycQ5NNI3vl+b+SEa+8SfmGU4sqBPH2pX/76wyBI=</v2:pOSIdent>', '<v2:pOSIdent>\\nBBgBQ2wok0L43hEZUEeieq8FrrQsT1SHIrpQBRwgLw2uTvTsXvGloIYnr+7J2z6t/hadCsyhcbxgrf47ByzpbY5TjyiUPxyXhlS73MKArjs=</v2:pOSIdent>', '<v2:pOSIdent>\\nltTJU+/1imoqO4saz1ta1r88QGUxEkjRTfHUiC9Y9yfDKSM4c8soK/vz7bGd1JNwQPUiFayJQdLN0gPkusnnoNLo47RqbEoQxfg+eEuvTaQ=</v2:pOSIdent>', '<v2:pOSIdent>\\nOlVCtLEjQ+aNPyQNdT0JZOkkxvwl8t9DllRl/HiNx7G3QFyZnvKA4e2LBTSX+YuK41/rSMvAnm63ZeWPyZQCX77GuP1GZwwf2hVkKzVY/94=</v2:pOSIdent>', '<v2:pOSIdent>\\nKdSYyo8J1zUPVqxHUtY+tYA2w7krH9U+59hCYU8TXGZ06e74GGekPinyLtiSz+gO7ZmpWetCSaxvu1nXa6+t7w92wpqfa5jPpkfv5HF9MMA=</v2:pOSIdent>', '<v2:pOSIdent>\\n5wQRil9Nd5KIrn5KWTf8+sksZslnMqy2tveDvYPIsd1cd9qHYs1V9d9uZVwBEVe5Sknvonhh+FDiaYEJa+RdHM3VtvGsIqsc2Hm3mX0xYfs=</v2:pOSIdent>', '<v2:pOSIdent>\\nUKcYWvUUTpNi8flxUzlm+Ss5iq0JV3CiStJSAMOk6xHFQncZraFeO9yj8OGraKiDJ8eLB0FegdXYuyYWsEXiv2H9ws95ezlKNTqR6ze7aOnR3a7NWzWJfe+R5VHfU13+\\n</v2:pOSIdent>']\n"
     ]
    },
    {
     "data": {
      "text/plain": [
       "10"
      ]
     },
     "execution_count": 3,
     "metadata": {},
     "output_type": "execute_result"
    }
   ],
   "source": [
    "ctios = CtiOsCsv(username=username,\n",
    "                 password=password,\n",
    "                 csv_path=csv_path)\n",
    "posidents = ctios.get_posidents_from_txt(txt_path)\n",
    "print(posidents)\n",
    "len(posidents)"
   ]
  },
  {
   "cell_type": "markdown",
   "id": "driven-aaron",
   "metadata": {},
   "source": [
    "Nad seznamem zavolame metodu .process, ktera k zadanym identifikatorum aktualizuje v tabulce osobni udaje:"
   ]
  },
  {
   "cell_type": "code",
   "execution_count": 5,
   "id": "present-baker",
   "metadata": {},
   "outputs": [
    {
     "name": "stderr",
     "output_type": "stream",
     "text": [
      "pyctios      - INFO     - POSIDENT m+o3Qoxrit4ZwyJIPjx3X788EOgtJieiZYw/eqwxTPERjsqLramxBhGoAaAnooYAliQoVBYy7Q7fN2cVAxsAoUoPFaReqsfYWOZJjMBj/6Q= EXPIROVANY IDENTIFIKATOR\n",
      "pyctios      - INFO     - POSIDENT \n",
      "mSH6sS5yv6vA2jEOtyHeXaXIJpC2m0Ai56aKzsVmEphUNyjFQYgC8MOLnu3+3Zugm8JQW2AJqEJYcSiqXdPbnb/03PKgyNkYWaS876wv0tg= EXPIROVANY IDENTIFIKATOR\n",
      "pyctios      - INFO     - POSIDENT \n",
      "xairWnG248pu7itR19AIT87mDFI8yY0K0ms7v/iDY679wQ4EN5bMhMPSTXxgWDxMWZ0IoV/ihjGkNMXeqXHrMZsEbHBTzD9RUIOXw5M1hmE= EXPIROVANY IDENTIFIKATOR\n",
      "pyctios      - INFO     - POSIDENT \n",
      "4m3Yuf1esDMzbgNGYW7kvzjlaZALZ3v3D7cXmxgCcFp0RerVtxqo8yb87oI0FBCtp49AycQ5NNI3vl+b+SEa+8SfmGU4sqBPH2pX/76wyBI= EXPIROVANY IDENTIFIKATOR\n",
      "pyctios      - INFO     - POSIDENT \n",
      "BBgBQ2wok0L43hEZUEeieq8FrrQsT1SHIrpQBRwgLw2uTvTsXvGloIYnr+7J2z6t/hadCsyhcbxgrf47ByzpbY5TjyiUPxyXhlS73MKArjs= EXPIROVANY IDENTIFIKATOR\n",
      "pyctios      - INFO     - POSIDENT \n",
      "ltTJU+/1imoqO4saz1ta1r88QGUxEkjRTfHUiC9Y9yfDKSM4c8soK/vz7bGd1JNwQPUiFayJQdLN0gPkusnnoNLo47RqbEoQxfg+eEuvTaQ= EXPIROVANY IDENTIFIKATOR\n",
      "pyctios      - INFO     - POSIDENT \n",
      "OlVCtLEjQ+aNPyQNdT0JZOkkxvwl8t9DllRl/HiNx7G3QFyZnvKA4e2LBTSX+YuK41/rSMvAnm63ZeWPyZQCX77GuP1GZwwf2hVkKzVY/94= EXPIROVANY IDENTIFIKATOR\n",
      "pyctios      - INFO     - POSIDENT \n",
      "KdSYyo8J1zUPVqxHUtY+tYA2w7krH9U+59hCYU8TXGZ06e74GGekPinyLtiSz+gO7ZmpWetCSaxvu1nXa6+t7w92wpqfa5jPpkfv5HF9MMA= EXPIROVANY IDENTIFIKATOR\n",
      "pyctios      - INFO     - POSIDENT \n",
      "5wQRil9Nd5KIrn5KWTf8+sksZslnMqy2tveDvYPIsd1cd9qHYs1V9d9uZVwBEVe5Sknvonhh+FDiaYEJa+RdHM3VtvGsIqsc2Hm3mX0xYfs= EXPIROVANY IDENTIFIKATOR\n",
      "pyctios      - INFO     - POSIDENT \n",
      "UKcYWvUUTpNi8flxUzlm+Ss5iq0JV3CiStJSAMOk6xHFQncZraFeO9yj8OGraKiDJ8eLB0FegdXYuyYWsEXiv2H9ws95ezlKNTqR6ze7aOnR3a7NWzWJfe+R5VHfU13+\n",
      " EXPIROVANY IDENTIFIKATOR\n",
      "pyctios      - INFO     - Pocet dotazovanych posidentu: 10.\n",
      "pyctios      - INFO     - Pocet pozadavku do ktereho byl dotaz rozdelen: 1.\n",
      "pyctios      - INFO     - Pocet uspesne stazenych posidentu: 0\n",
      "pyctios      - INFO     - Neplatny identifikator: 0x.\n",
      "pyctios      - INFO     - Expirovany identifikator: 10x.\n",
      "pyctios      - INFO     - Opravneny subjekt neexistuje: 0x.\n"
     ]
    }
   ],
   "source": [
    "ctios.process(posidents)"
   ]
  },
  {
   "cell_type": "markdown",
   "id": "tough-election",
   "metadata": {},
   "source": [
    "Muzeme si vsimnout ze jsme pravdepodobne pouzili stary soubor, jelikoz posidenty jsou expirovane. Zkusime tedy obstarat aktualni data a nyni uz se dobereme vysledku:"
   ]
  },
  {
   "cell_type": "code",
   "execution_count": 6,
   "id": "future-dinner",
   "metadata": {},
   "outputs": [],
   "source": [
    "txt_path = os.path.join(os.path.abspath('tests'), 'input_data', 'ctios_2.txt')\n",
    "posidents = ctios.get_posidents_from_txt(txt_path)"
   ]
  },
  {
   "cell_type": "code",
   "execution_count": 7,
   "id": "imported-disorder",
   "metadata": {},
   "outputs": [
    {
     "name": "stderr",
     "output_type": "stream",
     "text": [
      "pyctios      - INFO     - POSIDENT uecJ/wWk2Ej6CAnwe3i0y0jfrp9Xr1oMVJ+9kLKpkU8trb/GSsJmcvNw7XJ0dzNpkKLYrpaxDPIVMKGKnG/ZMzSYtEOoqKGnRHhbt/PXjUr/RJzL4O5LlsS30GNP3Kka USPESNE STAZEN\n",
      "pyctios      - INFO     - POSIDENT \n",
      "Vm+8vMmIsWsvcxR9zMDL9Cy+E0ZgHj9AJ3kwMqaLxguXn6wJcfM3e3LWpd7RzRxm3woikNUtGPF45crUFMpAsfsa/Bmx4YzTqTFCj0vhoQY= USPESNE STAZEN\n",
      "pyctios      - INFO     - POSIDENT \n",
      "T/sOfNBmULfA5GzBpJRYu3UWEwhw4PFYydRQSh7x1PSc4RTRLXYaXTfpbt2Da17zSJPbQDKce+cHMMQVCVBRj9+U8wwRYYTBTgLsWbpMpuY= USPESNE STAZEN\n",
      "pyctios      - INFO     - POSIDENT \n",
      "lWpFU3UmWlpSe8TtpUMRBCFflbRtrT1aEpzxnv1MEXnpCGhTicndBKbyJjsfMJMdgH+U78n9GU5DNm6bXxNhnC2JU2MIzwpJObcy4n2Baqk= USPESNE STAZEN\n",
      "pyctios      - INFO     - POSIDENT \n",
      "mDkas+QvEOd4+XBxuIW4Da3aEEdBAod5OJM/9la0ivdkMk7DTs9DqRZEI5Lc3wAC7Yb1sw4kp/JEFP3nnG2ZcPT36EJYO+EfrC0OlzewTfM= USPESNE STAZEN\n",
      "pyctios      - INFO     - POSIDENT \n",
      "7TsaZA7GFeEVxMscggvr2LkRAZwqfDywZ9HtkoX92fdNI/VFseD7SjfY8rJ7IlS7o2MG7D4mG56FZUTFOUWW7a5GeMmtDAasGLtodOgvIOA= USPESNE STAZEN\n",
      "pyctios      - INFO     - POSIDENT \n",
      "yqpT3s/QygUWqCsg/azKypTOTOuJdbjB/16kQv0m5uugaHFJh8Mtp2i7sCdt71GRZixdYAzCVqEa4mNgvEjDECGf0Fby1B2nv1NdlyFQPrg= USPESNE STAZEN\n",
      "pyctios      - INFO     - POSIDENT \n",
      "Z3anPBTLRy4YQTD0UgZkTJ+keVuWZ8j50lI8whQPyaERWuqwwnwsnvPL5JvmjhqosP5ukUJEFe29IEnCIx6/MSQ0jCVnAyGflCmCnQBnc3JQLWVD9vLnWZYbgp+9oL3r USPESNE STAZEN\n",
      "pyctios      - INFO     - POSIDENT \n",
      "i0/Tr+VNmKgY+wJydNVJbCob8vQemEnjdn3A2r2ffhs8dz4IHH2H2AVcFvTyEOe3ci6MD33ZHXqEu8Lr8L1xtG3SHwhy2TBVM3bEa6vFpMbxj5wBXmFfT/QAGRrOqWBN USPESNE STAZEN\n",
      "pyctios      - INFO     - POSIDENT \n",
      "/AOrBGOFR+4GtqsAvOXC/3kKd0OCEPBVRfEsIPHeW3CoGcU1dio8gmrulsH5/KEvySRvbRT2hlDOXICKukDLldMgNY5z+yASe8F1rqBlKug=\n",
      " USPESNE STAZEN\n",
      "pyctios      - INFO     - Radky v csv u POSIdentu uecJ/wWk2Ej6CAnwe3i0y0jfrp9Xr1oMVJ+9kLKpkU8trb/GSsJmcvNw7XJ0dzNpkKLYrpaxDPIVMKGKnG/ZMzSYtEOoqKGnRHhbt/PXjUr/RJzL4O5LlsS30GNP3Kka aktualizovany\n",
      "pyctios      - INFO     - Radky v csv u POSIdentu \n",
      "Vm+8vMmIsWsvcxR9zMDL9Cy+E0ZgHj9AJ3kwMqaLxguXn6wJcfM3e3LWpd7RzRxm3woikNUtGPF45crUFMpAsfsa/Bmx4YzTqTFCj0vhoQY= aktualizovany\n",
      "pyctios      - INFO     - Radky v csv u POSIdentu \n",
      "T/sOfNBmULfA5GzBpJRYu3UWEwhw4PFYydRQSh7x1PSc4RTRLXYaXTfpbt2Da17zSJPbQDKce+cHMMQVCVBRj9+U8wwRYYTBTgLsWbpMpuY= aktualizovany\n",
      "pyctios      - INFO     - Radky v csv u POSIdentu \n",
      "lWpFU3UmWlpSe8TtpUMRBCFflbRtrT1aEpzxnv1MEXnpCGhTicndBKbyJjsfMJMdgH+U78n9GU5DNm6bXxNhnC2JU2MIzwpJObcy4n2Baqk= aktualizovany\n",
      "pyctios      - INFO     - Radky v csv u POSIdentu \n",
      "mDkas+QvEOd4+XBxuIW4Da3aEEdBAod5OJM/9la0ivdkMk7DTs9DqRZEI5Lc3wAC7Yb1sw4kp/JEFP3nnG2ZcPT36EJYO+EfrC0OlzewTfM= aktualizovany\n",
      "pyctios      - INFO     - Radky v csv u POSIdentu \n",
      "7TsaZA7GFeEVxMscggvr2LkRAZwqfDywZ9HtkoX92fdNI/VFseD7SjfY8rJ7IlS7o2MG7D4mG56FZUTFOUWW7a5GeMmtDAasGLtodOgvIOA= aktualizovany\n",
      "pyctios      - INFO     - Radky v csv u POSIdentu \n",
      "yqpT3s/QygUWqCsg/azKypTOTOuJdbjB/16kQv0m5uugaHFJh8Mtp2i7sCdt71GRZixdYAzCVqEa4mNgvEjDECGf0Fby1B2nv1NdlyFQPrg= aktualizovany\n",
      "pyctios      - INFO     - Radky v csv u POSIdentu \n",
      "Z3anPBTLRy4YQTD0UgZkTJ+keVuWZ8j50lI8whQPyaERWuqwwnwsnvPL5JvmjhqosP5ukUJEFe29IEnCIx6/MSQ0jCVnAyGflCmCnQBnc3JQLWVD9vLnWZYbgp+9oL3r aktualizovany\n",
      "pyctios      - INFO     - Radky v csv u POSIdentu \n",
      "i0/Tr+VNmKgY+wJydNVJbCob8vQemEnjdn3A2r2ffhs8dz4IHH2H2AVcFvTyEOe3ci6MD33ZHXqEu8Lr8L1xtG3SHwhy2TBVM3bEa6vFpMbxj5wBXmFfT/QAGRrOqWBN aktualizovany\n",
      "pyctios      - INFO     - Radky v csv u POSIdentu \n",
      "/AOrBGOFR+4GtqsAvOXC/3kKd0OCEPBVRfEsIPHeW3CoGcU1dio8gmrulsH5/KEvySRvbRT2hlDOXICKukDLldMgNY5z+yASe8F1rqBlKug=\n",
      " aktualizovany\n",
      "pyctios      - INFO     - Pocet dotazovanych posidentu: 10.\n",
      "pyctios      - INFO     - Pocet pozadavku do ktereho byl dotaz rozdelen: 1.\n",
      "pyctios      - INFO     - Pocet uspesne stazenych posidentu: 10\n",
      "pyctios      - INFO     - Neplatny identifikator: 0x.\n",
      "pyctios      - INFO     - Expirovany identifikator: 0x.\n",
      "pyctios      - INFO     - Opravneny subjekt neexistuje: 0x.\n"
     ]
    }
   ],
   "source": [
    "ctios.process(posidents)"
   ]
  },
  {
   "cell_type": "markdown",
   "id": "assisted-newton",
   "metadata": {},
   "source": [
    "V dalsim kroku muzeme zkusit zda lze ziskat identifikatory i z databaze:"
   ]
  },
  {
   "cell_type": "code",
   "execution_count": 8,
   "id": "blessed-poland",
   "metadata": {},
   "outputs": [
    {
     "ename": "NotImplementedError",
     "evalue": "CtiOsCsv.get_posidents_from_db",
     "output_type": "error",
     "traceback": [
      "\u001b[0;31m---------------------------------------------------------------------------\u001b[0m",
      "\u001b[0;31mNotImplementedError\u001b[0m                       Traceback (most recent call last)",
      "\u001b[0;32m<ipython-input-8-baf4e5686843>\u001b[0m in \u001b[0;36m<module>\u001b[0;34m\u001b[0m\n\u001b[0;32m----> 1\u001b[0;31m \u001b[0mposidents\u001b[0m \u001b[0;34m=\u001b[0m \u001b[0mctios\u001b[0m\u001b[0;34m.\u001b[0m\u001b[0mget_posidents_from_db\u001b[0m\u001b[0;34m(\u001b[0m\u001b[0mtxt_path\u001b[0m\u001b[0;34m)\u001b[0m\u001b[0;34m\u001b[0m\u001b[0;34m\u001b[0m\u001b[0m\n\u001b[0m\u001b[1;32m      2\u001b[0m \u001b[0mprint\u001b[0m\u001b[0;34m(\u001b[0m\u001b[0mposidents\u001b[0m\u001b[0;34m)\u001b[0m\u001b[0;34m\u001b[0m\u001b[0;34m\u001b[0m\u001b[0m\n",
      "\u001b[0;32m~/pywsdp/ctios/csv/__init__.py\u001b[0m in \u001b[0;36mget_posidents_from_db\u001b[0;34m(self, db_path)\u001b[0m\n\u001b[1;32m     27\u001b[0m     \u001b[0;32mdef\u001b[0m \u001b[0mget_posidents_from_db\u001b[0m\u001b[0;34m(\u001b[0m\u001b[0mself\u001b[0m\u001b[0;34m,\u001b[0m \u001b[0mdb_path\u001b[0m\u001b[0;34m)\u001b[0m\u001b[0;34m:\u001b[0m\u001b[0;34m\u001b[0m\u001b[0;34m\u001b[0m\u001b[0m\n\u001b[1;32m     28\u001b[0m         \u001b[0;34m\"\"\"Get posident array from db. Not defined for CtiOsCsv service.\"\"\"\u001b[0m\u001b[0;34m\u001b[0m\u001b[0;34m\u001b[0m\u001b[0m\n\u001b[0;32m---> 29\u001b[0;31m         \u001b[0;32mraise\u001b[0m \u001b[0mNotImplementedError\u001b[0m\u001b[0;34m(\u001b[0m\u001b[0mself\u001b[0m\u001b[0;34m.\u001b[0m\u001b[0m__class__\u001b[0m\u001b[0;34m.\u001b[0m\u001b[0m__name__\u001b[0m\u001b[0;34m+\u001b[0m \u001b[0;34m'.get_posidents_from_db'\u001b[0m\u001b[0;34m)\u001b[0m\u001b[0;34m\u001b[0m\u001b[0;34m\u001b[0m\u001b[0m\n\u001b[0m\u001b[1;32m     30\u001b[0m \u001b[0;34m\u001b[0m\u001b[0m\n\u001b[1;32m     31\u001b[0m     \u001b[0;32mdef\u001b[0m \u001b[0mwrite_output\u001b[0m\u001b[0;34m(\u001b[0m\u001b[0mself\u001b[0m\u001b[0;34m,\u001b[0m \u001b[0mdictionary\u001b[0m\u001b[0;34m)\u001b[0m\u001b[0;34m:\u001b[0m\u001b[0;34m\u001b[0m\u001b[0;34m\u001b[0m\u001b[0m\n",
      "\u001b[0;31mNotImplementedError\u001b[0m: CtiOsCsv.get_posidents_from_db"
     ]
    }
   ],
   "source": [
    "posidents = ctios.get_posidents_from_db(txt_path)\n",
    "print(posidents)"
   ]
  },
  {
   "cell_type": "markdown",
   "id": "outstanding-interface",
   "metadata": {},
   "source": [
    "Vyse ziskana chyba znamena, ze CtiOsCSv podporuje pouze vystup do csv souboru. Pokud mame databazi VFK, pouzijeme modul CtiOsGdal."
   ]
  }
 ],
 "metadata": {
  "kernelspec": {
   "display_name": "Python 3",
   "language": "python",
   "name": "python3"
  },
  "language_info": {
   "codemirror_mode": {
    "name": "ipython",
    "version": 3
   },
   "file_extension": ".py",
   "mimetype": "text/x-python",
   "name": "python",
   "nbconvert_exporter": "python",
   "pygments_lexer": "ipython3",
   "version": "3.6.9"
  }
 },
 "nbformat": 4,
 "nbformat_minor": 5
}
