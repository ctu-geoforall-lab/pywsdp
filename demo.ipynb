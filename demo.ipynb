{
 "cells": [
  {
   "cell_type": "markdown",
   "id": "instructional-favor",
   "metadata": {},
   "source": [
    "# Knihovna Ctios"
   ]
  },
  {
   "cell_type": "markdown",
   "id": "incorporated-employer",
   "metadata": {},
   "source": [
    "Nejdrive naimportujeme knihovny:"
   ]
  },
  {
   "cell_type": "code",
   "execution_count": 1,
   "id": "fewer-right",
   "metadata": {},
   "outputs": [],
   "source": [
    "import tempfile\n",
    "import sqlite3\n",
    "import os\n",
    "import sys\n",
    "from shutil import copyfile\n",
    "\n",
    "from ctios import CtiOs\n",
    "from ctios.exceptions import CtiOsError\n",
    "from ctios.logger import Logger"
   ]
  },
  {
   "cell_type": "markdown",
   "id": "tutorial-space",
   "metadata": {},
   "source": [
    "Pote nadefinujeme vsech pet parametru nutnych pro inicializaci knihovny:"
   ]
  },
  {
   "cell_type": "code",
   "execution_count": 2,
   "id": "exciting-container",
   "metadata": {},
   "outputs": [],
   "source": [
    "user = 'WSTEST'\n",
    "password = 'WSHESLO'\n",
    "log = \"tests\"\n",
    "db = os.path.join(\"tests\", \"input_data\", \"Export_1-4.db\") # Cesta k VFK souboru\n",
    "sql = \"SELECT ID FROM OPSUB order by ID LIMIT 10\" # Vyber pseudonymizovanych identifikatoru z VFK souboru"
   ]
  },
  {
   "cell_type": "markdown",
   "id": "exact-giant",
   "metadata": {},
   "source": [
    "V dalsim kroku vytvorime prechodnou databazi, kterou budeme editovat:"
   ]
  },
  {
   "cell_type": "code",
   "execution_count": 3,
   "id": "resident-premises",
   "metadata": {},
   "outputs": [
    {
     "data": {
      "text/plain": [
       "'/tmp/tmpidjptq4c'"
      ]
     },
     "execution_count": 3,
     "metadata": {},
     "output_type": "execute_result"
    }
   ],
   "source": [
    "temp_db = tempfile.mkstemp()[1]\n",
    "copyfile(db, temp_db)"
   ]
  },
  {
   "cell_type": "markdown",
   "id": "dimensional-cream",
   "metadata": {},
   "source": [
    "Podivame se na _zatim_ prazdne zaznamy v databazi, ktere odpovidaji pozadovanym identifikatorum:"
   ]
  },
  {
   "cell_type": "code",
   "execution_count": 4,
   "id": "british-illness",
   "metadata": {},
   "outputs": [
    {
     "name": "stdout",
     "output_type": "stream",
     "text": [
      "('+VKfYaKhJDrRHUWeS2e7xMFjeFVGld3D7MQNJ3pNQwn6paZVLu4aptTG+3rV/4CH6Je07M62FoAKKSv7BtQoZOJE3v+Bvs1w3JvIpmp3XHY=', None, None, None, None, None, None, None, None, None, 'OFO', 2, None, None, None, None, None, None, None, None, None, None, None, None, None, None, None, None, None, None, None, None, None, None, None, None, None, 7)\n",
      "('+lQ0Ne+Jhd5K4uvds1/KT+SoaUhcpe1+ZoJKKMLrUmSyykxy3MKi9YeNZUYXhSMnXYQ8W/+yhfD5tLrIwBk/UFuKXKNEzHsjLqyn2YW6FLA=', None, None, None, None, None, None, None, None, None, 'OFO', 2, None, None, None, None, None, None, None, None, None, None, None, None, None, None, None, None, None, None, None, None, None, None, None, None, None, 52)\n",
      "('/AOrBGOFR+4GtqsAvOXC/4/EdRYW1Pg4L2FnKGmxEh9oexYYBufF/4KX/WLHKnQkxHBgMF+Qi59bG7ovKTlz3Y59mp99CZpeWh80QDBNfHU=', None, None, None, None, None, None, None, None, None, 'OFO', 2, None, None, None, None, None, None, None, None, None, None, None, None, None, None, None, None, None, None, None, None, None, None, None, None, None, 65)\n",
      "('/ipU68hnjrq1J7ZDi4JBaGloYLaxU2mef3KLjZzjxz2UCbQw6jKGZ3X3HXGtziAstJSprCrlMgZN3Uqzzfho1wdlRhrBG3VMEzJpGcTTJIY=', None, None, None, None, None, None, '2fa9YZ/g+IACqr1Etk+QISpL9d6xAgGv9ehh//G5wYmpTgw6ScosOMoO/XrMQ4/iueoE5gO1XXg3Vz6jMrCTmMnpC0VsacjJTkTo2imP8HY=', 'J3hMa2yksIRcQaD51HVTH+jS6j5wtxaR6cY07AtCyzfPodl4RihHKtq7xR48gK3mVcb8pO6sgb3rj64dQNtC6xMl6HfQdAgDKcMY3lDACik=', None, 'BSM', 1, None, None, None, None, None, None, None, None, None, None, None, None, None, None, None, None, None, None, None, None, None, None, None, None, None, 77)\n",
      "('00ep7V5fFBZoFMeOfcAOPBscKT7cUf96ksQrbzLuHv6kaD1NuhTsK0HcNLOUqe1JHn4drSKMLh7ZdAtt31PQ3oHj/GzUX2/49MnBf4Pn8sMDILmxeD01QB1MOBNDiwcz', None, None, None, None, None, None, None, None, None, 'OFO', 2, None, None, None, None, None, None, None, None, None, None, None, None, None, None, None, None, None, None, None, None, None, None, None, None, None, 40)\n",
      "('078yf28ANhKnYAoAfBZk6JcosYVuqw7Yur4O034D43mbGXGpgII10W2QLyyuxsOAARlsy6LTNYDEacOqFFowB/Kbi/ElbNuLIdgSI8LvNws=', None, None, None, None, None, None, None, None, None, 'OFO', 2, None, None, None, None, None, None, None, None, None, None, None, None, None, None, None, None, None, None, None, None, None, None, None, None, None, 54)\n",
      "('1fvxg03sxZo/hSaLM7LwwzPzvtkdzyRLjYspEuCC+awOIAFINH4xC+KRipTeMQNwcFkp5pbcdGhi4ejqP4L73huK+9/JDI+t2KpMlMd+7P4=', None, None, None, None, None, None, None, None, None, 'OFO', 2, None, None, None, None, None, None, None, None, None, None, None, None, None, None, None, None, None, None, None, None, None, None, None, None, None, 96)\n",
      "('1icyYJRr8366DjQYyqdj/RsgzSmUUODcxzYRO/yxkVQLtSyllEbwVT5rDfIENIv3DHuzcyCJmYTDoZYdeQTAP0K8dHlwqEQlqc8S7EEQRzE=', None, None, None, None, None, None, None, None, None, 'OFO', 2, None, None, None, None, None, None, None, None, None, None, None, None, None, None, None, None, None, None, None, None, None, None, None, None, None, 103)\n",
      "('2fa9YZ/g+IACqr1Etk+QISpL9d6xAgGv9ehh//G5wYmpTgw6ScosOMoO/XrMQ4/iueoE5gO1XXg3Vz6jMrCTmMnpC0VsacjJTkTo2imP8HY=', None, None, None, None, None, None, None, None, None, 'OFO', 2, None, None, None, None, None, None, None, None, None, None, None, None, None, None, None, None, None, None, None, None, None, None, None, None, None, 84)\n",
      "('3ZendyrB5RiGiS5emPZ8oWNjHWvf4gnZwC3wOT5mHMVmj1CEi3h2RT2gfXehYCW5Q7fy6NnxmwuKoC1H0OAhkkLc0mjwmi1/30c1rjFXYYk=', None, None, None, None, None, None, None, None, None, 'OFO', 2, None, None, None, None, None, None, None, None, None, None, None, None, None, None, None, None, None, None, None, None, None, None, None, None, None, 48)\n"
     ]
    }
   ],
   "source": [
    "con = sqlite3.connect(temp_db)\n",
    "cur = con.cursor()\n",
    "\n",
    "for row in cur.execute(\"SELECT * FROM OPSUB order by ID LIMIT 10\"):\n",
    "    print(row)\n",
    "    \n",
    "con.close()"
   ]
  },
  {
   "cell_type": "markdown",
   "id": "subsequent-control",
   "metadata": {},
   "source": [
    "Inicializujeme knihovnu:"
   ]
  },
  {
   "cell_type": "code",
   "execution_count": 5,
   "id": "boolean-politics",
   "metadata": {},
   "outputs": [],
   "source": [
    "co = CtiOs(user, password, log_dir=log)"
   ]
  },
  {
   "cell_type": "markdown",
   "id": "adjustable-carbon",
   "metadata": {},
   "source": [
    "Nastavime databazi:"
   ]
  },
  {
   "cell_type": "code",
   "execution_count": 6,
   "id": "random-tooth",
   "metadata": {},
   "outputs": [],
   "source": [
    "db_path = co.set_db(temp_db)"
   ]
  },
  {
   "cell_type": "markdown",
   "id": "identical-heating",
   "metadata": {},
   "source": [
    "Vybereme id pseudonymizovanych identifikatoru z databaze:"
   ]
  },
  {
   "cell_type": "code",
   "execution_count": 7,
   "id": "impossible-director",
   "metadata": {},
   "outputs": [],
   "source": [
    "ids = co.set_ids_from_db(db_path, sql)"
   ]
  },
  {
   "cell_type": "markdown",
   "id": "reserved-presence",
   "metadata": {},
   "source": [
    "Posleme pozadavek na server WSDP CUZK a provedeme zpracovani vracenych osobnich udaju do prechodne databaze"
   ]
  },
  {
   "cell_type": "code",
   "execution_count": 8,
   "id": "freelance-julian",
   "metadata": {},
   "outputs": [
    {
     "name": "stderr",
     "output_type": "stream",
     "text": [
      "pyctios      - INFO     - Pocet jedinecnych ID v seznamu: 10\n",
      "pyctios      - DEBUG    - <?xml version='1.0' encoding='UTF-8'?><S:Envelope xmlns:env=\"http://schemas.xmlsoap.org/soap/envelope/\" xmlns:S=\"http://schemas.xmlsoap.org/soap/envelope/\"><env:Header/><S:Body><ns0:CtiOsResponse xmlns:ns0=\"http://katastr.cuzk.cz/ctios/types/v2.8\" xmlns:ns1=\"http://katastr.cuzk.cz/commonTypes/v2.8\"><ns0:vysledek><ns1:zprava kod=\"0\" uroven=\"INFORMACE\">Požadovaná akce byla úspěšně provedena.</ns1:zprava></ns0:vysledek><ns0:osList><ns0:os><ns0:pOSIdent>3ZendyrB5RiGiS5emPZ8oWNjHWvf4gnZwC3wOT5mHMVmj1CEi3h2RT2gfXehYCW5Q7fy6NnxmwuKoC1H0OAhkkLc0mjwmi1/30c1rjFXYYk=</ns0:pOSIdent><ns0:osId>701993306</ns0:osId><ns0:osDetail><ns0:stavDat>0</ns0:stavDat><ns0:datumVzniku>2000-01-01T00:00:00</ns0:datumVzniku><ns0:priznakKontext>3</ns0:priznakKontext><ns0:rizeniIdVzniku>45270974010</ns0:rizeniIdVzniku><ns0:opsubType>OFO</ns0:opsubType><ns0:charOsType>2</ns0:charOsType><ns0:rodneCislo>526216265</ns0:rodneCislo><ns0:jmeno>Kamila</ns0:jmeno><ns0:jmenoU>KAMILA</ns0:jmenoU><ns0:prijmeni>Černá</ns0:prijmeni><ns0:prijmeniU>CERNA</ns0:prijmeniU><ns0:cisloDomovni>25</ns0:cisloDomovni><ns0:castObce>Ostravice</ns0:castObce><ns0:obec>Jihlava</ns0:obec><ns0:psc>11000</ns0:psc><ns0:cpCe>1</ns0:cpCe></ns0:osDetail></ns0:os><ns0:os><ns0:pOSIdent>/ipU68hnjrq1J7ZDi4JBaGloYLaxU2mef3KLjZzjxz2UCbQw6jKGZ3X3HXGtziAstJSprCrlMgZN3Uqzzfho1wdlRhrBG3VMEzJpGcTTJIY=</ns0:pOSIdent><ns0:osId>425760306</ns0:osId><ns0:osDetail><ns0:stavDat>0</ns0:stavDat><ns0:datumVzniku>2000-01-01T00:00:00</ns0:datumVzniku><ns0:priznakKontext>3</ns0:priznakKontext><ns0:rizeniIdVzniku>16998598010</ns0:rizeniIdVzniku><ns0:partnerBsm1>408129306</ns0:partnerBsm1><ns0:partnerBsm2>408981306</ns0:partnerBsm2><ns0:opsubType>BSM</ns0:opsubType><ns0:charOsType>1</ns0:charOsType><ns0:nazev>Šíma Petr a Hurná Marta</ns0:nazev><ns0:nazevU>SIMA PETR A HURNA MARTA</ns0:nazevU><ns0:datumVzniku2>2003-06-26T07:43:05</ns0:datumVzniku2><ns0:rizeniIdVzniku2>3003873306</ns0:rizeniIdVzniku2></ns0:osDetail></ns0:os><ns0:os><ns0:pOSIdent>1fvxg03sxZo/hSaLM7LwwzPzvtkdzyRLjYspEuCC+awOIAFINH4xC+KRipTeMQNwcFkp5pbcdGhi4ejqP4L73huK+9/JDI+t2KpMlMd+7P4=</ns0:pOSIdent><ns0:osId>1187463301</ns0:osId><ns0:osDetail><ns0:stavDat>0</ns0:stavDat><ns0:datumVzniku>2000-01-01T00:00:00</ns0:datumVzniku><ns0:priznakKontext>3</ns0:priznakKontext><ns0:rizeniIdVzniku>35632494010</ns0:rizeniIdVzniku><ns0:opsubType>OFO</ns0:opsubType><ns0:charOsType>2</ns0:charOsType><ns0:rodneCislo>5504036043</ns0:rodneCislo><ns0:jmeno>Karel</ns0:jmeno><ns0:jmenoU>KAREL</ns0:jmenoU><ns0:prijmeni>Bena</ns0:prijmeni><ns0:prijmeniU>BENA</ns0:prijmeniU><ns0:cisloDomovni>71</ns0:cisloDomovni><ns0:castObce>Kolín</ns0:castObce><ns0:obec>Blatnička</ns0:obec><ns0:psc>11000</ns0:psc><ns0:cpCe>1</ns0:cpCe></ns0:osDetail></ns0:os><ns0:os><ns0:pOSIdent>/AOrBGOFR+4GtqsAvOXC/4/EdRYW1Pg4L2FnKGmxEh9oexYYBufF/4KX/WLHKnQkxHBgMF+Qi59bG7ovKTlz3Y59mp99CZpeWh80QDBNfHU=</ns0:pOSIdent><ns0:osId>415169306</ns0:osId><ns0:osDetail><ns0:stavDat>0</ns0:stavDat><ns0:datumVzniku>2000-01-01T00:00:00</ns0:datumVzniku><ns0:priznakKontext>3</ns0:priznakKontext><ns0:rizeniIdVzniku>35088613010</ns0:rizeniIdVzniku><ns0:opsubType>OFO</ns0:opsubType><ns0:charOsType>2</ns0:charOsType><ns0:rodneCislo>7908142220</ns0:rodneCislo><ns0:jmeno>Jan</ns0:jmeno><ns0:jmenoU>JAN</ns0:jmenoU><ns0:prijmeni>Duda</ns0:prijmeni><ns0:prijmeniU>DUDA</ns0:prijmeniU><ns0:cisloDomovni>15</ns0:cisloDomovni><ns0:castObce>Hovězí</ns0:castObce><ns0:obec>Komárov</ns0:obec><ns0:psc>11000</ns0:psc><ns0:cpCe>1</ns0:cpCe></ns0:osDetail></ns0:os><ns0:os><ns0:pOSIdent>1icyYJRr8366DjQYyqdj/RsgzSmUUODcxzYRO/yxkVQLtSyllEbwVT5rDfIENIv3DHuzcyCJmYTDoZYdeQTAP0K8dHlwqEQlqc8S7EEQRzE=</ns0:pOSIdent><ns0:osId>441625306</ns0:osId><ns0:osDetail><ns0:stavDat>0</ns0:stavDat><ns0:datumVzniku>2000-01-01T00:00:00</ns0:datumVzniku><ns0:priznakKontext>3</ns0:priznakKontext><ns0:rizeniIdVzniku>35230494010</ns0:rizeniIdVzniku><ns0:opsubType>OFO</ns0:opsubType><ns0:charOsType>2</ns0:charOsType><ns0:rodneCislo>1353067925</ns0:rodneCislo><ns0:jmeno>Marie</ns0:jmeno><ns0:jmenoU>MARIE</ns0:jmenoU><ns0:prijmeni>Malá</ns0:prijmeni><ns0:prijmeniU>MALA</ns0:prijmeniU><ns0:cisloDomovni>2</ns0:cisloDomovni><ns0:castObce>Hovězí</ns0:castObce><ns0:obec>Komárov</ns0:obec><ns0:psc>11000</ns0:psc><ns0:cpCe>1</ns0:cpCe></ns0:osDetail></ns0:os><ns0:os><ns0:pOSIdent>078yf28ANhKnYAoAfBZk6JcosYVuqw7Yur4O034D43mbGXGpgII10W2QLyyuxsOAARlsy6LTNYDEacOqFFowB/Kbi/ElbNuLIdgSI8LvNws=</ns0:pOSIdent><ns0:osId>439245306</ns0:osId><ns0:osDetail><ns0:stavDat>0</ns0:stavDat><ns0:datumVzniku>2000-01-01T00:00:00</ns0:datumVzniku><ns0:priznakKontext>3</ns0:priznakKontext><ns0:rizeniIdVzniku>30331638010</ns0:rizeniIdVzniku><ns0:opsubType>OFO</ns0:opsubType><ns0:charOsType>2</ns0:charOsType><ns0:rodneCislo>8056211999</ns0:rodneCislo><ns0:jmeno>Kamila</ns0:jmeno><ns0:jmenoU>KAMILA</ns0:jmenoU><ns0:prijmeni>Zlotá</ns0:prijmeni><ns0:prijmeniU>ZLOTA</ns0:prijmeniU><ns0:cisloDomovni>29</ns0:cisloDomovni><ns0:castObce>Hovězí</ns0:castObce><ns0:obec>Komárov</ns0:obec><ns0:psc>11000</ns0:psc><ns0:cpCe>1</ns0:cpCe></ns0:osDetail></ns0:os><ns0:os><ns0:pOSIdent>00ep7V5fFBZoFMeOfcAOPBscKT7cUf96ksQrbzLuHv6kaD1NuhTsK0HcNLOUqe1JHn4drSKMLh7ZdAtt31PQ3oHj/GzUX2/49MnBf4Pn8sMDILmxeD01QB1MOBNDiwcz</ns0:pOSIdent><ns0:osId>29184773010</ns0:osId><ns0:osDetail><ns0:stavDat>0</ns0:stavDat><ns0:datumVzniku>2000-01-01T00:00:00</ns0:datumVzniku><ns0:priznakKontext>3</ns0:priznakKontext><ns0:rizeniIdVzniku>35354684010</ns0:rizeniIdVzniku><ns0:opsubType>OFO</ns0:opsubType><ns0:charOsType>2</ns0:charOsType><ns0:rodneCislo>1409270522</ns0:rodneCislo><ns0:jmeno>Jan</ns0:jmeno><ns0:jmenoU>JAN</ns0:jmenoU><ns0:prijmeni>Čupa</ns0:prijmeni><ns0:prijmeniU>CUPA</ns0:prijmeniU><ns0:cisloDomovni>18</ns0:cisloDomovni><ns0:castObce>Hovězí</ns0:castObce><ns0:obec>Komárov</ns0:obec><ns0:psc>11000</ns0:psc><ns0:cpCe>1</ns0:cpCe></ns0:osDetail></ns0:os><ns0:os><ns0:pOSIdent>+lQ0Ne+Jhd5K4uvds1/KT+SoaUhcpe1+ZoJKKMLrUmSyykxy3MKi9YeNZUYXhSMnXYQ8W/+yhfD5tLrIwBk/UFuKXKNEzHsjLqyn2YW6FLA=</ns0:pOSIdent><ns0:osId>441241306</ns0:osId><ns0:osDetail><ns0:stavDat>0</ns0:stavDat><ns0:datumVzniku>2000-01-01T00:00:00</ns0:datumVzniku><ns0:priznakKontext>3</ns0:priznakKontext><ns0:rizeniIdVzniku>32848747010</ns0:rizeniIdVzniku><ns0:opsubType>OFO</ns0:opsubType><ns0:charOsType>2</ns0:charOsType><ns0:rodneCislo>400504084</ns0:rodneCislo><ns0:jmeno>Evald</ns0:jmeno><ns0:jmenoU>EVALD</ns0:jmenoU><ns0:prijmeni>Šíma</ns0:prijmeni><ns0:prijmeniU>SIMA</ns0:prijmeniU><ns0:cisloDomovni>1012</ns0:cisloDomovni><ns0:nazevUlice>Velká</ns0:nazevUlice><ns0:castObce>Palkovice</ns0:castObce><ns0:obec>Kopřivnice</ns0:obec><ns0:psc>11000</ns0:psc><ns0:cpCe>1</ns0:cpCe></ns0:osDetail></ns0:os><ns0:os><ns0:pOSIdent>2fa9YZ/g+IACqr1Etk+QISpL9d6xAgGv9ehh//G5wYmpTgw6ScosOMoO/XrMQ4/iueoE5gO1XXg3Vz6jMrCTmMnpC0VsacjJTkTo2imP8HY=</ns0:pOSIdent><ns0:osId>408129306</ns0:osId><ns0:osDetail><ns0:stavDat>0</ns0:stavDat><ns0:datumVzniku>2000-01-01T00:00:00</ns0:datumVzniku><ns0:priznakKontext>3</ns0:priznakKontext><ns0:rizeniIdVzniku>28727152010</ns0:rizeniIdVzniku><ns0:opsubType>OFO</ns0:opsubType><ns0:charOsType>2</ns0:charOsType><ns0:rodneCislo>231029337</ns0:rodneCislo><ns0:jmeno>Petr</ns0:jmeno><ns0:jmenoU>PETR</ns0:jmenoU><ns0:prijmeni>Šíma</ns0:prijmeni><ns0:prijmeniU>SIMA</ns0:prijmeniU><ns0:cisloDomovni>4</ns0:cisloDomovni><ns0:castObce>Hovězí</ns0:castObce><ns0:obec>Komárov</ns0:obec><ns0:psc>11000</ns0:psc><ns0:cpCe>1</ns0:cpCe></ns0:osDetail></ns0:os><ns0:os><ns0:pOSIdent>+VKfYaKhJDrRHUWeS2e7xMFjeFVGld3D7MQNJ3pNQwn6paZVLu4aptTG+3rV/4CH6Je07M62FoAKKSv7BtQoZOJE3v+Bvs1w3JvIpmp3XHY=</ns0:pOSIdent><ns0:osId>421391306</ns0:osId><ns0:osDetail><ns0:stavDat>0</ns0:stavDat><ns0:datumVzniku>2000-01-01T00:00:00</ns0:datumVzniku><ns0:priznakKontext>3</ns0:priznakKontext><ns0:rizeniIdVzniku>37752260010</ns0:rizeniIdVzniku><ns0:opsubType>OFO</ns0:opsubType><ns0:charOsType>2</ns0:charOsType><ns0:rodneCislo>470211573</ns0:rodneCislo><ns0:jmeno>Josef</ns0:jmeno><ns0:jmenoU>JOSEF</ns0:jmenoU><ns0:prijmeni>Lexa</ns0:prijmeni><ns0:prijmeniU>LEXA</ns0:prijmeniU><ns0:cisloDomovni>317</ns0:cisloDomovni><ns0:cisloOrientacni>28</ns0:cisloOrientacni><ns0:nazevUlice>Rodinná</ns0:nazevUlice><ns0:castObce>Tuř</ns0:castObce><ns0:obec>Třinec</ns0:obec><ns0:psc>11000</ns0:psc><ns0:cpCe>1</ns0:cpCe></ns0:osDetail></ns0:os></ns0:osList></ns0:CtiOsResponse></S:Body></S:Envelope>\n"
     ]
    },
    {
     "name": "stderr",
     "output_type": "stream",
     "text": [
      "pyctios      - INFO     - Radky v databazi u POSIdentu 3ZendyrB5RiGiS5emPZ8oWNjHWvf4gnZwC3wOT5mHMVmj1CEi3h2RT2gfXehYCW5Q7fy6NnxmwuKoC1H0OAhkkLc0mjwmi1/30c1rjFXYYk= aktualizovany\n",
      "pyctios      - INFO     - Radky v databazi u POSIdentu /ipU68hnjrq1J7ZDi4JBaGloYLaxU2mef3KLjZzjxz2UCbQw6jKGZ3X3HXGtziAstJSprCrlMgZN3Uqzzfho1wdlRhrBG3VMEzJpGcTTJIY= aktualizovany\n",
      "pyctios      - INFO     - Radky v databazi u POSIdentu 1fvxg03sxZo/hSaLM7LwwzPzvtkdzyRLjYspEuCC+awOIAFINH4xC+KRipTeMQNwcFkp5pbcdGhi4ejqP4L73huK+9/JDI+t2KpMlMd+7P4= aktualizovany\n",
      "pyctios      - INFO     - Radky v databazi u POSIdentu /AOrBGOFR+4GtqsAvOXC/4/EdRYW1Pg4L2FnKGmxEh9oexYYBufF/4KX/WLHKnQkxHBgMF+Qi59bG7ovKTlz3Y59mp99CZpeWh80QDBNfHU= aktualizovany\n",
      "pyctios      - INFO     - Radky v databazi u POSIdentu 1icyYJRr8366DjQYyqdj/RsgzSmUUODcxzYRO/yxkVQLtSyllEbwVT5rDfIENIv3DHuzcyCJmYTDoZYdeQTAP0K8dHlwqEQlqc8S7EEQRzE= aktualizovany\n",
      "pyctios      - INFO     - Radky v databazi u POSIdentu 078yf28ANhKnYAoAfBZk6JcosYVuqw7Yur4O034D43mbGXGpgII10W2QLyyuxsOAARlsy6LTNYDEacOqFFowB/Kbi/ElbNuLIdgSI8LvNws= aktualizovany\n",
      "pyctios      - INFO     - Radky v databazi u POSIdentu 00ep7V5fFBZoFMeOfcAOPBscKT7cUf96ksQrbzLuHv6kaD1NuhTsK0HcNLOUqe1JHn4drSKMLh7ZdAtt31PQ3oHj/GzUX2/49MnBf4Pn8sMDILmxeD01QB1MOBNDiwcz aktualizovany\n",
      "pyctios      - INFO     - Radky v databazi u POSIdentu +lQ0Ne+Jhd5K4uvds1/KT+SoaUhcpe1+ZoJKKMLrUmSyykxy3MKi9YeNZUYXhSMnXYQ8W/+yhfD5tLrIwBk/UFuKXKNEzHsjLqyn2YW6FLA= aktualizovany\n",
      "pyctios      - INFO     - Radky v databazi u POSIdentu 2fa9YZ/g+IACqr1Etk+QISpL9d6xAgGv9ehh//G5wYmpTgw6ScosOMoO/XrMQ4/iueoE5gO1XXg3Vz6jMrCTmMnpC0VsacjJTkTo2imP8HY= aktualizovany\n",
      "pyctios      - INFO     - Radky v databazi u POSIdentu +VKfYaKhJDrRHUWeS2e7xMFjeFVGld3D7MQNJ3pNQwn6paZVLu4aptTG+3rV/4CH6Je07M62FoAKKSv7BtQoZOJE3v+Bvs1w3JvIpmp3XHY= aktualizovany\n",
      "pyctios      - INFO     - Zpracovano v ramci 1 pozadavku.\n",
      "pyctios      - INFO     - Pocet uspesne stazenych posidentu: 10 \n",
      "pyctios      - INFO     - Neplatny identifikator: 0x.\n",
      "pyctios      - INFO     - Expirovany identifikator: 0x.\n",
      "pyctios      - INFO     - Opravneny subjekt neexistuje: 0x.\n"
     ]
    }
   ],
   "source": [
    "co.query_requests(ids, db_path)"
   ]
  },
  {
   "cell_type": "markdown",
   "id": "geographic-serum",
   "metadata": {},
   "source": [
    "Vysledne vyplnene udaje si z databaze zobrazime:"
   ]
  },
  {
   "cell_type": "code",
   "execution_count": 9,
   "id": "alien-collection",
   "metadata": {},
   "outputs": [
    {
     "name": "stdout",
     "output_type": "stream",
     "text": [
      "('+VKfYaKhJDrRHUWeS2e7xMFjeFVGld3D7MQNJ3pNQwn6paZVLu4aptTG+3rV/4CH6Je07M62FoAKKSv7BtQoZOJE3v+Bvs1w3JvIpmp3XHY=', 0, '2000-01-01T00:00:00', None, 3, 37752260010, None, None, None, None, 'OFO', 2, None, None, None, None, '470211573', None, 'Josef', 'JOSEF', 'Lexa', 'LEXA', None, 317, '28', 'Rodinná', 'Tuř', 'Třinec', None, None, 11000, None, 1, None, None, None, None, 7, '421391306')\n",
      "('+lQ0Ne+Jhd5K4uvds1/KT+SoaUhcpe1+ZoJKKMLrUmSyykxy3MKi9YeNZUYXhSMnXYQ8W/+yhfD5tLrIwBk/UFuKXKNEzHsjLqyn2YW6FLA=', 0, '2000-01-01T00:00:00', None, 3, 32848747010, None, None, None, None, 'OFO', 2, None, None, None, None, '400504084', None, 'Evald', 'EVALD', 'Šíma', 'SIMA', None, 1012, None, 'Velká', 'Palkovice', 'Kopřivnice', None, None, 11000, None, 1, None, None, None, None, 52, '441241306')\n",
      "('/AOrBGOFR+4GtqsAvOXC/4/EdRYW1Pg4L2FnKGmxEh9oexYYBufF/4KX/WLHKnQkxHBgMF+Qi59bG7ovKTlz3Y59mp99CZpeWh80QDBNfHU=', 0, '2000-01-01T00:00:00', None, 3, 35088613010, None, None, None, None, 'OFO', 2, None, None, None, None, '7908142220', None, 'Jan', 'JAN', 'Duda', 'DUDA', None, 15, None, None, 'Hovězí', 'Komárov', None, None, 11000, None, 1, None, None, None, None, 65, '415169306')\n",
      "('/ipU68hnjrq1J7ZDi4JBaGloYLaxU2mef3KLjZzjxz2UCbQw6jKGZ3X3HXGtziAstJSprCrlMgZN3Uqzzfho1wdlRhrBG3VMEzJpGcTTJIY=', 0, '2000-01-01T00:00:00', None, 3, 16998598010, None, '408129306', '408981306', None, 'BSM', 1, None, None, 'Šíma Petr a Hurná Marta', 'SIMA PETR A HURNA MARTA', None, None, None, None, None, None, None, None, None, None, None, None, None, None, None, None, None, '2003-06-26T07:43:05', 3003873306, None, None, 77, '425760306')\n",
      "('00ep7V5fFBZoFMeOfcAOPBscKT7cUf96ksQrbzLuHv6kaD1NuhTsK0HcNLOUqe1JHn4drSKMLh7ZdAtt31PQ3oHj/GzUX2/49MnBf4Pn8sMDILmxeD01QB1MOBNDiwcz', 0, '2000-01-01T00:00:00', None, 3, 35354684010, None, None, None, None, 'OFO', 2, None, None, None, None, '1409270522', None, 'Jan', 'JAN', 'Čupa', 'CUPA', None, 18, None, None, 'Hovězí', 'Komárov', None, None, 11000, None, 1, None, None, None, None, 40, '29184773010')\n",
      "('078yf28ANhKnYAoAfBZk6JcosYVuqw7Yur4O034D43mbGXGpgII10W2QLyyuxsOAARlsy6LTNYDEacOqFFowB/Kbi/ElbNuLIdgSI8LvNws=', 0, '2000-01-01T00:00:00', None, 3, 30331638010, None, None, None, None, 'OFO', 2, None, None, None, None, '8056211999', None, 'Kamila', 'KAMILA', 'Zlotá', 'ZLOTA', None, 29, None, None, 'Hovězí', 'Komárov', None, None, 11000, None, 1, None, None, None, None, 54, '439245306')\n",
      "('1fvxg03sxZo/hSaLM7LwwzPzvtkdzyRLjYspEuCC+awOIAFINH4xC+KRipTeMQNwcFkp5pbcdGhi4ejqP4L73huK+9/JDI+t2KpMlMd+7P4=', 0, '2000-01-01T00:00:00', None, 3, 35632494010, None, None, None, None, 'OFO', 2, None, None, None, None, '5504036043', None, 'Karel', 'KAREL', 'Bena', 'BENA', None, 71, None, None, 'Kolín', 'Blatnička', None, None, 11000, None, 1, None, None, None, None, 96, '1187463301')\n",
      "('1icyYJRr8366DjQYyqdj/RsgzSmUUODcxzYRO/yxkVQLtSyllEbwVT5rDfIENIv3DHuzcyCJmYTDoZYdeQTAP0K8dHlwqEQlqc8S7EEQRzE=', 0, '2000-01-01T00:00:00', None, 3, 35230494010, None, None, None, None, 'OFO', 2, None, None, None, None, '1353067925', None, 'Marie', 'MARIE', 'Malá', 'MALA', None, 2, None, None, 'Hovězí', 'Komárov', None, None, 11000, None, 1, None, None, None, None, 103, '441625306')\n",
      "('2fa9YZ/g+IACqr1Etk+QISpL9d6xAgGv9ehh//G5wYmpTgw6ScosOMoO/XrMQ4/iueoE5gO1XXg3Vz6jMrCTmMnpC0VsacjJTkTo2imP8HY=', 0, '2000-01-01T00:00:00', None, 3, 28727152010, None, None, None, None, 'OFO', 2, None, None, None, None, '231029337', None, 'Petr', 'PETR', 'Šíma', 'SIMA', None, 4, None, None, 'Hovězí', 'Komárov', None, None, 11000, None, 1, None, None, None, None, 84, '408129306')\n",
      "('3ZendyrB5RiGiS5emPZ8oWNjHWvf4gnZwC3wOT5mHMVmj1CEi3h2RT2gfXehYCW5Q7fy6NnxmwuKoC1H0OAhkkLc0mjwmi1/30c1rjFXYYk=', 0, '2000-01-01T00:00:00', None, 3, 45270974010, None, None, None, None, 'OFO', 2, None, None, None, None, '526216265', None, 'Kamila', 'KAMILA', 'Černá', 'CERNA', None, 25, None, None, 'Ostravice', 'Jihlava', None, None, 11000, None, 1, None, None, None, None, 48, '701993306')\n"
     ]
    }
   ],
   "source": [
    "con = sqlite3.connect(temp_db)\n",
    "cur = con.cursor()\n",
    "\n",
    "for row in cur.execute(\"SELECT * FROM OPSUB order by ID LIMIT 10\"):\n",
    "    print(row)\n",
    "    \n",
    "con.close()"
   ]
  }
 ],
 "metadata": {
  "kernelspec": {
   "display_name": "Python 3",
   "language": "python",
   "name": "python3"
  },
  "language_info": {
   "codemirror_mode": {
    "name": "ipython",
    "version": 3
   },
   "file_extension": ".py",
   "mimetype": "text/x-python",
   "name": "python",
   "nbconvert_exporter": "python",
   "pygments_lexer": "ipython3",
   "version": "3.9.2"
  }
 },
 "nbformat": 4,
 "nbformat_minor": 5
}
