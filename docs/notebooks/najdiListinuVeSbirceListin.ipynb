{
 "cells": [
  {
   "cell_type": "markdown",
   "id": "instructional-favor",
   "metadata": {},
   "source": [
    "# Knihovna NajdiListinuVeSbirceListin"
   ]
  },
  {
   "cell_type": "markdown",
   "id": "incorporated-employer",
   "metadata": {},
   "source": [
    "Knihovna NajdiListinuVeSbirceListin slouzi k ziskani csv s osobnimi udaji na zaklade vstupu ve forme seznamu pseudoidentifikatoru.\n",
    "\n",
    "Nejdrive naimportujeme knihovny:"
   ]
  },
  {
   "cell_type": "code",
   "execution_count": 1,
   "id": "fewer-right",
   "metadata": {},
   "outputs": [],
   "source": [
    "import os\n",
    "import sys\n",
    "\n",
    "# Modul je v jinem adresari, je tedy nutne tento adresar pridat do sys.path\n",
    "module_path = os.path.abspath(os.path.join('../../'))\n",
    "if module_path not in sys.path:\n",
    "   sys.path.append(module_path)\n",
    "\n",
    "from services.vyhledat.najdiListinuVeSbirceListin import NajdiListinuVeSbirceListin"
   ]
  },
  {
   "cell_type": "markdown",
   "id": "tutorial-space",
   "metadata": {},
   "source": [
    "Pote nadefinujeme parametry nutne pro inicializaci knihovny:"
   ]
  },
  {
   "cell_type": "code",
   "execution_count": 2,
   "id": "based-russian",
   "metadata": {},
   "outputs": [
    {
     "name": "stdout",
     "output_type": "stream",
     "text": [
      "/home/linwe/pywsdp/services/vyhledat/najdiListinuVeSbirceListin/data/output/output.csv\n",
      "/home/linwe/pywsdp/services/vyhledat/najdiListinuVeSbirceListin/data/input/parameters_typ1.txt\n"
     ]
    }
   ],
   "source": [
    "username = \"WSTEST\"\n",
    "password = \"WSHESLO\"\n",
    "output_csv = os.path.join(module_path, 'services', 'vyhledat', 'najdiListinuVeSbirceListin', 'data', 'output', 'output.csv')\n",
    "input_txt = os.path.join(module_path, 'services', 'vyhledat', 'najdiListinuVeSbirceListin', 'data', 'input', 'parameters_typ1.txt')\n",
    "print(output_csv)\n",
    "print(input_txt)"
   ]
  },
  {
   "cell_type": "markdown",
   "id": "dimensional-cream",
   "metadata": {},
   "source": [
    "Zavolame knihovnu a naplnime VFK databazi osobnimi udaji:\n"
   ]
  },
  {
   "cell_type": "code",
   "execution_count": 3,
   "id": "resident-premises",
   "metadata": {
    "scrolled": true
   },
   "outputs": [
    {
     "name": "stdout",
     "output_type": "stream",
     "text": [
      "['<v2:rizeniId>77858121010</v2:rizeniId>']\n"
     ]
    },
    {
     "data": {
      "text/plain": [
       "1"
      ]
     },
     "execution_count": 3,
     "metadata": {},
     "output_type": "execute_result"
    }
   ],
   "source": [
    "najdiListinu = NajdiListinuVeSbirceListin(username=username,\n",
    "                 password=password,\n",
    "                 csv_path=output_csv)\n",
    "rizeni_id = najdiListinu.get_parameters_from_txt(input_txt)\n",
    "print(rizeni_id)\n",
    "len(rizeni_id)"
   ]
  },
  {
   "cell_type": "markdown",
   "id": "driven-aaron",
   "metadata": {},
   "source": [
    "Nad seznamem zavolame metodu .process, ktera k zadanym identifikatorum aktualizuje v tabulce osobni udaje:"
   ]
  },
  {
   "cell_type": "code",
   "execution_count": 4,
   "id": "present-baker",
   "metadata": {},
   "outputs": [
    {
     "name": "stdout",
     "output_type": "stream",
     "text": [
      "<soapenv:Envelope xmlns:soapenv=\"http://schemas.xmlsoap.org/soap/envelope/\"\n",
      "                        xmlns:v2=\"http://katastr.cuzk.cz/vyhledat/types/v2.9\">\n",
      "                          <soapenv:Header>\n",
      "                              <wsse:Security soapenv:mustUnderstand=\"1\" xmlns:wsse=\"http://docs.oasis-open.org/wss/2004/01/oasis-200401-wss-wssecurity-secext-1.0.xsd\" xmlns:wsu=\"http://docs.oasis-open.org/wss/2004/01/oasis-200401-wss-wssecurity-utility-1.0.xsd\"> \n",
      "                                <wsse:UsernameToken wsu:Id=\"UsernameToken-2\">\n",
      "                                  <wsse:Username>WSTEST</wsse:Username>\n",
      "                                  <wsse:Password Type=\"http://docs.oasis-open.org/wss/2004/01/oasis-200401-wss-username-token-profile-1.0#PasswordText\">WSHESLO</wsse:Password>\n",
      "                                </wsse:UsernameToken>\n",
      "                              </wsse:Security>\n",
      "                          </soapenv:Header>\n",
      "                          <soapenv:Body>\n",
      "                            <v2:NajdiListinuVeSbirceListinRequest>\n",
      "\t\t\t\t<v2:rizeniId>77858121010</v2:rizeniId>\n",
      "                            </v2:NajdiListinuVeSbirceListinRequest>\n",
      "                          </soapenv:Body>\n",
      "                        </soapenv:Envelope>\n",
      "\n",
      "<?xml version='1.0' encoding='UTF-8'?><S:Envelope xmlns:env=\"http://schemas.xmlsoap.org/soap/envelope/\" xmlns:S=\"http://schemas.xmlsoap.org/soap/envelope/\"><env:Header/><S:Body><ns0:NajdiListinuVeSbirceListinResponse xmlns:ns0=\"http://katastr.cuzk.cz/vyhledat/types/v2.9\" xmlns:ns1=\"http://katastr.cuzk.cz/commonTypes/v2.9\"><ns0:vysledek><ns1:zprava kod=\"0\" uroven=\"INFORMACE\">Požadovaná akce byla úspěšně provedena.</ns1:zprava></ns0:vysledek><ns0:ListinaList><ns0:listina><ns1:listinaId>61881560010</ns1:listinaId><ns1:oznaceniListiny>Rozsudek soudu o rozvodu manželství AA A AAAAAAAAAAAA 1 A 1186864342  ze dne 26.02.2020. Právní moc ke dni 27.02.2020. Právní účinky zápisu k okamžiku 09.09.2020 10:41:00. Zápis proveden dne 02.10.2020.</ns1:oznaceniListiny><ns1:datumVyhotoveni>2020-02-26T00:00:00</ns1:datumVyhotoveni></ns0:listina><ns0:listina><ns1:listinaId>61883103010</ns1:listinaId><ns1:oznaceniListiny>Úmrtní list o úmrtí oprávněné osoby  ze dne 22.04.2020. Právní účinky zápisu k okamžiku 09.09.2020 10:41:00. Zápis proveden dne 02.10.2020.</ns1:oznaceniListiny><ns1:datumVyhotoveni>2020-04-22T00:00:00</ns1:datumVyhotoveni></ns0:listina><ns0:listina><ns1:listinaId>61881644010</ns1:listinaId><ns1:oznaceniListiny>Sbírka listin sdělení jiného orgánu AA A AAAAAAAAAAAA 1A 11119860993  ze dne 01.07.2020. Právní účinky zápisu k okamžiku 09.09.2020 10:41:00. Zápis proveden dne 02.10.2020.</ns1:oznaceniListiny><ns1:datumVyhotoveni>2020-07-01T00:00:00</ns1:datumVyhotoveni></ns0:listina><ns0:listina><ns1:listinaId>61866216010</ns1:listinaId><ns1:oznaceniListiny>Smlouva (dohoda) o vypořádání SJM  ze dne 18.08.2020. Právní účinky zápisu k okamžiku 09.09.2020 10:41:00. Zápis proveden dne 02.10.2020.</ns1:oznaceniListiny><ns1:datumVyhotoveni>2020-08-18T00:00:00</ns1:datumVyhotoveni></ns0:listina><ns0:listina><ns1:listinaId>61881549010</ns1:listinaId><ns1:oznaceniListiny>Návrh na vklad  ze dne 09.09.2020. Právní účinky zápisu k okamžiku 09.09.2020 10:41:00. Zápis proveden dne 02.10.2020.</ns1:oznaceniListiny><ns1:datumVyhotoveni>2020-09-09T00:00:00</ns1:datumVyhotoveni></ns0:listina></ns0:ListinaList></ns0:NajdiListinuVeSbirceListinResponse></S:Body></S:Envelope>\n"
     ]
    }
   ],
   "source": [
    "najdiListinu.process(rizeni_id)"
   ]
  },
  {
   "cell_type": "markdown",
   "id": "cardiac-heating",
   "metadata": {},
   "source": [
    "Muzeme zadat rizeni i pomoci ctyr parametru: typu rizeni, poradoveho cisla, roku a kodu pracoviste:"
   ]
  },
  {
   "cell_type": "code",
   "execution_count": 5,
   "id": "future-dinner",
   "metadata": {},
   "outputs": [
    {
     "name": "stdout",
     "output_type": "stream",
     "text": [
      "/home/linwe/pywsdp/services/najdiListinuVeSbirceListin/data/output/output1.csv\n",
      "/home/linwe/pywsdp/services/najdiListinuVeSbirceListin/data/input/parameters_typ2.txt\n"
     ]
    }
   ],
   "source": [
    "output_csv = os.path.join(module_path, 'services', 'najdiListinuVeSbirceListin', 'data', 'output', 'output1.csv')\n",
    "input_txt = os.path.join(module_path, 'services', 'najdiListinuVeSbirceListin', 'data', 'input', 'parameters_typ2.txt')\n",
    "print(output_csv)\n",
    "print(input_txt)"
   ]
  },
  {
   "cell_type": "code",
   "execution_count": 6,
   "id": "imported-disorder",
   "metadata": {},
   "outputs": [
    {
     "ename": "FileNotFoundError",
     "evalue": "[Errno 2] No such file or directory: '/home/linwe/pywsdp/services/najdiListinuVeSbirceListin/data/input/parameters_typ2.txt'",
     "output_type": "error",
     "traceback": [
      "\u001b[0;31m---------------------------------------------------------------------------\u001b[0m",
      "\u001b[0;31mFileNotFoundError\u001b[0m                         Traceback (most recent call last)",
      "\u001b[0;32m<ipython-input-6-6e2ff9187a3c>\u001b[0m in \u001b[0;36m<module>\u001b[0;34m\u001b[0m\n\u001b[0;32m----> 1\u001b[0;31m \u001b[0mrizeni_id\u001b[0m \u001b[0;34m=\u001b[0m \u001b[0mnajdiListinu\u001b[0m\u001b[0;34m.\u001b[0m\u001b[0mget_parameters_from_txt\u001b[0m\u001b[0;34m(\u001b[0m\u001b[0minput_txt\u001b[0m\u001b[0;34m)\u001b[0m\u001b[0;34m\u001b[0m\u001b[0;34m\u001b[0m\u001b[0m\n\u001b[0m\u001b[1;32m      2\u001b[0m \u001b[0mprint\u001b[0m\u001b[0;34m(\u001b[0m\u001b[0mrizeni_id\u001b[0m\u001b[0;34m)\u001b[0m\u001b[0;34m\u001b[0m\u001b[0;34m\u001b[0m\u001b[0m\n\u001b[1;32m      3\u001b[0m \u001b[0mlen\u001b[0m\u001b[0;34m(\u001b[0m\u001b[0mrizeni_id\u001b[0m\u001b[0;34m)\u001b[0m\u001b[0;34m\u001b[0m\u001b[0;34m\u001b[0m\u001b[0m\n\u001b[1;32m      4\u001b[0m \u001b[0mnajdiListinu\u001b[0m\u001b[0;34m.\u001b[0m\u001b[0mprocess\u001b[0m\u001b[0;34m(\u001b[0m\u001b[0mrizeni_id\u001b[0m\u001b[0;34m)\u001b[0m\u001b[0;34m\u001b[0m\u001b[0;34m\u001b[0m\u001b[0m\n",
      "\u001b[0;32m~/pywsdp/services/vyhledat/najdiListinuVeSbirceListin/__init__.py\u001b[0m in \u001b[0;36mget_parameters_from_txt\u001b[0;34m(self, txt_path)\u001b[0m\n\u001b[1;32m     38\u001b[0m         \u001b[0;34m\"\"\"Get parameters array from text file (delimiter is ',').\"\"\"\u001b[0m\u001b[0;34m\u001b[0m\u001b[0;34m\u001b[0m\u001b[0m\n\u001b[1;32m     39\u001b[0m         \u001b[0mparameters_array\u001b[0m \u001b[0;34m=\u001b[0m \u001b[0;34m[\u001b[0m\u001b[0;34m]\u001b[0m\u001b[0;34m\u001b[0m\u001b[0;34m\u001b[0m\u001b[0m\n\u001b[0;32m---> 40\u001b[0;31m         \u001b[0;32mwith\u001b[0m \u001b[0mopen\u001b[0m\u001b[0;34m(\u001b[0m\u001b[0mtxt_path\u001b[0m\u001b[0;34m)\u001b[0m \u001b[0;32mas\u001b[0m \u001b[0mf\u001b[0m\u001b[0;34m:\u001b[0m\u001b[0;34m\u001b[0m\u001b[0;34m\u001b[0m\u001b[0m\n\u001b[0m\u001b[1;32m     41\u001b[0m             \u001b[0;32mfor\u001b[0m \u001b[0mline\u001b[0m \u001b[0;32min\u001b[0m \u001b[0mf\u001b[0m\u001b[0;34m:\u001b[0m\u001b[0;34m\u001b[0m\u001b[0;34m\u001b[0m\u001b[0m\n\u001b[1;32m     42\u001b[0m                 \u001b[0mkey\u001b[0m\u001b[0;34m,\u001b[0m \u001b[0mvalue\u001b[0m \u001b[0;34m=\u001b[0m \u001b[0mline\u001b[0m\u001b[0;34m.\u001b[0m\u001b[0msplit\u001b[0m\u001b[0;34m(\u001b[0m\u001b[0;34m)\u001b[0m\u001b[0;34m\u001b[0m\u001b[0;34m\u001b[0m\u001b[0m\n",
      "\u001b[0;31mFileNotFoundError\u001b[0m: [Errno 2] No such file or directory: '/home/linwe/pywsdp/services/najdiListinuVeSbirceListin/data/input/parameters_typ2.txt'"
     ]
    }
   ],
   "source": [
    "rizeni_id = najdiListinu.get_parameters_from_txt(input_txt)\n",
    "print(rizeni_id)\n",
    "len(rizeni_id)\n",
    "najdiListinu.process(rizeni_id)"
   ]
  }
 ],
 "metadata": {
  "kernelspec": {
   "display_name": "Python 3",
   "language": "python",
   "name": "python3"
  },
  "language_info": {
   "codemirror_mode": {
    "name": "ipython",
    "version": 3
   },
   "file_extension": ".py",
   "mimetype": "text/x-python",
   "name": "python",
   "nbconvert_exporter": "python",
   "pygments_lexer": "ipython3",
   "version": "3.6.9"
  }
 },
 "nbformat": 4,
 "nbformat_minor": 5
}
