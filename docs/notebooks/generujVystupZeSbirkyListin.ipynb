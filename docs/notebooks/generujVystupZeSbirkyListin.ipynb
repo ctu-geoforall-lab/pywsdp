{
 "cells": [
  {
   "cell_type": "markdown",
   "id": "instructional-favor",
   "metadata": {},
   "source": [
    "# Knihovna GenerujVystupZeSbirkyListin"
   ]
  },
  {
   "cell_type": "markdown",
   "id": "incorporated-employer",
   "metadata": {},
   "source": [
    "Knihovna GenerujVystupZeSbirkyListin slouzi k ziskani pdf listiny na zaklade vstupu ve forme id listiny, ktery je soucasti vystupnich parametru knihovny NajdiListinuVeSbirceListin.\n",
    "\n",
    "Nejdrive naimportujeme knihovny:"
   ]
  },
  {
   "cell_type": "code",
   "execution_count": 1,
   "id": "fewer-right",
   "metadata": {},
   "outputs": [],
   "source": [
    "import os\n",
    "import sys\n",
    "\n",
    "# Modul je v jinem adresari, je tedy nutne tento adresar pridat do sys.path\n",
    "module_path = os.path.abspath(os.path.join('../../'))\n",
    "if module_path not in sys.path:\n",
    "   sys.path.append(module_path)\n",
    "\n",
    "from services.sestavy.generujVystupZeSbirkyListin import GenerujVystupZeSbirkyListin"
   ]
  },
  {
   "cell_type": "markdown",
   "id": "tutorial-space",
   "metadata": {},
   "source": [
    "Pote nadefinujeme parametry nutne pro inicializaci knihovny:"
   ]
  },
  {
   "cell_type": "code",
   "execution_count": 2,
   "id": "based-russian",
   "metadata": {},
   "outputs": [
    {
     "name": "stdout",
     "output_type": "stream",
     "text": [
      "/home/linwe/pywsdp/services/sestavy/generujVystupZeSbirkyListin/data/output/output.csv\n",
      "/home/linwe/pywsdp/services/sestavy/generujVystupZeSbirkyListin/data/input/parameters.txt\n"
     ]
    }
   ],
   "source": [
    "username = \"WSTEST\"\n",
    "password = \"WSHESLO\"\n",
    "output_csv = os.path.join(module_path, 'services', 'sestavy', 'generujVystupZeSbirkyListin', 'data', 'output', 'output.csv')\n",
    "input_txt = os.path.join(module_path, 'services', 'sestavy', 'generujVystupZeSbirkyListin', 'data', 'input', 'parameters.txt')\n",
    "print(output_csv)\n",
    "print(input_txt)"
   ]
  },
  {
   "cell_type": "markdown",
   "id": "dimensional-cream",
   "metadata": {},
   "source": [
    "Zavolame knihovnu a naplnime VFK databazi osobnimi udaji:\n"
   ]
  },
  {
   "cell_type": "code",
   "execution_count": 3,
   "id": "resident-premises",
   "metadata": {
    "scrolled": true
   },
   "outputs": [
    {
     "name": "stdout",
     "output_type": "stream",
     "text": [
      "['<v2:listinaId>34191186010</v2:listinaId>']\n"
     ]
    }
   ],
   "source": [
    "generujListinu = GenerujVystupZeSbirkyListin(username=username,\n",
    "                 password=password,\n",
    "                 csv_path=output_csv)\n",
    "listina_id = generujListinu.get_parameters_from_txt(input_txt)\n",
    "print(listina_id)"
   ]
  },
  {
   "cell_type": "markdown",
   "id": "driven-aaron",
   "metadata": {},
   "source": [
    "Nad seznamem zavolame metodu .process, ktera k zadanym identifikatorum aktualizuje v tabulce osobni udaje:"
   ]
  },
  {
   "cell_type": "code",
   "execution_count": 4,
   "id": "present-baker",
   "metadata": {},
   "outputs": [
    {
     "name": "stdout",
     "output_type": "stream",
     "text": [
      "<soapenv:Envelope xmlns:soapenv=\"http://schemas.xmlsoap.org/soap/envelope/\"\n",
      "                        xmlns:v2=\"http://katastr.cuzk.cz/sestavy/types/v2.9\">\n",
      "                          <soapenv:Header>\n",
      "                              <wsse:Security soapenv:mustUnderstand=\"1\" xmlns:wsse=\"http://docs.oasis-open.org/wss/2004/01/oasis-200401-wss-wssecurity-secext-1.0.xsd\" xmlns:wsu=\"http://docs.oasis-open.org/wss/2004/01/oasis-200401-wss-wssecurity-utility-1.0.xsd\">\n",
      "                                <wsse:UsernameToken wsu:Id=\"UsernameToken-2\">\n",
      "                                  <wsse:Username>WSTEST</wsse:Username>\n",
      "                                  <wsse:Password Type=\"http://docs.oasis-open.org/wss/2004/01/oasis-200401-wss-username-token-profile-1.0#PasswordText\">WSHESLO</wsse:Password>\n",
      "                                </wsse:UsernameToken>\n",
      "                              </wsse:Security>\n",
      "                          </soapenv:Header>\n",
      "                          <soapenv:Body>\n",
      "                            <v2:GenerujVystupZeSbirkyListinRequest>\n",
      "                              <v2:listinaId>34191186010</v2:listinaId>\n",
      "                            </v2:GenerujVystupZeSbirkyListinRequest>\n",
      "                          </soapenv:Body>\n",
      "                        </soapenv:Envelope>\n",
      "\n",
      "<?xml version='1.0' encoding='UTF-8'?><S:Envelope xmlns:env=\"http://schemas.xmlsoap.org/soap/envelope/\" xmlns:S=\"http://schemas.xmlsoap.org/soap/envelope/\"><env:Header/><S:Body><ns0:GenerujSestavuResponse xmlns:ns0=\"http://katastr.cuzk.cz/sestavy/types/v2.9\" xmlns:ns1=\"http://katastr.cuzk.cz/commonTypes/v2.9\"><ns0:vysledek><ns1:zprava kod=\"0\" uroven=\"INFORMACE\">Požadovaná akce byla úspěšně provedena.</ns1:zprava></ns0:vysledek><ns0:reportList><ns0:report><ns0:id>146386942011</ns0:id><ns0:nazev>Ověřený výstup nebo duplikát ze sbírky listin katastru</ns0:nazev><ns0:datumPozadavku>2021-11-02T21:05:43</ns0:datumPozadavku><ns0:datumSpusteni>2021-11-02T21:05:43</ns0:datumSpusteni><ns0:stav>čeká</ns0:stav><ns0:format>pdf</ns0:format></ns0:report></ns0:reportList></ns0:GenerujSestavuResponse></S:Body></S:Envelope>\n"
     ]
    }
   ],
   "source": [
    "generujListinu.process(listina_id)"
   ]
  }
 ],
 "metadata": {
  "kernelspec": {
   "display_name": "Python 3",
   "language": "python",
   "name": "python3"
  },
  "language_info": {
   "codemirror_mode": {
    "name": "ipython",
    "version": 3
   },
   "file_extension": ".py",
   "mimetype": "text/x-python",
   "name": "python",
   "nbconvert_exporter": "python",
   "pygments_lexer": "ipython3",
   "version": "3.6.9"
  }
 },
 "nbformat": 4,
 "nbformat_minor": 5
}
