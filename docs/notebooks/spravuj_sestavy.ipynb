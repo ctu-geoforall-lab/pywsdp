{
 "cells": [
  {
   "cell_type": "markdown",
   "id": "instructional-favor",
   "metadata": {},
   "source": [
    "## Ukázka použití samostatných modulů na spravování sestav"
   ]
  },
  {
   "cell_type": "markdown",
   "id": "21313b8d",
   "metadata": {},
   "source": [
    "Nejprve naimportujeme knihovny a potřebné moduly. Pro účely notebooku je třeba přidat cestu k modulu pywsdp do PATH."
   ]
  },
  {
   "cell_type": "code",
   "execution_count": 1,
   "id": "fewer-right",
   "metadata": {},
   "outputs": [],
   "source": [
    "import os\n",
    "import sys\n",
    "library_path = os.path.abspath(os.path.join(\"../../\"))\n",
    "sys.path.append(library_path)\n",
    "\n",
    "from pywsdp.modules import GenerujCenoveUdajeDleKu\n",
    "from pywsdp.modules.SpravujSestavy import SeznamSestav, VratSestavu, SmazSestavu\n"
   ]
  },
  {
   "cell_type": "markdown",
   "id": "75219328",
   "metadata": {},
   "source": [
    "Přihlásíme se k modulu GenerujCenoveUdajeDleKu. Pro tento účel využijeme testovací přístupové údaje do DP."
   ]
  },
  {
   "cell_type": "code",
   "execution_count": 2,
   "id": "b71f2fbd",
   "metadata": {},
   "outputs": [],
   "source": [
    "creds_test = [\"WSTEST\", \"WSHESLO\"]\n",
    "cen_udaje = GenerujCenoveUdajeDleKu(creds_test, trial=True)"
   ]
  },
  {
   "cell_type": "markdown",
   "id": "b10b3a20",
   "metadata": {},
   "source": [
    "Pošleme požadavek na vytvoření sestavy s cenovými údaji."
   ]
  },
  {
   "cell_type": "code",
   "execution_count": 3,
   "id": "654c8be8",
   "metadata": {},
   "outputs": [
    {
     "name": "stderr",
     "output_type": "stream",
     "text": [
      "generujCenoveUdajeDleKu - INFO     -  \n",
      "generujCenoveUdajeDleKu - INFO     - Požadovaná akce byla úspěšně provedena.\n"
     ]
    }
   ],
   "source": [
    "parametry = {\n",
    "    \"katastrUzemiKod\": 732630,\n",
    "    \"rok\": 2020,\n",
    "    \"mesicOd\": 9,\n",
    "    \"mesicDo\": 12,\n",
    "    \"format\": \"zip\",\n",
    "}\n",
    "sestava = cen_udaje.posli_pozadavek(parametry)"
   ]
  },
  {
   "cell_type": "markdown",
   "id": "766b2729",
   "metadata": {},
   "source": [
    "Vypíšeme si info o sestavě pomocí modulu SeznamSestav."
   ]
  },
  {
   "cell_type": "code",
   "execution_count": 4,
   "id": "baeb9dea",
   "metadata": {},
   "outputs": [
    {
     "name": "stderr",
     "output_type": "stream",
     "text": [
      "seznamSestav - INFO     -  \n",
      "seznamSestav - INFO     - Požadovaná akce byla úspěšně provedena.\n"
     ]
    }
   ],
   "source": [
    "seznam = SeznamSestav(creds_test, trial=True)\n",
    "info = seznam.posli_pozadavek(sestava[\"id\"])\n",
    "assert info[\"nazev\"] == \"Cenové údaje podle katastrálního území\""
   ]
  },
  {
   "cell_type": "markdown",
   "id": "d9b1bdee",
   "metadata": {},
   "source": [
    "Pomocí modulu VratSestavu zaúčtujeme sestavu. Vrátí se nám zašifrovaný ZIP soubor obsahující XML soubory s cenovými údaji."
   ]
  },
  {
   "cell_type": "code",
   "execution_count": 5,
   "id": "1403e941",
   "metadata": {},
   "outputs": [
    {
     "name": "stderr",
     "output_type": "stream",
     "text": [
      "vratSestavu  - INFO     -  \n",
      "vratSestavu  - INFO     - Požadovaná akce byla úspěšně provedena.\n"
     ]
    }
   ],
   "source": [
    "vrat = VratSestavu(creds_test, trial=True)\n",
    "zauctovani = vrat.posli_pozadavek(sestava[\"id\"])\n",
    "assert zauctovani[\"nazev\"] == \"Cenové údaje podle katastrálního území\""
   ]
  },
  {
   "cell_type": "markdown",
   "id": "a8c7c2ce",
   "metadata": {},
   "source": [
    "Pokud budeme chtít sestavu smazat, můžeme využít modul SmazSestavu."
   ]
  },
  {
   "cell_type": "code",
   "execution_count": 6,
   "id": "77c1d9fc",
   "metadata": {},
   "outputs": [
    {
     "name": "stderr",
     "output_type": "stream",
     "text": [
      "smazSestavu  - INFO     -  \n",
      "smazSestavu  - INFO     - Požadovaná akce byla úspěšně provedena.\n"
     ]
    }
   ],
   "source": [
    "smaz = SmazSestavu(creds_test, trial=True)\n",
    "smazani = smaz.posli_pozadavek(sestava[\"id\"])\n",
    "assert smazani == {\"zprava\": \"Požadovaná akce byla úspěšně provedena.\"}"
   ]
  }
 ],
 "metadata": {
  "kernelspec": {
   "display_name": "Python 3 (ipykernel)",
   "language": "python",
   "name": "python3"
  },
  "language_info": {
   "codemirror_mode": {
    "name": "ipython",
    "version": 3
   },
   "file_extension": ".py",
   "mimetype": "text/x-python",
   "name": "python",
   "nbconvert_exporter": "python",
   "pygments_lexer": "ipython3",
   "version": "3.10.6"
  }
 },
 "nbformat": 4,
 "nbformat_minor": 5
}
