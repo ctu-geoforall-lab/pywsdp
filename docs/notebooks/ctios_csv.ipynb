{
 "cells": [
  {
   "cell_type": "markdown",
   "id": "weird-recipe",
   "metadata": {},
   "source": [
    "# Modul CtiOSCsv"
   ]
  },
  {
   "cell_type": "markdown",
   "id": "incredible-arena",
   "metadata": {},
   "source": [
    "Knihovna CtiOSCsv slouzi k ziskani csv s osobnimi udaji na zaklade vstupu ve forme seznamu pseudoidentifikatoru.\n",
    "\n",
    "Nejdrive naimportujeme knihovny:"
   ]
  },
  {
   "cell_type": "code",
   "execution_count": 1,
   "id": "organizational-metropolitan",
   "metadata": {},
   "outputs": [],
   "source": [
    "import os\n",
    "import sys\n",
    "import sqlite3\n",
    "\n",
    "# Moduly jsou v jinem adresari, je tedy nutne tento adresar pridat do sys.path\n",
    "module_path = os.path.abspath(os.path.join('../../'))\n",
    "if module_path not in sys.path:\n",
    "   sys.path.append(module_path)\n",
    "\n",
    "from services.ctiOS.csv import CtiOSCsv"
   ]
  },
  {
   "cell_type": "markdown",
   "id": "tutorial-space",
   "metadata": {},
   "source": [
    "Pote nadefinujeme parametry nutne pro inicializaci knihovny:"
   ]
  },
  {
   "cell_type": "code",
   "execution_count": 2,
   "id": "based-russian",
   "metadata": {},
   "outputs": [
    {
     "name": "stdout",
     "output_type": "stream",
     "text": [
      "/home/linwe/pywsdp/data/output/ctios.csv\n",
      "/home/linwe/pywsdp/data/input/ctios_template.txt\n"
     ]
    }
   ],
   "source": [
    "username = \"WSTEST\"\n",
    "password = \"WSHESLO\"\n",
    "output_csv = os.path.join('../', module_path, 'data', 'output', 'ctios.csv')\n",
    "input_txt = os.path.join('../', module_path, 'data', 'input', 'ctios_template.txt')\n",
    "print(output_csv)\n",
    "print(input_txt)"
   ]
  },
  {
   "cell_type": "markdown",
   "id": "dimensional-cream",
   "metadata": {},
   "source": [
    "Zavolame knihovnu a naplnime VFK databazi osobnimi udaji:\n"
   ]
  },
  {
   "cell_type": "code",
   "execution_count": 3,
   "id": "resident-premises",
   "metadata": {
    "scrolled": true
   },
   "outputs": [
    {
     "name": "stdout",
     "output_type": "stream",
     "text": [
      "['<v2:pOSIdent>uecJ/wWk2Ej6CAnwe3i0y0jfrp9Xr1oMVJ+9kLKpkU8trb/GSsJmcvNw7XJ0dzNpkKLYrpaxDPIVMKGKnG/ZMzSYtEOoqKGnRHhbt/PXjUr/RJzL4O5LlsS30GNP3Kka</v2:pOSIdent>', '<v2:pOSIdent>\\nVm+8vMmIsWsvcxR9zMDL9Cy+E0ZgHj9AJ3kwMqaLxguXn6wJcfM3e3LWpd7RzRxm3woikNUtGPF45crUFMpAsfsa/Bmx4YzTqTFCj0vhoQY=</v2:pOSIdent>', '<v2:pOSIdent>\\nT/sOfNBmULfA5GzBpJRYu3UWEwhw4PFYydRQSh7x1PSc4RTRLXYaXTfpbt2Da17zSJPbQDKce+cHMMQVCVBRj9+U8wwRYYTBTgLsWbpMpuY=</v2:pOSIdent>', '<v2:pOSIdent>\\nlWpFU3UmWlpSe8TtpUMRBCFflbRtrT1aEpzxnv1MEXnpCGhTicndBKbyJjsfMJMdgH+U78n9GU5DNm6bXxNhnC2JU2MIzwpJObcy4n2Baqk=</v2:pOSIdent>', '<v2:pOSIdent>\\nmDkas+QvEOd4+XBxuIW4Da3aEEdBAod5OJM/9la0ivdkMk7DTs9DqRZEI5Lc3wAC7Yb1sw4kp/JEFP3nnG2ZcPT36EJYO+EfrC0OlzewTfM=</v2:pOSIdent>', '<v2:pOSIdent>\\n7TsaZA7GFeEVxMscggvr2LkRAZwqfDywZ9HtkoX92fdNI/VFseD7SjfY8rJ7IlS7o2MG7D4mG56FZUTFOUWW7a5GeMmtDAasGLtodOgvIOA=</v2:pOSIdent>', '<v2:pOSIdent>\\nyqpT3s/QygUWqCsg/azKypTOTOuJdbjB/16kQv0m5uugaHFJh8Mtp2i7sCdt71GRZixdYAzCVqEa4mNgvEjDECGf0Fby1B2nv1NdlyFQPrg=</v2:pOSIdent>', '<v2:pOSIdent>\\nZ3anPBTLRy4YQTD0UgZkTJ+keVuWZ8j50lI8whQPyaERWuqwwnwsnvPL5JvmjhqosP5ukUJEFe29IEnCIx6/MSQ0jCVnAyGflCmCnQBnc3JQLWVD9vLnWZYbgp+9oL3r</v2:pOSIdent>', '<v2:pOSIdent>\\ni0/Tr+VNmKgY+wJydNVJbCob8vQemEnjdn3A2r2ffhs8dz4IHH2H2AVcFvTyEOe3ci6MD33ZHXqEu8Lr8L1xtG3SHwhy2TBVM3bEa6vFpMbxj5wBXmFfT/QAGRrOqWBN</v2:pOSIdent>', '<v2:pOSIdent>\\n/AOrBGOFR+4GtqsAvOXC/3kKd0OCEPBVRfEsIPHeW3CoGcU1dio8gmrulsH5/KEvySRvbRT2hlDOXICKukDLldMgNY5z+yASe8F1rqBlKug=\\n</v2:pOSIdent>']\n"
     ]
    },
    {
     "data": {
      "text/plain": [
       "10"
      ]
     },
     "execution_count": 3,
     "metadata": {},
     "output_type": "execute_result"
    }
   ],
   "source": [
    "ctios = CtiOSCsv(username=username,\n",
    "                 password=password,\n",
    "                 csv_path=output_csv)\n",
    "posidents = ctios.get_parameters_from_file(input_txt)\n",
    "print(posidents)\n",
    "len(posidents)"
   ]
  },
  {
   "cell_type": "markdown",
   "id": "driven-aaron",
   "metadata": {},
   "source": [
    "Nad seznamem zavolame metodu .process, ktera k zadanym identifikatorum aktualizuje v tabulce osobni udaje:"
   ]
  },
  {
   "cell_type": "code",
   "execution_count": 4,
   "id": "present-baker",
   "metadata": {},
   "outputs": [
    {
     "name": "stderr",
     "output_type": "stream",
     "text": [
      "ctiOS        - CRITICAL - WSDP REQUEST ERROR - 404 Client Error: Not Found for url: https://wsdptrial.cuzk.cz/trial/ws/ctios/2.8/ctios\n"
     ]
    },
    {
     "ename": "WSDPRequestError",
     "evalue": "(<WSDPLogger ctiOS (DEBUG)>, HTTPError('404 Client Error: Not Found for url: https://wsdptrial.cuzk.cz/trial/ws/ctios/2.8/ctios',))",
     "output_type": "error",
     "traceback": [
      "\u001b[0;31m---------------------------------------------------------------------------\u001b[0m",
      "\u001b[0;31mHTTPError\u001b[0m                                 Traceback (most recent call last)",
      "\u001b[0;32m~/pywsdp/base/__init__.py\u001b[0m in \u001b[0;36mcall_service\u001b[0;34m(self, xml)\u001b[0m\n\u001b[1;32m    190\u001b[0m             )\n\u001b[0;32m--> 191\u001b[0;31m             \u001b[0mr\u001b[0m\u001b[0;34m.\u001b[0m\u001b[0mraise_for_status\u001b[0m\u001b[0;34m(\u001b[0m\u001b[0;34m)\u001b[0m\u001b[0;34m\u001b[0m\u001b[0;34m\u001b[0m\u001b[0m\n\u001b[0m\u001b[1;32m    192\u001b[0m             \u001b[0;31m# if self.log_dir:\u001b[0m\u001b[0;34m\u001b[0m\u001b[0;34m\u001b[0m\u001b[0;34m\u001b[0m\u001b[0m\n",
      "\u001b[0;32m/usr/lib/python3/dist-packages/requests/models.py\u001b[0m in \u001b[0;36mraise_for_status\u001b[0;34m(self)\u001b[0m\n\u001b[1;32m    934\u001b[0m         \u001b[0;32mif\u001b[0m \u001b[0mhttp_error_msg\u001b[0m\u001b[0;34m:\u001b[0m\u001b[0;34m\u001b[0m\u001b[0;34m\u001b[0m\u001b[0m\n\u001b[0;32m--> 935\u001b[0;31m             \u001b[0;32mraise\u001b[0m \u001b[0mHTTPError\u001b[0m\u001b[0;34m(\u001b[0m\u001b[0mhttp_error_msg\u001b[0m\u001b[0;34m,\u001b[0m \u001b[0mresponse\u001b[0m\u001b[0;34m=\u001b[0m\u001b[0mself\u001b[0m\u001b[0;34m)\u001b[0m\u001b[0;34m\u001b[0m\u001b[0;34m\u001b[0m\u001b[0m\n\u001b[0m\u001b[1;32m    936\u001b[0m \u001b[0;34m\u001b[0m\u001b[0m\n",
      "\u001b[0;31mHTTPError\u001b[0m: 404 Client Error: Not Found for url: https://wsdptrial.cuzk.cz/trial/ws/ctios/2.8/ctios",
      "\nDuring handling of the above exception, another exception occurred:\n",
      "\u001b[0;31mWSDPRequestError\u001b[0m                          Traceback (most recent call last)",
      "\u001b[0;32m<ipython-input-4-d15f17cb49a0>\u001b[0m in \u001b[0;36m<module>\u001b[0;34m\u001b[0m\n\u001b[0;32m----> 1\u001b[0;31m \u001b[0mctios\u001b[0m\u001b[0;34m.\u001b[0m\u001b[0mprocess\u001b[0m\u001b[0;34m(\u001b[0m\u001b[0mposidents\u001b[0m\u001b[0;34m)\u001b[0m\u001b[0;34m\u001b[0m\u001b[0;34m\u001b[0m\u001b[0m\n\u001b[0m",
      "\u001b[0;32m~/pywsdp/services/ctiOS/__init__.py\u001b[0m in \u001b[0;36mprocess\u001b[0;34m(self, ids_array)\u001b[0m\n\u001b[1;32m    108\u001b[0m             \u001b[0mxml\u001b[0m \u001b[0;34m=\u001b[0m \u001b[0mself\u001b[0m\u001b[0;34m.\u001b[0m\u001b[0mrenderXML\u001b[0m\u001b[0;34m(\u001b[0m\u001b[0mposidents\u001b[0m\u001b[0;34m=\u001b[0m\u001b[0;34m\"\"\u001b[0m\u001b[0;34m.\u001b[0m\u001b[0mjoin\u001b[0m\u001b[0;34m(\u001b[0m\u001b[0mchunk\u001b[0m\u001b[0;34m)\u001b[0m\u001b[0;34m)\u001b[0m\u001b[0;34m\u001b[0m\u001b[0;34m\u001b[0m\u001b[0m\n\u001b[1;32m    109\u001b[0m             \u001b[0;31m#print(xml)\u001b[0m\u001b[0;34m\u001b[0m\u001b[0;34m\u001b[0m\u001b[0;34m\u001b[0m\u001b[0m\n\u001b[0;32m--> 110\u001b[0;31m             \u001b[0mresponse_xml\u001b[0m \u001b[0;34m=\u001b[0m \u001b[0mself\u001b[0m\u001b[0;34m.\u001b[0m\u001b[0mcall_service\u001b[0m\u001b[0;34m(\u001b[0m\u001b[0mxml\u001b[0m\u001b[0;34m)\u001b[0m\u001b[0;34m\u001b[0m\u001b[0;34m\u001b[0m\u001b[0m\n\u001b[0m\u001b[1;32m    111\u001b[0m             \u001b[0mprint\u001b[0m\u001b[0;34m(\u001b[0m\u001b[0mresponse_xml\u001b[0m\u001b[0;34m)\u001b[0m\u001b[0;34m\u001b[0m\u001b[0;34m\u001b[0m\u001b[0m\n\u001b[1;32m    112\u001b[0m             \u001b[0mdictionary\u001b[0m \u001b[0;34m=\u001b[0m \u001b[0mself\u001b[0m\u001b[0;34m.\u001b[0m\u001b[0mparseXML\u001b[0m\u001b[0;34m(\u001b[0m\u001b[0mresponse_xml\u001b[0m\u001b[0;34m)\u001b[0m\u001b[0;34m\u001b[0m\u001b[0;34m\u001b[0m\u001b[0m\n",
      "\u001b[0;32m~/pywsdp/base/__init__.py\u001b[0m in \u001b[0;36mcall_service\u001b[0;34m(self, xml)\u001b[0m\n\u001b[1;32m    193\u001b[0m             \u001b[0;31m#    self.logger.debug(response_xml)\u001b[0m\u001b[0;34m\u001b[0m\u001b[0;34m\u001b[0m\u001b[0;34m\u001b[0m\u001b[0m\n\u001b[1;32m    194\u001b[0m         \u001b[0;32mexcept\u001b[0m \u001b[0mrequests\u001b[0m\u001b[0;34m.\u001b[0m\u001b[0mexceptions\u001b[0m\u001b[0;34m.\u001b[0m\u001b[0mRequestException\u001b[0m \u001b[0;32mas\u001b[0m \u001b[0me\u001b[0m\u001b[0;34m:\u001b[0m\u001b[0;34m\u001b[0m\u001b[0;34m\u001b[0m\u001b[0m\n\u001b[0;32m--> 195\u001b[0;31m             \u001b[0;32mraise\u001b[0m \u001b[0mWSDPRequestError\u001b[0m\u001b[0;34m(\u001b[0m\u001b[0mself\u001b[0m\u001b[0;34m.\u001b[0m\u001b[0mlogger\u001b[0m\u001b[0;34m,\u001b[0m \u001b[0me\u001b[0m\u001b[0;34m)\u001b[0m\u001b[0;34m\u001b[0m\u001b[0;34m\u001b[0m\u001b[0m\n\u001b[0m\u001b[1;32m    196\u001b[0m         \u001b[0mresponse_xml\u001b[0m \u001b[0;34m=\u001b[0m \u001b[0mr\u001b[0m\u001b[0;34m.\u001b[0m\u001b[0mtext\u001b[0m\u001b[0;34m\u001b[0m\u001b[0;34m\u001b[0m\u001b[0m\n\u001b[1;32m    197\u001b[0m         \u001b[0;32mreturn\u001b[0m \u001b[0mresponse_xml\u001b[0m\u001b[0;34m\u001b[0m\u001b[0;34m\u001b[0m\u001b[0m\n",
      "\u001b[0;31mWSDPRequestError\u001b[0m: (<WSDPLogger ctiOS (DEBUG)>, HTTPError('404 Client Error: Not Found for url: https://wsdptrial.cuzk.cz/trial/ws/ctios/2.8/ctios',))"
     ]
    }
   ],
   "source": [
    "ctios.process(posidents)"
   ]
  },
  {
   "cell_type": "markdown",
   "id": "tough-election",
   "metadata": {},
   "source": [
    "Muzeme si vsimnout ze jsme pravdepodobne pouzili stary soubor, jelikoz posidenty jsou expirovane. Zkusime tedy obstarat aktualni data a nyni uz se dobereme vysledku:"
   ]
  },
  {
   "cell_type": "code",
   "execution_count": null,
   "id": "future-dinner",
   "metadata": {},
   "outputs": [],
   "source": [
    "input_txt = os.path.join(module_path, 'services', 'ctiOS', 'data', 'input', 'ctios_2.txt')\n",
    "posidents = ctios.get_parameters_from_txt(input_txt)"
   ]
  },
  {
   "cell_type": "code",
   "execution_count": null,
   "id": "imported-disorder",
   "metadata": {},
   "outputs": [],
   "source": [
    "ctios.process(posidents)"
   ]
  },
  {
   "cell_type": "markdown",
   "id": "assisted-newton",
   "metadata": {},
   "source": [
    "V dalsim kroku muzeme zkusit zda lze ziskat identifikatory i z databaze:"
   ]
  },
  {
   "cell_type": "code",
   "execution_count": null,
   "id": "blessed-poland",
   "metadata": {},
   "outputs": [],
   "source": [
    "posidents = ctios.get_parameters_from_db(input_txt)\n",
    "print(posidents)"
   ]
  },
  {
   "cell_type": "markdown",
   "id": "outstanding-interface",
   "metadata": {},
   "source": [
    "Vyse ziskana chyba znamena, ze CtiOSCSv podporuje pouze vystup do csv souboru. Pokud mame databazi VFK, pouzijeme modul CtiOSGdal."
   ]
  }
 ],
 "metadata": {
  "kernelspec": {
   "display_name": "Python 3",
   "language": "python",
   "name": "python3"
  },
  "language_info": {
   "codemirror_mode": {
    "name": "ipython",
    "version": 3
   },
   "file_extension": ".py",
   "mimetype": "text/x-python",
   "name": "python",
   "nbconvert_exporter": "python",
   "pygments_lexer": "ipython3",
   "version": "3.6.9"
  }
 },
 "nbformat": 4,
 "nbformat_minor": 5
}
