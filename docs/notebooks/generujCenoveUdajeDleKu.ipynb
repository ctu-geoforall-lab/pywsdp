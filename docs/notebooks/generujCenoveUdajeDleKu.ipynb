{
 "cells": [
  {
   "cell_type": "markdown",
   "id": "instructional-favor",
   "metadata": {},
   "source": [
    "# Knihovna GenerujCenoveUdajeDleKu"
   ]
  },
  {
   "cell_type": "markdown",
   "id": "incorporated-employer",
   "metadata": {},
   "source": [
    "Knihovna generujCenoveUdajeDleKu slouzi k ziskani csv s cenovymi udaji na zaklade vstupniho katastralniho uzemi, roku, pro ktery budou poskytnuty udaje a na zaklade mesice od a do.\n",
    "\n",
    "Nejdrive naimportujeme knihovny:"
   ]
  },
  {
   "cell_type": "code",
   "execution_count": 1,
   "id": "fewer-right",
   "metadata": {},
   "outputs": [],
   "source": [
    "import os\n",
    "import sys\n",
    "\n",
    "# Modul je v jinem adresari, je tedy nutne tento adresar pridat do sys.path\n",
    "module_path = os.path.abspath(os.path.join('../../'))\n",
    "if module_path not in sys.path:\n",
    "   sys.path.append(module_path)\n",
    "\n",
    "from pywsdp.modules import GenerujCenoveUdajeDleKu"
   ]
  },
  {
   "cell_type": "markdown",
   "id": "tutorial-space",
   "metadata": {},
   "source": [
    "Pote nadefinujeme parametry nutne pro inicializaci knihovny:"
   ]
  },
  {
   "cell_type": "code",
   "execution_count": 2,
   "id": "based-russian",
   "metadata": {},
   "outputs": [
    {
     "name": "stdout",
     "output_type": "stream",
     "text": [
      "sestavy->generujCenoveUdajeDleKu\n",
      "/home/linwe/pywsdp/pywsdp/modules/GenerujCenoveUdajeDleKu/logs\n",
      "{'katastrUzemiKod': '732630', 'rok': '2020', 'mesicOd': '9', 'mesicDo': '12', 'format': 'zip'}\n",
      "<v2:katastrUzemiKod>732630</v2:katastrUzemiKod><v2:rok>2020</v2:rok><v2:mesicOd>9</v2:mesicOd><v2:mesicDo>12</v2:mesicDo><v2:format>zip</v2:format>\n",
      "('WSTEST', 'WSHESLO')\n",
      "/home/linwe/pywsdp/pywsdp/services\n",
      "/home/linwe/pywsdp/pywsdp/services/sestavy/generujCenoveUdajeDleKu\n",
      "generujCenoveUdajeDleKu\n",
      "sestavy\n",
      "/home/linwe/pywsdp/pywsdp/services/sestavy/generujCenoveUdajeDleKu/config/settings.ini\n",
      "/home/linwe/pywsdp/pywsdp/services/sestavy/generujCenoveUdajeDleKu/config/generujCenoveUdajeDleKu.xml\n",
      "{'content_type': 'text/xml;charset=UTF-8', 'accept_encoding': 'gzip,deflate', 'soap_action': 'http://katastr.cuzk.cz/sestavy//generujCenoveUdajeDleKu', 'connection': 'Keep-Alive', 'endpoint': 'https://wsdptrial.cuzk.cz/trial/ws/wsdp/2.9/sestavy'}\n"
     ]
    }
   ],
   "source": [
    "\n",
    "generujCenoveUdajeDleKu = GenerujCenoveUdajeDleKu()\n",
    "\n",
    "parametry_dict = {'katastrUzemiKod': '732630', 'rok': '2020', 'mesicOd': '9', 'mesicDo': '12', 'format': 'zip'}\n",
    "\n",
    "generujCenoveUdajeDleKu.nacti_parametry_ze_slovniku(parametry_dict)\n",
    "\n",
    "print(generujCenoveUdajeDleKu.cen_udaje)\n",
    "print(generujCenoveUdajeDleKu.log_adresar)\n",
    "print(generujCenoveUdajeDleKu.cen_udaje.parameters)\n",
    "print(generujCenoveUdajeDleKu.cen_udaje.xml_attrs)\n",
    "print(generujCenoveUdajeDleKu.cen_udaje.credentials)\n",
    "print(generujCenoveUdajeDleKu.cen_udaje.services_dir)\n",
    "print(generujCenoveUdajeDleKu.cen_udaje.service_dir)\n",
    "print(generujCenoveUdajeDleKu.cen_udaje.service_name)\n",
    "print(generujCenoveUdajeDleKu.cen_udaje.service_group)\n",
    "print(generujCenoveUdajeDleKu.cen_udaje.config_path)\n",
    "print(generujCenoveUdajeDleKu.cen_udaje.template_path)\n",
    "print(generujCenoveUdajeDleKu.cen_udaje.service_headers)"
   ]
  },
  {
   "cell_type": "markdown",
   "id": "worthy-asian",
   "metadata": {},
   "source": [
    "Vytvorime sestavu:"
   ]
  },
  {
   "cell_type": "code",
   "execution_count": 3,
   "id": "attempted-commodity",
   "metadata": {},
   "outputs": [
    {
     "name": "stderr",
     "output_type": "stream",
     "text": [
      "GenerujCenoveUdajeDleKu - CRITICAL - WSDP REQUEST ERROR - 503 Server Error: Service Unavailable for url: https://wsdptrial.cuzk.cz/trial/ws/wsdp/2.9/sestavy\n"
     ]
    },
    {
     "ename": "WSDPRequestError",
     "evalue": "(<WSDPLogger GenerujCenoveUdajeDleKu (DEBUG)>, HTTPError('503 Server Error: Service Unavailable for url: https://wsdptrial.cuzk.cz/trial/ws/wsdp/2.9/sestavy',))",
     "output_type": "error",
     "traceback": [
      "\u001b[0;31m---------------------------------------------------------------------------\u001b[0m",
      "\u001b[0;31mHTTPError\u001b[0m                                 Traceback (most recent call last)",
      "\u001b[0;32m~/pywsdp/pywsdp/base/__init__.py\u001b[0m in \u001b[0;36m_call_service\u001b[0;34m(self, xml)\u001b[0m\n\u001b[1;32m    208\u001b[0m             )\n\u001b[0;32m--> 209\u001b[0;31m             \u001b[0mr\u001b[0m\u001b[0;34m.\u001b[0m\u001b[0mraise_for_status\u001b[0m\u001b[0;34m(\u001b[0m\u001b[0;34m)\u001b[0m\u001b[0;34m\u001b[0m\u001b[0;34m\u001b[0m\u001b[0m\n\u001b[0m\u001b[1;32m    210\u001b[0m             \u001b[0;31m# if self.log_dir:\u001b[0m\u001b[0;34m\u001b[0m\u001b[0;34m\u001b[0m\u001b[0;34m\u001b[0m\u001b[0m\n",
      "\u001b[0;32m/usr/lib/python3/dist-packages/requests/models.py\u001b[0m in \u001b[0;36mraise_for_status\u001b[0;34m(self)\u001b[0m\n\u001b[1;32m    934\u001b[0m         \u001b[0;32mif\u001b[0m \u001b[0mhttp_error_msg\u001b[0m\u001b[0;34m:\u001b[0m\u001b[0;34m\u001b[0m\u001b[0;34m\u001b[0m\u001b[0m\n\u001b[0;32m--> 935\u001b[0;31m             \u001b[0;32mraise\u001b[0m \u001b[0mHTTPError\u001b[0m\u001b[0;34m(\u001b[0m\u001b[0mhttp_error_msg\u001b[0m\u001b[0;34m,\u001b[0m \u001b[0mresponse\u001b[0m\u001b[0;34m=\u001b[0m\u001b[0mself\u001b[0m\u001b[0;34m)\u001b[0m\u001b[0;34m\u001b[0m\u001b[0;34m\u001b[0m\u001b[0m\n\u001b[0m\u001b[1;32m    936\u001b[0m \u001b[0;34m\u001b[0m\u001b[0m\n",
      "\u001b[0;31mHTTPError\u001b[0m: 503 Server Error: Service Unavailable for url: https://wsdptrial.cuzk.cz/trial/ws/wsdp/2.9/sestavy",
      "\nDuring handling of the above exception, another exception occurred:\n",
      "\u001b[0;31mWSDPRequestError\u001b[0m                          Traceback (most recent call last)",
      "\u001b[0;32m<ipython-input-3-f2071ba4c917>\u001b[0m in \u001b[0;36m<module>\u001b[0;34m\u001b[0m\n\u001b[0;32m----> 1\u001b[0;31m \u001b[0msestava\u001b[0m \u001b[0;34m=\u001b[0m \u001b[0mgenerujCenoveUdajeDleKu\u001b[0m\u001b[0;34m.\u001b[0m\u001b[0mvytvor_sestavu\u001b[0m\u001b[0;34m(\u001b[0m\u001b[0;34m)\u001b[0m\u001b[0;34m\u001b[0m\u001b[0;34m\u001b[0m\u001b[0m\n\u001b[0m\u001b[1;32m      2\u001b[0m \u001b[0mprint\u001b[0m\u001b[0;34m(\u001b[0m\u001b[0msestava\u001b[0m\u001b[0;34m)\u001b[0m\u001b[0;34m\u001b[0m\u001b[0;34m\u001b[0m\u001b[0m\n",
      "\u001b[0;32m~/pywsdp/pywsdp/modules/GenerujCenoveUdajeDleKu/__init__.py\u001b[0m in \u001b[0;36mvytvor_sestavu\u001b[0;34m(self)\u001b[0m\n\u001b[1;32m    144\u001b[0m          'format': ''}\n\u001b[1;32m    145\u001b[0m         \"\"\"\n\u001b[0;32m--> 146\u001b[0;31m         \u001b[0;32mreturn\u001b[0m \u001b[0mself\u001b[0m\u001b[0;34m.\u001b[0m\u001b[0mcen_udaje\u001b[0m\u001b[0;34m.\u001b[0m\u001b[0m_process\u001b[0m\u001b[0;34m(\u001b[0m\u001b[0;34m)\u001b[0m\u001b[0;34m\u001b[0m\u001b[0;34m\u001b[0m\u001b[0m\n\u001b[0m\u001b[1;32m    147\u001b[0m \u001b[0;34m\u001b[0m\u001b[0m\n\u001b[1;32m    148\u001b[0m     \u001b[0;32mdef\u001b[0m \u001b[0mvypis_info_o_sestave\u001b[0m\u001b[0;34m(\u001b[0m\u001b[0mself\u001b[0m\u001b[0;34m,\u001b[0m \u001b[0msestava\u001b[0m\u001b[0;34m)\u001b[0m\u001b[0;34m:\u001b[0m\u001b[0;34m\u001b[0m\u001b[0;34m\u001b[0m\u001b[0m\n",
      "\u001b[0;32m~/pywsdp/pywsdp/base/__init__.py\u001b[0m in \u001b[0;36m_process\u001b[0;34m(self)\u001b[0m\n\u001b[1;32m    223\u001b[0m         \u001b[0;34m\"\"\"Main wrapping method\"\"\"\u001b[0m\u001b[0;34m\u001b[0m\u001b[0;34m\u001b[0m\u001b[0m\n\u001b[1;32m    224\u001b[0m         \u001b[0mxml\u001b[0m \u001b[0;34m=\u001b[0m \u001b[0mself\u001b[0m\u001b[0;34m.\u001b[0m\u001b[0m_renderXML\u001b[0m\u001b[0;34m(\u001b[0m\u001b[0mparameters\u001b[0m\u001b[0;34m=\u001b[0m\u001b[0mself\u001b[0m\u001b[0;34m.\u001b[0m\u001b[0mxml_attrs\u001b[0m\u001b[0;34m)\u001b[0m\u001b[0;34m\u001b[0m\u001b[0;34m\u001b[0m\u001b[0m\n\u001b[0;32m--> 225\u001b[0;31m         \u001b[0mresponse_xml\u001b[0m \u001b[0;34m=\u001b[0m \u001b[0mself\u001b[0m\u001b[0;34m.\u001b[0m\u001b[0m_call_service\u001b[0m\u001b[0;34m(\u001b[0m\u001b[0mxml\u001b[0m\u001b[0;34m)\u001b[0m\u001b[0;34m\u001b[0m\u001b[0;34m\u001b[0m\u001b[0m\n\u001b[0m\u001b[1;32m    226\u001b[0m         \u001b[0;32mreturn\u001b[0m \u001b[0mself\u001b[0m\u001b[0;34m.\u001b[0m\u001b[0m_parseXML\u001b[0m\u001b[0;34m(\u001b[0m\u001b[0mresponse_xml\u001b[0m\u001b[0;34m)\u001b[0m\u001b[0;34m\u001b[0m\u001b[0;34m\u001b[0m\u001b[0m\n",
      "\u001b[0;32m~/pywsdp/pywsdp/base/__init__.py\u001b[0m in \u001b[0;36m_call_service\u001b[0;34m(self, xml)\u001b[0m\n\u001b[1;32m    211\u001b[0m             \u001b[0;31m#    self.logger.debug(response_xml)\u001b[0m\u001b[0;34m\u001b[0m\u001b[0;34m\u001b[0m\u001b[0;34m\u001b[0m\u001b[0m\n\u001b[1;32m    212\u001b[0m         \u001b[0;32mexcept\u001b[0m \u001b[0mrequests\u001b[0m\u001b[0;34m.\u001b[0m\u001b[0mexceptions\u001b[0m\u001b[0;34m.\u001b[0m\u001b[0mRequestException\u001b[0m \u001b[0;32mas\u001b[0m \u001b[0me\u001b[0m\u001b[0;34m:\u001b[0m\u001b[0;34m\u001b[0m\u001b[0;34m\u001b[0m\u001b[0m\n\u001b[0;32m--> 213\u001b[0;31m             \u001b[0;32mraise\u001b[0m \u001b[0mWSDPRequestError\u001b[0m\u001b[0;34m(\u001b[0m\u001b[0mself\u001b[0m\u001b[0;34m.\u001b[0m\u001b[0mlogger\u001b[0m\u001b[0;34m,\u001b[0m \u001b[0me\u001b[0m\u001b[0;34m)\u001b[0m\u001b[0;34m\u001b[0m\u001b[0;34m\u001b[0m\u001b[0m\n\u001b[0m\u001b[1;32m    214\u001b[0m         \u001b[0mresponse_xml\u001b[0m \u001b[0;34m=\u001b[0m \u001b[0mr\u001b[0m\u001b[0;34m.\u001b[0m\u001b[0mtext\u001b[0m\u001b[0;34m\u001b[0m\u001b[0;34m\u001b[0m\u001b[0m\n\u001b[1;32m    215\u001b[0m         \u001b[0;32mreturn\u001b[0m \u001b[0mresponse_xml\u001b[0m\u001b[0;34m\u001b[0m\u001b[0;34m\u001b[0m\u001b[0m\n",
      "\u001b[0;31mWSDPRequestError\u001b[0m: (<WSDPLogger GenerujCenoveUdajeDleKu (DEBUG)>, HTTPError('503 Server Error: Service Unavailable for url: https://wsdptrial.cuzk.cz/trial/ws/wsdp/2.9/sestavy',))"
     ]
    }
   ],
   "source": [
    "sestava = generujCenoveUdajeDleKu.vytvor_sestavu()\n",
    "print(sestava)"
   ]
  },
  {
   "cell_type": "markdown",
   "id": "dimensional-cream",
   "metadata": {},
   "source": [
    "Nechame si vypsat informace o vytvorene sestave:\n"
   ]
  },
  {
   "cell_type": "code",
   "execution_count": null,
   "id": "resident-premises",
   "metadata": {
    "scrolled": true
   },
   "outputs": [],
   "source": [
    "sestava_info = generujCenoveUdajeDleKu.vypis_info_o_sestave(sestava)\n",
    "print(sestava_info)"
   ]
  },
  {
   "cell_type": "markdown",
   "id": "driven-aaron",
   "metadata": {},
   "source": [
    "Pokud jsme spokojeni, nechame si sestavu zauctovat."
   ]
  },
  {
   "cell_type": "code",
   "execution_count": null,
   "id": "present-baker",
   "metadata": {},
   "outputs": [],
   "source": [
    "zauctovana_sestava = generujCenoveUdajeDleKu.zauctuj_sestavu(sestava)\n",
    "print(zauctovana_sestava)"
   ]
  },
  {
   "cell_type": "markdown",
   "id": "applied-music",
   "metadata": {},
   "source": [
    "Ulozime soubor ze zauctovane sestavy do souboru na disku:"
   ]
  },
  {
   "cell_type": "code",
   "execution_count": null,
   "id": "appreciated-format",
   "metadata": {},
   "outputs": [],
   "source": [
    "output = generujCenoveUdajeDleKu.uloz_vystup(zauctovana_sestava, vystupni_adresar=\"/home/linwe/pywsdp/data/output\")\n",
    "print(output)"
   ]
  },
  {
   "cell_type": "markdown",
   "id": "suspended-possible",
   "metadata": {},
   "source": [
    "Sestavu smazeme:"
   ]
  },
  {
   "cell_type": "code",
   "execution_count": null,
   "id": "wound-aerospace",
   "metadata": {},
   "outputs": [],
   "source": [
    "smazani_sestavy = generujCenoveUdajeDleKu.vymaz_sestavu(sestava)\n",
    "print(smazani_sestavy)"
   ]
  }
 ],
 "metadata": {
  "kernelspec": {
   "display_name": "Python 3",
   "language": "python",
   "name": "python3"
  },
  "language_info": {
   "codemirror_mode": {
    "name": "ipython",
    "version": 3
   },
   "file_extension": ".py",
   "mimetype": "text/x-python",
   "name": "python",
   "nbconvert_exporter": "python",
   "pygments_lexer": "ipython3",
   "version": "3.6.9"
  }
 },
 "nbformat": 4,
 "nbformat_minor": 5
}
