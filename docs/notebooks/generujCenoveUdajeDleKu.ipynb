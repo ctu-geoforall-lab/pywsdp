{
 "cells": [
  {
   "cell_type": "markdown",
   "id": "instructional-favor",
   "metadata": {},
   "source": [
    "# Knihovna GenerujCenoveUdajeDleKu"
   ]
  },
  {
   "cell_type": "markdown",
   "id": "incorporated-employer",
   "metadata": {},
   "source": [
    "Knihovna generujCenoveUdajeDleKu slouzi k ziskani csv s cenovymi udaji na zaklade vstupniho katastralniho uzemi, roku, pro ktery budou poskytnuty udaje a na zaklade mesice od a do.\n",
    "\n",
    "Nejdrive naimportujeme knihovny:"
   ]
  },
  {
   "cell_type": "code",
   "execution_count": 1,
   "id": "fewer-right",
   "metadata": {},
   "outputs": [
    {
     "name": "stdout",
     "output_type": "stream",
     "text": [
      "/home/linwe/pywsdp\n"
     ]
    }
   ],
   "source": [
    "import os\n",
    "import sys\n",
    "\n",
    "# Modul je v jinem adresari, je tedy nutne tento adresar pridat do sys.path\n",
    "module_path = os.path.abspath(os.path.join('../../'))\n",
    "print(module_path)\n",
    "if module_path not in sys.path:\n",
    "   sys.path.append(module_path)\n",
    "\n",
    "from services.sestavy.generujCenoveUdajeDleKu import GenerujCenoveUdajeDleKu\n",
    "from services.sestavy.seznamSestav import SeznamSestav\n",
    "from services.sestavy.vratSestavu import VratSestavu\n",
    "from services.sestavy.smazSestavu import SmazSestavu"
   ]
  },
  {
   "cell_type": "markdown",
   "id": "tutorial-space",
   "metadata": {},
   "source": [
    "Pote nadefinujeme parametry nutne pro inicializaci knihovny:"
   ]
  },
  {
   "cell_type": "code",
   "execution_count": 2,
   "id": "based-russian",
   "metadata": {},
   "outputs": [
    {
     "name": "stdout",
     "output_type": "stream",
     "text": [
      "/home/linwe/pywsdp/services/sestavy/generujCenoveUdajeDleKu/data/output/output.csv\n",
      "/home/linwe/pywsdp/services/sestavy/generujCenoveUdajeDleKu/data/input/parameters.txt\n"
     ]
    }
   ],
   "source": [
    "username = \"WSTEST\"\n",
    "password = \"WSHESLO\"\n",
    "output_csv = os.path.join(module_path, 'services', 'sestavy', 'generujCenoveUdajeDleKu', 'data', 'output', 'output.csv')\n",
    "input_txt = os.path.join(module_path, 'services', 'sestavy', 'generujCenoveUdajeDleKu', 'data', 'input', 'parameters.txt')\n",
    "print(output_csv)\n",
    "print(input_txt)"
   ]
  },
  {
   "cell_type": "markdown",
   "id": "dimensional-cream",
   "metadata": {},
   "source": [
    "Zavolame knihovnu a naplnime VFK databazi osobnimi udaji:\n"
   ]
  },
  {
   "cell_type": "code",
   "execution_count": 3,
   "id": "resident-premises",
   "metadata": {
    "scrolled": true
   },
   "outputs": [],
   "source": [
    "generujCenUdaje = GenerujCenoveUdajeDleKu(username=username,\n",
    "             password=password,\n",
    "             csv_path=output_csv)\n",
    "parameters = generujCenUdaje.get_parameters_from_txt(input_txt)"
   ]
  },
  {
   "cell_type": "markdown",
   "id": "driven-aaron",
   "metadata": {},
   "source": [
    "Nad seznamem zavolame metodu .process, ktera k zadanym identifikatorum aktualizuje v tabulce osobni udaje:"
   ]
  },
  {
   "cell_type": "code",
   "execution_count": 4,
   "id": "present-baker",
   "metadata": {},
   "outputs": [
    {
     "name": "stderr",
     "output_type": "stream",
     "text": [
      "generujCenoveUdajeDleKu - INFO     - Požadovaná akce byla úspěšně provedena.\n",
      "generujCenoveUdajeDleKu - INFO     - ID sestavy: 146389547011\n",
      "generujCenoveUdajeDleKu - INFO     - Nazev sestavy: Cenové údaje podle katastrálního území\n",
      "generujCenoveUdajeDleKu - INFO     - Datum pozadavku: 2021-11-04T09:24:06\n",
      "generujCenoveUdajeDleKu - INFO     - Datum spusteni: 2021-11-04T09:24:06\n",
      "generujCenoveUdajeDleKu - INFO     - Stav sestavy: čeká\n",
      "generujCenoveUdajeDleKu - INFO     - Format sestavy: zip\n"
     ]
    }
   ],
   "source": [
    "cenove_udaje_dict = generujCenUdaje.process(parameters)"
   ]
  },
  {
   "cell_type": "code",
   "execution_count": 5,
   "id": "wound-aerospace",
   "metadata": {},
   "outputs": [
    {
     "name": "stdout",
     "output_type": "stream",
     "text": [
      "['<v2:idSestavy>146389547011</v2:idSestavy>', '<v2:nazev>Cenové údaje podle katastrálního území</v2:nazev>', '<v2:datumPozadavku>2021-11-04T09:24:06</v2:datumPozadavku>', '<v2:datumSpusteni>2021-11-04T09:24:06</v2:datumSpusteni>', '<v2:stav>čeká</v2:stav>', '<v2:format>zip</v2:format>']\n",
      "['<v2:idSestavy>146389547011</v2:idSestavy>']\n"
     ]
    }
   ],
   "source": [
    "seznamSestav = SeznamSestav(username=username,\n",
    "             password=password,\n",
    "             csv_path=output_csv)\n",
    "parameters = seznamSestav.get_parameters_from_dict(cenove_udaje_dict)\n",
    "print(parameters)\n",
    "id_sestavy = seznamSestav.get_parameters_from_dict(cenove_udaje_dict, \"idSestavy\")\n",
    "print(id_sestavy)"
   ]
  },
  {
   "cell_type": "code",
   "execution_count": 6,
   "id": "appreciated-format",
   "metadata": {},
   "outputs": [
    {
     "name": "stderr",
     "output_type": "stream",
     "text": [
      "seznamSestav - INFO     - Požadovaná akce byla úspěšně provedena.\n",
      "seznamSestav - INFO     - ID sestavy: 146389547011\n",
      "seznamSestav - INFO     - Nazev sestavy: Cenové údaje podle katastrálního území\n",
      "seznamSestav - INFO     - Pocet jednotek: 3\n",
      "seznamSestav - INFO     - Pocet stran: 3\n",
      "seznamSestav - INFO     - Cena: 15\n",
      "seznamSestav - INFO     - Datum pozadavku: 2021-11-04T09:24:06\n",
      "seznamSestav - INFO     - Datum spusteni: 2021-11-04T09:24:06\n",
      "seznamSestav - INFO     - Datum vytvoreni: 2021-11-04T09:24:06\n",
      "seznamSestav - INFO     - Stav sestavy: zpracován\n",
      "seznamSestav - INFO     - Format sestavy: zip\n",
      "seznamSestav - INFO     - Elektronicka znacka: n\n"
     ]
    },
    {
     "name": "stdout",
     "output_type": "stream",
     "text": [
      "<?xml version='1.0' encoding='UTF-8'?><S:Envelope xmlns:env=\"http://schemas.xmlsoap.org/soap/envelope/\" xmlns:S=\"http://schemas.xmlsoap.org/soap/envelope/\"><env:Header/><S:Body><ns0:GenerujSestavuResponse xmlns:ns0=\"http://katastr.cuzk.cz/sestavy/types/v2.9\" xmlns:ns1=\"http://katastr.cuzk.cz/commonTypes/v2.9\"><ns0:vysledek><ns1:zprava kod=\"0\" uroven=\"INFORMACE\">Požadovaná akce byla úspěšně provedena.</ns1:zprava></ns0:vysledek><ns0:reportList><ns0:report><ns0:id>146389547011</ns0:id><ns0:nazev>Cenové údaje podle katastrálního území</ns0:nazev><ns0:pocetJednotek>3</ns0:pocetJednotek><ns0:pocetStran>3</ns0:pocetStran><ns0:cena>15</ns0:cena><ns0:datumPozadavku>2021-11-04T09:24:06</ns0:datumPozadavku><ns0:datumSpusteni>2021-11-04T09:24:06</ns0:datumSpusteni><ns0:datumVytvoreni>2021-11-04T09:24:06</ns0:datumVytvoreni><ns0:stav>zpracován</ns0:stav><ns0:format>zip</ns0:format><ns0:elZnacka>n</ns0:elZnacka></ns0:report></ns0:reportList></ns0:GenerujSestavuResponse></S:Body></S:Envelope>\n"
     ]
    },
    {
     "data": {
      "text/plain": [
       "{'idSestavy': '146389547011',\n",
       " 'nazev': 'Cenové údaje podle katastrálního území',\n",
       " 'pocetJednotek': '3',\n",
       " 'pocetStran': '3',\n",
       " 'cena': '15',\n",
       " 'datumPozadavku': '2021-11-04T09:24:06',\n",
       " 'datumSpusteni': '2021-11-04T09:24:06',\n",
       " 'datumVytvoreni': '2021-11-04T09:24:06',\n",
       " 'stav': 'zpracován',\n",
       " 'format': 'zip',\n",
       " 'elZnacka': 'n'}"
      ]
     },
     "execution_count": 6,
     "metadata": {},
     "output_type": "execute_result"
    }
   ],
   "source": [
    "seznamSestav.process(id_sestavy)"
   ]
  },
  {
   "cell_type": "code",
   "execution_count": 7,
   "id": "speaking-reduction",
   "metadata": {},
   "outputs": [
    {
     "name": "stderr",
     "output_type": "stream",
     "text": [
      "vratSestavu  - INFO     - Požadovaná akce byla úspěšně provedena.\n",
      "vratSestavu  - INFO     - ID sestavy: 146389547011\n",
      "vratSestavu  - INFO     - Nazev sestavy: Cenové údaje podle katastrálního území\n",
      "vratSestavu  - INFO     - Pocet jednotek: 3\n",
      "vratSestavu  - INFO     - Pocet stran: 3\n",
      "vratSestavu  - INFO     - Cena: 15\n",
      "vratSestavu  - INFO     - Datum pozadavku: 2021-11-04T09:24:06\n",
      "vratSestavu  - INFO     - Datum spusteni: 2021-11-04T09:24:06\n",
      "vratSestavu  - INFO     - Datum vytvoreni: 2021-11-04T09:24:06\n",
      "vratSestavu  - INFO     - Stav sestavy: zaúčtován\n",
      "vratSestavu  - INFO     - Format sestavy: zip\n",
      "vratSestavu  - INFO     - Elektronicka znacka: n\n"
     ]
    }
   ],
   "source": [
    "vratSestavu = VratSestavu(username=username,\n",
    "             password=password,\n",
    "             csv_path=output_csv)\n",
    "vrat_sestavu_dict = vratSestavu.process(id_sestavy)\n",
    "souborSestavy = vrat_sestavu_dict[\"souborSestavy\"]\n",
    "formatSestavy = vrat_sestavu_dict[\"format\"]\n"
   ]
  },
  {
   "cell_type": "code",
   "execution_count": 8,
   "id": "complex-yeast",
   "metadata": {},
   "outputs": [
    {
     "name": "stdout",
     "output_type": "stream",
     "text": [
      "/home/linwe/pywsdp/services/sestavy/vratSestavu/data/output\n"
     ]
    }
   ],
   "source": [
    "vratSestavu.encode_base64(souborSestavy, formatSestavy)"
   ]
  },
  {
   "cell_type": "code",
   "execution_count": 9,
   "id": "undefined-assist",
   "metadata": {},
   "outputs": [],
   "source": [
    "smazSestavu = SmazSestavu(username=username,\n",
    "             password=password,\n",
    "             csv_path=output_csv)\n",
    "smazSestavu.process(id_sestavy)"
   ]
  }
 ],
 "metadata": {
  "kernelspec": {
   "display_name": "Python 3",
   "language": "python",
   "name": "python3"
  },
  "language_info": {
   "codemirror_mode": {
    "name": "ipython",
    "version": 3
   },
   "file_extension": ".py",
   "mimetype": "text/x-python",
   "name": "python",
   "nbconvert_exporter": "python",
   "pygments_lexer": "ipython3",
   "version": "3.6.9"
  }
 },
 "nbformat": 4,
 "nbformat_minor": 5
}
