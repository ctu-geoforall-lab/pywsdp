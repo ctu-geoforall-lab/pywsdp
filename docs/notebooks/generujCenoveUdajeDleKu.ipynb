{
 "cells": [
  {
   "cell_type": "markdown",
   "id": "instructional-favor",
   "metadata": {},
   "source": [
    "# Knihovna GenerujCenoveUdajeDleKu"
   ]
  },
  {
   "cell_type": "markdown",
   "id": "incorporated-employer",
   "metadata": {},
   "source": [
    "Knihovna generujCenoveUdajeDleKu slouzi k ziskani csv s cenovymi udaji na zaklade vstupniho katastralniho uzemi, roku, pro ktery budou poskytnuty udaje a na zaklade mesice od a do.\n",
    "\n",
    "Nejdrive naimportujeme knihovny:"
   ]
  },
  {
   "cell_type": "code",
   "execution_count": 1,
   "id": "fewer-right",
   "metadata": {},
   "outputs": [
    {
     "name": "stdout",
     "output_type": "stream",
     "text": [
      "/home/linwe/pywsdp\n"
     ]
    }
   ],
   "source": [
    "import os\n",
    "import sys\n",
    "\n",
    "# Modul je v jinem adresari, je tedy nutne tento adresar pridat do sys.path\n",
    "module_path = os.path.abspath(os.path.join('../../'))\n",
    "print(module_path)\n",
    "if module_path not in sys.path:\n",
    "   sys.path.append(module_path)\n",
    "\n",
    "from pywsdp.modules import GenerujCenoveUdajeDleKu"
   ]
  },
  {
   "cell_type": "markdown",
   "id": "tutorial-space",
   "metadata": {},
   "source": [
    "Pote nadefinujeme parametry nutne pro inicializaci knihovny:"
   ]
  },
  {
   "cell_type": "code",
   "execution_count": 2,
   "id": "based-russian",
   "metadata": {},
   "outputs": [
    {
     "name": "stdout",
     "output_type": "stream",
     "text": [
      "sestavy->generujCenoveUdajeDleKu\n",
      "/home/linwe/pywsdp/pywsdp/modules/GenerujCenoveUdajeDleKu/logs\n",
      "{'katastrUzemiKod': '732630', 'rok': '2020', 'mesicOd': '9', 'mesicDo': '12', 'format': 'zip'}\n",
      "<v2:katastrUzemiKod>732630</v2:katastrUzemiKod><v2:rok>2020</v2:rok><v2:mesicOd>9</v2:mesicOd><v2:mesicDo>12</v2:mesicDo><v2:format>zip</v2:format>\n",
      "/home/linwe/pywsdp/pywsdp/services\n",
      "/home/linwe/pywsdp/pywsdp/services/sestavy/generujCenoveUdajeDleKu\n",
      "generujCenoveUdajeDleKu\n",
      "sestavy\n",
      "/home/linwe/pywsdp/pywsdp/services/sestavy/generujCenoveUdajeDleKu/config/settings.ini\n",
      "/home/linwe/pywsdp/pywsdp/services/sestavy/generujCenoveUdajeDleKu/config/generujCenoveUdajeDleKu.xml\n",
      "{'content_type': 'text/xml;charset=UTF-8', 'accept_encoding': 'gzip,deflate', 'soap_action': 'http://katastr.cuzk.cz/sestavy//generujCenoveUdajeDleKu', 'connection': 'Keep-Alive', 'endpoint': 'https://wsdptrial.cuzk.cz/trial/ws/wsdp/2.9/sestavy'}\n"
     ]
    }
   ],
   "source": [
    "\n",
    "generujCenoveUdajeDleKu = GenerujCenoveUdajeDleKu()\n",
    "\n",
    "parametry_dict = {'katastrUzemiKod': '732630', 'rok': '2020', 'mesicOd': '9', 'mesicDo': '12', 'format': 'zip'}\n",
    "\n",
    "generujCenoveUdajeDleKu.nacti_parametry_ze_slovniku(parametry_dict)\n",
    "\n",
    "print(generujCenoveUdajeDleKu.cen_udaje)\n",
    "print(generujCenoveUdajeDleKu.log_adresar)\n",
    "print(generujCenoveUdajeDleKu.cen_udaje.args)\n",
    "print(generujCenoveUdajeDleKu.cen_udaje.xml_attrs)\n",
    "print(generujCenoveUdajeDleKu.cen_udaje.services_dir)\n",
    "print(generujCenoveUdajeDleKu.cen_udaje.service_dir)\n",
    "print(generujCenoveUdajeDleKu.cen_udaje.service_name)\n",
    "print(generujCenoveUdajeDleKu.cen_udaje.service_group)\n",
    "print(generujCenoveUdajeDleKu.cen_udaje.config_path)\n",
    "print(generujCenoveUdajeDleKu.cen_udaje.template_path)\n",
    "print(generujCenoveUdajeDleKu.cen_udaje.service_headers)"
   ]
  },
  {
   "cell_type": "markdown",
   "id": "worthy-asian",
   "metadata": {},
   "source": [
    "Vytvorime sestavu:"
   ]
  },
  {
   "cell_type": "code",
   "execution_count": 3,
   "id": "attempted-commodity",
   "metadata": {},
   "outputs": [
    {
     "name": "stderr",
     "output_type": "stream",
     "text": [
      "GenerujCenoveUdajeDleKu - INFO     - Požadovaná akce byla úspěšně provedena.\n",
      "GenerujCenoveUdajeDleKu - INFO     - ID sestavy: 146250512011\n",
      "GenerujCenoveUdajeDleKu - INFO     - Nazev sestavy: Cenové údaje podle katastrálního území\n",
      "GenerujCenoveUdajeDleKu - INFO     - Datum pozadavku: 2022-01-27T10:33:01\n",
      "GenerujCenoveUdajeDleKu - INFO     - Datum spusteni: 2022-01-27T10:33:01\n",
      "GenerujCenoveUdajeDleKu - INFO     - Stav sestavy: čeká\n",
      "GenerujCenoveUdajeDleKu - INFO     - Format sestavy: zip\n"
     ]
    },
    {
     "name": "stdout",
     "output_type": "stream",
     "text": [
      "{'zprava': 'Požadovaná akce byla úspěšně provedena.', 'idSestavy': '146250512011', 'nazev': 'Cenové údaje podle katastrálního území', 'datumPozadavku': '2022-01-27T10:33:01', 'datumSpusteni': '2022-01-27T10:33:01', 'stav': 'čeká', 'format': 'zip'}\n"
     ]
    }
   ],
   "source": [
    "sestava = generujCenoveUdajeDleKu.vytvor_sestavu()\n",
    "print(sestava)"
   ]
  },
  {
   "cell_type": "markdown",
   "id": "dimensional-cream",
   "metadata": {},
   "source": [
    "Nechame si vypsat informace o vytvorene sestave:\n"
   ]
  },
  {
   "cell_type": "code",
   "execution_count": 4,
   "id": "resident-premises",
   "metadata": {
    "scrolled": true
   },
   "outputs": [
    {
     "name": "stderr",
     "output_type": "stream",
     "text": [
      "GenerujCenoveUdajeDleKu - INFO     - Požadovaná akce byla úspěšně provedena.\n",
      "GenerujCenoveUdajeDleKu - INFO     - ID sestavy: 146250512011\n",
      "GenerujCenoveUdajeDleKu - INFO     - Nazev sestavy: Cenové údaje podle katastrálního území\n",
      "GenerujCenoveUdajeDleKu - INFO     - Pocet jednotek: 3\n",
      "GenerujCenoveUdajeDleKu - INFO     - Pocet stran: 3\n",
      "GenerujCenoveUdajeDleKu - INFO     - Cena: 15\n",
      "GenerujCenoveUdajeDleKu - INFO     - Datum pozadavku: 2022-01-27T10:33:01\n",
      "GenerujCenoveUdajeDleKu - INFO     - Datum spusteni: 2022-01-27T10:33:01\n",
      "GenerujCenoveUdajeDleKu - INFO     - Datum vytvoreni: 2022-01-27T10:33:01\n",
      "GenerujCenoveUdajeDleKu - INFO     - Stav sestavy: zpracován\n",
      "GenerujCenoveUdajeDleKu - INFO     - Format sestavy: zip\n",
      "GenerujCenoveUdajeDleKu - INFO     - Elektronicka znacka: n\n"
     ]
    },
    {
     "name": "stdout",
     "output_type": "stream",
     "text": [
      "{'zprava': 'Požadovaná akce byla úspěšně provedena.', 'idSestavy': '146250512011', 'nazev': 'Cenové údaje podle katastrálního území', 'pocetJednotek': '3', 'pocetStran': '3', 'cena': '15', 'datumPozadavku': '2022-01-27T10:33:01', 'datumSpusteni': '2022-01-27T10:33:01', 'datumVytvoreni': '2022-01-27T10:33:01', 'stav': 'zpracován', 'format': 'zip', 'elZnacka': 'n'}\n"
     ]
    }
   ],
   "source": [
    "sestava_info = generujCenoveUdajeDleKu.vypis_info_o_sestave(sestava)\n",
    "print(sestava_info)"
   ]
  },
  {
   "cell_type": "markdown",
   "id": "driven-aaron",
   "metadata": {},
   "source": [
    "Pokud jsme spokojeni, nechame si sestavu zauctovat."
   ]
  },
  {
   "cell_type": "code",
   "execution_count": 5,
   "id": "present-baker",
   "metadata": {},
   "outputs": [
    {
     "name": "stderr",
     "output_type": "stream",
     "text": [
      "GenerujCenoveUdajeDleKu - INFO     - Požadovaná akce byla úspěšně provedena.\n",
      "GenerujCenoveUdajeDleKu - INFO     - ID sestavy: 146250512011\n",
      "GenerujCenoveUdajeDleKu - INFO     - Nazev sestavy: Cenové údaje podle katastrálního území\n",
      "GenerujCenoveUdajeDleKu - INFO     - Pocet jednotek: 3\n",
      "GenerujCenoveUdajeDleKu - INFO     - Pocet stran: 3\n",
      "GenerujCenoveUdajeDleKu - INFO     - Cena: 15\n",
      "GenerujCenoveUdajeDleKu - INFO     - Datum pozadavku: 2022-01-27T10:33:01\n",
      "GenerujCenoveUdajeDleKu - INFO     - Datum spusteni: 2022-01-27T10:33:01\n",
      "GenerujCenoveUdajeDleKu - INFO     - Datum vytvoreni: 2022-01-27T10:33:01\n",
      "GenerujCenoveUdajeDleKu - INFO     - Stav sestavy: zaúčtován\n",
      "GenerujCenoveUdajeDleKu - INFO     - Format sestavy: zip\n",
      "GenerujCenoveUdajeDleKu - INFO     - Elektronicka znacka: n\n"
     ]
    },
    {
     "name": "stdout",
     "output_type": "stream",
     "text": [
      "{'zprava': 'Požadovaná akce byla úspěšně provedena.', 'idSestavy': '146250512011', 'nazev': 'Cenové údaje podle katastrálního území', 'pocetJednotek': '3', 'pocetStran': '3', 'cena': '15', 'datumPozadavku': '2022-01-27T10:33:01', 'datumSpusteni': '2022-01-27T10:33:01', 'datumVytvoreni': '2022-01-27T10:33:01', 'stav': 'zaúčtován', 'format': 'zip', 'elZnacka': 'n', 'souborSestavy': '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'}\n"
     ]
    }
   ],
   "source": [
    "zauctovana_sestava = generujCenoveUdajeDleKu.zauctuj_sestavu(sestava)\n",
    "print(zauctovana_sestava)"
   ]
  },
  {
   "cell_type": "markdown",
   "id": "applied-music",
   "metadata": {},
   "source": [
    "Ulozime soubor ze zauctovane sestavy do souboru na disku:"
   ]
  },
  {
   "cell_type": "code",
   "execution_count": 6,
   "id": "appreciated-format",
   "metadata": {},
   "outputs": [
    {
     "name": "stderr",
     "output_type": "stream",
     "text": [
      "GenerujCenoveUdajeDleKu - INFO     - Vystupni soubor je k dispozici zde: /home/linwe/pywsdp/data/output/cen_udaje_03_25_54_27_01_2022.zip\n"
     ]
    },
    {
     "name": "stdout",
     "output_type": "stream",
     "text": [
      "/home/linwe/pywsdp/data/output/cen_udaje_03_25_54_27_01_2022.zip\n"
     ]
    }
   ],
   "source": [
    "output = generujCenoveUdajeDleKu.uloz_vystup(zauctovana_sestava, vystupni_adresar=\"/home/linwe/pywsdp/data/output\")\n",
    "print(output)"
   ]
  },
  {
   "cell_type": "markdown",
   "id": "suspended-possible",
   "metadata": {},
   "source": [
    "Sestavu smazeme:"
   ]
  },
  {
   "cell_type": "code",
   "execution_count": 7,
   "id": "wound-aerospace",
   "metadata": {},
   "outputs": [
    {
     "name": "stderr",
     "output_type": "stream",
     "text": [
      "GenerujCenoveUdajeDleKu - INFO     - Požadovaná akce byla úspěšně provedena.\n"
     ]
    },
    {
     "name": "stdout",
     "output_type": "stream",
     "text": [
      "{'zprava': 'Požadovaná akce byla úspěšně provedena.'}\n"
     ]
    }
   ],
   "source": [
    "smazani_sestavy = generujCenoveUdajeDleKu.vymaz_sestavu(sestava)\n",
    "print(smazani_sestavy)"
   ]
  }
 ],
 "metadata": {
  "kernelspec": {
   "display_name": "Python 3",
   "language": "python",
   "name": "python3"
  },
  "language_info": {
   "codemirror_mode": {
    "name": "ipython",
    "version": 3
   },
   "file_extension": ".py",
   "mimetype": "text/x-python",
   "name": "python",
   "nbconvert_exporter": "python",
   "pygments_lexer": "ipython3",
   "version": "3.6.9"
  }
 },
 "nbformat": 4,
 "nbformat_minor": 5
}
