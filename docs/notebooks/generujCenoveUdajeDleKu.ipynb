{
 "cells": [
  {
   "cell_type": "markdown",
   "id": "instructional-favor",
   "metadata": {},
   "source": [
    "# Knihovna GenerujCenoveUdajeDleKu"
   ]
  },
  {
   "cell_type": "markdown",
   "id": "incorporated-employer",
   "metadata": {},
   "source": [
    "Knihovna generujCenoveUdajeDleKu slouzi k ziskani csv s cenovymi udaji na zaklade vstupniho katastralniho uzemi, roku, pro ktery budou poskytnuty udaje a na zaklade mesice od a do.\n",
    "\n",
    "Nejdrive naimportujeme knihovny:"
   ]
  },
  {
   "cell_type": "code",
   "execution_count": null,
   "id": "fewer-right",
   "metadata": {},
   "outputs": [],
   "source": [
    "import os\n",
    "import sys\n",
    "\n",
    "# Modul je v jinem adresari, je tedy nutne tento adresar pridat do sys.path\n",
    "module_path = os.path.abspath(os.path.join('../../'))\n",
    "print(module_path)\n",
    "if module_path not in sys.path:\n",
    "   sys.path.append(module_path)\n",
    "\n",
    "from base.factory import generujCenoveUdajeDleKuFacade\n",
    "\n",
    "#from services.sestavy.generujCenoveUdajeDleKu import GenerujCenoveUdajeDleKu"
   ]
  },
  {
   "cell_type": "markdown",
   "id": "tutorial-space",
   "metadata": {},
   "source": [
    "Pote nadefinujeme parametry nutne pro inicializaci knihovny:"
   ]
  },
  {
   "cell_type": "code",
   "execution_count": null,
   "id": "based-russian",
   "metadata": {},
   "outputs": [],
   "source": [
    "dictionary = {'generujCenoveUdajeDleKu': {'katastrUzemiKod': '732630', 'rok': '2020', 'mesicOd': '9', 'mesicDo': '12', 'format': 'zip'},\n",
    "              }\n",
    "\n",
    "generujCenoveUdajeDleKuFacade.get_parameters_from_dict(dictionary)\n",
    "\n",
    "print(generujCenoveUdajeDleKuFacade.cen_udaje)\n",
    "print(generujCenoveUdajeDleKuFacade.cen_udaje.parameters)\n",
    "print(generujCenoveUdajeDleKuFacade.cen_udaje.xml_attrs)\n",
    "print(generujCenoveUdajeDleKuFacade.cen_udaje.credentials)\n",
    "print(generujCenoveUdajeDleKuFacade.cen_udaje.log_dir)\n",
    "print(generujCenoveUdajeDleKuFacade.cen_udaje.modules_dir)\n",
    "print(generujCenoveUdajeDleKuFacade.cen_udaje.service_dir)\n",
    "print(generujCenoveUdajeDleKuFacade.cen_udaje.service_name)\n",
    "print(generujCenoveUdajeDleKuFacade.cen_udaje.service_group)\n",
    "print(generujCenoveUdajeDleKuFacade.cen_udaje.config_path)\n",
    "print(generujCenoveUdajeDleKuFacade.cen_udaje.template_path)\n",
    "print(generujCenoveUdajeDleKuFacade.cen_udaje.service_headers)\n",
    "\n",
    "generujCenoveUdajeDleKuFacade.vytvorSestavu()"
   ]
  },
  {
   "cell_type": "markdown",
   "id": "dimensional-cream",
   "metadata": {},
   "source": [
    "Zavolame knihovnu a naplnime VFK databazi osobnimi udaji:\n"
   ]
  },
  {
   "cell_type": "code",
   "execution_count": null,
   "id": "resident-premises",
   "metadata": {
    "scrolled": true
   },
   "outputs": [],
   "source": [
    "generujCenoveUdajeDleKuFacade.vypisInfoOSestave()\n",
    "print(generujCenoveUdajeDleKuFacade.seznam_sestav)\n",
    "print(generujCenoveUdajeDleKuFacade.seznam_sestav.parameters)\n",
    "print(generujCenoveUdajeDleKuFacade.seznam_sestav.xml_attrs)\n",
    "print(generujCenoveUdajeDleKuFacade.seznam_sestav.credentials)\n",
    "print(generujCenoveUdajeDleKuFacade.seznam_sestav.log_dir)\n",
    "print(generujCenoveUdajeDleKuFacade.seznam_sestav.modules_dir)\n",
    "print(generujCenoveUdajeDleKuFacade.seznam_sestav.service_dir)\n",
    "print(generujCenoveUdajeDleKuFacade.seznam_sestav.service_name)\n",
    "print(generujCenoveUdajeDleKuFacade.seznam_sestav.service_group)\n",
    "print(generujCenoveUdajeDleKuFacade.seznam_sestav.config_path)\n",
    "print(generujCenoveUdajeDleKuFacade.seznam_sestav.template_path)\n",
    "print(generujCenoveUdajeDleKuFacade.seznam_sestav.service_headers)"
   ]
  },
  {
   "cell_type": "markdown",
   "id": "driven-aaron",
   "metadata": {},
   "source": [
    "Nad seznamem zavolame metodu .process, ktera k zadanym identifikatorum aktualizuje v tabulce osobni udaje:"
   ]
  },
  {
   "cell_type": "code",
   "execution_count": null,
   "id": "present-baker",
   "metadata": {},
   "outputs": [],
   "source": [
    "generujCenoveUdajeDleKuFacade.zauctujSestavu()"
   ]
  },
  {
   "cell_type": "code",
   "execution_count": null,
   "id": "wound-aerospace",
   "metadata": {},
   "outputs": [],
   "source": [
    "generujCenoveUdajeDleKuFacade.smazSestavu()"
   ]
  },
  {
   "cell_type": "code",
   "execution_count": null,
   "id": "appreciated-format",
   "metadata": {},
   "outputs": [],
   "source": [
    "generujCenoveUdajeDleKuFacade.write_output(output_dir=\"/home/linwe/pywsdp/data/output\")"
   ]
  }
 ],
 "metadata": {
  "kernelspec": {
   "display_name": "Python 3",
   "language": "python",
   "name": "python3"
  },
  "language_info": {
   "codemirror_mode": {
    "name": "ipython",
    "version": 3
   },
   "file_extension": ".py",
   "mimetype": "text/x-python",
   "name": "python",
   "nbconvert_exporter": "python",
   "pygments_lexer": "ipython3",
   "version": "3.6.9"
  }
 },
 "nbformat": 4,
 "nbformat_minor": 5
}
