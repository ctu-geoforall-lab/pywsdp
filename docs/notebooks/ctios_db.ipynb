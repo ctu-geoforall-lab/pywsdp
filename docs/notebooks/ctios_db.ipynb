{
 "cells": [
  {
   "cell_type": "markdown",
   "id": "instructional-favor",
   "metadata": {},
   "source": [
    "# Sluzba CtiOSGdal"
   ]
  },
  {
   "cell_type": "markdown",
   "id": "incorporated-employer",
   "metadata": {},
   "source": [
    "Nejdrive naimportujeme knihovny:"
   ]
  },
  {
   "cell_type": "code",
   "execution_count": 1,
   "id": "fewer-right",
   "metadata": {},
   "outputs": [],
   "source": [
    "import os\n",
    "import sys\n",
    "import sqlite3\n",
    "import tempfile\n",
    "from shutil import copyfile\n",
    "\n",
    "# Moduly jsou v jinem adresari, je tedy nutne tento adresar pridat do sys.path\n",
    "module_path = os.path.abspath(os.path.join('../../'))\n",
    "if module_path not in sys.path:\n",
    "   sys.path.append(module_path)\n",
    "\n",
    "from services.ctiOS.gdal import CtiOSGdal"
   ]
  },
  {
   "cell_type": "markdown",
   "id": "tutorial-space",
   "metadata": {},
   "source": [
    "Pote nadefinujeme parametry nutne pro inicializaci knihovny:"
   ]
  },
  {
   "cell_type": "code",
   "execution_count": 2,
   "id": "based-russian",
   "metadata": {},
   "outputs": [
    {
     "name": "stdout",
     "output_type": "stream",
     "text": [
      "/home/linwe/pywsdp/data/input/ctios_template.db\n"
     ]
    }
   ],
   "source": [
    "# pristupove testovaci udaje k sluzbam WSDP\n",
    "username = \"WSTEST\"\n",
    "password = \"WSHESLO\"\n",
    "# rozbaleny VFK soubor ve forme sqlite databaze\n",
    "db_path = os.path.join('../', module_path, 'data', 'input', 'ctios_template.db')\n",
    "print(db_path)"
   ]
  },
  {
   "cell_type": "markdown",
   "id": "quality-valve",
   "metadata": {},
   "source": [
    "### Zpracovani cele tabulky OPSUB"
   ]
  },
  {
   "cell_type": "markdown",
   "id": "excessive-circuit",
   "metadata": {},
   "source": [
    "Nejprve nas bude zajimat zpracovani cele tabulky OPSUB - tedy doplneni udaju ke vsem radkum v teto tabulce. V databazi jsou tyto udaje zatim nevyplnene:"
   ]
  },
  {
   "cell_type": "code",
   "execution_count": 3,
   "id": "resident-premises",
   "metadata": {
    "scrolled": true
   },
   "outputs": [
    {
     "name": "stdout",
     "output_type": "stream",
     "text": [
      "('64R47PeqD9SONivn8apY/lJWp7PMqXzY9utJl+M+BfUUirKmMZliVuxYKEtLpIva6glOyFHdvIofu9Hwu2HKl1m5M6qSyaHfCuQu6GdIy0E=', None, None, None, None, None, None, None, None, None, 'OPO', 3, 1, 1, None, None, None, None, None, None, None, None, None, None, None, None, None, None, None, None, None, None, None, None, None, None, None, 1)\n",
      "('cWAf13LtjvC9SIY05qIFaek9K/RpuqJao0AMXiHsDYFjM2eS251ouFycwesABoDs2wWu+kFTmYqxhJyeR7e+WrdGQBbrYHk4M21Ai3xMSF4=', None, None, None, None, None, None, None, None, None, 'OFO', 2, None, None, None, None, None, None, None, None, None, None, None, None, None, None, None, None, None, None, None, None, None, None, None, None, None, 2)\n",
      "('psGq9l14Woi29AYN5bHwdxU5WmX1vyRzVSJuucNo5e2D8193gu/to3VObZbd3vc0L+fDzX+X5nL42Wu8iePZgJhokFKOM8uNqezVZiQQ6P0=', None, None, None, None, None, None, None, None, None, 'OFO', 2, None, None, None, None, None, None, None, None, None, None, None, None, None, None, None, None, None, None, None, None, None, None, None, None, None, 3)\n",
      "('r/e02ptfcJ47n0rUY4NM6xWfd1OtN4e/Xu5+rNe3pOEOVnL0HIiVQe4Uy8l4k8SYVJNj5qAU70p692ABBUteyJl2nyFJ7iYFpjclbK8bnAo=', None, None, None, None, None, None, None, None, None, 'OPO', 11, 70890650, None, None, None, None, None, None, None, None, None, None, None, None, None, None, None, None, None, None, None, None, None, None, None, None, 4)\n",
      "('uecJ/wWk2Ej6CAnwe3i0y0jfrp9Xr1oMVJ+9kLKpkU8trb/GSsJmcvNw7XJ0dzNpkKLYrpaxDPIVMKGKnG/ZMzSYtEOoqKGnRHhbt/PXjUr/RJzL4O5LlsS30GNP3Kka', None, None, None, None, None, None, 'VdYFVbm+86uuL5NZSDUP9DEEmK6+kQ0Yv94SD3PKGIsyVVcXQ+yl9sVe+9geW8q79xfDY/YF98BVdxRwtIHCYeMzVGLAEMhP7R8SIwcVCtPRH4gdRhvij3OuHXZOjz0M', 'iiEV2WxdTX+t1nEWFd7yaYbQZZywMlcwPhbKqBAzOY6CX0HQ2oRjBHYMhQqUlWEI4y+81BfCeY6OP0xZQrr1RKnpMsPGHI4JzDnlw+BAUK4=', None, 'BSM', 1, None, None, None, None, None, None, None, None, None, None, None, None, None, None, None, None, None, None, None, None, None, None, None, None, None, 5)\n",
      "('Vm+8vMmIsWsvcxR9zMDL9Cy+E0ZgHj9AJ3kwMqaLxguXn6wJcfM3e3LWpd7RzRxm3woikNUtGPF45crUFMpAsfsa/Bmx4YzTqTFCj0vhoQY=', None, None, None, None, None, None, None, None, None, 'OFO', 2, None, None, None, None, None, None, None, None, None, None, None, None, None, None, None, None, None, None, None, None, None, None, None, None, None, 6)\n",
      "('T/sOfNBmULfA5GzBpJRYu3UWEwhw4PFYydRQSh7x1PSc4RTRLXYaXTfpbt2Da17zSJPbQDKce+cHMMQVCVBRj9+U8wwRYYTBTgLsWbpMpuY=', None, None, None, None, None, None, 'YmUx0yovmm7KUEMHfNDNpoVOmGYvPqyRhXUvSy9IuU94rqInTL8t6bf0sCVjnZTbAcpxcarHierENslhHtEwj6DxtUGSIQbZSPKa5P3uA7Y=', 'q4ZUhGQGivshfEEsiHkiC1iJJE3pRXruvCrdiEi+or/nkYeeJD1NajXvl5Mm8/CU8QeovLeXweZgIuOQW3+R6S9vo/4qfzC81k40opUrblk=', None, 'BSM', 1, None, None, None, None, None, None, None, None, None, None, None, None, None, None, None, None, None, None, None, None, None, None, None, None, None, 7)\n",
      "('lWpFU3UmWlpSe8TtpUMRBCFflbRtrT1aEpzxnv1MEXnpCGhTicndBKbyJjsfMJMdgH+U78n9GU5DNm6bXxNhnC2JU2MIzwpJObcy4n2Baqk=', None, None, None, None, None, None, None, None, None, 'OFO', 2, None, None, None, None, None, None, None, None, None, None, None, None, None, None, None, None, None, None, None, None, None, None, None, None, None, 8)\n",
      "('mDkas+QvEOd4+XBxuIW4Da3aEEdBAod5OJM/9la0ivdkMk7DTs9DqRZEI5Lc3wAC7Yb1sw4kp/JEFP3nnG2ZcPT36EJYO+EfrC0OlzewTfM=', None, None, None, None, None, None, None, None, None, 'OFO', 2, None, None, None, None, None, None, None, None, None, None, None, None, None, None, None, None, None, None, None, None, None, None, None, None, None, 9)\n",
      "('7TsaZA7GFeEVxMscggvr2LkRAZwqfDywZ9HtkoX92fdNI/VFseD7SjfY8rJ7IlS7o2MG7D4mG56FZUTFOUWW7a5GeMmtDAasGLtodOgvIOA=', None, None, None, None, None, None, 'AGLNrRX8gxMGgFxc57odWW/yGmn7NeHtyEPqURGIoazP16SegE6xwFHfWC/gQY+WgTtLKjG3cPMzRltvADCgso5adynZFpiklJffFOc7sSo=', 'Vm+8vMmIsWsvcxR9zMDL9Cy+E0ZgHj9AJ3kwMqaLxguXn6wJcfM3e3LWpd7RzRxm3woikNUtGPF45crUFMpAsfsa/Bmx4YzTqTFCj0vhoQY=', None, 'BSM', 1, None, None, None, None, None, None, None, None, None, None, None, None, None, None, None, None, None, None, None, None, None, None, None, None, None, 10)\n",
      "('yqpT3s/QygUWqCsg/azKypTOTOuJdbjB/16kQv0m5uugaHFJh8Mtp2i7sCdt71GRZixdYAzCVqEa4mNgvEjDECGf0Fby1B2nv1NdlyFQPrg=', None, None, None, None, None, None, None, None, None, 'OFO', 2, None, None, None, None, None, None, None, None, None, None, None, None, None, None, None, None, None, None, None, None, None, None, None, None, None, 11)\n",
      "('Z3anPBTLRy4YQTD0UgZkTJ+keVuWZ8j50lI8whQPyaERWuqwwnwsnvPL5JvmjhqosP5ukUJEFe29IEnCIx6/MSQ0jCVnAyGflCmCnQBnc3JQLWVD9vLnWZYbgp+9oL3r', None, None, None, None, None, None, None, None, None, 'OFO', 2, None, None, None, None, None, None, None, None, None, None, None, None, None, None, None, None, None, None, None, None, None, None, None, None, None, 12)\n",
      "('i0/Tr+VNmKgY+wJydNVJbCob8vQemEnjdn3A2r2ffhs8dz4IHH2H2AVcFvTyEOe3ci6MD33ZHXqEu8Lr8L1xtG3SHwhy2TBVM3bEa6vFpMbxj5wBXmFfT/QAGRrOqWBN', None, None, None, None, None, None, None, None, None, 'OFO', 2, None, None, None, None, None, None, None, None, None, None, None, None, None, None, None, None, None, None, None, None, None, None, None, None, None, 13)\n",
      "('/AOrBGOFR+4GtqsAvOXC/3kKd0OCEPBVRfEsIPHeW3CoGcU1dio8gmrulsH5/KEvySRvbRT2hlDOXICKukDLldMgNY5z+yASe8F1rqBlKug=', None, None, None, None, None, None, None, None, None, 'OFO', 2, None, None, None, None, None, None, None, None, None, None, None, None, None, None, None, None, None, None, None, None, None, None, None, None, None, 14)\n",
      "('4m3Yuf1esDMzbgNGYW7kv4xM1N45Dxn1k9MaGswf4YFbSpYmJ+3xwjL90xaHQXSbHmnsQrT0+ynMYrGA2IZA8C2XWS7b0Diy4ZU0x4rQBKE=', None, None, None, None, None, None, None, None, None, 'OFO', 2, None, None, None, None, None, None, None, None, None, None, None, None, None, None, None, None, None, None, None, None, None, None, None, None, None, 15)\n",
      "('8QZWq1vuQ1NdCHkoh0JT2+dtPBjool2L7dNZ6f7XTg/mUCOWuwssd0KErzLHrbhoji0ibmLF+XYB1yO8HkOMdAzdgdGISOTdPRN6VI5OtRw=', None, None, None, None, None, None, None, None, None, 'OFO', 2, None, None, None, None, None, None, None, None, None, None, None, None, None, None, None, None, None, None, None, None, None, None, None, None, None, 16)\n",
      "('cc3RAb7ln/HyHThRavcVRYDuQQHgv9VV8nNlwdBNLUZ6oCPq/qyk+T1vPYEx0GCJEl+tQ7UbtUZMwecAoFcEAqknnyNkwfherStqUhxxEQ8=', None, None, None, None, None, None, None, None, None, 'OFO', 2, None, None, None, None, None, None, None, None, None, None, None, None, None, None, None, None, None, None, None, None, None, None, None, None, None, 17)\n",
      "('BBgBQ2wok0L43hEZUEeiehwwgrnYkvSWpgVkTEuS44FGAKrsjBz/UVx+LWdeKO2khvGuk0dwf2GE9ziJR5j2lVd4ioIVbPKS1oaCurIfCpA=', None, None, None, None, None, None, None, None, None, 'OFO', 2, None, None, None, None, None, None, None, None, None, None, None, None, None, None, None, None, None, None, None, None, None, None, None, None, None, 18)\n",
      "('2fa9YZ/g+IACqr1Etk+QIUPK51iiTwCA/t/nTw+U9RUmjfYorPLrzpPd46Bmj3C3tfw3cyOy5bx0ogGCOZ01eUctqHZQzXY903JlPvzPzlw=', None, None, None, None, None, None, None, None, None, 'OFO', 2, None, None, None, None, None, None, None, None, None, None, None, None, None, None, None, None, None, None, None, None, None, None, None, None, None, 19)\n",
      "('4fX93lhUET5sT1ayzq9OpcSRV0gvsmNLslOQvs8+KTdyJsmn3y+TCQng5mo8u4MYP3wirZ0sAvHunZFDqcFGEGLmoyTsulfA3fwbyWIXnO0=', None, None, None, None, None, None, None, None, None, 'OFO', 2, None, None, None, None, None, None, None, None, None, None, None, None, None, None, None, None, None, None, None, None, None, None, None, None, None, 20)\n",
      "('KdSYyo8J1zUPVqxHUtY+tXCq1sozzl79fDrwCjZTPA82RA81GrHfiwpq2ymtsH1mkBgkLzE1TRH+MGXYdCunCxgrju4BztjRm1Ouf3qlRaU=', None, None, None, None, None, None, None, None, None, 'OFO', 2, None, None, None, None, None, None, None, None, None, None, None, None, None, None, None, None, None, None, None, None, None, None, None, None, None, 21)\n",
      "('FxrmEj8jkUJ9rfUt8DkkVOUbhQdxwKgENy+oxwXMp0yU3OttGGEKPmExw49PdHUzB2Fwto/UgZ+MAHpoXFEeOWwwuK+acbAp2CPWPzhTl9A=', None, None, None, None, None, None, None, None, None, 'OFO', 2, None, None, None, None, None, None, None, None, None, None, None, None, None, None, None, None, None, None, None, None, None, None, None, None, None, 22)\n",
      "('5XEbVUHVfI6OxlRPfJGQH6zTwljfLIEzxpL2+mYKOAkIlVMDACBfwbGRkxThLw94hZsh7wZCDRSKiMSbaMMEXuSHd/RO5NZXuOsJqhYGlKI=', None, None, None, None, None, None, None, None, None, 'OFO', 2, None, None, None, None, None, None, None, None, None, None, None, None, None, None, None, None, None, None, None, None, None, None, None, None, None, 23)\n",
      "('YoYw5r0/dk0UgEcID286w2rFb6t3U7giw8vvUmXDmdv364oblaqoIpw8bgi1UsDJuLTH7urInxbRTuAjkVPJkl844VwfQvfn351HMcIRpO4=', None, None, None, None, None, None, '+lQ0Ne+Jhd5K4uvds1/KT8qqJcoA/eJ5OloIoqvCQi04X93kbmO62f/i2fqJgk62odrpl2ye04ue7tlKR93hckH4u46kVMoHQWmYF/rBWMA=', '3aW3srZ5a3T/ChIj+sdMrJE0sk738z0ZHA0q6GgFh5H2Szl4VYLSRCfCHyEMA8cAKwbYizIHXcv/r5goxydoDSZCgYHe6mOZsomLL2Jwop4=', None, 'BSM', 1, None, None, None, None, None, None, None, None, None, None, None, None, None, None, None, None, None, None, None, None, None, None, None, None, None, 24)\n",
      "('ii1ts7FFbqpo6yGBWGh1nOLXCLjB90kz9iKvoIKpczc0Mv9v/qzYbRn4D5as9Bf9mjnNVahNGuqoXZSLs40xFaP0UXDmba00PDqVuo4FH5s=', None, None, None, None, None, None, None, None, None, 'OPO', 11, 25183907, None, None, None, None, None, None, None, None, None, None, None, None, None, None, None, None, None, None, None, None, None, None, None, None, 25)\n",
      "('a4uuL5087aAkDOdoVblOShaQjHZZiAz79ef8xsvMcMgrPH6vAmPki7VNwOXKxvCG9eshEijbAukEr7jJOHUEcC8HpMau6Eer288lakdfmH8=', None, None, None, None, None, None, None, None, None, 'OFO', 2, None, None, None, None, None, None, None, None, None, None, None, None, None, None, None, None, None, None, None, None, None, None, None, None, None, 26)\n",
      "('SI/WjbMksk0HBoUSFb0r0NOoDDPWyQOD/Gjj5J9jXLz6sc4WfJV5XNHIk5db70rNpI+UYws/pK5I8LaeZTkzroFmjKWrOowSE727Vd6F8AI=', None, None, None, None, None, None, None, None, None, 'OFO', 2, None, None, None, None, None, None, None, None, None, None, None, None, None, None, None, None, None, None, None, None, None, None, None, None, None, 27)\n",
      "('W6gjRuthAEnH1o8Yu7Zc0k4Kv4ZLv7aGA1z5lSGliY7LT+ipTzG5nMPXsAayqF6KbLLThknyZXMnOrxfYJ70gXNdBJdRWXoDui8Oq8kTTjM=', None, None, None, None, None, None, None, None, None, 'OFO', 2, None, None, None, None, None, None, None, None, None, None, None, None, None, None, None, None, None, None, None, None, None, None, None, None, None, 28)\n",
      "('UtkReXE24+hFt9Wp0bqKaX85nwQdDmfMUgydTTHuf3xaV8DBXxPhnN/njjvOH7vurf6kdNoM0VtJq7id2emrlY9VTrLvGF+6WQl5MjmLBq0=', None, None, None, None, None, None, None, None, None, 'OFO', 2, None, None, None, None, None, None, None, None, None, None, None, None, None, None, None, None, None, None, None, None, None, None, None, None, None, 29)\n",
      "('Fi39z7m2FANK18yYncVWlU0YQ8u8FLjldrBRweDzDAhBc7pe75fu3JHKj+g5n/5aa4dpfuoLVrjuRQC94G/kkGKlglQD+qewgR7q6jBOwmk=', None, None, None, None, None, None, None, None, None, 'OFO', 2, None, None, None, None, None, None, None, None, None, None, None, None, None, None, None, None, None, None, None, None, None, None, None, None, None, 30)\n",
      "('UKcYWvUUTpNi8flxUzlm+TSnnprgWLVUHQLYF9LrVQpOOqQ6wycE7XBa1xVt+SzU+NR+i4CvbqbaTivPkjaaQbFOZw8LEOjjFYowWGpfJHKUl6UeeOCVx+jaGjtgvaWo', None, None, None, None, None, None, None, None, None, 'OFO', 2, None, None, None, None, None, None, None, None, None, None, None, None, None, None, None, None, None, None, None, None, None, None, None, None, None, 31)\n",
      "('XHIBU/Os4CXjIriHfhjuJMtIZCEvJBRz3RTj02SaUqCUWW2nYww1irZFjR1y3ieG3vIdjnr7ZpukTGijByBS8mUDBj9jPUeUxRUhwptQp+k=', None, None, None, None, None, None, None, None, None, 'OFO', 2, None, None, None, None, None, None, None, None, None, None, None, None, None, None, None, None, None, None, None, None, None, None, None, None, None, 32)\n",
      "('WpAGVIbtrw3p6Ic2ebTbXNCwsz0FKsnGB9V9QeaExKo21vI1yF5xcnK/ftMPvAe0P43ooFP1+vRsJWe0rET59I1aQW/uq+Ca3bHca+9xTcc=', None, None, None, None, None, None, None, None, None, 'OFO', 2, None, None, None, None, None, None, None, None, None, None, None, None, None, None, None, None, None, None, None, None, None, None, None, None, None, 33)\n",
      "('xocTMRuuiHIYwNN3v/RUpArt2Fhetx6zLzs1TUM4gw+ObLyU2HJkAPQ5WdENo82O2DPHBJrt2XiurT7d3j3H5mEqs6IWf89iXlFyWJLkDow=', None, None, None, None, None, None, None, None, None, 'OFO', 2, None, None, None, None, None, None, None, None, None, None, None, None, None, None, None, None, None, None, None, None, None, None, None, None, None, 34)\n",
      "('MDJxuYEcvwdwAi1Fg0is3l8pQHEuYA3JuvhPN/UJqhDXFlzmCXQwxl3WwR400xI4Kh8loBqPredEDVXts4a8Ksr7O0PlW4HuYk5l6HIpY2s=', None, None, None, None, None, None, None, None, None, 'OFO', 2, None, None, None, None, None, None, None, None, None, None, None, None, None, None, None, None, None, None, None, None, None, None, None, None, None, 35)\n",
      "('aOWF/BYRV4K+0xg/HdeP3T3Tm/aSXL8Z3ShJxg4zYChQJRi3EoVsQ1xr+eatOjsz8o55pTpCs81iSwIC5oNvPFZhZ5upIuj6y1Ntb5sYT1M=', None, None, None, None, None, None, None, None, None, 'OFO', 2, None, None, None, None, None, None, None, None, None, None, None, None, None, None, None, None, None, None, None, None, None, None, None, None, None, 36)\n",
      "('xwHUBBpYTSRS3sFNKTf++dy1Sq83Nmg0C3LE2zx/dRI/jmDT/1OXGDmy3qOw9d0bhwXKp2Oh1GzKgb1Cn4XPvr4qRmtDDESo1yswvoJeFP30WPTfjkelYDu3p6O0eFVE', None, None, None, None, None, None, None, None, None, 'OFO', 2, None, None, None, None, None, None, None, None, None, None, None, None, None, None, None, None, None, None, None, None, None, None, None, None, None, 37)\n",
      "('zmOpxLJr7ii9CZo8JeEAhu560hyoaYhJxlUGsxC/ggqb1kd+9XxbAXVjaH4LL8Pl8MeUbaTxqcB+gZD09IoChvR9cPq9ftAZ0yk1NlxNYc4=', None, None, None, None, None, None, None, None, None, 'OFO', 2, None, None, None, None, None, None, None, None, None, None, None, None, None, None, None, None, None, None, None, None, None, None, None, None, None, 38)\n",
      "('CVikHowKhw3xouJMIqJHZOijnR1LvQJ4hcufAgajhU4QQjJEHn2n19OvpxLG8AXGSDlKlRzQkWOnseHWTe89/ht9nNqJXvjUKcxpd3dr3VQ=', None, None, None, None, None, None, None, None, None, 'OPO', 11, 25161806, None, None, None, None, None, None, None, None, None, None, None, None, None, None, None, None, None, None, None, None, None, None, None, None, 39)\n",
      "('xJxa+PcfvdT7SIrl7ltvSOlLvQpoVfDY3QhOaspu0STpIUGz9fKJVtDp0bOnnUci5FzZU28fH/A1RJeYV2ZSAOJ1bsB5jodIKw8h+rgjINU=', None, None, None, None, None, None, 'NezMzNG/s2Rz33QBJ/J9xHsKkt3gPqkDcB/VqU6fmfWs/kc8bLBXqEfKbgE9/Co4Ah9Ft2xfVdjm9TZnDDLf0DSivtf34CqbrOgDPJv7Q/c=', 'Y+s9bH0/ld/NLE4dOgaHgoRcmRrSt+dsqPhNnh0oXeafk9E4WZlgsCnF1La1gw7EoZ3hLsizggDDnbV+DyNJinyL5ABL87B4d4Q1NIT8goQ=', None, 'BSM', 1, None, None, None, None, None, None, None, None, None, None, None, None, None, None, None, None, None, None, None, None, None, None, None, None, None, 40)\n",
      "('fwdsUaxtVKyjWdhcx8QMu3passZadTC0q5Sr0L0GOPWU1zzK73MDWdQ5MBficQF1IrTyXx7Rs9OwGPxW1syorUZI5+2oQKWwn68UnX0PwWE=', None, None, None, None, None, None, 'OSAJs7W4HqDew0srlaev6U4G6+SYLaddr65lGbvSoNr/avJL76h/vK1sBGmQ9kvy0TkOuLNofgfzYOT4s5Imp3Vn8LiiR/fKy0ofj18gbPA=', 'rPKv7V+fiEfstUB0S6cpEXh6yGTq4bTlCE6uBX5kXieyAh7EWrBaFnwukM66O1XZH25ALIqbX1tDBENeMzMJccMI/bn5rUrlJhEog7igBLY=', None, 'BSM', 1, None, None, None, None, None, None, None, None, None, None, None, None, None, None, None, None, None, None, None, None, None, None, None, None, None, 41)\n",
      "('wpKK2F/BDnPKTx2S67hQVOVPGlU5agILyPckG4iVAkBux64yqWY7aR5ndq6iAavR1drvKIzk14UMMDi88nOhNF7O1i6BnJF20ugsKC/upYE=', None, None, None, None, None, None, None, None, None, 'OFO', 2, None, None, None, None, None, None, None, None, None, None, None, None, None, None, None, None, None, None, None, None, None, None, None, None, None, 42)\n",
      "('00ep7V5fFBZoFMeOfcAOPMRtu0G9svLcsDyC/fYkJk3EbFIqbw2kpRaC1jjS1V8bjacEwrp/SdxXZXdtwDzFj3vKzXvHF7k7HiDpVtv6fPAUIS/cKLcyZ7viQd7pE5FE', None, None, None, None, None, None, None, None, None, 'OFO', 2, None, None, None, None, None, None, None, None, None, None, None, None, None, None, None, None, None, None, None, None, None, None, None, None, None, 43)\n",
      "('MvCbj6Q05AQW6847EAgIYrqDl8FsW8iuqz8WE/HYFlpxpTCi+ZWTWE8dAPeAWfTMF1wjj1diDvFHVemk8/36dxQsW43Uru7qNvUgjA0dTLp6FJD3zaBDiCU/SbyoKdsU', None, None, None, None, None, None, None, None, None, 'OFO', 2, None, None, None, None, None, None, None, None, None, None, None, None, None, None, None, None, None, None, None, None, None, None, None, None, None, 44)\n",
      "('rdsGfgHvYfix3H2OkFc5hhGU9AzpRXOZ8wOen/EBHoSu+oxaE9cUuQfix2dxN4Ly+Z6KVQlqDqPxEwTEhD9dcfIiP1TKGUho0PE8lkkSZYOYQIcVm5TH5bmcWK1EL2Vf', None, None, None, None, None, None, None, None, None, 'OFO', 2, None, None, None, None, None, None, None, None, None, None, None, None, None, None, None, None, None, None, None, None, None, None, None, None, None, 45)\n",
      "('ltTJU+/1imoqO4saz1ta1pntVZVjlmlhpGVVh7Fj6CWr6Vgawjzeh7VgOuVYXDOW5lRObbNrYbtKIm2eQuy574oba80Ht3or9iloCT+zPM0=', None, None, None, None, None, None, None, None, None, 'OFO', 2, None, None, None, None, None, None, None, None, None, None, None, None, None, None, None, None, None, None, None, None, None, None, None, None, None, 46)\n",
      "('OlVCtLEjQ+aNPyQNdT0JZPdJ2BEokpMEB+uTlQIY3kneRjP1aRL3CA72359ulPAbO8VfGzNtFEYkByykTtoLJTljQAtit7OAw+N65g+1hCE=', None, None, None, None, None, None, None, None, None, 'OFO', 2, None, None, None, None, None, None, None, None, None, None, None, None, None, None, None, None, None, None, None, None, None, None, None, None, None, 47)\n",
      "('JsnHnHK89vL/0oCWFbmIw15mkLQCUsEucRyqJhlrzKopQ2ZPOvDcxyv6C70Sxb2Nv9K7xai/Ig7giS8gJljk3mKkDItXp5ARq7bGkTVbpTw=', None, None, None, None, None, None, 'VFeRVqNwKQBFgxQOxaZ+Uu52XPwYBW85G2cqQzfrUsf4UB1yFq1auOdYlSwQuLB4ThdgaeE4AWjmgOIn5Pk4Rif4DDcbJSu41K6TZ/PZIHw=', '1icyYJRr8366DjQYyqdj/TTYUgGOuUSp6ck6NDaYLdQ6lU3sbdOjY6CKYEN5T6XuJ8mBowWJicz/4l0lrv0Y+AZetgmFuW0OoM7yEd+5evQ=', None, 'BSM', 1, None, None, None, None, None, None, None, None, None, None, None, None, None, None, None, None, None, None, None, None, None, None, None, None, None, 48)\n",
      "('nG1j9b9eZx7u/iGrTPtgGVOrmDaUxd1s2dC8/jiqRtKkXyuaJ7icS9jz00xy2JcS4p338ZsCnpOzwga2Y8tupePeKeUVoWjjSl+o/7/msY0=', None, None, None, None, None, None, 'Ym8cWfYJCf8Urrv3bW6nwRZlwSmAaA/8kS8GFhllL8eFIJFCj0FhuzDnHm4d/DQi+nop3gtaovf0HR4b7x9LbCQdjj8cfjGO0N/jFAM+vK4=', 'KT0rdHsWxrS4WVWKRhvDWBeGio9P4NTZ7lNEEIKsVLoNg0h9Aa3eaUlBOXK78gVI/NPe3cwRgpXofQaTGOJG66jDnqP52CJNzjOVfaxQWLc=', None, 'BSM', 1, None, None, None, None, None, None, None, None, None, None, None, None, None, None, None, None, None, None, None, None, None, None, None, None, None, 49)\n",
      "('OnlsGwGAyTMPH15d9slPGHS+ul00Ov2hYSesDj7FmHeRy6i+1ttOFelz2GYwTBWMONxcreKb+0Bf2840TsM6LHBDumdabpRRCj+TFicfIo0=', None, None, None, None, None, None, None, None, None, 'OPO', 11, 583090, None, None, None, None, None, None, None, None, None, None, None, None, None, None, None, None, None, None, None, None, None, None, None, None, 50)\n",
      "('KhrNZfOu3UPVx0J3V8kMtS9CZ5x9bc/JsMxwurOsDV7Z/IpcR6nA43E3vtpb+uujF4/FF7VOesEOFK3IS4UbncSMhhLL215enh/PGWVACCHNXwDFbAXYk9f1KAuFGSY0', None, None, None, None, None, None, None, None, None, 'OFO', 2, None, None, None, None, None, None, None, None, None, None, None, None, None, None, None, None, None, None, None, None, None, None, None, None, None, 51)\n",
      "('4/09lLuaNar2b8ZrhcyqhU1dN1h6cdfYNCg2/RReim82UXm3H5whG2MlvoKzXFltwKfA5MonRqd32zCvZgGfvCUIbqRScDVWKy5fctYb6N0=', None, None, None, None, None, None, 'iXuo5APMiSDKHjvq6Zwp4znpylRk3VICHbMd0CZEnHv0Yfd9IxzLRCvYD0GcdPBgCsVQP5C/sjWn2YmF1qe/BxyobmNhG4SPsa0pKedo4PE=', 'zjQFHCstHaYtYTIi9hORZRXYOc6k0hH288KSw9iDzCl+X9pOUGZKaa66zQQEN73fdjsw9/7YjYQ68TBXMm8URmS5tv4YM3mG5Twnjp+eFLQ=', None, 'BSM', 1, None, None, None, None, None, None, None, None, None, None, None, None, None, None, None, None, None, None, None, None, None, None, None, None, None, 52)\n",
      "('hkL5rQrRg4S5vLOBt4eIJJ2V2TYoj0cfedxg4BSHxDvBJaNn+d2ls2yJhQkE7K5+I/9kkq+O03kCIXt6l6W4ga3EUu0UY/A+TRgJcpxsiahtWTyp5miG9XnLxAhSWHJ5', None, None, None, None, None, None, None, None, None, 'OPO', 4, 1312774, None, None, None, None, None, None, None, None, None, None, None, None, None, None, None, None, None, None, None, None, None, None, None, '64R47PeqD9SONivn8apY/lJWp7PMqXzY9utJl+M+BfUUirKmMZliVuxYKEtLpIva6glOyFHdvIofu9Hwu2HKl1m5M6qSyaHfCuQu6GdIy0E=', 53)\n",
      "('Ym8cWfYJCf8Urrv3bW6nwRZlwSmAaA/8kS8GFhllL8eFIJFCj0FhuzDnHm4d/DQi+nop3gtaovf0HR4b7x9LbCQdjj8cfjGO0N/jFAM+vK4=', None, None, None, None, None, None, None, None, None, 'OFO', 2, None, None, None, None, None, None, None, None, None, None, None, None, None, None, None, None, None, None, None, None, None, None, None, None, None, 54)\n",
      "('OSAJs7W4HqDew0srlaev6U4G6+SYLaddr65lGbvSoNr/avJL76h/vK1sBGmQ9kvy0TkOuLNofgfzYOT4s5Imp3Vn8LiiR/fKy0ofj18gbPA=', None, None, None, None, None, None, None, None, None, 'OFO', 2, None, None, None, None, None, None, None, None, None, None, None, None, None, None, None, None, None, None, None, None, None, None, None, None, None, 55)\n",
      "('UyRKGvNtD3RY7g1F6Oa/uad7WoAoj5fPL4nUuFVU42SrnDzMgM1Tsix9bmimHtrPJvf44AKjrgwgk+wbP3oLUhMW3sFzdFm2UGW4hfZo0Sw=', None, None, None, None, None, None, None, None, None, 'OFO', 2, None, None, None, None, None, None, None, None, None, None, None, None, None, None, None, None, None, None, None, None, None, None, None, None, None, 56)\n",
      "('VdYFVbm+86uuL5NZSDUP9DEEmK6+kQ0Yv94SD3PKGIsyVVcXQ+yl9sVe+9geW8q79xfDY/YF98BVdxRwtIHCYeMzVGLAEMhP7R8SIwcVCtPRH4gdRhvij3OuHXZOjz0M', None, None, None, None, None, None, None, None, None, 'OFO', 2, None, None, None, None, None, None, None, None, None, None, None, None, None, None, None, None, None, None, None, None, None, None, None, None, None, 57)\n",
      "('J3hMa2yksIRcQaD51HVTH3Q6WzhIEBRV4Pjvzv1m9JVCaVFmqbSQLmMqp5SX+mFgX+CkR4Tf0RenGliXDwBkGky9DnZquQo+qDKWLThkZ7c=', None, None, None, None, None, None, None, None, None, 'OFO', 2, None, None, None, None, None, None, None, None, None, None, None, None, None, None, None, None, None, None, None, None, None, None, None, None, None, 58)\n",
      "('1icyYJRr8366DjQYyqdj/TTYUgGOuUSp6ck6NDaYLdQ6lU3sbdOjY6CKYEN5T6XuJ8mBowWJicz/4l0lrv0Y+AZetgmFuW0OoM7yEd+5evQ=', None, None, None, None, None, None, None, None, None, 'OFO', 2, None, None, None, None, None, None, None, None, None, None, None, None, None, None, None, None, None, None, None, None, None, None, None, None, None, 59)\n",
      "('VFeRVqNwKQBFgxQOxaZ+Uu52XPwYBW85G2cqQzfrUsf4UB1yFq1auOdYlSwQuLB4ThdgaeE4AWjmgOIn5Pk4Rif4DDcbJSu41K6TZ/PZIHw=', None, None, None, None, None, None, None, None, None, 'OFO', 2, None, None, None, None, None, None, None, None, None, None, None, None, None, None, None, None, None, None, None, None, None, None, None, None, None, 60)\n",
      "('mSH6sS5yv6vA2jEOtyHeXbjjmSLmJ6SkHkWy/unkzDUZk7xIPT4ioZT0NeRHDgnO9rulMBaBITs2aW7PRZ1GTMRq6GAz0Ie+yIhff+XnzY8=', None, None, None, None, None, None, None, None, None, 'OFO', 2, None, None, None, None, None, None, None, None, None, None, None, None, None, None, None, None, None, None, None, None, None, None, None, None, None, 61)\n",
      "('YmUx0yovmm7KUEMHfNDNpoVOmGYvPqyRhXUvSy9IuU94rqInTL8t6bf0sCVjnZTbAcpxcarHierENslhHtEwj6DxtUGSIQbZSPKa5P3uA7Y=', None, None, None, None, None, None, None, None, None, 'OFO', 2, None, None, None, None, None, None, None, None, None, None, None, None, None, None, None, None, None, None, None, None, None, None, None, None, None, 62)\n",
      "('MkyPxftPwByPP/3T9U6meQYmlU9Uga3YsRKeSLgcelx6L++1XjfRQIJPyJhaQvvlvRiyNUYZdw4tIbfYQq6t/P4y/zkOJPN2VLK3vnm1kks=', None, None, None, None, None, None, None, None, None, 'OFO', 2, None, None, None, None, None, None, None, None, None, None, None, None, None, None, None, None, None, None, None, None, None, None, None, None, None, 63)\n",
      "('+lQ0Ne+Jhd5K4uvds1/KT8qqJcoA/eJ5OloIoqvCQi04X93kbmO62f/i2fqJgk62odrpl2ye04ue7tlKR93hckH4u46kVMoHQWmYF/rBWMA=', None, None, None, None, None, None, None, None, None, 'OFO', 2, None, None, None, None, None, None, None, None, None, None, None, None, None, None, None, None, None, None, None, None, None, None, None, None, None, 64)\n",
      "('o0V5H26cXD1+RFNrtHWDD5/5zfRee+2PZtNtw6TfHmL/dqT6lkuBz7xec6grhmrdiCC+G+4G3/yR+0j7jQI5kgysM49mklk1tOHmTrweKQR5jqFgXtG8YTRMo4e1Bcx+', None, None, None, None, None, None, None, None, None, 'OFO', 2, None, None, None, None, None, None, None, None, None, None, None, None, None, None, None, None, None, None, None, None, None, None, None, None, None, 65)\n",
      "('mm/dPuBRthrYVYeJFVs7KbJF8/0AcMBynbtvmHypm+QNWR7vTP4qB6Fjx93b2q7on9TIgT5u2hb9//QrjDl7NRJCaZYrCLqylJUlk4wyvV6WfgnUKGSoDqXg3KnMyIO9', None, None, None, None, None, None, None, None, None, 'OFO', 2, None, None, None, None, None, None, None, None, None, None, None, None, None, None, None, None, None, None, None, None, None, None, None, None, None, 66)\n",
      "('Ku76SlYfgFivONmh8bdyl02qHhLEuGPdDbCow70bilmRc26J2noXqBoufBPT4kfi2B5Nm5H9w1NFHR+pNQuGoQfdXwnXwz8VCNF2QsJnBe8ypwQghGm+6xd1Xp/20VgA', None, None, None, None, None, None, None, None, None, 'OFO', 2, None, None, None, None, None, None, None, None, None, None, None, None, None, None, None, None, None, None, None, None, None, None, None, None, None, 67)\n",
      "('J0XZSVcq2fC4+FYE6P3FVpDsLeaKuuk80AoPHtHneWOa/KJrhWPux7doPjfExqFN4LQpeDRfyYI7bUweOjQiYfue4Tp65/jPFCtpDLTpHj4=', None, None, None, None, None, None, None, None, None, 'OFO', 2, None, None, None, None, None, None, None, None, None, None, None, None, None, None, None, None, None, None, None, None, None, None, None, None, None, 68)\n",
      "('g4EDGsOOSJKaTbLxdmmIcj8xUOiCckDSBeYZG2QP8Pyo2wimkedJNVIfN+/tdChJF372XZO9lHzT3DrU5tYksUlgO+qhLrcu5O5rYerU5DaW0LTwJY0Bn931ZJMUYSeD', None, None, None, None, None, None, None, None, None, 'OFO', 2, None, None, None, None, None, None, None, None, None, None, None, None, None, None, None, None, None, None, None, None, None, None, None, None, None, 69)\n",
      "('hf/HqLIgE7zvLimKwDjWOVhOmPY03cK5NxklSV6zIn0uRs5Uh3gkcycrY7GPiEamJWSEInqSAEwmZdx3/uM9hMBXYt+pwgje7SZyLBu2DhA=', None, None, None, None, None, None, None, None, None, 'OFO', 2, None, None, None, None, None, None, None, None, None, None, None, None, None, None, None, None, None, None, None, None, None, None, None, None, None, 70)\n",
      "('hMFmuv9xLKl7itElRb+ABKUfR4GPjNp8o8f7v5TImNsrDMbOSFs0n+msxztqnzvgTnj+Rm6QehwZNK64c6pIeSUBViUprt4npOhmD/7zcrk=', None, None, None, None, None, None, None, None, None, 'OFO', 2, None, None, None, None, None, None, None, None, None, None, None, None, None, None, None, None, None, None, None, None, None, None, None, None, None, 71)\n",
      "('PtV2GbyZOZzpReCKf7eFnHRmrU7K4TTcUse25gDBLjKDnzwoc8Sz5tqpCN3vNn4dZMHS+XYlQ+ScsS+WeS/PxoEkyD/byLp2xhUlTYgDucvrvLKp+sDogobmGqlmnSSO', None, None, None, None, None, None, None, None, None, 'OFO', 2, None, None, None, None, None, None, None, None, None, None, None, None, None, None, None, None, None, None, None, None, None, None, None, None, None, 72)\n",
      "('xEZvrXlG0ZciECwqZA8HsRDxiJlp9fBs8xvGltU/5rrKNmW4Nt247mvOtyXLHLspnNXQcio8j41RuWDpNtwjcde1q0aYKZzTi8AFFqOEN88=', None, None, None, None, None, None, None, None, None, 'OFO', 2, None, None, None, None, None, None, None, None, None, None, None, None, None, None, None, None, None, None, None, None, None, None, None, None, None, 73)\n",
      "('hYx9AoiwOYp3PeBhp6IQj6ziSiq2pyPNpBi1mvE38CFs26YIOfEcz/gX7/onHmSLHl2uWlIZPprUd3pXACAgkJcYspPiGc8uOWt9Q18iiYA=', None, None, None, None, None, None, '1fvxg03sxZo/hSaLM7Lww9w46fBDLTZx2NREsAV7HwkGRjxGKxwq/yWF24gjR+BGxTTQSSLZzxzKsCANYGfupv2Us5sf3kcnc1BVKPtcz5s=', 'l0raZybOozQ95JWgTnaQpiplmmtdzAp2RiExSTwc+CmrRcDkW8jPHrWwYA33OP9DV3647Ea9f04G8Wyca2N6FJccnQQNFaY66A5TWLwA8dc=', None, 'BSM', 1, None, None, None, None, None, None, None, None, None, None, None, None, None, None, None, None, None, None, None, None, None, None, None, None, None, 74)\n",
      "('bWb6QEOjc94in0pmGSBFwRm4FfuaCoxE+aHEHahXFXkx9jUOSdvhaWl40efvjBFwAmnAHHJI/g0nsn0tLis0carj34MDA39ptCnBdYnH5ZA=', None, None, None, None, None, None, None, None, None, 'OFO', 2, None, None, None, None, None, None, None, None, None, None, None, None, None, None, None, None, None, None, None, None, None, None, None, None, None, 75)\n",
      "('neqUuNVqO4j95P+NofCPKL0MpZxkXTUrIQe/eQxf0fZUF4yLhcArvN3to7uRIMN7sVm18i3/pvS0bQbpHxmQT+iN8Gfl/dcR2gsSyVVLXGs=', None, None, None, None, None, None, None, None, None, 'OFO', 2, None, None, None, None, None, None, None, None, None, None, None, None, None, None, None, None, None, None, None, None, None, None, None, None, None, 76)\n",
      "('YSaRmQMUJtP5iHcBKPfOwIotTcrYSx4zMLFVrcnuaCmeFEm/VL5lHuo34uh5THwLFv7UohQK3AOjWfNiucgP14yqeR9UNxTi5O9pkiZz0LI=', None, None, None, None, None, None, None, None, None, 'OFO', 2, None, None, None, None, None, None, None, None, None, None, None, None, None, None, None, None, None, None, None, None, None, None, None, None, None, 77)\n",
      "('5wQRil9Nd5KIrn5KWTf8+ucfKEsayz4LR/ZrAucExc8z+4hWyMyh+ABIewfIBvgQMxxF8/2HqFMn0OE/IphQisnADW27BjQ8Cn2Ui2i+xLM=', None, None, None, None, None, None, None, None, None, 'OFO', 2, None, None, None, None, None, None, None, None, None, None, None, None, None, None, None, None, None, None, None, None, None, None, None, None, None, 78)\n",
      "('H6BJyag+3cV1xBsFPBuuip4rM871q3h2gO2AszXSo6CmQ9q6IQ+sqm+YGxa8TyS365iI6gf3iY3cV9REk4c0H9FpsORYvWNYFwG7CrJ9iLas5dj12SPyvF51BRjr/0au', None, None, None, None, None, None, None, None, None, 'OFO', 2, None, None, None, None, None, None, None, None, None, None, None, None, None, None, None, None, None, None, None, None, None, None, None, None, None, 79)\n",
      "('DqJj5oG/KEn8Q/Q6Kyh4kM1M3AeoyvOzDBYgQ6vQvCLC7pU1cHmPTEyzCfhCvzeZbeAuEchEqmWXu1R9UGKSNlfY9G/wZcA3lqfBd+wfigs=', None, None, None, None, None, None, None, None, None, 'OFO', 2, None, None, None, None, None, None, None, None, None, None, None, None, None, None, None, None, None, None, None, None, None, None, None, None, None, 80)\n",
      "('JjjGmmAuY2r+vgvGvpKNjDzRo+CAGsMfhosMMP10Vq0blIcrdQ6xqI0zWSD6eKKGrDXBtI6dxcnnkgUOlFgjkH081Qeg/URu3ZByDWe/3BI=', None, None, None, None, None, None, 'mSH6sS5yv6vA2jEOtyHeXbjjmSLmJ6SkHkWy/unkzDUZk7xIPT4ioZT0NeRHDgnO9rulMBaBITs2aW7PRZ1GTMRq6GAz0Ie+yIhff+XnzY8=', 'xairWnG248pu7itR19AIT0hdzsYi1LAHuAt8fIswNgUvi97XTCdWljEuXGf2xQ4c5hhgGnY0ZVp2yOEEGwJ70iljjCDlCM46qs/+W/UHZSQ=', None, 'BSM', 1, None, None, None, None, None, None, None, None, None, None, None, None, None, None, None, None, None, None, None, None, None, None, None, None, None, 81)\n",
      "('bALPx2GbQF+oclIHg6WmRdXh3VGeifIWFvCKDsbvenLQNSYNrm6stXbIt7ywtIFTKcJ8K0vSAfKeokpiRi0l3Aex77vwTqobXY/c2lb1xw0=', None, None, None, None, None, None, None, None, None, 'OFO', 2, None, None, None, None, None, None, None, None, None, None, None, None, None, None, None, None, None, None, None, None, None, None, None, None, None, 82)\n",
      "('AGLNrRX8gxMGgFxc57odWW/yGmn7NeHtyEPqURGIoazP16SegE6xwFHfWC/gQY+WgTtLKjG3cPMzRltvADCgso5adynZFpiklJffFOc7sSo=', None, None, None, None, None, None, None, None, None, 'OFO', 2, None, None, None, None, None, None, None, None, None, None, None, None, None, None, None, None, None, None, None, None, None, None, None, None, None, 83)\n",
      "('cD+k5i82mTXjR9/pvMQbIBCDJ0Z/uzTk87ZKkH4hzIB2buED0Ud5BAgWv5C4NhJGnqnEvpM8SIqRwYf/STr+nEyAaER0c3dsJ0vI5u3xHYQ=', None, None, None, None, None, None, 'MkyPxftPwByPP/3T9U6meQYmlU9Uga3YsRKeSLgcelx6L++1XjfRQIJPyJhaQvvlvRiyNUYZdw4tIbfYQq6t/P4y/zkOJPN2VLK3vnm1kks=', '078yf28ANhKnYAoAfBZk6LwrtgWykcrWv2Inb0RySck69cjrSm5AFefIPtsNw/M2svL/JsumXXsklMRnHtccupBZ+KOedZqCraKOLujSdsc=', None, 'BSM', 1, None, None, None, None, None, None, None, None, None, None, None, None, None, None, None, None, None, None, None, None, None, None, None, None, None, 84)\n",
      "('zPeq/viI8Dc0WssYO5VehITpYmrNQCF7PR3vmsy5DT6An5AKp/Luf3CKklORNyHxXhboih/Oz6kq4KsXpqCVVH8yAdAZfxYtCQm25BWJXVerA7juILC9uOuhHiPN4q7k', None, None, None, None, None, None, None, None, None, 'OFO', 2, None, None, None, None, None, None, None, None, None, None, None, None, None, None, None, None, None, None, None, None, None, None, None, None, None, 85)\n",
      "('f0Fq5zu50GTRnrkINyLmm4FB6t2AI+NAKWQKLMEvIYouMLntEnHVlCeIfnqDywJNzc67IW3ooE0SGX8qZd79oaAoqiqTOgSmOJZB37UHE1c=', None, None, None, None, None, None, None, None, None, 'OPO', 4, 69797111, None, None, None, None, None, None, None, None, None, None, None, None, None, None, None, None, None, None, None, None, None, None, None, '64R47PeqD9SONivn8apY/lJWp7PMqXzY9utJl+M+BfUUirKmMZliVuxYKEtLpIva6glOyFHdvIofu9Hwu2HKl1m5M6qSyaHfCuQu6GdIy0E=', 86)\n",
      "('KT0rdHsWxrS4WVWKRhvDWBeGio9P4NTZ7lNEEIKsVLoNg0h9Aa3eaUlBOXK78gVI/NPe3cwRgpXofQaTGOJG66jDnqP52CJNzjOVfaxQWLc=', None, None, None, None, None, None, None, None, None, 'OFO', 2, None, None, None, None, None, None, None, None, None, None, None, None, None, None, None, None, None, None, None, None, None, None, None, None, None, 87)\n",
      "('rPKv7V+fiEfstUB0S6cpEXh6yGTq4bTlCE6uBX5kXieyAh7EWrBaFnwukM66O1XZH25ALIqbX1tDBENeMzMJccMI/bn5rUrlJhEog7igBLY=', None, None, None, None, None, None, None, None, None, 'OFO', 2, None, None, None, None, None, None, None, None, None, None, None, None, None, None, None, None, None, None, None, None, None, None, None, None, None, 88)\n",
      "('iXuo5APMiSDKHjvq6Zwp4znpylRk3VICHbMd0CZEnHv0Yfd9IxzLRCvYD0GcdPBgCsVQP5C/sjWn2YmF1qe/BxyobmNhG4SPsa0pKedo4PE=', None, None, None, None, None, None, None, None, None, 'OFO', 2, None, None, None, None, None, None, None, None, None, None, None, None, None, None, None, None, None, None, None, None, None, None, None, None, None, 89)\n",
      "('NezMzNG/s2Rz33QBJ/J9xHsKkt3gPqkDcB/VqU6fmfWs/kc8bLBXqEfKbgE9/Co4Ah9Ft2xfVdjm9TZnDDLf0DSivtf34CqbrOgDPJv7Q/c=', None, None, None, None, None, None, None, None, None, 'OFO', 2, None, None, None, None, None, None, None, None, None, None, None, None, None, None, None, None, None, None, None, None, None, None, None, None, None, 90)\n",
      "('1fvxg03sxZo/hSaLM7Lww9w46fBDLTZx2NREsAV7HwkGRjxGKxwq/yWF24gjR+BGxTTQSSLZzxzKsCANYGfupv2Us5sf3kcnc1BVKPtcz5s=', None, None, None, None, None, None, None, None, None, 'OFO', 2, None, None, None, None, None, None, None, None, None, None, None, None, None, None, None, None, None, None, None, None, None, None, None, None, None, 91)\n",
      "('iiEV2WxdTX+t1nEWFd7yaYbQZZywMlcwPhbKqBAzOY6CX0HQ2oRjBHYMhQqUlWEI4y+81BfCeY6OP0xZQrr1RKnpMsPGHI4JzDnlw+BAUK4=', None, None, None, None, None, None, None, None, None, 'OFO', 2, None, None, None, None, None, None, None, None, None, None, None, None, None, None, None, None, None, None, None, None, None, None, None, None, None, 92)\n",
      "('QbLYFV/XGTZN3skq8A77iw0jXtvYHadpwu1NNJiAIo2AxO/xomD4UCTqS/vTmeeX8eOr3Elw3K8/sYINSFQWG911P+EqAbPgVARJIHZvtkY=', None, None, None, None, None, None, None, None, None, 'OPO', 4, 42196451, None, None, None, None, None, None, None, None, None, None, None, None, None, None, None, None, None, None, None, None, None, None, None, '64R47PeqD9SONivn8apY/lJWp7PMqXzY9utJl+M+BfUUirKmMZliVuxYKEtLpIva6glOyFHdvIofu9Hwu2HKl1m5M6qSyaHfCuQu6GdIy0E=', 93)\n",
      "('tbRykjyqj07e8OWkHFm+S8tm9M+qF0Ql6GN5m/l4Y85srs8uJWK4nCQdC1MCZ4IM3bwHuJRNTy57+V2lkG3QAfoL6VdGB35MSX25Nh5fu3c=', None, None, None, None, None, None, None, None, None, 'OPO', 15, 70971641, None, None, None, None, None, None, None, None, None, None, None, None, None, None, None, None, None, None, None, None, None, None, None, 'r/e02ptfcJ47n0rUY4NM6xWfd1OtN4e/Xu5+rNe3pOEOVnL0HIiVQe4Uy8l4k8SYVJNj5qAU70p692ABBUteyJl2nyFJ7iYFpjclbK8bnAo=', 94)\n",
      "('zjQFHCstHaYtYTIi9hORZRXYOc6k0hH288KSw9iDzCl+X9pOUGZKaa66zQQEN73fdjsw9/7YjYQ68TBXMm8URmS5tv4YM3mG5Twnjp+eFLQ=', None, None, None, None, None, None, None, None, None, 'OFO', 2, None, None, None, None, None, None, None, None, None, None, None, None, None, None, None, None, None, None, None, None, None, None, None, None, None, 95)\n",
      "('3aW3srZ5a3T/ChIj+sdMrJE0sk738z0ZHA0q6GgFh5H2Szl4VYLSRCfCHyEMA8cAKwbYizIHXcv/r5goxydoDSZCgYHe6mOZsomLL2Jwop4=', None, None, None, None, None, None, None, None, None, 'OFO', 2, None, None, None, None, None, None, None, None, None, None, None, None, None, None, None, None, None, None, None, None, None, None, None, None, None, 96)\n",
      "('xairWnG248pu7itR19AIT0hdzsYi1LAHuAt8fIswNgUvi97XTCdWljEuXGf2xQ4c5hhgGnY0ZVp2yOEEGwJ70iljjCDlCM46qs/+W/UHZSQ=', None, None, None, None, None, None, None, None, None, 'OFO', 2, None, None, None, None, None, None, None, None, None, None, None, None, None, None, None, None, None, None, None, None, None, None, None, None, None, 97)\n",
      "('q4ZUhGQGivshfEEsiHkiC1iJJE3pRXruvCrdiEi+or/nkYeeJD1NajXvl5Mm8/CU8QeovLeXweZgIuOQW3+R6S9vo/4qfzC81k40opUrblk=', None, None, None, None, None, None, None, None, None, 'OFO', 2, None, None, None, None, None, None, None, None, None, None, None, None, None, None, None, None, None, None, None, None, None, None, None, None, None, 98)\n",
      "('078yf28ANhKnYAoAfBZk6LwrtgWykcrWv2Inb0RySck69cjrSm5AFefIPtsNw/M2svL/JsumXXsklMRnHtccupBZ+KOedZqCraKOLujSdsc=', None, None, None, None, None, None, None, None, None, 'OFO', 2, None, None, None, None, None, None, None, None, None, None, None, None, None, None, None, None, None, None, None, None, None, None, None, None, None, 99)\n",
      "('8bg+CXEGHarWp2oK+IfpUamKDfCVz85r0uBnUCjzPdNJ6AK2a4ybpIROxdjinogDSMGKQB9jeCyt5BLEOx9qsj3iksX7gk0kyMb4XwEPBO4=', None, None, None, None, None, None, 'UyRKGvNtD3RY7g1F6Oa/uad7WoAoj5fPL4nUuFVU42SrnDzMgM1Tsix9bmimHtrPJvf44AKjrgwgk+wbP3oLUhMW3sFzdFm2UGW4hfZo0Sw=', 'EGgfRTDVb68syXhEmpfl6VpmxItEm1IwCtdk82EaSNgBGKDd5gEbCPEBw6wrbaGWim1nDiiVsb1iarVPI/2OAVvMYg3BxyQUKFuMpareq+c=', None, 'BSM', 1, None, None, None, None, None, None, None, None, None, None, None, None, None, None, None, None, None, None, None, None, None, None, None, None, None, 100)\n",
      "('EGgfRTDVb68syXhEmpfl6VpmxItEm1IwCtdk82EaSNgBGKDd5gEbCPEBw6wrbaGWim1nDiiVsb1iarVPI/2OAVvMYg3BxyQUKFuMpareq+c=', None, None, None, None, None, None, None, None, None, 'OFO', 2, None, None, None, None, None, None, None, None, None, None, None, None, None, None, None, None, None, None, None, None, None, None, None, None, None, 101)\n",
      "('Y+s9bH0/ld/NLE4dOgaHgoRcmRrSt+dsqPhNnh0oXeafk9E4WZlgsCnF1La1gw7EoZ3hLsizggDDnbV+DyNJinyL5ABL87B4d4Q1NIT8goQ=', None, None, None, None, None, None, None, None, None, 'OFO', 2, None, None, None, None, None, None, None, None, None, None, None, None, None, None, None, None, None, None, None, None, None, None, None, None, None, 102)\n",
      "('l0raZybOozQ95JWgTnaQpiplmmtdzAp2RiExSTwc+CmrRcDkW8jPHrWwYA33OP9DV3647Ea9f04G8Wyca2N6FJccnQQNFaY66A5TWLwA8dc=', None, None, None, None, None, None, None, None, None, 'OFO', 2, None, None, None, None, None, None, None, None, None, None, None, None, None, None, None, None, None, None, None, None, None, None, None, None, None, 103)\n",
      "('/ipU68hnjrq1J7ZDi4JBaAyBiKjxZzpGZSVIfv8yFMKSKy3PpT/lba/0c4YCdqvrexVCCAL0MxBbob3A75l2Tnkgw/HHXtm0+abSHVywLEM=', None, None, None, None, None, None, '2fa9YZ/g+IACqr1Etk+QIUPK51iiTwCA/t/nTw+U9RUmjfYorPLrzpPd46Bmj3C3tfw3cyOy5bx0ogGCOZ01eUctqHZQzXY903JlPvzPzlw=', 'J3hMa2yksIRcQaD51HVTH3Q6WzhIEBRV4Pjvzv1m9JVCaVFmqbSQLmMqp5SX+mFgX+CkR4Tf0RenGliXDwBkGky9DnZquQo+qDKWLThkZ7c=', None, 'BSM', 1, None, None, None, None, None, None, None, None, None, None, None, None, None, None, None, None, None, None, None, None, None, None, None, None, None, 104)\n",
      "('+VKfYaKhJDrRHUWeS2e7xO7g+HhFQapZMPa5kamaF/wSOs6r3xEPEVFhtUlWqcXO9GTopZEjqpsTbsKhZmN7VxYJSxvgcgTWMGdxYkQVCaU=', None, None, None, None, None, None, None, None, None, 'OFO', 2, None, None, None, None, None, None, None, None, None, None, None, None, None, None, None, None, None, None, None, None, None, None, None, None, None, 105)\n",
      "('tTP8WqxRGv8mdc7niazOGdOIcMRfCRB7JY9mCaqqaUTa7+Dfu31hRdVtAa3hh0+XsMXUJvVewoV3piXC7IBr50LGZjrOLcIho++X0N07jJ0=', None, None, None, None, None, None, None, None, None, 'OFO', 2, None, None, None, None, None, None, None, None, None, None, None, None, None, None, None, None, None, None, None, None, None, None, None, None, None, 106)\n",
      "('3ZendyrB5RiGiS5emPZ8oWRhZZQOsLiOHI329ANsTWE3+RDPfNFmHeJzpKvspfBZpBX5RpwGNirjH3hlHeysozmb3+g52m7EfdnRYUR/iAA=', None, None, None, None, None, None, None, None, None, 'OFO', 2, None, None, None, None, None, None, None, None, None, None, None, None, None, None, None, None, None, None, None, None, None, None, None, None, None, 107)\n",
      "('m+o3Qoxrit4ZwyJIPjx3X32uMv1tXAioo/hUUaq6JmMHGXsvc9zncnGPExVsV8dslyzXyBs7yEV6mKlHKK2k7OW4tsyI1O91ftE7Rl4B6B4=', None, None, None, None, None, None, None, None, None, 'OFO', 2, None, None, None, None, None, None, None, None, None, None, None, None, None, None, None, None, None, None, None, None, None, None, None, None, None, 108)\n"
     ]
    }
   ],
   "source": [
    "con = sqlite3.connect(db_path)\n",
    "cur = con.cursor()\n",
    "\n",
    "for row in cur.execute(\"SELECT * FROM OPSUB\"):\n",
    "    print(row)\n",
    "    \n",
    "con.close()"
   ]
  },
  {
   "cell_type": "markdown",
   "id": "elegant-music",
   "metadata": {},
   "source": [
    "Abychom neztratili puvodni nevyplnena data, udelame si bokem kopii databaze, kterou pak budeme editovat:"
   ]
  },
  {
   "cell_type": "code",
   "execution_count": 4,
   "id": "ruled-designer",
   "metadata": {},
   "outputs": [
    {
     "name": "stdout",
     "output_type": "stream",
     "text": [
      "/tmp/tmp324uikoa\n"
     ]
    }
   ],
   "source": [
    "temp_db = tempfile.mkstemp()[1]\n",
    "copyfile(db_path, temp_db)\n",
    "print(temp_db)"
   ]
  },
  {
   "cell_type": "markdown",
   "id": "dimensional-cream",
   "metadata": {},
   "source": [
    "Zavolame knihovnu a ziskame vsechny identifikatory z databaze ve forme seznamu:\n"
   ]
  },
  {
   "cell_type": "code",
   "execution_count": 5,
   "id": "boolean-politics",
   "metadata": {
    "scrolled": false
   },
   "outputs": [
    {
     "name": "stdout",
     "output_type": "stream",
     "text": [
      "['<v2:pOSIdent>WpAGVIbtrw3p6Ic2ebTbXNCwsz0FKsnGB9V9QeaExKo21vI1yF5xcnK/ftMPvAe0P43ooFP1+vRsJWe0rET59I1aQW/uq+Ca3bHca+9xTcc=</v2:pOSIdent>', '<v2:pOSIdent>xocTMRuuiHIYwNN3v/RUpArt2Fhetx6zLzs1TUM4gw+ObLyU2HJkAPQ5WdENo82O2DPHBJrt2XiurT7d3j3H5mEqs6IWf89iXlFyWJLkDow=</v2:pOSIdent>', '<v2:pOSIdent>l0raZybOozQ95JWgTnaQpiplmmtdzAp2RiExSTwc+CmrRcDkW8jPHrWwYA33OP9DV3647Ea9f04G8Wyca2N6FJccnQQNFaY66A5TWLwA8dc=</v2:pOSIdent>', '<v2:pOSIdent>5wQRil9Nd5KIrn5KWTf8+ucfKEsayz4LR/ZrAucExc8z+4hWyMyh+ABIewfIBvgQMxxF8/2HqFMn0OE/IphQisnADW27BjQ8Cn2Ui2i+xLM=</v2:pOSIdent>', '<v2:pOSIdent>00ep7V5fFBZoFMeOfcAOPMRtu0G9svLcsDyC/fYkJk3EbFIqbw2kpRaC1jjS1V8bjacEwrp/SdxXZXdtwDzFj3vKzXvHF7k7HiDpVtv6fPAUIS/cKLcyZ7viQd7pE5FE</v2:pOSIdent>', '<v2:pOSIdent>8bg+CXEGHarWp2oK+IfpUamKDfCVz85r0uBnUCjzPdNJ6AK2a4ybpIROxdjinogDSMGKQB9jeCyt5BLEOx9qsj3iksX7gk0kyMb4XwEPBO4=</v2:pOSIdent>', '<v2:pOSIdent>UKcYWvUUTpNi8flxUzlm+TSnnprgWLVUHQLYF9LrVQpOOqQ6wycE7XBa1xVt+SzU+NR+i4CvbqbaTivPkjaaQbFOZw8LEOjjFYowWGpfJHKUl6UeeOCVx+jaGjtgvaWo</v2:pOSIdent>', '<v2:pOSIdent>hkL5rQrRg4S5vLOBt4eIJJ2V2TYoj0cfedxg4BSHxDvBJaNn+d2ls2yJhQkE7K5+I/9kkq+O03kCIXt6l6W4ga3EUu0UY/A+TRgJcpxsiahtWTyp5miG9XnLxAhSWHJ5</v2:pOSIdent>', '<v2:pOSIdent>H6BJyag+3cV1xBsFPBuuip4rM871q3h2gO2AszXSo6CmQ9q6IQ+sqm+YGxa8TyS365iI6gf3iY3cV9REk4c0H9FpsORYvWNYFwG7CrJ9iLas5dj12SPyvF51BRjr/0au</v2:pOSIdent>', '<v2:pOSIdent>hf/HqLIgE7zvLimKwDjWOVhOmPY03cK5NxklSV6zIn0uRs5Uh3gkcycrY7GPiEamJWSEInqSAEwmZdx3/uM9hMBXYt+pwgje7SZyLBu2DhA=</v2:pOSIdent>', '<v2:pOSIdent>iXuo5APMiSDKHjvq6Zwp4znpylRk3VICHbMd0CZEnHv0Yfd9IxzLRCvYD0GcdPBgCsVQP5C/sjWn2YmF1qe/BxyobmNhG4SPsa0pKedo4PE=</v2:pOSIdent>', '<v2:pOSIdent>BBgBQ2wok0L43hEZUEeiehwwgrnYkvSWpgVkTEuS44FGAKrsjBz/UVx+LWdeKO2khvGuk0dwf2GE9ziJR5j2lVd4ioIVbPKS1oaCurIfCpA=</v2:pOSIdent>', '<v2:pOSIdent>JjjGmmAuY2r+vgvGvpKNjDzRo+CAGsMfhosMMP10Vq0blIcrdQ6xqI0zWSD6eKKGrDXBtI6dxcnnkgUOlFgjkH081Qeg/URu3ZByDWe/3BI=</v2:pOSIdent>', '<v2:pOSIdent>XHIBU/Os4CXjIriHfhjuJMtIZCEvJBRz3RTj02SaUqCUWW2nYww1irZFjR1y3ieG3vIdjnr7ZpukTGijByBS8mUDBj9jPUeUxRUhwptQp+k=</v2:pOSIdent>', '<v2:pOSIdent>fwdsUaxtVKyjWdhcx8QMu3passZadTC0q5Sr0L0GOPWU1zzK73MDWdQ5MBficQF1IrTyXx7Rs9OwGPxW1syorUZI5+2oQKWwn68UnX0PwWE=</v2:pOSIdent>', '<v2:pOSIdent>rdsGfgHvYfix3H2OkFc5hhGU9AzpRXOZ8wOen/EBHoSu+oxaE9cUuQfix2dxN4Ly+Z6KVQlqDqPxEwTEhD9dcfIiP1TKGUho0PE8lkkSZYOYQIcVm5TH5bmcWK1EL2Vf</v2:pOSIdent>', '<v2:pOSIdent>EGgfRTDVb68syXhEmpfl6VpmxItEm1IwCtdk82EaSNgBGKDd5gEbCPEBw6wrbaGWim1nDiiVsb1iarVPI/2OAVvMYg3BxyQUKFuMpareq+c=</v2:pOSIdent>', '<v2:pOSIdent>KT0rdHsWxrS4WVWKRhvDWBeGio9P4NTZ7lNEEIKsVLoNg0h9Aa3eaUlBOXK78gVI/NPe3cwRgpXofQaTGOJG66jDnqP52CJNzjOVfaxQWLc=</v2:pOSIdent>', '<v2:pOSIdent>zmOpxLJr7ii9CZo8JeEAhu560hyoaYhJxlUGsxC/ggqb1kd+9XxbAXVjaH4LL8Pl8MeUbaTxqcB+gZD09IoChvR9cPq9ftAZ0yk1NlxNYc4=</v2:pOSIdent>', '<v2:pOSIdent>UtkReXE24+hFt9Wp0bqKaX85nwQdDmfMUgydTTHuf3xaV8DBXxPhnN/njjvOH7vurf6kdNoM0VtJq7id2emrlY9VTrLvGF+6WQl5MjmLBq0=</v2:pOSIdent>', '<v2:pOSIdent>rPKv7V+fiEfstUB0S6cpEXh6yGTq4bTlCE6uBX5kXieyAh7EWrBaFnwukM66O1XZH25ALIqbX1tDBENeMzMJccMI/bn5rUrlJhEog7igBLY=</v2:pOSIdent>', '<v2:pOSIdent>zPeq/viI8Dc0WssYO5VehITpYmrNQCF7PR3vmsy5DT6An5AKp/Luf3CKklORNyHxXhboih/Oz6kq4KsXpqCVVH8yAdAZfxYtCQm25BWJXVerA7juILC9uOuhHiPN4q7k</v2:pOSIdent>', '<v2:pOSIdent>3aW3srZ5a3T/ChIj+sdMrJE0sk738z0ZHA0q6GgFh5H2Szl4VYLSRCfCHyEMA8cAKwbYizIHXcv/r5goxydoDSZCgYHe6mOZsomLL2Jwop4=</v2:pOSIdent>', '<v2:pOSIdent>+VKfYaKhJDrRHUWeS2e7xO7g+HhFQapZMPa5kamaF/wSOs6r3xEPEVFhtUlWqcXO9GTopZEjqpsTbsKhZmN7VxYJSxvgcgTWMGdxYkQVCaU=</v2:pOSIdent>', '<v2:pOSIdent>yqpT3s/QygUWqCsg/azKypTOTOuJdbjB/16kQv0m5uugaHFJh8Mtp2i7sCdt71GRZixdYAzCVqEa4mNgvEjDECGf0Fby1B2nv1NdlyFQPrg=</v2:pOSIdent>', '<v2:pOSIdent>NezMzNG/s2Rz33QBJ/J9xHsKkt3gPqkDcB/VqU6fmfWs/kc8bLBXqEfKbgE9/Co4Ah9Ft2xfVdjm9TZnDDLf0DSivtf34CqbrOgDPJv7Q/c=</v2:pOSIdent>', '<v2:pOSIdent>OSAJs7W4HqDew0srlaev6U4G6+SYLaddr65lGbvSoNr/avJL76h/vK1sBGmQ9kvy0TkOuLNofgfzYOT4s5Imp3Vn8LiiR/fKy0ofj18gbPA=</v2:pOSIdent>', '<v2:pOSIdent>xwHUBBpYTSRS3sFNKTf++dy1Sq83Nmg0C3LE2zx/dRI/jmDT/1OXGDmy3qOw9d0bhwXKp2Oh1GzKgb1Cn4XPvr4qRmtDDESo1yswvoJeFP30WPTfjkelYDu3p6O0eFVE</v2:pOSIdent>', '<v2:pOSIdent>m+o3Qoxrit4ZwyJIPjx3X32uMv1tXAioo/hUUaq6JmMHGXsvc9zncnGPExVsV8dslyzXyBs7yEV6mKlHKK2k7OW4tsyI1O91ftE7Rl4B6B4=</v2:pOSIdent>', '<v2:pOSIdent>4m3Yuf1esDMzbgNGYW7kv4xM1N45Dxn1k9MaGswf4YFbSpYmJ+3xwjL90xaHQXSbHmnsQrT0+ynMYrGA2IZA8C2XWS7b0Diy4ZU0x4rQBKE=</v2:pOSIdent>', '<v2:pOSIdent>cD+k5i82mTXjR9/pvMQbIBCDJ0Z/uzTk87ZKkH4hzIB2buED0Ud5BAgWv5C4NhJGnqnEvpM8SIqRwYf/STr+nEyAaER0c3dsJ0vI5u3xHYQ=</v2:pOSIdent>', '<v2:pOSIdent>hMFmuv9xLKl7itElRb+ABKUfR4GPjNp8o8f7v5TImNsrDMbOSFs0n+msxztqnzvgTnj+Rm6QehwZNK64c6pIeSUBViUprt4npOhmD/7zcrk=</v2:pOSIdent>', '<v2:pOSIdent>Y+s9bH0/ld/NLE4dOgaHgoRcmRrSt+dsqPhNnh0oXeafk9E4WZlgsCnF1La1gw7EoZ3hLsizggDDnbV+DyNJinyL5ABL87B4d4Q1NIT8goQ=</v2:pOSIdent>', '<v2:pOSIdent>aOWF/BYRV4K+0xg/HdeP3T3Tm/aSXL8Z3ShJxg4zYChQJRi3EoVsQ1xr+eatOjsz8o55pTpCs81iSwIC5oNvPFZhZ5upIuj6y1Ntb5sYT1M=</v2:pOSIdent>', '<v2:pOSIdent>J3hMa2yksIRcQaD51HVTH3Q6WzhIEBRV4Pjvzv1m9JVCaVFmqbSQLmMqp5SX+mFgX+CkR4Tf0RenGliXDwBkGky9DnZquQo+qDKWLThkZ7c=</v2:pOSIdent>', '<v2:pOSIdent>r/e02ptfcJ47n0rUY4NM6xWfd1OtN4e/Xu5+rNe3pOEOVnL0HIiVQe4Uy8l4k8SYVJNj5qAU70p692ABBUteyJl2nyFJ7iYFpjclbK8bnAo=</v2:pOSIdent>', '<v2:pOSIdent>iiEV2WxdTX+t1nEWFd7yaYbQZZywMlcwPhbKqBAzOY6CX0HQ2oRjBHYMhQqUlWEI4y+81BfCeY6OP0xZQrr1RKnpMsPGHI4JzDnlw+BAUK4=</v2:pOSIdent>', '<v2:pOSIdent>q4ZUhGQGivshfEEsiHkiC1iJJE3pRXruvCrdiEi+or/nkYeeJD1NajXvl5Mm8/CU8QeovLeXweZgIuOQW3+R6S9vo/4qfzC81k40opUrblk=</v2:pOSIdent>', '<v2:pOSIdent>Ku76SlYfgFivONmh8bdyl02qHhLEuGPdDbCow70bilmRc26J2noXqBoufBPT4kfi2B5Nm5H9w1NFHR+pNQuGoQfdXwnXwz8VCNF2QsJnBe8ypwQghGm+6xd1Xp/20VgA</v2:pOSIdent>', '<v2:pOSIdent>W6gjRuthAEnH1o8Yu7Zc0k4Kv4ZLv7aGA1z5lSGliY7LT+ipTzG5nMPXsAayqF6KbLLThknyZXMnOrxfYJ70gXNdBJdRWXoDui8Oq8kTTjM=</v2:pOSIdent>', '<v2:pOSIdent>uecJ/wWk2Ej6CAnwe3i0y0jfrp9Xr1oMVJ+9kLKpkU8trb/GSsJmcvNw7XJ0dzNpkKLYrpaxDPIVMKGKnG/ZMzSYtEOoqKGnRHhbt/PXjUr/RJzL4O5LlsS30GNP3Kka</v2:pOSIdent>', '<v2:pOSIdent>YmUx0yovmm7KUEMHfNDNpoVOmGYvPqyRhXUvSy9IuU94rqInTL8t6bf0sCVjnZTbAcpxcarHierENslhHtEwj6DxtUGSIQbZSPKa5P3uA7Y=</v2:pOSIdent>', '<v2:pOSIdent>xEZvrXlG0ZciECwqZA8HsRDxiJlp9fBs8xvGltU/5rrKNmW4Nt247mvOtyXLHLspnNXQcio8j41RuWDpNtwjcde1q0aYKZzTi8AFFqOEN88=</v2:pOSIdent>', '<v2:pOSIdent>078yf28ANhKnYAoAfBZk6LwrtgWykcrWv2Inb0RySck69cjrSm5AFefIPtsNw/M2svL/JsumXXsklMRnHtccupBZ+KOedZqCraKOLujSdsc=</v2:pOSIdent>', '<v2:pOSIdent>4fX93lhUET5sT1ayzq9OpcSRV0gvsmNLslOQvs8+KTdyJsmn3y+TCQng5mo8u4MYP3wirZ0sAvHunZFDqcFGEGLmoyTsulfA3fwbyWIXnO0=</v2:pOSIdent>', '<v2:pOSIdent>YoYw5r0/dk0UgEcID286w2rFb6t3U7giw8vvUmXDmdv364oblaqoIpw8bgi1UsDJuLTH7urInxbRTuAjkVPJkl844VwfQvfn351HMcIRpO4=</v2:pOSIdent>', '<v2:pOSIdent>8QZWq1vuQ1NdCHkoh0JT2+dtPBjool2L7dNZ6f7XTg/mUCOWuwssd0KErzLHrbhoji0ibmLF+XYB1yO8HkOMdAzdgdGISOTdPRN6VI5OtRw=</v2:pOSIdent>', '<v2:pOSIdent>a4uuL5087aAkDOdoVblOShaQjHZZiAz79ef8xsvMcMgrPH6vAmPki7VNwOXKxvCG9eshEijbAukEr7jJOHUEcC8HpMau6Eer288lakdfmH8=</v2:pOSIdent>', '<v2:pOSIdent>ltTJU+/1imoqO4saz1ta1pntVZVjlmlhpGVVh7Fj6CWr6Vgawjzeh7VgOuVYXDOW5lRObbNrYbtKIm2eQuy574oba80Ht3or9iloCT+zPM0=</v2:pOSIdent>', '<v2:pOSIdent>YSaRmQMUJtP5iHcBKPfOwIotTcrYSx4zMLFVrcnuaCmeFEm/VL5lHuo34uh5THwLFv7UohQK3AOjWfNiucgP14yqeR9UNxTi5O9pkiZz0LI=</v2:pOSIdent>', '<v2:pOSIdent>MvCbj6Q05AQW6847EAgIYrqDl8FsW8iuqz8WE/HYFlpxpTCi+ZWTWE8dAPeAWfTMF1wjj1diDvFHVemk8/36dxQsW43Uru7qNvUgjA0dTLp6FJD3zaBDiCU/SbyoKdsU</v2:pOSIdent>', '<v2:pOSIdent>QbLYFV/XGTZN3skq8A77iw0jXtvYHadpwu1NNJiAIo2AxO/xomD4UCTqS/vTmeeX8eOr3Elw3K8/sYINSFQWG911P+EqAbPgVARJIHZvtkY=</v2:pOSIdent>', '<v2:pOSIdent>Vm+8vMmIsWsvcxR9zMDL9Cy+E0ZgHj9AJ3kwMqaLxguXn6wJcfM3e3LWpd7RzRxm3woikNUtGPF45crUFMpAsfsa/Bmx4YzTqTFCj0vhoQY=</v2:pOSIdent>', '<v2:pOSIdent>ii1ts7FFbqpo6yGBWGh1nOLXCLjB90kz9iKvoIKpczc0Mv9v/qzYbRn4D5as9Bf9mjnNVahNGuqoXZSLs40xFaP0UXDmba00PDqVuo4FH5s=</v2:pOSIdent>', '<v2:pOSIdent>T/sOfNBmULfA5GzBpJRYu3UWEwhw4PFYydRQSh7x1PSc4RTRLXYaXTfpbt2Da17zSJPbQDKce+cHMMQVCVBRj9+U8wwRYYTBTgLsWbpMpuY=</v2:pOSIdent>', '<v2:pOSIdent>Ym8cWfYJCf8Urrv3bW6nwRZlwSmAaA/8kS8GFhllL8eFIJFCj0FhuzDnHm4d/DQi+nop3gtaovf0HR4b7x9LbCQdjj8cfjGO0N/jFAM+vK4=</v2:pOSIdent>', '<v2:pOSIdent>VFeRVqNwKQBFgxQOxaZ+Uu52XPwYBW85G2cqQzfrUsf4UB1yFq1auOdYlSwQuLB4ThdgaeE4AWjmgOIn5Pk4Rif4DDcbJSu41K6TZ/PZIHw=</v2:pOSIdent>', '<v2:pOSIdent>cc3RAb7ln/HyHThRavcVRYDuQQHgv9VV8nNlwdBNLUZ6oCPq/qyk+T1vPYEx0GCJEl+tQ7UbtUZMwecAoFcEAqknnyNkwfherStqUhxxEQ8=</v2:pOSIdent>', '<v2:pOSIdent>OnlsGwGAyTMPH15d9slPGHS+ul00Ov2hYSesDj7FmHeRy6i+1ttOFelz2GYwTBWMONxcreKb+0Bf2840TsM6LHBDumdabpRRCj+TFicfIo0=</v2:pOSIdent>', '<v2:pOSIdent>JsnHnHK89vL/0oCWFbmIw15mkLQCUsEucRyqJhlrzKopQ2ZPOvDcxyv6C70Sxb2Nv9K7xai/Ig7giS8gJljk3mKkDItXp5ARq7bGkTVbpTw=</v2:pOSIdent>', '<v2:pOSIdent>o0V5H26cXD1+RFNrtHWDD5/5zfRee+2PZtNtw6TfHmL/dqT6lkuBz7xec6grhmrdiCC+G+4G3/yR+0j7jQI5kgysM49mklk1tOHmTrweKQR5jqFgXtG8YTRMo4e1Bcx+</v2:pOSIdent>', '<v2:pOSIdent>Z3anPBTLRy4YQTD0UgZkTJ+keVuWZ8j50lI8whQPyaERWuqwwnwsnvPL5JvmjhqosP5ukUJEFe29IEnCIx6/MSQ0jCVnAyGflCmCnQBnc3JQLWVD9vLnWZYbgp+9oL3r</v2:pOSIdent>', '<v2:pOSIdent>nG1j9b9eZx7u/iGrTPtgGVOrmDaUxd1s2dC8/jiqRtKkXyuaJ7icS9jz00xy2JcS4p338ZsCnpOzwga2Y8tupePeKeUVoWjjSl+o/7/msY0=</v2:pOSIdent>', '<v2:pOSIdent>/AOrBGOFR+4GtqsAvOXC/3kKd0OCEPBVRfEsIPHeW3CoGcU1dio8gmrulsH5/KEvySRvbRT2hlDOXICKukDLldMgNY5z+yASe8F1rqBlKug=</v2:pOSIdent>', '<v2:pOSIdent>4/09lLuaNar2b8ZrhcyqhU1dN1h6cdfYNCg2/RReim82UXm3H5whG2MlvoKzXFltwKfA5MonRqd32zCvZgGfvCUIbqRScDVWKy5fctYb6N0=</v2:pOSIdent>', '<v2:pOSIdent>1icyYJRr8366DjQYyqdj/TTYUgGOuUSp6ck6NDaYLdQ6lU3sbdOjY6CKYEN5T6XuJ8mBowWJicz/4l0lrv0Y+AZetgmFuW0OoM7yEd+5evQ=</v2:pOSIdent>', '<v2:pOSIdent>3ZendyrB5RiGiS5emPZ8oWRhZZQOsLiOHI329ANsTWE3+RDPfNFmHeJzpKvspfBZpBX5RpwGNirjH3hlHeysozmb3+g52m7EfdnRYUR/iAA=</v2:pOSIdent>', '<v2:pOSIdent>f0Fq5zu50GTRnrkINyLmm4FB6t2AI+NAKWQKLMEvIYouMLntEnHVlCeIfnqDywJNzc67IW3ooE0SGX8qZd79oaAoqiqTOgSmOJZB37UHE1c=</v2:pOSIdent>', '<v2:pOSIdent>SI/WjbMksk0HBoUSFb0r0NOoDDPWyQOD/Gjj5J9jXLz6sc4WfJV5XNHIk5db70rNpI+UYws/pK5I8LaeZTkzroFmjKWrOowSE727Vd6F8AI=</v2:pOSIdent>', '<v2:pOSIdent>bWb6QEOjc94in0pmGSBFwRm4FfuaCoxE+aHEHahXFXkx9jUOSdvhaWl40efvjBFwAmnAHHJI/g0nsn0tLis0carj34MDA39ptCnBdYnH5ZA=</v2:pOSIdent>', '<v2:pOSIdent>OlVCtLEjQ+aNPyQNdT0JZPdJ2BEokpMEB+uTlQIY3kneRjP1aRL3CA72359ulPAbO8VfGzNtFEYkByykTtoLJTljQAtit7OAw+N65g+1hCE=</v2:pOSIdent>', '<v2:pOSIdent>KdSYyo8J1zUPVqxHUtY+tXCq1sozzl79fDrwCjZTPA82RA81GrHfiwpq2ymtsH1mkBgkLzE1TRH+MGXYdCunCxgrju4BztjRm1Ouf3qlRaU=</v2:pOSIdent>', '<v2:pOSIdent>zjQFHCstHaYtYTIi9hORZRXYOc6k0hH288KSw9iDzCl+X9pOUGZKaa66zQQEN73fdjsw9/7YjYQ68TBXMm8URmS5tv4YM3mG5Twnjp+eFLQ=</v2:pOSIdent>', '<v2:pOSIdent>AGLNrRX8gxMGgFxc57odWW/yGmn7NeHtyEPqURGIoazP16SegE6xwFHfWC/gQY+WgTtLKjG3cPMzRltvADCgso5adynZFpiklJffFOc7sSo=</v2:pOSIdent>', '<v2:pOSIdent>mSH6sS5yv6vA2jEOtyHeXbjjmSLmJ6SkHkWy/unkzDUZk7xIPT4ioZT0NeRHDgnO9rulMBaBITs2aW7PRZ1GTMRq6GAz0Ie+yIhff+XnzY8=</v2:pOSIdent>', '<v2:pOSIdent>g4EDGsOOSJKaTbLxdmmIcj8xUOiCckDSBeYZG2QP8Pyo2wimkedJNVIfN+/tdChJF372XZO9lHzT3DrU5tYksUlgO+qhLrcu5O5rYerU5DaW0LTwJY0Bn931ZJMUYSeD</v2:pOSIdent>', '<v2:pOSIdent>bALPx2GbQF+oclIHg6WmRdXh3VGeifIWFvCKDsbvenLQNSYNrm6stXbIt7ywtIFTKcJ8K0vSAfKeokpiRi0l3Aex77vwTqobXY/c2lb1xw0=</v2:pOSIdent>', '<v2:pOSIdent>UyRKGvNtD3RY7g1F6Oa/uad7WoAoj5fPL4nUuFVU42SrnDzMgM1Tsix9bmimHtrPJvf44AKjrgwgk+wbP3oLUhMW3sFzdFm2UGW4hfZo0Sw=</v2:pOSIdent>', '<v2:pOSIdent>MkyPxftPwByPP/3T9U6meQYmlU9Uga3YsRKeSLgcelx6L++1XjfRQIJPyJhaQvvlvRiyNUYZdw4tIbfYQq6t/P4y/zkOJPN2VLK3vnm1kks=</v2:pOSIdent>', '<v2:pOSIdent>xJxa+PcfvdT7SIrl7ltvSOlLvQpoVfDY3QhOaspu0STpIUGz9fKJVtDp0bOnnUci5FzZU28fH/A1RJeYV2ZSAOJ1bsB5jodIKw8h+rgjINU=</v2:pOSIdent>', '<v2:pOSIdent>mDkas+QvEOd4+XBxuIW4Da3aEEdBAod5OJM/9la0ivdkMk7DTs9DqRZEI5Lc3wAC7Yb1sw4kp/JEFP3nnG2ZcPT36EJYO+EfrC0OlzewTfM=</v2:pOSIdent>', '<v2:pOSIdent>VdYFVbm+86uuL5NZSDUP9DEEmK6+kQ0Yv94SD3PKGIsyVVcXQ+yl9sVe+9geW8q79xfDY/YF98BVdxRwtIHCYeMzVGLAEMhP7R8SIwcVCtPRH4gdRhvij3OuHXZOjz0M</v2:pOSIdent>', '<v2:pOSIdent>i0/Tr+VNmKgY+wJydNVJbCob8vQemEnjdn3A2r2ffhs8dz4IHH2H2AVcFvTyEOe3ci6MD33ZHXqEu8Lr8L1xtG3SHwhy2TBVM3bEa6vFpMbxj5wBXmFfT/QAGRrOqWBN</v2:pOSIdent>', '<v2:pOSIdent>2fa9YZ/g+IACqr1Etk+QIUPK51iiTwCA/t/nTw+U9RUmjfYorPLrzpPd46Bmj3C3tfw3cyOy5bx0ogGCOZ01eUctqHZQzXY903JlPvzPzlw=</v2:pOSIdent>', '<v2:pOSIdent>5XEbVUHVfI6OxlRPfJGQH6zTwljfLIEzxpL2+mYKOAkIlVMDACBfwbGRkxThLw94hZsh7wZCDRSKiMSbaMMEXuSHd/RO5NZXuOsJqhYGlKI=</v2:pOSIdent>', '<v2:pOSIdent>MDJxuYEcvwdwAi1Fg0is3l8pQHEuYA3JuvhPN/UJqhDXFlzmCXQwxl3WwR400xI4Kh8loBqPredEDVXts4a8Ksr7O0PlW4HuYk5l6HIpY2s=</v2:pOSIdent>', '<v2:pOSIdent>mm/dPuBRthrYVYeJFVs7KbJF8/0AcMBynbtvmHypm+QNWR7vTP4qB6Fjx93b2q7on9TIgT5u2hb9//QrjDl7NRJCaZYrCLqylJUlk4wyvV6WfgnUKGSoDqXg3KnMyIO9</v2:pOSIdent>', '<v2:pOSIdent>tbRykjyqj07e8OWkHFm+S8tm9M+qF0Ql6GN5m/l4Y85srs8uJWK4nCQdC1MCZ4IM3bwHuJRNTy57+V2lkG3QAfoL6VdGB35MSX25Nh5fu3c=</v2:pOSIdent>', '<v2:pOSIdent>cWAf13LtjvC9SIY05qIFaek9K/RpuqJao0AMXiHsDYFjM2eS251ouFycwesABoDs2wWu+kFTmYqxhJyeR7e+WrdGQBbrYHk4M21Ai3xMSF4=</v2:pOSIdent>', '<v2:pOSIdent>1fvxg03sxZo/hSaLM7Lww9w46fBDLTZx2NREsAV7HwkGRjxGKxwq/yWF24gjR+BGxTTQSSLZzxzKsCANYGfupv2Us5sf3kcnc1BVKPtcz5s=</v2:pOSIdent>', '<v2:pOSIdent>+lQ0Ne+Jhd5K4uvds1/KT8qqJcoA/eJ5OloIoqvCQi04X93kbmO62f/i2fqJgk62odrpl2ye04ue7tlKR93hckH4u46kVMoHQWmYF/rBWMA=</v2:pOSIdent>', '<v2:pOSIdent>psGq9l14Woi29AYN5bHwdxU5WmX1vyRzVSJuucNo5e2D8193gu/to3VObZbd3vc0L+fDzX+X5nL42Wu8iePZgJhokFKOM8uNqezVZiQQ6P0=</v2:pOSIdent>', '<v2:pOSIdent>lWpFU3UmWlpSe8TtpUMRBCFflbRtrT1aEpzxnv1MEXnpCGhTicndBKbyJjsfMJMdgH+U78n9GU5DNm6bXxNhnC2JU2MIzwpJObcy4n2Baqk=</v2:pOSIdent>', '<v2:pOSIdent>FxrmEj8jkUJ9rfUt8DkkVOUbhQdxwKgENy+oxwXMp0yU3OttGGEKPmExw49PdHUzB2Fwto/UgZ+MAHpoXFEeOWwwuK+acbAp2CPWPzhTl9A=</v2:pOSIdent>', '<v2:pOSIdent>Fi39z7m2FANK18yYncVWlU0YQ8u8FLjldrBRweDzDAhBc7pe75fu3JHKj+g5n/5aa4dpfuoLVrjuRQC94G/kkGKlglQD+qewgR7q6jBOwmk=</v2:pOSIdent>', '<v2:pOSIdent>hYx9AoiwOYp3PeBhp6IQj6ziSiq2pyPNpBi1mvE38CFs26YIOfEcz/gX7/onHmSLHl2uWlIZPprUd3pXACAgkJcYspPiGc8uOWt9Q18iiYA=</v2:pOSIdent>', '<v2:pOSIdent>neqUuNVqO4j95P+NofCPKL0MpZxkXTUrIQe/eQxf0fZUF4yLhcArvN3to7uRIMN7sVm18i3/pvS0bQbpHxmQT+iN8Gfl/dcR2gsSyVVLXGs=</v2:pOSIdent>', '<v2:pOSIdent>tTP8WqxRGv8mdc7niazOGdOIcMRfCRB7JY9mCaqqaUTa7+Dfu31hRdVtAa3hh0+XsMXUJvVewoV3piXC7IBr50LGZjrOLcIho++X0N07jJ0=</v2:pOSIdent>', '<v2:pOSIdent>7TsaZA7GFeEVxMscggvr2LkRAZwqfDywZ9HtkoX92fdNI/VFseD7SjfY8rJ7IlS7o2MG7D4mG56FZUTFOUWW7a5GeMmtDAasGLtodOgvIOA=</v2:pOSIdent>', '<v2:pOSIdent>wpKK2F/BDnPKTx2S67hQVOVPGlU5agILyPckG4iVAkBux64yqWY7aR5ndq6iAavR1drvKIzk14UMMDi88nOhNF7O1i6BnJF20ugsKC/upYE=</v2:pOSIdent>', '<v2:pOSIdent>xairWnG248pu7itR19AIT0hdzsYi1LAHuAt8fIswNgUvi97XTCdWljEuXGf2xQ4c5hhgGnY0ZVp2yOEEGwJ70iljjCDlCM46qs/+W/UHZSQ=</v2:pOSIdent>', '<v2:pOSIdent>KhrNZfOu3UPVx0J3V8kMtS9CZ5x9bc/JsMxwurOsDV7Z/IpcR6nA43E3vtpb+uujF4/FF7VOesEOFK3IS4UbncSMhhLL215enh/PGWVACCHNXwDFbAXYk9f1KAuFGSY0</v2:pOSIdent>', '<v2:pOSIdent>64R47PeqD9SONivn8apY/lJWp7PMqXzY9utJl+M+BfUUirKmMZliVuxYKEtLpIva6glOyFHdvIofu9Hwu2HKl1m5M6qSyaHfCuQu6GdIy0E=</v2:pOSIdent>', '<v2:pOSIdent>CVikHowKhw3xouJMIqJHZOijnR1LvQJ4hcufAgajhU4QQjJEHn2n19OvpxLG8AXGSDlKlRzQkWOnseHWTe89/ht9nNqJXvjUKcxpd3dr3VQ=</v2:pOSIdent>', '<v2:pOSIdent>DqJj5oG/KEn8Q/Q6Kyh4kM1M3AeoyvOzDBYgQ6vQvCLC7pU1cHmPTEyzCfhCvzeZbeAuEchEqmWXu1R9UGKSNlfY9G/wZcA3lqfBd+wfigs=</v2:pOSIdent>', '<v2:pOSIdent>PtV2GbyZOZzpReCKf7eFnHRmrU7K4TTcUse25gDBLjKDnzwoc8Sz5tqpCN3vNn4dZMHS+XYlQ+ScsS+WeS/PxoEkyD/byLp2xhUlTYgDucvrvLKp+sDogobmGqlmnSSO</v2:pOSIdent>', '<v2:pOSIdent>/ipU68hnjrq1J7ZDi4JBaAyBiKjxZzpGZSVIfv8yFMKSKy3PpT/lba/0c4YCdqvrexVCCAL0MxBbob3A75l2Tnkgw/HHXtm0+abSHVywLEM=</v2:pOSIdent>', '<v2:pOSIdent>J0XZSVcq2fC4+FYE6P3FVpDsLeaKuuk80AoPHtHneWOa/KJrhWPux7doPjfExqFN4LQpeDRfyYI7bUweOjQiYfue4Tp65/jPFCtpDLTpHj4=</v2:pOSIdent>']\n"
     ]
    },
    {
     "data": {
      "text/plain": [
       "108"
      ]
     },
     "execution_count": 5,
     "metadata": {},
     "output_type": "execute_result"
    }
   ],
   "source": [
    "ctios = CtiOSGdal(username=username,\n",
    "                  password=password,\n",
    "                  db_path=temp_db)\n",
    "posidents = ctios.get_parameters_from_db()\n",
    "print(posidents)\n",
    "len(posidents)"
   ]
  },
  {
   "cell_type": "markdown",
   "id": "blind-minute",
   "metadata": {},
   "source": [
    "Nad seznamem zavolame metodu .process, ktera k zadanym identifikatorum aktualizuje v tabulce osobni udaje:"
   ]
  },
  {
   "cell_type": "code",
   "execution_count": 6,
   "id": "polish-stanford",
   "metadata": {
    "scrolled": false
   },
   "outputs": [
    {
     "name": "stderr",
     "output_type": "stream",
     "text": [
      "ctiOS        - CRITICAL - WSDP REQUEST ERROR - 404 Client Error: Not Found for url: https://wsdptrial.cuzk.cz/trial/ws/ctios/2.8/ctios\n"
     ]
    },
    {
     "ename": "WSDPRequestError",
     "evalue": "(<WSDPLogger ctiOS (DEBUG)>, HTTPError('404 Client Error: Not Found for url: https://wsdptrial.cuzk.cz/trial/ws/ctios/2.8/ctios',))",
     "output_type": "error",
     "traceback": [
      "\u001b[0;31m---------------------------------------------------------------------------\u001b[0m",
      "\u001b[0;31mHTTPError\u001b[0m                                 Traceback (most recent call last)",
      "\u001b[0;32m~/pywsdp/base/__init__.py\u001b[0m in \u001b[0;36mcall_service\u001b[0;34m(self, xml)\u001b[0m\n\u001b[1;32m    190\u001b[0m             )\n\u001b[0;32m--> 191\u001b[0;31m             \u001b[0mr\u001b[0m\u001b[0;34m.\u001b[0m\u001b[0mraise_for_status\u001b[0m\u001b[0;34m(\u001b[0m\u001b[0;34m)\u001b[0m\u001b[0;34m\u001b[0m\u001b[0;34m\u001b[0m\u001b[0m\n\u001b[0m\u001b[1;32m    192\u001b[0m             \u001b[0;31m# if self.log_dir:\u001b[0m\u001b[0;34m\u001b[0m\u001b[0;34m\u001b[0m\u001b[0;34m\u001b[0m\u001b[0m\n",
      "\u001b[0;32m/usr/lib/python3/dist-packages/requests/models.py\u001b[0m in \u001b[0;36mraise_for_status\u001b[0;34m(self)\u001b[0m\n\u001b[1;32m    934\u001b[0m         \u001b[0;32mif\u001b[0m \u001b[0mhttp_error_msg\u001b[0m\u001b[0;34m:\u001b[0m\u001b[0;34m\u001b[0m\u001b[0;34m\u001b[0m\u001b[0m\n\u001b[0;32m--> 935\u001b[0;31m             \u001b[0;32mraise\u001b[0m \u001b[0mHTTPError\u001b[0m\u001b[0;34m(\u001b[0m\u001b[0mhttp_error_msg\u001b[0m\u001b[0;34m,\u001b[0m \u001b[0mresponse\u001b[0m\u001b[0;34m=\u001b[0m\u001b[0mself\u001b[0m\u001b[0;34m)\u001b[0m\u001b[0;34m\u001b[0m\u001b[0;34m\u001b[0m\u001b[0m\n\u001b[0m\u001b[1;32m    936\u001b[0m \u001b[0;34m\u001b[0m\u001b[0m\n",
      "\u001b[0;31mHTTPError\u001b[0m: 404 Client Error: Not Found for url: https://wsdptrial.cuzk.cz/trial/ws/ctios/2.8/ctios",
      "\nDuring handling of the above exception, another exception occurred:\n",
      "\u001b[0;31mWSDPRequestError\u001b[0m                          Traceback (most recent call last)",
      "\u001b[0;32m<ipython-input-6-d15f17cb49a0>\u001b[0m in \u001b[0;36m<module>\u001b[0;34m\u001b[0m\n\u001b[0;32m----> 1\u001b[0;31m \u001b[0mctios\u001b[0m\u001b[0;34m.\u001b[0m\u001b[0mprocess\u001b[0m\u001b[0;34m(\u001b[0m\u001b[0mposidents\u001b[0m\u001b[0;34m)\u001b[0m\u001b[0;34m\u001b[0m\u001b[0;34m\u001b[0m\u001b[0m\n\u001b[0m",
      "\u001b[0;32m~/pywsdp/services/ctiOS/__init__.py\u001b[0m in \u001b[0;36mprocess\u001b[0;34m(self, ids_array)\u001b[0m\n\u001b[1;32m    108\u001b[0m             \u001b[0mxml\u001b[0m \u001b[0;34m=\u001b[0m \u001b[0mself\u001b[0m\u001b[0;34m.\u001b[0m\u001b[0mrenderXML\u001b[0m\u001b[0;34m(\u001b[0m\u001b[0mposidents\u001b[0m\u001b[0;34m=\u001b[0m\u001b[0;34m\"\"\u001b[0m\u001b[0;34m.\u001b[0m\u001b[0mjoin\u001b[0m\u001b[0;34m(\u001b[0m\u001b[0mchunk\u001b[0m\u001b[0;34m)\u001b[0m\u001b[0;34m)\u001b[0m\u001b[0;34m\u001b[0m\u001b[0;34m\u001b[0m\u001b[0m\n\u001b[1;32m    109\u001b[0m             \u001b[0;31m#print(xml)\u001b[0m\u001b[0;34m\u001b[0m\u001b[0;34m\u001b[0m\u001b[0;34m\u001b[0m\u001b[0m\n\u001b[0;32m--> 110\u001b[0;31m             \u001b[0mresponse_xml\u001b[0m \u001b[0;34m=\u001b[0m \u001b[0mself\u001b[0m\u001b[0;34m.\u001b[0m\u001b[0mcall_service\u001b[0m\u001b[0;34m(\u001b[0m\u001b[0mxml\u001b[0m\u001b[0;34m)\u001b[0m\u001b[0;34m\u001b[0m\u001b[0;34m\u001b[0m\u001b[0m\n\u001b[0m\u001b[1;32m    111\u001b[0m             \u001b[0mprint\u001b[0m\u001b[0;34m(\u001b[0m\u001b[0mresponse_xml\u001b[0m\u001b[0;34m)\u001b[0m\u001b[0;34m\u001b[0m\u001b[0;34m\u001b[0m\u001b[0m\n\u001b[1;32m    112\u001b[0m             \u001b[0mdictionary\u001b[0m \u001b[0;34m=\u001b[0m \u001b[0mself\u001b[0m\u001b[0;34m.\u001b[0m\u001b[0mparseXML\u001b[0m\u001b[0;34m(\u001b[0m\u001b[0mresponse_xml\u001b[0m\u001b[0;34m)\u001b[0m\u001b[0;34m\u001b[0m\u001b[0;34m\u001b[0m\u001b[0m\n",
      "\u001b[0;32m~/pywsdp/base/__init__.py\u001b[0m in \u001b[0;36mcall_service\u001b[0;34m(self, xml)\u001b[0m\n\u001b[1;32m    193\u001b[0m             \u001b[0;31m#    self.logger.debug(response_xml)\u001b[0m\u001b[0;34m\u001b[0m\u001b[0;34m\u001b[0m\u001b[0;34m\u001b[0m\u001b[0m\n\u001b[1;32m    194\u001b[0m         \u001b[0;32mexcept\u001b[0m \u001b[0mrequests\u001b[0m\u001b[0;34m.\u001b[0m\u001b[0mexceptions\u001b[0m\u001b[0;34m.\u001b[0m\u001b[0mRequestException\u001b[0m \u001b[0;32mas\u001b[0m \u001b[0me\u001b[0m\u001b[0;34m:\u001b[0m\u001b[0;34m\u001b[0m\u001b[0;34m\u001b[0m\u001b[0m\n\u001b[0;32m--> 195\u001b[0;31m             \u001b[0;32mraise\u001b[0m \u001b[0mWSDPRequestError\u001b[0m\u001b[0;34m(\u001b[0m\u001b[0mself\u001b[0m\u001b[0;34m.\u001b[0m\u001b[0mlogger\u001b[0m\u001b[0;34m,\u001b[0m \u001b[0me\u001b[0m\u001b[0;34m)\u001b[0m\u001b[0;34m\u001b[0m\u001b[0;34m\u001b[0m\u001b[0m\n\u001b[0m\u001b[1;32m    196\u001b[0m         \u001b[0mresponse_xml\u001b[0m \u001b[0;34m=\u001b[0m \u001b[0mr\u001b[0m\u001b[0;34m.\u001b[0m\u001b[0mtext\u001b[0m\u001b[0;34m\u001b[0m\u001b[0;34m\u001b[0m\u001b[0m\n\u001b[1;32m    197\u001b[0m         \u001b[0;32mreturn\u001b[0m \u001b[0mresponse_xml\u001b[0m\u001b[0;34m\u001b[0m\u001b[0;34m\u001b[0m\u001b[0m\n",
      "\u001b[0;31mWSDPRequestError\u001b[0m: (<WSDPLogger ctiOS (DEBUG)>, HTTPError('404 Client Error: Not Found for url: https://wsdptrial.cuzk.cz/trial/ws/ctios/2.8/ctios',))"
     ]
    }
   ],
   "source": [
    "ctios.process(posidents)"
   ]
  },
  {
   "cell_type": "markdown",
   "id": "valid-effect",
   "metadata": {},
   "source": [
    "Pri posilani pozadavku na sluzbu mohou byt na strane WSDP sluzby odhaleny chyby ve vstupnim souboru: neplatny identifikator, expirovany identifikator a opravneny subjekt neexistuje. Jak muzeme videt, na konci zpracovani se nam vypise jednoducha statistika zpracovavanych subjektu obsahujici i statistiku chyb. Tuto statistiku je treba po kazdem zpracovani zkontrolovat."
   ]
  },
  {
   "cell_type": "markdown",
   "id": "confidential-gasoline",
   "metadata": {},
   "source": [
    " Nyni uz se muzeme podivat do naplnene databaze:"
   ]
  },
  {
   "cell_type": "markdown",
   "id": "conservative-clerk",
   "metadata": {},
   "source": [
    "Podivame se do naplnene databaze:"
   ]
  },
  {
   "cell_type": "code",
   "execution_count": null,
   "id": "british-illness",
   "metadata": {},
   "outputs": [],
   "source": [
    "con = sqlite3.connect(temp_db)\n",
    "cur = con.cursor()\n",
    "\n",
    "for row in cur.execute(\"SELECT * FROM OPSUB\"):\n",
    "    print(row)\n",
    "    \n",
    "con.close()"
   ]
  },
  {
   "cell_type": "markdown",
   "id": "interstate-competition",
   "metadata": {},
   "source": [
    "Skvele! Databazi se podarilo aktualizovat. :-)"
   ]
  },
  {
   "cell_type": "markdown",
   "id": "mexican-advertiser",
   "metadata": {},
   "source": [
    "### Vyber pseudonymizovanych identifikatoru"
   ]
  },
  {
   "cell_type": "markdown",
   "id": "confidential-diamond",
   "metadata": {},
   "source": [
    "Pokud nepotrebujeme zpracovavat celou tabulku, muzeme si vybrat jen nektere pseudonymizovane identifikatory."
   ]
  },
  {
   "cell_type": "markdown",
   "id": "african-madness",
   "metadata": {},
   "source": [
    "Zase si udelame kopii databaze:"
   ]
  },
  {
   "cell_type": "code",
   "execution_count": null,
   "id": "interim-railway",
   "metadata": {},
   "outputs": [],
   "source": [
    "temp_db = tempfile.mkstemp()[1]\n",
    "copyfile(db_path, temp_db)\n",
    "print(temp_db)"
   ]
  },
  {
   "cell_type": "markdown",
   "id": "senior-virgin",
   "metadata": {},
   "source": [
    "Zavolame si knihovnu a pri ziskavani identifikatoru z databaze pouzijeme parametr \"sql\". Zajima nas pouze 10 prvnich identifikatoru:"
   ]
  },
  {
   "cell_type": "code",
   "execution_count": null,
   "id": "japanese-council",
   "metadata": {},
   "outputs": [],
   "source": [
    "ctios = CtiOSGdal(username=username,\n",
    "                  password=password,\n",
    "                  db_path=temp_db)\n",
    "sql = \"SELECT * FROM OPSUB order by ID LIMIT 10\"\n",
    "posidents = ctios.get_parameters_from_db(sql) # pouzijeme parametr sql\n",
    "print(posidents)"
   ]
  },
  {
   "cell_type": "markdown",
   "id": "objective-journalist",
   "metadata": {},
   "source": [
    "Nad seznamem zavolame metodu .process, ktera k zadanym identifikatorum aktualizuje v tabulce osobni udaje:"
   ]
  },
  {
   "cell_type": "code",
   "execution_count": null,
   "id": "clear-moral",
   "metadata": {},
   "outputs": [],
   "source": [
    "ctios.process(posidents)"
   ]
  },
  {
   "cell_type": "markdown",
   "id": "amended-wayne",
   "metadata": {},
   "source": [
    "Podivame se na aktualizovanou databazi:"
   ]
  },
  {
   "cell_type": "code",
   "execution_count": null,
   "id": "destroyed-legislature",
   "metadata": {},
   "outputs": [],
   "source": [
    "con = sqlite3.connect(temp_db)\n",
    "cur = con.cursor()\n",
    "\n",
    "for row in cur.execute(\"SELECT * FROM OPSUB order by ID LIMIT 10\"):\n",
    "    print(row)\n",
    "    \n",
    "con.close()"
   ]
  },
  {
   "cell_type": "markdown",
   "id": "induced-recorder",
   "metadata": {},
   "source": [
    "Je dobre vedet, ze identifikatory nemusime ziskavat z databaze, ale muzeme je take ziskat z testoveho souboru, kde je oddelovacem carka:"
   ]
  },
  {
   "cell_type": "code",
   "execution_count": null,
   "id": "intermediate-respondent",
   "metadata": {},
   "outputs": [],
   "source": [
    "txt_path = os.path.join(module_path, 'services', 'ctiOS', 'data', 'input', 'ctios_all.txt')\n",
    "posidents = ctios.get_parameters_from_txt(txt_path)\n",
    "print(posidents)"
   ]
  },
  {
   "cell_type": "markdown",
   "id": "considerable-hardwood",
   "metadata": {},
   "source": [
    "Nebo je muzeme rovnou inicializovat jako seznam, ktery predame jako argument do funkce ctios.process()."
   ]
  }
 ],
 "metadata": {
  "kernelspec": {
   "display_name": "Python 3",
   "language": "python",
   "name": "python3"
  },
  "language_info": {
   "codemirror_mode": {
    "name": "ipython",
    "version": 3
   },
   "file_extension": ".py",
   "mimetype": "text/x-python",
   "name": "python",
   "nbconvert_exporter": "python",
   "pygments_lexer": "ipython3",
   "version": "3.6.9"
  }
 },
 "nbformat": 4,
 "nbformat_minor": 5
}
