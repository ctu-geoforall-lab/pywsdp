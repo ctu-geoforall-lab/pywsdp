{
 "cells": [
  {
   "cell_type": "markdown",
   "id": "instructional-favor",
   "metadata": {},
   "source": [
    "## Ukázka zpracování dat z SQLite databáze"
   ]
  },
  {
   "cell_type": "markdown",
   "id": "90da2d0b",
   "metadata": {},
   "source": [
    "Nejprve naimportujeme knihovny a potřebné moduly. Pokud je třeba, přidáme cestu k modulu pywsdp do PATH."
   ]
  },
  {
   "cell_type": "code",
   "execution_count": 1,
   "id": "fewer-right",
   "metadata": {},
   "outputs": [],
   "source": [
    "import os\n",
    "import sys\n",
    "\n",
    "library_path = os.path.abspath(os.path.join(\"../../\"))\n",
    "if library_path not in sys.path:\n",
    "    sys.path.append(library_path)\n",
    "\n",
    "from pywsdp.modules import CtiOS\n",
    "from pywsdp.modules.CtiOS import OutputFormat\n"
   ]
  },
  {
   "cell_type": "markdown",
   "id": "82a6a8cc",
   "metadata": {},
   "source": [
    "Prihlasime se k modulu CtiOS. Pro tento ucel vyuzijeme testovaci pristupove udaje do DP."
   ]
  },
  {
   "cell_type": "code",
   "execution_count": 2,
   "id": "6a289697",
   "metadata": {},
   "outputs": [],
   "source": [
    "creds_test = [\"WSTEST\", \"WSHESLO\"]\n",
    "ctios = CtiOS(creds_test, trial=True)"
   ]
  },
  {
   "cell_type": "markdown",
   "id": "cd87a621",
   "metadata": {},
   "source": [
    "Urcime si cesty k vstupni databazi a vystupnimu souboru, kam budeme chtit vyslednou updatovanou databazi ulozit."
   ]
  },
  {
   "cell_type": "code",
   "execution_count": 3,
   "id": "d330f440",
   "metadata": {},
   "outputs": [],
   "source": [
    "db_path = os.path.abspath(\n",
    "    os.path.join(library_path, \"tests\", \"data\", \"input\", \"ctios_template.db\")\n",
    ")\n",
    "\n",
    "vystupni_adresar = os.path.abspath(\n",
    "    os.path.join(library_path, \"tests\", \"data\", \"output\")\n",
    ")\n",
    "\n",
    "# create output directory if not exists\n",
    "if os.path.exists(vystupni_adresar) == False:\n",
    "    os.mkdir(vystupni_adresar)\n",
    "\n"
   ]
  },
  {
   "cell_type": "markdown",
   "id": "f52cd569",
   "metadata": {},
   "source": [
    "Nacteme identifikatory z databaze (omezime pocet nactenych identifikatoru selectem)."
   ]
  },
  {
   "cell_type": "code",
   "execution_count": 4,
   "id": "72796ff9",
   "metadata": {},
   "outputs": [],
   "source": [
    "parametry_ctiOS_db = ctios.nacti_identifikatory_z_db(db_path, \"SELECT * FROM OPSUB order by ID LIMIT 5\")"
   ]
  },
  {
   "cell_type": "markdown",
   "id": "7dc3739a",
   "metadata": {},
   "source": [
    "Posleme pozadavek a vypiseme si statistiku zpracovanych identifikatoru."
   ]
  },
  {
   "cell_type": "code",
   "execution_count": 5,
   "id": "2719c63b",
   "metadata": {},
   "outputs": [
    {
     "name": "stderr",
     "output_type": "stream",
     "text": [
      "ctiOS        - INFO     -  \n",
      "ctiOS        - INFO     - Požadovaná akce byla úspěšně provedena.\n",
      "ctiOS        - INFO     - POSIDENT +lQ0Ne+Jhd5K4uvds1/KT8qqJcoA/eJ5OloIoqvCQi04X93kbmO62f/i2fqJgk62odrpl2ye04ue7tlKR93hckH4u46kVMoHQWmYF/rBWMA= USPESNE STAZEN\n",
      "ctiOS        - INFO     - POSIDENT 00ep7V5fFBZoFMeOfcAOPMRtu0G9svLcsDyC/fYkJk3EbFIqbw2kpRaC1jjS1V8bjacEwrp/SdxXZXdtwDzFj3vKzXvHF7k7HiDpVtv6fPAUIS/cKLcyZ7viQd7pE5FE USPESNE STAZEN\n",
      "ctiOS        - INFO     - POSIDENT /AOrBGOFR+4GtqsAvOXC/3kKd0OCEPBVRfEsIPHeW3CoGcU1dio8gmrulsH5/KEvySRvbRT2hlDOXICKukDLldMgNY5z+yASe8F1rqBlKug= USPESNE STAZEN\n",
      "ctiOS        - INFO     - POSIDENT +VKfYaKhJDrRHUWeS2e7xO7g+HhFQapZMPa5kamaF/wSOs6r3xEPEVFhtUlWqcXO9GTopZEjqpsTbsKhZmN7VxYJSxvgcgTWMGdxYkQVCaU= USPESNE STAZEN\n",
      "ctiOS        - INFO     - POSIDENT /ipU68hnjrq1J7ZDi4JBaAyBiKjxZzpGZSVIfv8yFMKSKy3PpT/lba/0c4YCdqvrexVCCAL0MxBbob3A75l2Tnkgw/HHXtm0+abSHVywLEM= USPESNE STAZEN\n",
      "ctiOS        - INFO     - Celkovy pocet dotazovanych identifikatoru na vstupu: 5\n",
      "ctiOS        - INFO     - Pocet odstranenych duplicitnich identifikatoru: 0\n",
      "ctiOS        - INFO     - Pocet pozadavku, do kterych byl dotaz rozdelen (pocet dotazu na server): 1\n",
      "ctiOS        - INFO     - Realny uspesne zpracovanych identifikatoru: 5\n",
      "ctiOS        - INFO     - Pocet neplatnych identifikatoru: 0\n",
      "ctiOS        - INFO     - Pocet expirovanych identifikatoru: 0\n",
      "ctiOS        - INFO     - Pocet identifikatoru k neexistujicim OS: 0\n"
     ]
    }
   ],
   "source": [
    "slovnik, slovnik_chybnych = ctios.posli_pozadavek(parametry_ctiOS_db)"
   ]
  },
  {
   "cell_type": "markdown",
   "id": "08d1cbcc",
   "metadata": {},
   "source": [
    "Ulozime vysledne identifikatory ve forme slovniku do databaze. Dale podle vyplneneho atributu jmeno (v pripade fyzicke osoby) nebo nazvu (v pripade pravnicke osoby nebo SJM) zkontrolujeme pocet aktualizovanych radku."
   ]
  },
  {
   "cell_type": "code",
   "execution_count": 6,
   "id": "15a1b70d",
   "metadata": {},
   "outputs": [
    {
     "name": "stderr",
     "output_type": "stream",
     "text": [
      "ctiOS        - INFO     - Vystup byl ulozen zde: /home/linduska/pywsdp/tests/data/output/ctios_16_36_58_28_10_2022.db\n"
     ]
    }
   ],
   "source": [
    "vystup, vystup_chybnych = ctios.uloz_vystup(\n",
    "    slovnik, vystupni_adresar, OutputFormat.GdalDb, slovnik_chybnych\n",
    ")\n",
    "assert os.path.exists(vystup) == True\n",
    "\n",
    "import sqlite3\n",
    "con = sqlite3.connect(vystup)\n",
    "cur = con.cursor()\n",
    "for row in cur.execute(\"SELECT count(*) FROM OPSUB where jmeno is not null or nazev is not null\"):\n",
    "    assert row == (5,)\n",
    "con.close()"
   ]
  }
 ],
 "metadata": {
  "kernelspec": {
   "display_name": "Python 3 (ipykernel)",
   "language": "python",
   "name": "python3"
  },
  "language_info": {
   "codemirror_mode": {
    "name": "ipython",
    "version": 3
   },
   "file_extension": ".py",
   "mimetype": "text/x-python",
   "name": "python",
   "nbconvert_exporter": "python",
   "pygments_lexer": "ipython3",
   "version": "3.10.6"
  }
 },
 "nbformat": 4,
 "nbformat_minor": 5
}
