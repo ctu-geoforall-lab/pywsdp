{
 "cells": [
  {
   "cell_type": "markdown",
   "id": "instructional-favor",
   "metadata": {},
   "source": [
    "# Knihovna CtiOSGdal"
   ]
  },
  {
   "cell_type": "markdown",
   "id": "incorporated-employer",
   "metadata": {},
   "source": [
    "Nejdrive naimportujeme knihovny:"
   ]
  },
  {
   "cell_type": "code",
   "execution_count": 1,
   "id": "fewer-right",
   "metadata": {},
   "outputs": [],
   "source": [
    "import os\n",
    "import sys\n",
    "import sqlite3\n",
    "import tempfile\n",
    "from shutil import copyfile\n",
    "\n",
    "# Moduly jsou v jinem adresari, je tedy nutne tento adresar pridat do sys.path\n",
    "module_path = os.path.abspath(os.path.join('../../'))\n",
    "if module_path not in sys.path:\n",
    "   sys.path.append(module_path)\n",
    "\n",
    "from services.ctiOS.gdal import CtiOSGdal"
   ]
  },
  {
   "cell_type": "markdown",
   "id": "tutorial-space",
   "metadata": {},
   "source": [
    "Pote nadefinujeme parametry nutne pro inicializaci knihovny:"
   ]
  },
  {
   "cell_type": "code",
   "execution_count": 2,
   "id": "based-russian",
   "metadata": {},
   "outputs": [
    {
     "name": "stdout",
     "output_type": "stream",
     "text": [
      "/home/linwe/pywsdp/services/ctiOS/data/input/Export_1-4.db\n"
     ]
    }
   ],
   "source": [
    "# pristupove testovaci udaje k sluzbam WSDP\n",
    "username = \"WSTEST\"\n",
    "password = \"WSHESLO\"\n",
    "# rozbaleny VFK soubor ve forme sqlite databaze\n",
    "db_path = os.path.join(module_path, 'services', 'ctiOS', 'data', 'input', 'Export_1-4.db')\n",
    "print(db_path)"
   ]
  },
  {
   "cell_type": "markdown",
   "id": "quality-valve",
   "metadata": {},
   "source": [
    "### Zpracovani cele tabulky OPSUB"
   ]
  },
  {
   "cell_type": "markdown",
   "id": "excessive-circuit",
   "metadata": {},
   "source": [
    "Nejprve nas bude zajimat zpracovani cele tabulky OPSUB - tedy doplneni udaju ke vsem radkum v teto tabulce. V databazi jsou tyto udaje zatim nevyplnene:"
   ]
  },
  {
   "cell_type": "code",
   "execution_count": 3,
   "id": "resident-premises",
   "metadata": {
    "scrolled": true
   },
   "outputs": [
    {
     "name": "stdout",
     "output_type": "stream",
     "text": [
      "('64R47PeqD9SONivn8apY/lJWp7PMqXzY9utJl+M+BfUUirKmMZliVuxYKEtLpIva6glOyFHdvIofu9Hwu2HKl1m5M6qSyaHfCuQu6GdIy0E=', None, None, None, None, None, None, None, None, None, 'OPO', 3, 1, 1, None, None, None, None, None, None, None, None, None, None, None, None, None, None, None, None, None, None, None, None, None, None, None, 1)\n",
      "('cWAf13LtjvC9SIY05qIFaek9K/RpuqJao0AMXiHsDYFjM2eS251ouFycwesABoDs2wWu+kFTmYqxhJyeR7e+WrdGQBbrYHk4M21Ai3xMSF4=', None, None, None, None, None, None, None, None, None, 'OFO', 2, None, None, None, None, None, None, None, None, None, None, None, None, None, None, None, None, None, None, None, None, None, None, None, None, None, 2)\n",
      "('psGq9l14Woi29AYN5bHwdxU5WmX1vyRzVSJuucNo5e2D8193gu/to3VObZbd3vc0L+fDzX+X5nL42Wu8iePZgJhokFKOM8uNqezVZiQQ6P0=', None, None, None, None, None, None, None, None, None, 'OFO', 2, None, None, None, None, None, None, None, None, None, None, None, None, None, None, None, None, None, None, None, None, None, None, None, None, None, 3)\n",
      "('r/e02ptfcJ47n0rUY4NM6xWfd1OtN4e/Xu5+rNe3pOEOVnL0HIiVQe4Uy8l4k8SYVJNj5qAU70p692ABBUteyJl2nyFJ7iYFpjclbK8bnAo=', None, None, None, None, None, None, None, None, None, 'OPO', 11, 70890650, None, None, None, None, None, None, None, None, None, None, None, None, None, None, None, None, None, None, None, None, None, None, None, None, 4)\n",
      "('uecJ/wWk2Ej6CAnwe3i0y0jfrp9Xr1oMVJ+9kLKpkU8trb/GSsJmcvNw7XJ0dzNpkKLYrpaxDPIVMKGKnG/ZMzSYtEOoqKGnRHhbt/PXjUr/RJzL4O5LlsS30GNP3Kka', None, None, None, None, None, None, 'VdYFVbm+86uuL5NZSDUP9DEEmK6+kQ0Yv94SD3PKGIsyVVcXQ+yl9sVe+9geW8q79xfDY/YF98BVdxRwtIHCYeMzVGLAEMhP7R8SIwcVCtPRH4gdRhvij3OuHXZOjz0M', 'iiEV2WxdTX+t1nEWFd7yaYbQZZywMlcwPhbKqBAzOY6CX0HQ2oRjBHYMhQqUlWEI4y+81BfCeY6OP0xZQrr1RKnpMsPGHI4JzDnlw+BAUK4=', None, 'BSM', 1, None, None, None, None, None, None, None, None, None, None, None, None, None, None, None, None, None, None, None, None, None, None, None, None, None, 5)\n",
      "('Vm+8vMmIsWsvcxR9zMDL9Cy+E0ZgHj9AJ3kwMqaLxguXn6wJcfM3e3LWpd7RzRxm3woikNUtGPF45crUFMpAsfsa/Bmx4YzTqTFCj0vhoQY=', None, None, None, None, None, None, None, None, None, 'OFO', 2, None, None, None, None, None, None, None, None, None, None, None, None, None, None, None, None, None, None, None, None, None, None, None, None, None, 6)\n",
      "('T/sOfNBmULfA5GzBpJRYu3UWEwhw4PFYydRQSh7x1PSc4RTRLXYaXTfpbt2Da17zSJPbQDKce+cHMMQVCVBRj9+U8wwRYYTBTgLsWbpMpuY=', None, None, None, None, None, None, 'YmUx0yovmm7KUEMHfNDNpoVOmGYvPqyRhXUvSy9IuU94rqInTL8t6bf0sCVjnZTbAcpxcarHierENslhHtEwj6DxtUGSIQbZSPKa5P3uA7Y=', 'q4ZUhGQGivshfEEsiHkiC1iJJE3pRXruvCrdiEi+or/nkYeeJD1NajXvl5Mm8/CU8QeovLeXweZgIuOQW3+R6S9vo/4qfzC81k40opUrblk=', None, 'BSM', 1, None, None, None, None, None, None, None, None, None, None, None, None, None, None, None, None, None, None, None, None, None, None, None, None, None, 7)\n",
      "('lWpFU3UmWlpSe8TtpUMRBCFflbRtrT1aEpzxnv1MEXnpCGhTicndBKbyJjsfMJMdgH+U78n9GU5DNm6bXxNhnC2JU2MIzwpJObcy4n2Baqk=', None, None, None, None, None, None, None, None, None, 'OFO', 2, None, None, None, None, None, None, None, None, None, None, None, None, None, None, None, None, None, None, None, None, None, None, None, None, None, 8)\n",
      "('mDkas+QvEOd4+XBxuIW4Da3aEEdBAod5OJM/9la0ivdkMk7DTs9DqRZEI5Lc3wAC7Yb1sw4kp/JEFP3nnG2ZcPT36EJYO+EfrC0OlzewTfM=', None, None, None, None, None, None, None, None, None, 'OFO', 2, None, None, None, None, None, None, None, None, None, None, None, None, None, None, None, None, None, None, None, None, None, None, None, None, None, 9)\n",
      "('7TsaZA7GFeEVxMscggvr2LkRAZwqfDywZ9HtkoX92fdNI/VFseD7SjfY8rJ7IlS7o2MG7D4mG56FZUTFOUWW7a5GeMmtDAasGLtodOgvIOA=', None, None, None, None, None, None, 'AGLNrRX8gxMGgFxc57odWW/yGmn7NeHtyEPqURGIoazP16SegE6xwFHfWC/gQY+WgTtLKjG3cPMzRltvADCgso5adynZFpiklJffFOc7sSo=', 'Vm+8vMmIsWsvcxR9zMDL9Cy+E0ZgHj9AJ3kwMqaLxguXn6wJcfM3e3LWpd7RzRxm3woikNUtGPF45crUFMpAsfsa/Bmx4YzTqTFCj0vhoQY=', None, 'BSM', 1, None, None, None, None, None, None, None, None, None, None, None, None, None, None, None, None, None, None, None, None, None, None, None, None, None, 10)\n",
      "('yqpT3s/QygUWqCsg/azKypTOTOuJdbjB/16kQv0m5uugaHFJh8Mtp2i7sCdt71GRZixdYAzCVqEa4mNgvEjDECGf0Fby1B2nv1NdlyFQPrg=', None, None, None, None, None, None, None, None, None, 'OFO', 2, None, None, None, None, None, None, None, None, None, None, None, None, None, None, None, None, None, None, None, None, None, None, None, None, None, 11)\n",
      "('Z3anPBTLRy4YQTD0UgZkTJ+keVuWZ8j50lI8whQPyaERWuqwwnwsnvPL5JvmjhqosP5ukUJEFe29IEnCIx6/MSQ0jCVnAyGflCmCnQBnc3JQLWVD9vLnWZYbgp+9oL3r', None, None, None, None, None, None, None, None, None, 'OFO', 2, None, None, None, None, None, None, None, None, None, None, None, None, None, None, None, None, None, None, None, None, None, None, None, None, None, 12)\n",
      "('i0/Tr+VNmKgY+wJydNVJbCob8vQemEnjdn3A2r2ffhs8dz4IHH2H2AVcFvTyEOe3ci6MD33ZHXqEu8Lr8L1xtG3SHwhy2TBVM3bEa6vFpMbxj5wBXmFfT/QAGRrOqWBN', None, None, None, None, None, None, None, None, None, 'OFO', 2, None, None, None, None, None, None, None, None, None, None, None, None, None, None, None, None, None, None, None, None, None, None, None, None, None, 13)\n",
      "('/AOrBGOFR+4GtqsAvOXC/3kKd0OCEPBVRfEsIPHeW3CoGcU1dio8gmrulsH5/KEvySRvbRT2hlDOXICKukDLldMgNY5z+yASe8F1rqBlKug=', None, None, None, None, None, None, None, None, None, 'OFO', 2, None, None, None, None, None, None, None, None, None, None, None, None, None, None, None, None, None, None, None, None, None, None, None, None, None, 14)\n",
      "('4m3Yuf1esDMzbgNGYW7kv4xM1N45Dxn1k9MaGswf4YFbSpYmJ+3xwjL90xaHQXSbHmnsQrT0+ynMYrGA2IZA8C2XWS7b0Diy4ZU0x4rQBKE=', None, None, None, None, None, None, None, None, None, 'OFO', 2, None, None, None, None, None, None, None, None, None, None, None, None, None, None, None, None, None, None, None, None, None, None, None, None, None, 15)\n",
      "('8QZWq1vuQ1NdCHkoh0JT2+dtPBjool2L7dNZ6f7XTg/mUCOWuwssd0KErzLHrbhoji0ibmLF+XYB1yO8HkOMdAzdgdGISOTdPRN6VI5OtRw=', None, None, None, None, None, None, None, None, None, 'OFO', 2, None, None, None, None, None, None, None, None, None, None, None, None, None, None, None, None, None, None, None, None, None, None, None, None, None, 16)\n",
      "('cc3RAb7ln/HyHThRavcVRYDuQQHgv9VV8nNlwdBNLUZ6oCPq/qyk+T1vPYEx0GCJEl+tQ7UbtUZMwecAoFcEAqknnyNkwfherStqUhxxEQ8=', None, None, None, None, None, None, None, None, None, 'OFO', 2, None, None, None, None, None, None, None, None, None, None, None, None, None, None, None, None, None, None, None, None, None, None, None, None, None, 17)\n",
      "('BBgBQ2wok0L43hEZUEeiehwwgrnYkvSWpgVkTEuS44FGAKrsjBz/UVx+LWdeKO2khvGuk0dwf2GE9ziJR5j2lVd4ioIVbPKS1oaCurIfCpA=', None, None, None, None, None, None, None, None, None, 'OFO', 2, None, None, None, None, None, None, None, None, None, None, None, None, None, None, None, None, None, None, None, None, None, None, None, None, None, 18)\n",
      "('2fa9YZ/g+IACqr1Etk+QIUPK51iiTwCA/t/nTw+U9RUmjfYorPLrzpPd46Bmj3C3tfw3cyOy5bx0ogGCOZ01eUctqHZQzXY903JlPvzPzlw=', None, None, None, None, None, None, None, None, None, 'OFO', 2, None, None, None, None, None, None, None, None, None, None, None, None, None, None, None, None, None, None, None, None, None, None, None, None, None, 19)\n",
      "('4fX93lhUET5sT1ayzq9OpcSRV0gvsmNLslOQvs8+KTdyJsmn3y+TCQng5mo8u4MYP3wirZ0sAvHunZFDqcFGEGLmoyTsulfA3fwbyWIXnO0=', None, None, None, None, None, None, None, None, None, 'OFO', 2, None, None, None, None, None, None, None, None, None, None, None, None, None, None, None, None, None, None, None, None, None, None, None, None, None, 20)\n",
      "('KdSYyo8J1zUPVqxHUtY+tXCq1sozzl79fDrwCjZTPA82RA81GrHfiwpq2ymtsH1mkBgkLzE1TRH+MGXYdCunCxgrju4BztjRm1Ouf3qlRaU=', None, None, None, None, None, None, None, None, None, 'OFO', 2, None, None, None, None, None, None, None, None, None, None, None, None, None, None, None, None, None, None, None, None, None, None, None, None, None, 21)\n",
      "('FxrmEj8jkUJ9rfUt8DkkVOUbhQdxwKgENy+oxwXMp0yU3OttGGEKPmExw49PdHUzB2Fwto/UgZ+MAHpoXFEeOWwwuK+acbAp2CPWPzhTl9A=', None, None, None, None, None, None, None, None, None, 'OFO', 2, None, None, None, None, None, None, None, None, None, None, None, None, None, None, None, None, None, None, None, None, None, None, None, None, None, 22)\n",
      "('5XEbVUHVfI6OxlRPfJGQH6zTwljfLIEzxpL2+mYKOAkIlVMDACBfwbGRkxThLw94hZsh7wZCDRSKiMSbaMMEXuSHd/RO5NZXuOsJqhYGlKI=', None, None, None, None, None, None, None, None, None, 'OFO', 2, None, None, None, None, None, None, None, None, None, None, None, None, None, None, None, None, None, None, None, None, None, None, None, None, None, 23)\n",
      "('YoYw5r0/dk0UgEcID286w2rFb6t3U7giw8vvUmXDmdv364oblaqoIpw8bgi1UsDJuLTH7urInxbRTuAjkVPJkl844VwfQvfn351HMcIRpO4=', None, None, None, None, None, None, '+lQ0Ne+Jhd5K4uvds1/KT8qqJcoA/eJ5OloIoqvCQi04X93kbmO62f/i2fqJgk62odrpl2ye04ue7tlKR93hckH4u46kVMoHQWmYF/rBWMA=', '3aW3srZ5a3T/ChIj+sdMrJE0sk738z0ZHA0q6GgFh5H2Szl4VYLSRCfCHyEMA8cAKwbYizIHXcv/r5goxydoDSZCgYHe6mOZsomLL2Jwop4=', None, 'BSM', 1, None, None, None, None, None, None, None, None, None, None, None, None, None, None, None, None, None, None, None, None, None, None, None, None, None, 24)\n",
      "('ii1ts7FFbqpo6yGBWGh1nOLXCLjB90kz9iKvoIKpczc0Mv9v/qzYbRn4D5as9Bf9mjnNVahNGuqoXZSLs40xFaP0UXDmba00PDqVuo4FH5s=', None, None, None, None, None, None, None, None, None, 'OPO', 11, 25183907, None, None, None, None, None, None, None, None, None, None, None, None, None, None, None, None, None, None, None, None, None, None, None, None, 25)\n",
      "('a4uuL5087aAkDOdoVblOShaQjHZZiAz79ef8xsvMcMgrPH6vAmPki7VNwOXKxvCG9eshEijbAukEr7jJOHUEcC8HpMau6Eer288lakdfmH8=', None, None, None, None, None, None, None, None, None, 'OFO', 2, None, None, None, None, None, None, None, None, None, None, None, None, None, None, None, None, None, None, None, None, None, None, None, None, None, 26)\n",
      "('SI/WjbMksk0HBoUSFb0r0NOoDDPWyQOD/Gjj5J9jXLz6sc4WfJV5XNHIk5db70rNpI+UYws/pK5I8LaeZTkzroFmjKWrOowSE727Vd6F8AI=', None, None, None, None, None, None, None, None, None, 'OFO', 2, None, None, None, None, None, None, None, None, None, None, None, None, None, None, None, None, None, None, None, None, None, None, None, None, None, 27)\n",
      "('W6gjRuthAEnH1o8Yu7Zc0k4Kv4ZLv7aGA1z5lSGliY7LT+ipTzG5nMPXsAayqF6KbLLThknyZXMnOrxfYJ70gXNdBJdRWXoDui8Oq8kTTjM=', None, None, None, None, None, None, None, None, None, 'OFO', 2, None, None, None, None, None, None, None, None, None, None, None, None, None, None, None, None, None, None, None, None, None, None, None, None, None, 28)\n",
      "('UtkReXE24+hFt9Wp0bqKaX85nwQdDmfMUgydTTHuf3xaV8DBXxPhnN/njjvOH7vurf6kdNoM0VtJq7id2emrlY9VTrLvGF+6WQl5MjmLBq0=', None, None, None, None, None, None, None, None, None, 'OFO', 2, None, None, None, None, None, None, None, None, None, None, None, None, None, None, None, None, None, None, None, None, None, None, None, None, None, 29)\n",
      "('Fi39z7m2FANK18yYncVWlU0YQ8u8FLjldrBRweDzDAhBc7pe75fu3JHKj+g5n/5aa4dpfuoLVrjuRQC94G/kkGKlglQD+qewgR7q6jBOwmk=', None, None, None, None, None, None, None, None, None, 'OFO', 2, None, None, None, None, None, None, None, None, None, None, None, None, None, None, None, None, None, None, None, None, None, None, None, None, None, 30)\n",
      "('UKcYWvUUTpNi8flxUzlm+TSnnprgWLVUHQLYF9LrVQpOOqQ6wycE7XBa1xVt+SzU+NR+i4CvbqbaTivPkjaaQbFOZw8LEOjjFYowWGpfJHKUl6UeeOCVx+jaGjtgvaWo', None, None, None, None, None, None, None, None, None, 'OFO', 2, None, None, None, None, None, None, None, None, None, None, None, None, None, None, None, None, None, None, None, None, None, None, None, None, None, 31)\n",
      "('XHIBU/Os4CXjIriHfhjuJMtIZCEvJBRz3RTj02SaUqCUWW2nYww1irZFjR1y3ieG3vIdjnr7ZpukTGijByBS8mUDBj9jPUeUxRUhwptQp+k=', None, None, None, None, None, None, None, None, None, 'OFO', 2, None, None, None, None, None, None, None, None, None, None, None, None, None, None, None, None, None, None, None, None, None, None, None, None, None, 32)\n",
      "('WpAGVIbtrw3p6Ic2ebTbXNCwsz0FKsnGB9V9QeaExKo21vI1yF5xcnK/ftMPvAe0P43ooFP1+vRsJWe0rET59I1aQW/uq+Ca3bHca+9xTcc=', None, None, None, None, None, None, None, None, None, 'OFO', 2, None, None, None, None, None, None, None, None, None, None, None, None, None, None, None, None, None, None, None, None, None, None, None, None, None, 33)\n",
      "('xocTMRuuiHIYwNN3v/RUpArt2Fhetx6zLzs1TUM4gw+ObLyU2HJkAPQ5WdENo82O2DPHBJrt2XiurT7d3j3H5mEqs6IWf89iXlFyWJLkDow=', None, None, None, None, None, None, None, None, None, 'OFO', 2, None, None, None, None, None, None, None, None, None, None, None, None, None, None, None, None, None, None, None, None, None, None, None, None, None, 34)\n",
      "('MDJxuYEcvwdwAi1Fg0is3l8pQHEuYA3JuvhPN/UJqhDXFlzmCXQwxl3WwR400xI4Kh8loBqPredEDVXts4a8Ksr7O0PlW4HuYk5l6HIpY2s=', None, None, None, None, None, None, None, None, None, 'OFO', 2, None, None, None, None, None, None, None, None, None, None, None, None, None, None, None, None, None, None, None, None, None, None, None, None, None, 35)\n",
      "('aOWF/BYRV4K+0xg/HdeP3T3Tm/aSXL8Z3ShJxg4zYChQJRi3EoVsQ1xr+eatOjsz8o55pTpCs81iSwIC5oNvPFZhZ5upIuj6y1Ntb5sYT1M=', None, None, None, None, None, None, None, None, None, 'OFO', 2, None, None, None, None, None, None, None, None, None, None, None, None, None, None, None, None, None, None, None, None, None, None, None, None, None, 36)\n",
      "('xwHUBBpYTSRS3sFNKTf++dy1Sq83Nmg0C3LE2zx/dRI/jmDT/1OXGDmy3qOw9d0bhwXKp2Oh1GzKgb1Cn4XPvr4qRmtDDESo1yswvoJeFP30WPTfjkelYDu3p6O0eFVE', None, None, None, None, None, None, None, None, None, 'OFO', 2, None, None, None, None, None, None, None, None, None, None, None, None, None, None, None, None, None, None, None, None, None, None, None, None, None, 37)\n",
      "('zmOpxLJr7ii9CZo8JeEAhu560hyoaYhJxlUGsxC/ggqb1kd+9XxbAXVjaH4LL8Pl8MeUbaTxqcB+gZD09IoChvR9cPq9ftAZ0yk1NlxNYc4=', None, None, None, None, None, None, None, None, None, 'OFO', 2, None, None, None, None, None, None, None, None, None, None, None, None, None, None, None, None, None, None, None, None, None, None, None, None, None, 38)\n",
      "('CVikHowKhw3xouJMIqJHZOijnR1LvQJ4hcufAgajhU4QQjJEHn2n19OvpxLG8AXGSDlKlRzQkWOnseHWTe89/ht9nNqJXvjUKcxpd3dr3VQ=', None, None, None, None, None, None, None, None, None, 'OPO', 11, 25161806, None, None, None, None, None, None, None, None, None, None, None, None, None, None, None, None, None, None, None, None, None, None, None, None, 39)\n",
      "('xJxa+PcfvdT7SIrl7ltvSOlLvQpoVfDY3QhOaspu0STpIUGz9fKJVtDp0bOnnUci5FzZU28fH/A1RJeYV2ZSAOJ1bsB5jodIKw8h+rgjINU=', None, None, None, None, None, None, 'NezMzNG/s2Rz33QBJ/J9xHsKkt3gPqkDcB/VqU6fmfWs/kc8bLBXqEfKbgE9/Co4Ah9Ft2xfVdjm9TZnDDLf0DSivtf34CqbrOgDPJv7Q/c=', 'Y+s9bH0/ld/NLE4dOgaHgoRcmRrSt+dsqPhNnh0oXeafk9E4WZlgsCnF1La1gw7EoZ3hLsizggDDnbV+DyNJinyL5ABL87B4d4Q1NIT8goQ=', None, 'BSM', 1, None, None, None, None, None, None, None, None, None, None, None, None, None, None, None, None, None, None, None, None, None, None, None, None, None, 40)\n",
      "('fwdsUaxtVKyjWdhcx8QMu3passZadTC0q5Sr0L0GOPWU1zzK73MDWdQ5MBficQF1IrTyXx7Rs9OwGPxW1syorUZI5+2oQKWwn68UnX0PwWE=', None, None, None, None, None, None, 'OSAJs7W4HqDew0srlaev6U4G6+SYLaddr65lGbvSoNr/avJL76h/vK1sBGmQ9kvy0TkOuLNofgfzYOT4s5Imp3Vn8LiiR/fKy0ofj18gbPA=', 'rPKv7V+fiEfstUB0S6cpEXh6yGTq4bTlCE6uBX5kXieyAh7EWrBaFnwukM66O1XZH25ALIqbX1tDBENeMzMJccMI/bn5rUrlJhEog7igBLY=', None, 'BSM', 1, None, None, None, None, None, None, None, None, None, None, None, None, None, None, None, None, None, None, None, None, None, None, None, None, None, 41)\n",
      "('wpKK2F/BDnPKTx2S67hQVOVPGlU5agILyPckG4iVAkBux64yqWY7aR5ndq6iAavR1drvKIzk14UMMDi88nOhNF7O1i6BnJF20ugsKC/upYE=', None, None, None, None, None, None, None, None, None, 'OFO', 2, None, None, None, None, None, None, None, None, None, None, None, None, None, None, None, None, None, None, None, None, None, None, None, None, None, 42)\n",
      "('00ep7V5fFBZoFMeOfcAOPMRtu0G9svLcsDyC/fYkJk3EbFIqbw2kpRaC1jjS1V8bjacEwrp/SdxXZXdtwDzFj3vKzXvHF7k7HiDpVtv6fPAUIS/cKLcyZ7viQd7pE5FE', None, None, None, None, None, None, None, None, None, 'OFO', 2, None, None, None, None, None, None, None, None, None, None, None, None, None, None, None, None, None, None, None, None, None, None, None, None, None, 43)\n",
      "('MvCbj6Q05AQW6847EAgIYrqDl8FsW8iuqz8WE/HYFlpxpTCi+ZWTWE8dAPeAWfTMF1wjj1diDvFHVemk8/36dxQsW43Uru7qNvUgjA0dTLp6FJD3zaBDiCU/SbyoKdsU', None, None, None, None, None, None, None, None, None, 'OFO', 2, None, None, None, None, None, None, None, None, None, None, None, None, None, None, None, None, None, None, None, None, None, None, None, None, None, 44)\n",
      "('rdsGfgHvYfix3H2OkFc5hhGU9AzpRXOZ8wOen/EBHoSu+oxaE9cUuQfix2dxN4Ly+Z6KVQlqDqPxEwTEhD9dcfIiP1TKGUho0PE8lkkSZYOYQIcVm5TH5bmcWK1EL2Vf', None, None, None, None, None, None, None, None, None, 'OFO', 2, None, None, None, None, None, None, None, None, None, None, None, None, None, None, None, None, None, None, None, None, None, None, None, None, None, 45)\n",
      "('ltTJU+/1imoqO4saz1ta1pntVZVjlmlhpGVVh7Fj6CWr6Vgawjzeh7VgOuVYXDOW5lRObbNrYbtKIm2eQuy574oba80Ht3or9iloCT+zPM0=', None, None, None, None, None, None, None, None, None, 'OFO', 2, None, None, None, None, None, None, None, None, None, None, None, None, None, None, None, None, None, None, None, None, None, None, None, None, None, 46)\n",
      "('OlVCtLEjQ+aNPyQNdT0JZPdJ2BEokpMEB+uTlQIY3kneRjP1aRL3CA72359ulPAbO8VfGzNtFEYkByykTtoLJTljQAtit7OAw+N65g+1hCE=', None, None, None, None, None, None, None, None, None, 'OFO', 2, None, None, None, None, None, None, None, None, None, None, None, None, None, None, None, None, None, None, None, None, None, None, None, None, None, 47)\n",
      "('JsnHnHK89vL/0oCWFbmIw15mkLQCUsEucRyqJhlrzKopQ2ZPOvDcxyv6C70Sxb2Nv9K7xai/Ig7giS8gJljk3mKkDItXp5ARq7bGkTVbpTw=', None, None, None, None, None, None, 'VFeRVqNwKQBFgxQOxaZ+Uu52XPwYBW85G2cqQzfrUsf4UB1yFq1auOdYlSwQuLB4ThdgaeE4AWjmgOIn5Pk4Rif4DDcbJSu41K6TZ/PZIHw=', '1icyYJRr8366DjQYyqdj/TTYUgGOuUSp6ck6NDaYLdQ6lU3sbdOjY6CKYEN5T6XuJ8mBowWJicz/4l0lrv0Y+AZetgmFuW0OoM7yEd+5evQ=', None, 'BSM', 1, None, None, None, None, None, None, None, None, None, None, None, None, None, None, None, None, None, None, None, None, None, None, None, None, None, 48)\n",
      "('nG1j9b9eZx7u/iGrTPtgGVOrmDaUxd1s2dC8/jiqRtKkXyuaJ7icS9jz00xy2JcS4p338ZsCnpOzwga2Y8tupePeKeUVoWjjSl+o/7/msY0=', None, None, None, None, None, None, 'Ym8cWfYJCf8Urrv3bW6nwRZlwSmAaA/8kS8GFhllL8eFIJFCj0FhuzDnHm4d/DQi+nop3gtaovf0HR4b7x9LbCQdjj8cfjGO0N/jFAM+vK4=', 'KT0rdHsWxrS4WVWKRhvDWBeGio9P4NTZ7lNEEIKsVLoNg0h9Aa3eaUlBOXK78gVI/NPe3cwRgpXofQaTGOJG66jDnqP52CJNzjOVfaxQWLc=', None, 'BSM', 1, None, None, None, None, None, None, None, None, None, None, None, None, None, None, None, None, None, None, None, None, None, None, None, None, None, 49)\n",
      "('OnlsGwGAyTMPH15d9slPGHS+ul00Ov2hYSesDj7FmHeRy6i+1ttOFelz2GYwTBWMONxcreKb+0Bf2840TsM6LHBDumdabpRRCj+TFicfIo0=', None, None, None, None, None, None, None, None, None, 'OPO', 11, 583090, None, None, None, None, None, None, None, None, None, None, None, None, None, None, None, None, None, None, None, None, None, None, None, None, 50)\n",
      "('KhrNZfOu3UPVx0J3V8kMtS9CZ5x9bc/JsMxwurOsDV7Z/IpcR6nA43E3vtpb+uujF4/FF7VOesEOFK3IS4UbncSMhhLL215enh/PGWVACCHNXwDFbAXYk9f1KAuFGSY0', None, None, None, None, None, None, None, None, None, 'OFO', 2, None, None, None, None, None, None, None, None, None, None, None, None, None, None, None, None, None, None, None, None, None, None, None, None, None, 51)\n",
      "('4/09lLuaNar2b8ZrhcyqhU1dN1h6cdfYNCg2/RReim82UXm3H5whG2MlvoKzXFltwKfA5MonRqd32zCvZgGfvCUIbqRScDVWKy5fctYb6N0=', None, None, None, None, None, None, 'iXuo5APMiSDKHjvq6Zwp4znpylRk3VICHbMd0CZEnHv0Yfd9IxzLRCvYD0GcdPBgCsVQP5C/sjWn2YmF1qe/BxyobmNhG4SPsa0pKedo4PE=', 'zjQFHCstHaYtYTIi9hORZRXYOc6k0hH288KSw9iDzCl+X9pOUGZKaa66zQQEN73fdjsw9/7YjYQ68TBXMm8URmS5tv4YM3mG5Twnjp+eFLQ=', None, 'BSM', 1, None, None, None, None, None, None, None, None, None, None, None, None, None, None, None, None, None, None, None, None, None, None, None, None, None, 52)\n",
      "('hkL5rQrRg4S5vLOBt4eIJJ2V2TYoj0cfedxg4BSHxDvBJaNn+d2ls2yJhQkE7K5+I/9kkq+O03kCIXt6l6W4ga3EUu0UY/A+TRgJcpxsiahtWTyp5miG9XnLxAhSWHJ5', None, None, None, None, None, None, None, None, None, 'OPO', 4, 1312774, None, None, None, None, None, None, None, None, None, None, None, None, None, None, None, None, None, None, None, None, None, None, None, '64R47PeqD9SONivn8apY/lJWp7PMqXzY9utJl+M+BfUUirKmMZliVuxYKEtLpIva6glOyFHdvIofu9Hwu2HKl1m5M6qSyaHfCuQu6GdIy0E=', 53)\n",
      "('Ym8cWfYJCf8Urrv3bW6nwRZlwSmAaA/8kS8GFhllL8eFIJFCj0FhuzDnHm4d/DQi+nop3gtaovf0HR4b7x9LbCQdjj8cfjGO0N/jFAM+vK4=', None, None, None, None, None, None, None, None, None, 'OFO', 2, None, None, None, None, None, None, None, None, None, None, None, None, None, None, None, None, None, None, None, None, None, None, None, None, None, 54)\n",
      "('OSAJs7W4HqDew0srlaev6U4G6+SYLaddr65lGbvSoNr/avJL76h/vK1sBGmQ9kvy0TkOuLNofgfzYOT4s5Imp3Vn8LiiR/fKy0ofj18gbPA=', None, None, None, None, None, None, None, None, None, 'OFO', 2, None, None, None, None, None, None, None, None, None, None, None, None, None, None, None, None, None, None, None, None, None, None, None, None, None, 55)\n",
      "('UyRKGvNtD3RY7g1F6Oa/uad7WoAoj5fPL4nUuFVU42SrnDzMgM1Tsix9bmimHtrPJvf44AKjrgwgk+wbP3oLUhMW3sFzdFm2UGW4hfZo0Sw=', None, None, None, None, None, None, None, None, None, 'OFO', 2, None, None, None, None, None, None, None, None, None, None, None, None, None, None, None, None, None, None, None, None, None, None, None, None, None, 56)\n",
      "('VdYFVbm+86uuL5NZSDUP9DEEmK6+kQ0Yv94SD3PKGIsyVVcXQ+yl9sVe+9geW8q79xfDY/YF98BVdxRwtIHCYeMzVGLAEMhP7R8SIwcVCtPRH4gdRhvij3OuHXZOjz0M', None, None, None, None, None, None, None, None, None, 'OFO', 2, None, None, None, None, None, None, None, None, None, None, None, None, None, None, None, None, None, None, None, None, None, None, None, None, None, 57)\n",
      "('J3hMa2yksIRcQaD51HVTH3Q6WzhIEBRV4Pjvzv1m9JVCaVFmqbSQLmMqp5SX+mFgX+CkR4Tf0RenGliXDwBkGky9DnZquQo+qDKWLThkZ7c=', None, None, None, None, None, None, None, None, None, 'OFO', 2, None, None, None, None, None, None, None, None, None, None, None, None, None, None, None, None, None, None, None, None, None, None, None, None, None, 58)\n",
      "('1icyYJRr8366DjQYyqdj/TTYUgGOuUSp6ck6NDaYLdQ6lU3sbdOjY6CKYEN5T6XuJ8mBowWJicz/4l0lrv0Y+AZetgmFuW0OoM7yEd+5evQ=', None, None, None, None, None, None, None, None, None, 'OFO', 2, None, None, None, None, None, None, None, None, None, None, None, None, None, None, None, None, None, None, None, None, None, None, None, None, None, 59)\n",
      "('VFeRVqNwKQBFgxQOxaZ+Uu52XPwYBW85G2cqQzfrUsf4UB1yFq1auOdYlSwQuLB4ThdgaeE4AWjmgOIn5Pk4Rif4DDcbJSu41K6TZ/PZIHw=', None, None, None, None, None, None, None, None, None, 'OFO', 2, None, None, None, None, None, None, None, None, None, None, None, None, None, None, None, None, None, None, None, None, None, None, None, None, None, 60)\n",
      "('mSH6sS5yv6vA2jEOtyHeXbjjmSLmJ6SkHkWy/unkzDUZk7xIPT4ioZT0NeRHDgnO9rulMBaBITs2aW7PRZ1GTMRq6GAz0Ie+yIhff+XnzY8=', None, None, None, None, None, None, None, None, None, 'OFO', 2, None, None, None, None, None, None, None, None, None, None, None, None, None, None, None, None, None, None, None, None, None, None, None, None, None, 61)\n",
      "('YmUx0yovmm7KUEMHfNDNpoVOmGYvPqyRhXUvSy9IuU94rqInTL8t6bf0sCVjnZTbAcpxcarHierENslhHtEwj6DxtUGSIQbZSPKa5P3uA7Y=', None, None, None, None, None, None, None, None, None, 'OFO', 2, None, None, None, None, None, None, None, None, None, None, None, None, None, None, None, None, None, None, None, None, None, None, None, None, None, 62)\n",
      "('MkyPxftPwByPP/3T9U6meQYmlU9Uga3YsRKeSLgcelx6L++1XjfRQIJPyJhaQvvlvRiyNUYZdw4tIbfYQq6t/P4y/zkOJPN2VLK3vnm1kks=', None, None, None, None, None, None, None, None, None, 'OFO', 2, None, None, None, None, None, None, None, None, None, None, None, None, None, None, None, None, None, None, None, None, None, None, None, None, None, 63)\n",
      "('+lQ0Ne+Jhd5K4uvds1/KT8qqJcoA/eJ5OloIoqvCQi04X93kbmO62f/i2fqJgk62odrpl2ye04ue7tlKR93hckH4u46kVMoHQWmYF/rBWMA=', None, None, None, None, None, None, None, None, None, 'OFO', 2, None, None, None, None, None, None, None, None, None, None, None, None, None, None, None, None, None, None, None, None, None, None, None, None, None, 64)\n",
      "('o0V5H26cXD1+RFNrtHWDD5/5zfRee+2PZtNtw6TfHmL/dqT6lkuBz7xec6grhmrdiCC+G+4G3/yR+0j7jQI5kgysM49mklk1tOHmTrweKQR5jqFgXtG8YTRMo4e1Bcx+', None, None, None, None, None, None, None, None, None, 'OFO', 2, None, None, None, None, None, None, None, None, None, None, None, None, None, None, None, None, None, None, None, None, None, None, None, None, None, 65)\n",
      "('mm/dPuBRthrYVYeJFVs7KbJF8/0AcMBynbtvmHypm+QNWR7vTP4qB6Fjx93b2q7on9TIgT5u2hb9//QrjDl7NRJCaZYrCLqylJUlk4wyvV6WfgnUKGSoDqXg3KnMyIO9', None, None, None, None, None, None, None, None, None, 'OFO', 2, None, None, None, None, None, None, None, None, None, None, None, None, None, None, None, None, None, None, None, None, None, None, None, None, None, 66)\n",
      "('Ku76SlYfgFivONmh8bdyl02qHhLEuGPdDbCow70bilmRc26J2noXqBoufBPT4kfi2B5Nm5H9w1NFHR+pNQuGoQfdXwnXwz8VCNF2QsJnBe8ypwQghGm+6xd1Xp/20VgA', None, None, None, None, None, None, None, None, None, 'OFO', 2, None, None, None, None, None, None, None, None, None, None, None, None, None, None, None, None, None, None, None, None, None, None, None, None, None, 67)\n",
      "('J0XZSVcq2fC4+FYE6P3FVpDsLeaKuuk80AoPHtHneWOa/KJrhWPux7doPjfExqFN4LQpeDRfyYI7bUweOjQiYfue4Tp65/jPFCtpDLTpHj4=', None, None, None, None, None, None, None, None, None, 'OFO', 2, None, None, None, None, None, None, None, None, None, None, None, None, None, None, None, None, None, None, None, None, None, None, None, None, None, 68)\n",
      "('g4EDGsOOSJKaTbLxdmmIcj8xUOiCckDSBeYZG2QP8Pyo2wimkedJNVIfN+/tdChJF372XZO9lHzT3DrU5tYksUlgO+qhLrcu5O5rYerU5DaW0LTwJY0Bn931ZJMUYSeD', None, None, None, None, None, None, None, None, None, 'OFO', 2, None, None, None, None, None, None, None, None, None, None, None, None, None, None, None, None, None, None, None, None, None, None, None, None, None, 69)\n",
      "('hf/HqLIgE7zvLimKwDjWOVhOmPY03cK5NxklSV6zIn0uRs5Uh3gkcycrY7GPiEamJWSEInqSAEwmZdx3/uM9hMBXYt+pwgje7SZyLBu2DhA=', None, None, None, None, None, None, None, None, None, 'OFO', 2, None, None, None, None, None, None, None, None, None, None, None, None, None, None, None, None, None, None, None, None, None, None, None, None, None, 70)\n",
      "('hMFmuv9xLKl7itElRb+ABKUfR4GPjNp8o8f7v5TImNsrDMbOSFs0n+msxztqnzvgTnj+Rm6QehwZNK64c6pIeSUBViUprt4npOhmD/7zcrk=', None, None, None, None, None, None, None, None, None, 'OFO', 2, None, None, None, None, None, None, None, None, None, None, None, None, None, None, None, None, None, None, None, None, None, None, None, None, None, 71)\n",
      "('PtV2GbyZOZzpReCKf7eFnHRmrU7K4TTcUse25gDBLjKDnzwoc8Sz5tqpCN3vNn4dZMHS+XYlQ+ScsS+WeS/PxoEkyD/byLp2xhUlTYgDucvrvLKp+sDogobmGqlmnSSO', None, None, None, None, None, None, None, None, None, 'OFO', 2, None, None, None, None, None, None, None, None, None, None, None, None, None, None, None, None, None, None, None, None, None, None, None, None, None, 72)\n",
      "('xEZvrXlG0ZciECwqZA8HsRDxiJlp9fBs8xvGltU/5rrKNmW4Nt247mvOtyXLHLspnNXQcio8j41RuWDpNtwjcde1q0aYKZzTi8AFFqOEN88=', None, None, None, None, None, None, None, None, None, 'OFO', 2, None, None, None, None, None, None, None, None, None, None, None, None, None, None, None, None, None, None, None, None, None, None, None, None, None, 73)\n",
      "('hYx9AoiwOYp3PeBhp6IQj6ziSiq2pyPNpBi1mvE38CFs26YIOfEcz/gX7/onHmSLHl2uWlIZPprUd3pXACAgkJcYspPiGc8uOWt9Q18iiYA=', None, None, None, None, None, None, '1fvxg03sxZo/hSaLM7Lww9w46fBDLTZx2NREsAV7HwkGRjxGKxwq/yWF24gjR+BGxTTQSSLZzxzKsCANYGfupv2Us5sf3kcnc1BVKPtcz5s=', 'l0raZybOozQ95JWgTnaQpiplmmtdzAp2RiExSTwc+CmrRcDkW8jPHrWwYA33OP9DV3647Ea9f04G8Wyca2N6FJccnQQNFaY66A5TWLwA8dc=', None, 'BSM', 1, None, None, None, None, None, None, None, None, None, None, None, None, None, None, None, None, None, None, None, None, None, None, None, None, None, 74)\n",
      "('bWb6QEOjc94in0pmGSBFwRm4FfuaCoxE+aHEHahXFXkx9jUOSdvhaWl40efvjBFwAmnAHHJI/g0nsn0tLis0carj34MDA39ptCnBdYnH5ZA=', None, None, None, None, None, None, None, None, None, 'OFO', 2, None, None, None, None, None, None, None, None, None, None, None, None, None, None, None, None, None, None, None, None, None, None, None, None, None, 75)\n",
      "('neqUuNVqO4j95P+NofCPKL0MpZxkXTUrIQe/eQxf0fZUF4yLhcArvN3to7uRIMN7sVm18i3/pvS0bQbpHxmQT+iN8Gfl/dcR2gsSyVVLXGs=', None, None, None, None, None, None, None, None, None, 'OFO', 2, None, None, None, None, None, None, None, None, None, None, None, None, None, None, None, None, None, None, None, None, None, None, None, None, None, 76)\n",
      "('YSaRmQMUJtP5iHcBKPfOwIotTcrYSx4zMLFVrcnuaCmeFEm/VL5lHuo34uh5THwLFv7UohQK3AOjWfNiucgP14yqeR9UNxTi5O9pkiZz0LI=', None, None, None, None, None, None, None, None, None, 'OFO', 2, None, None, None, None, None, None, None, None, None, None, None, None, None, None, None, None, None, None, None, None, None, None, None, None, None, 77)\n",
      "('5wQRil9Nd5KIrn5KWTf8+ucfKEsayz4LR/ZrAucExc8z+4hWyMyh+ABIewfIBvgQMxxF8/2HqFMn0OE/IphQisnADW27BjQ8Cn2Ui2i+xLM=', None, None, None, None, None, None, None, None, None, 'OFO', 2, None, None, None, None, None, None, None, None, None, None, None, None, None, None, None, None, None, None, None, None, None, None, None, None, None, 78)\n",
      "('H6BJyag+3cV1xBsFPBuuip4rM871q3h2gO2AszXSo6CmQ9q6IQ+sqm+YGxa8TyS365iI6gf3iY3cV9REk4c0H9FpsORYvWNYFwG7CrJ9iLas5dj12SPyvF51BRjr/0au', None, None, None, None, None, None, None, None, None, 'OFO', 2, None, None, None, None, None, None, None, None, None, None, None, None, None, None, None, None, None, None, None, None, None, None, None, None, None, 79)\n",
      "('DqJj5oG/KEn8Q/Q6Kyh4kM1M3AeoyvOzDBYgQ6vQvCLC7pU1cHmPTEyzCfhCvzeZbeAuEchEqmWXu1R9UGKSNlfY9G/wZcA3lqfBd+wfigs=', None, None, None, None, None, None, None, None, None, 'OFO', 2, None, None, None, None, None, None, None, None, None, None, None, None, None, None, None, None, None, None, None, None, None, None, None, None, None, 80)\n",
      "('JjjGmmAuY2r+vgvGvpKNjDzRo+CAGsMfhosMMP10Vq0blIcrdQ6xqI0zWSD6eKKGrDXBtI6dxcnnkgUOlFgjkH081Qeg/URu3ZByDWe/3BI=', None, None, None, None, None, None, 'mSH6sS5yv6vA2jEOtyHeXbjjmSLmJ6SkHkWy/unkzDUZk7xIPT4ioZT0NeRHDgnO9rulMBaBITs2aW7PRZ1GTMRq6GAz0Ie+yIhff+XnzY8=', 'xairWnG248pu7itR19AIT0hdzsYi1LAHuAt8fIswNgUvi97XTCdWljEuXGf2xQ4c5hhgGnY0ZVp2yOEEGwJ70iljjCDlCM46qs/+W/UHZSQ=', None, 'BSM', 1, None, None, None, None, None, None, None, None, None, None, None, None, None, None, None, None, None, None, None, None, None, None, None, None, None, 81)\n",
      "('bALPx2GbQF+oclIHg6WmRdXh3VGeifIWFvCKDsbvenLQNSYNrm6stXbIt7ywtIFTKcJ8K0vSAfKeokpiRi0l3Aex77vwTqobXY/c2lb1xw0=', None, None, None, None, None, None, None, None, None, 'OFO', 2, None, None, None, None, None, None, None, None, None, None, None, None, None, None, None, None, None, None, None, None, None, None, None, None, None, 82)\n",
      "('AGLNrRX8gxMGgFxc57odWW/yGmn7NeHtyEPqURGIoazP16SegE6xwFHfWC/gQY+WgTtLKjG3cPMzRltvADCgso5adynZFpiklJffFOc7sSo=', None, None, None, None, None, None, None, None, None, 'OFO', 2, None, None, None, None, None, None, None, None, None, None, None, None, None, None, None, None, None, None, None, None, None, None, None, None, None, 83)\n",
      "('cD+k5i82mTXjR9/pvMQbIBCDJ0Z/uzTk87ZKkH4hzIB2buED0Ud5BAgWv5C4NhJGnqnEvpM8SIqRwYf/STr+nEyAaER0c3dsJ0vI5u3xHYQ=', None, None, None, None, None, None, 'MkyPxftPwByPP/3T9U6meQYmlU9Uga3YsRKeSLgcelx6L++1XjfRQIJPyJhaQvvlvRiyNUYZdw4tIbfYQq6t/P4y/zkOJPN2VLK3vnm1kks=', '078yf28ANhKnYAoAfBZk6LwrtgWykcrWv2Inb0RySck69cjrSm5AFefIPtsNw/M2svL/JsumXXsklMRnHtccupBZ+KOedZqCraKOLujSdsc=', None, 'BSM', 1, None, None, None, None, None, None, None, None, None, None, None, None, None, None, None, None, None, None, None, None, None, None, None, None, None, 84)\n",
      "('zPeq/viI8Dc0WssYO5VehITpYmrNQCF7PR3vmsy5DT6An5AKp/Luf3CKklORNyHxXhboih/Oz6kq4KsXpqCVVH8yAdAZfxYtCQm25BWJXVerA7juILC9uOuhHiPN4q7k', None, None, None, None, None, None, None, None, None, 'OFO', 2, None, None, None, None, None, None, None, None, None, None, None, None, None, None, None, None, None, None, None, None, None, None, None, None, None, 85)\n",
      "('f0Fq5zu50GTRnrkINyLmm4FB6t2AI+NAKWQKLMEvIYouMLntEnHVlCeIfnqDywJNzc67IW3ooE0SGX8qZd79oaAoqiqTOgSmOJZB37UHE1c=', None, None, None, None, None, None, None, None, None, 'OPO', 4, 69797111, None, None, None, None, None, None, None, None, None, None, None, None, None, None, None, None, None, None, None, None, None, None, None, '64R47PeqD9SONivn8apY/lJWp7PMqXzY9utJl+M+BfUUirKmMZliVuxYKEtLpIva6glOyFHdvIofu9Hwu2HKl1m5M6qSyaHfCuQu6GdIy0E=', 86)\n",
      "('KT0rdHsWxrS4WVWKRhvDWBeGio9P4NTZ7lNEEIKsVLoNg0h9Aa3eaUlBOXK78gVI/NPe3cwRgpXofQaTGOJG66jDnqP52CJNzjOVfaxQWLc=', None, None, None, None, None, None, None, None, None, 'OFO', 2, None, None, None, None, None, None, None, None, None, None, None, None, None, None, None, None, None, None, None, None, None, None, None, None, None, 87)\n",
      "('rPKv7V+fiEfstUB0S6cpEXh6yGTq4bTlCE6uBX5kXieyAh7EWrBaFnwukM66O1XZH25ALIqbX1tDBENeMzMJccMI/bn5rUrlJhEog7igBLY=', None, None, None, None, None, None, None, None, None, 'OFO', 2, None, None, None, None, None, None, None, None, None, None, None, None, None, None, None, None, None, None, None, None, None, None, None, None, None, 88)\n",
      "('iXuo5APMiSDKHjvq6Zwp4znpylRk3VICHbMd0CZEnHv0Yfd9IxzLRCvYD0GcdPBgCsVQP5C/sjWn2YmF1qe/BxyobmNhG4SPsa0pKedo4PE=', None, None, None, None, None, None, None, None, None, 'OFO', 2, None, None, None, None, None, None, None, None, None, None, None, None, None, None, None, None, None, None, None, None, None, None, None, None, None, 89)\n",
      "('NezMzNG/s2Rz33QBJ/J9xHsKkt3gPqkDcB/VqU6fmfWs/kc8bLBXqEfKbgE9/Co4Ah9Ft2xfVdjm9TZnDDLf0DSivtf34CqbrOgDPJv7Q/c=', None, None, None, None, None, None, None, None, None, 'OFO', 2, None, None, None, None, None, None, None, None, None, None, None, None, None, None, None, None, None, None, None, None, None, None, None, None, None, 90)\n",
      "('1fvxg03sxZo/hSaLM7Lww9w46fBDLTZx2NREsAV7HwkGRjxGKxwq/yWF24gjR+BGxTTQSSLZzxzKsCANYGfupv2Us5sf3kcnc1BVKPtcz5s=', None, None, None, None, None, None, None, None, None, 'OFO', 2, None, None, None, None, None, None, None, None, None, None, None, None, None, None, None, None, None, None, None, None, None, None, None, None, None, 91)\n",
      "('iiEV2WxdTX+t1nEWFd7yaYbQZZywMlcwPhbKqBAzOY6CX0HQ2oRjBHYMhQqUlWEI4y+81BfCeY6OP0xZQrr1RKnpMsPGHI4JzDnlw+BAUK4=', None, None, None, None, None, None, None, None, None, 'OFO', 2, None, None, None, None, None, None, None, None, None, None, None, None, None, None, None, None, None, None, None, None, None, None, None, None, None, 92)\n",
      "('QbLYFV/XGTZN3skq8A77iw0jXtvYHadpwu1NNJiAIo2AxO/xomD4UCTqS/vTmeeX8eOr3Elw3K8/sYINSFQWG911P+EqAbPgVARJIHZvtkY=', None, None, None, None, None, None, None, None, None, 'OPO', 4, 42196451, None, None, None, None, None, None, None, None, None, None, None, None, None, None, None, None, None, None, None, None, None, None, None, '64R47PeqD9SONivn8apY/lJWp7PMqXzY9utJl+M+BfUUirKmMZliVuxYKEtLpIva6glOyFHdvIofu9Hwu2HKl1m5M6qSyaHfCuQu6GdIy0E=', 93)\n",
      "('tbRykjyqj07e8OWkHFm+S8tm9M+qF0Ql6GN5m/l4Y85srs8uJWK4nCQdC1MCZ4IM3bwHuJRNTy57+V2lkG3QAfoL6VdGB35MSX25Nh5fu3c=', None, None, None, None, None, None, None, None, None, 'OPO', 15, 70971641, None, None, None, None, None, None, None, None, None, None, None, None, None, None, None, None, None, None, None, None, None, None, None, 'r/e02ptfcJ47n0rUY4NM6xWfd1OtN4e/Xu5+rNe3pOEOVnL0HIiVQe4Uy8l4k8SYVJNj5qAU70p692ABBUteyJl2nyFJ7iYFpjclbK8bnAo=', 94)\n",
      "('zjQFHCstHaYtYTIi9hORZRXYOc6k0hH288KSw9iDzCl+X9pOUGZKaa66zQQEN73fdjsw9/7YjYQ68TBXMm8URmS5tv4YM3mG5Twnjp+eFLQ=', None, None, None, None, None, None, None, None, None, 'OFO', 2, None, None, None, None, None, None, None, None, None, None, None, None, None, None, None, None, None, None, None, None, None, None, None, None, None, 95)\n",
      "('3aW3srZ5a3T/ChIj+sdMrJE0sk738z0ZHA0q6GgFh5H2Szl4VYLSRCfCHyEMA8cAKwbYizIHXcv/r5goxydoDSZCgYHe6mOZsomLL2Jwop4=', None, None, None, None, None, None, None, None, None, 'OFO', 2, None, None, None, None, None, None, None, None, None, None, None, None, None, None, None, None, None, None, None, None, None, None, None, None, None, 96)\n",
      "('xairWnG248pu7itR19AIT0hdzsYi1LAHuAt8fIswNgUvi97XTCdWljEuXGf2xQ4c5hhgGnY0ZVp2yOEEGwJ70iljjCDlCM46qs/+W/UHZSQ=', None, None, None, None, None, None, None, None, None, 'OFO', 2, None, None, None, None, None, None, None, None, None, None, None, None, None, None, None, None, None, None, None, None, None, None, None, None, None, 97)\n",
      "('q4ZUhGQGivshfEEsiHkiC1iJJE3pRXruvCrdiEi+or/nkYeeJD1NajXvl5Mm8/CU8QeovLeXweZgIuOQW3+R6S9vo/4qfzC81k40opUrblk=', None, None, None, None, None, None, None, None, None, 'OFO', 2, None, None, None, None, None, None, None, None, None, None, None, None, None, None, None, None, None, None, None, None, None, None, None, None, None, 98)\n",
      "('078yf28ANhKnYAoAfBZk6LwrtgWykcrWv2Inb0RySck69cjrSm5AFefIPtsNw/M2svL/JsumXXsklMRnHtccupBZ+KOedZqCraKOLujSdsc=', None, None, None, None, None, None, None, None, None, 'OFO', 2, None, None, None, None, None, None, None, None, None, None, None, None, None, None, None, None, None, None, None, None, None, None, None, None, None, 99)\n",
      "('8bg+CXEGHarWp2oK+IfpUamKDfCVz85r0uBnUCjzPdNJ6AK2a4ybpIROxdjinogDSMGKQB9jeCyt5BLEOx9qsj3iksX7gk0kyMb4XwEPBO4=', None, None, None, None, None, None, 'UyRKGvNtD3RY7g1F6Oa/uad7WoAoj5fPL4nUuFVU42SrnDzMgM1Tsix9bmimHtrPJvf44AKjrgwgk+wbP3oLUhMW3sFzdFm2UGW4hfZo0Sw=', 'EGgfRTDVb68syXhEmpfl6VpmxItEm1IwCtdk82EaSNgBGKDd5gEbCPEBw6wrbaGWim1nDiiVsb1iarVPI/2OAVvMYg3BxyQUKFuMpareq+c=', None, 'BSM', 1, None, None, None, None, None, None, None, None, None, None, None, None, None, None, None, None, None, None, None, None, None, None, None, None, None, 100)\n",
      "('EGgfRTDVb68syXhEmpfl6VpmxItEm1IwCtdk82EaSNgBGKDd5gEbCPEBw6wrbaGWim1nDiiVsb1iarVPI/2OAVvMYg3BxyQUKFuMpareq+c=', None, None, None, None, None, None, None, None, None, 'OFO', 2, None, None, None, None, None, None, None, None, None, None, None, None, None, None, None, None, None, None, None, None, None, None, None, None, None, 101)\n",
      "('Y+s9bH0/ld/NLE4dOgaHgoRcmRrSt+dsqPhNnh0oXeafk9E4WZlgsCnF1La1gw7EoZ3hLsizggDDnbV+DyNJinyL5ABL87B4d4Q1NIT8goQ=', None, None, None, None, None, None, None, None, None, 'OFO', 2, None, None, None, None, None, None, None, None, None, None, None, None, None, None, None, None, None, None, None, None, None, None, None, None, None, 102)\n",
      "('l0raZybOozQ95JWgTnaQpiplmmtdzAp2RiExSTwc+CmrRcDkW8jPHrWwYA33OP9DV3647Ea9f04G8Wyca2N6FJccnQQNFaY66A5TWLwA8dc=', None, None, None, None, None, None, None, None, None, 'OFO', 2, None, None, None, None, None, None, None, None, None, None, None, None, None, None, None, None, None, None, None, None, None, None, None, None, None, 103)\n",
      "('/ipU68hnjrq1J7ZDi4JBaAyBiKjxZzpGZSVIfv8yFMKSKy3PpT/lba/0c4YCdqvrexVCCAL0MxBbob3A75l2Tnkgw/HHXtm0+abSHVywLEM=', None, None, None, None, None, None, '2fa9YZ/g+IACqr1Etk+QIUPK51iiTwCA/t/nTw+U9RUmjfYorPLrzpPd46Bmj3C3tfw3cyOy5bx0ogGCOZ01eUctqHZQzXY903JlPvzPzlw=', 'J3hMa2yksIRcQaD51HVTH3Q6WzhIEBRV4Pjvzv1m9JVCaVFmqbSQLmMqp5SX+mFgX+CkR4Tf0RenGliXDwBkGky9DnZquQo+qDKWLThkZ7c=', None, 'BSM', 1, None, None, None, None, None, None, None, None, None, None, None, None, None, None, None, None, None, None, None, None, None, None, None, None, None, 104)\n",
      "('+VKfYaKhJDrRHUWeS2e7xO7g+HhFQapZMPa5kamaF/wSOs6r3xEPEVFhtUlWqcXO9GTopZEjqpsTbsKhZmN7VxYJSxvgcgTWMGdxYkQVCaU=', None, None, None, None, None, None, None, None, None, 'OFO', 2, None, None, None, None, None, None, None, None, None, None, None, None, None, None, None, None, None, None, None, None, None, None, None, None, None, 105)\n",
      "('tTP8WqxRGv8mdc7niazOGdOIcMRfCRB7JY9mCaqqaUTa7+Dfu31hRdVtAa3hh0+XsMXUJvVewoV3piXC7IBr50LGZjrOLcIho++X0N07jJ0=', None, None, None, None, None, None, None, None, None, 'OFO', 2, None, None, None, None, None, None, None, None, None, None, None, None, None, None, None, None, None, None, None, None, None, None, None, None, None, 106)\n",
      "('3ZendyrB5RiGiS5emPZ8oWRhZZQOsLiOHI329ANsTWE3+RDPfNFmHeJzpKvspfBZpBX5RpwGNirjH3hlHeysozmb3+g52m7EfdnRYUR/iAA=', None, None, None, None, None, None, None, None, None, 'OFO', 2, None, None, None, None, None, None, None, None, None, None, None, None, None, None, None, None, None, None, None, None, None, None, None, None, None, 107)\n",
      "('m+o3Qoxrit4ZwyJIPjx3X32uMv1tXAioo/hUUaq6JmMHGXsvc9zncnGPExVsV8dslyzXyBs7yEV6mKlHKK2k7OW4tsyI1O91ftE7Rl4B6B4=', None, None, None, None, None, None, None, None, None, 'OFO', 2, None, None, None, None, None, None, None, None, None, None, None, None, None, None, None, None, None, None, None, None, None, None, None, None, None, 108)\n"
     ]
    }
   ],
   "source": [
    "con = sqlite3.connect(db_path)\n",
    "cur = con.cursor()\n",
    "\n",
    "for row in cur.execute(\"SELECT * FROM OPSUB\"):\n",
    "    print(row)\n",
    "    \n",
    "con.close()"
   ]
  },
  {
   "cell_type": "markdown",
   "id": "elegant-music",
   "metadata": {},
   "source": [
    "Abychom neztratili puvodni nevyplnena data, udelame si bokem kopii databaze, kterou pak budeme editovat:"
   ]
  },
  {
   "cell_type": "code",
   "execution_count": 4,
   "id": "ruled-designer",
   "metadata": {},
   "outputs": [
    {
     "name": "stdout",
     "output_type": "stream",
     "text": [
      "/tmp/tmpyi_1mbu7\n"
     ]
    }
   ],
   "source": [
    "temp_db = tempfile.mkstemp()[1]\n",
    "copyfile(db_path, temp_db)\n",
    "print(temp_db)"
   ]
  },
  {
   "cell_type": "markdown",
   "id": "dimensional-cream",
   "metadata": {},
   "source": [
    "Zavolame knihovnu a ziskame vsechny identifikatory z databaze ve forme seznamu:\n"
   ]
  },
  {
   "cell_type": "code",
   "execution_count": 5,
   "id": "boolean-politics",
   "metadata": {
    "scrolled": false
   },
   "outputs": [
    {
     "name": "stdout",
     "output_type": "stream",
     "text": [
      "['<v2:pOSIdent>aOWF/BYRV4K+0xg/HdeP3T3Tm/aSXL8Z3ShJxg4zYChQJRi3EoVsQ1xr+eatOjsz8o55pTpCs81iSwIC5oNvPFZhZ5upIuj6y1Ntb5sYT1M=</v2:pOSIdent>', '<v2:pOSIdent>bALPx2GbQF+oclIHg6WmRdXh3VGeifIWFvCKDsbvenLQNSYNrm6stXbIt7ywtIFTKcJ8K0vSAfKeokpiRi0l3Aex77vwTqobXY/c2lb1xw0=</v2:pOSIdent>', '<v2:pOSIdent>MvCbj6Q05AQW6847EAgIYrqDl8FsW8iuqz8WE/HYFlpxpTCi+ZWTWE8dAPeAWfTMF1wjj1diDvFHVemk8/36dxQsW43Uru7qNvUgjA0dTLp6FJD3zaBDiCU/SbyoKdsU</v2:pOSIdent>', '<v2:pOSIdent>yqpT3s/QygUWqCsg/azKypTOTOuJdbjB/16kQv0m5uugaHFJh8Mtp2i7sCdt71GRZixdYAzCVqEa4mNgvEjDECGf0Fby1B2nv1NdlyFQPrg=</v2:pOSIdent>', '<v2:pOSIdent>5XEbVUHVfI6OxlRPfJGQH6zTwljfLIEzxpL2+mYKOAkIlVMDACBfwbGRkxThLw94hZsh7wZCDRSKiMSbaMMEXuSHd/RO5NZXuOsJqhYGlKI=</v2:pOSIdent>', '<v2:pOSIdent>EGgfRTDVb68syXhEmpfl6VpmxItEm1IwCtdk82EaSNgBGKDd5gEbCPEBw6wrbaGWim1nDiiVsb1iarVPI/2OAVvMYg3BxyQUKFuMpareq+c=</v2:pOSIdent>', '<v2:pOSIdent>mSH6sS5yv6vA2jEOtyHeXbjjmSLmJ6SkHkWy/unkzDUZk7xIPT4ioZT0NeRHDgnO9rulMBaBITs2aW7PRZ1GTMRq6GAz0Ie+yIhff+XnzY8=</v2:pOSIdent>', '<v2:pOSIdent>J0XZSVcq2fC4+FYE6P3FVpDsLeaKuuk80AoPHtHneWOa/KJrhWPux7doPjfExqFN4LQpeDRfyYI7bUweOjQiYfue4Tp65/jPFCtpDLTpHj4=</v2:pOSIdent>', '<v2:pOSIdent>ltTJU+/1imoqO4saz1ta1pntVZVjlmlhpGVVh7Fj6CWr6Vgawjzeh7VgOuVYXDOW5lRObbNrYbtKIm2eQuy574oba80Ht3or9iloCT+zPM0=</v2:pOSIdent>', '<v2:pOSIdent>hkL5rQrRg4S5vLOBt4eIJJ2V2TYoj0cfedxg4BSHxDvBJaNn+d2ls2yJhQkE7K5+I/9kkq+O03kCIXt6l6W4ga3EUu0UY/A+TRgJcpxsiahtWTyp5miG9XnLxAhSWHJ5</v2:pOSIdent>', '<v2:pOSIdent>cWAf13LtjvC9SIY05qIFaek9K/RpuqJao0AMXiHsDYFjM2eS251ouFycwesABoDs2wWu+kFTmYqxhJyeR7e+WrdGQBbrYHk4M21Ai3xMSF4=</v2:pOSIdent>', '<v2:pOSIdent>lWpFU3UmWlpSe8TtpUMRBCFflbRtrT1aEpzxnv1MEXnpCGhTicndBKbyJjsfMJMdgH+U78n9GU5DNm6bXxNhnC2JU2MIzwpJObcy4n2Baqk=</v2:pOSIdent>', '<v2:pOSIdent>1fvxg03sxZo/hSaLM7Lww9w46fBDLTZx2NREsAV7HwkGRjxGKxwq/yWF24gjR+BGxTTQSSLZzxzKsCANYGfupv2Us5sf3kcnc1BVKPtcz5s=</v2:pOSIdent>', '<v2:pOSIdent>ii1ts7FFbqpo6yGBWGh1nOLXCLjB90kz9iKvoIKpczc0Mv9v/qzYbRn4D5as9Bf9mjnNVahNGuqoXZSLs40xFaP0UXDmba00PDqVuo4FH5s=</v2:pOSIdent>', '<v2:pOSIdent>iiEV2WxdTX+t1nEWFd7yaYbQZZywMlcwPhbKqBAzOY6CX0HQ2oRjBHYMhQqUlWEI4y+81BfCeY6OP0xZQrr1RKnpMsPGHI4JzDnlw+BAUK4=</v2:pOSIdent>', '<v2:pOSIdent>VFeRVqNwKQBFgxQOxaZ+Uu52XPwYBW85G2cqQzfrUsf4UB1yFq1auOdYlSwQuLB4ThdgaeE4AWjmgOIn5Pk4Rif4DDcbJSu41K6TZ/PZIHw=</v2:pOSIdent>', '<v2:pOSIdent>1icyYJRr8366DjQYyqdj/TTYUgGOuUSp6ck6NDaYLdQ6lU3sbdOjY6CKYEN5T6XuJ8mBowWJicz/4l0lrv0Y+AZetgmFuW0OoM7yEd+5evQ=</v2:pOSIdent>', '<v2:pOSIdent>hYx9AoiwOYp3PeBhp6IQj6ziSiq2pyPNpBi1mvE38CFs26YIOfEcz/gX7/onHmSLHl2uWlIZPprUd3pXACAgkJcYspPiGc8uOWt9Q18iiYA=</v2:pOSIdent>', '<v2:pOSIdent>YmUx0yovmm7KUEMHfNDNpoVOmGYvPqyRhXUvSy9IuU94rqInTL8t6bf0sCVjnZTbAcpxcarHierENslhHtEwj6DxtUGSIQbZSPKa5P3uA7Y=</v2:pOSIdent>', '<v2:pOSIdent>KT0rdHsWxrS4WVWKRhvDWBeGio9P4NTZ7lNEEIKsVLoNg0h9Aa3eaUlBOXK78gVI/NPe3cwRgpXofQaTGOJG66jDnqP52CJNzjOVfaxQWLc=</v2:pOSIdent>', '<v2:pOSIdent>5wQRil9Nd5KIrn5KWTf8+ucfKEsayz4LR/ZrAucExc8z+4hWyMyh+ABIewfIBvgQMxxF8/2HqFMn0OE/IphQisnADW27BjQ8Cn2Ui2i+xLM=</v2:pOSIdent>', '<v2:pOSIdent>7TsaZA7GFeEVxMscggvr2LkRAZwqfDywZ9HtkoX92fdNI/VFseD7SjfY8rJ7IlS7o2MG7D4mG56FZUTFOUWW7a5GeMmtDAasGLtodOgvIOA=</v2:pOSIdent>', '<v2:pOSIdent>00ep7V5fFBZoFMeOfcAOPMRtu0G9svLcsDyC/fYkJk3EbFIqbw2kpRaC1jjS1V8bjacEwrp/SdxXZXdtwDzFj3vKzXvHF7k7HiDpVtv6fPAUIS/cKLcyZ7viQd7pE5FE</v2:pOSIdent>', '<v2:pOSIdent>4/09lLuaNar2b8ZrhcyqhU1dN1h6cdfYNCg2/RReim82UXm3H5whG2MlvoKzXFltwKfA5MonRqd32zCvZgGfvCUIbqRScDVWKy5fctYb6N0=</v2:pOSIdent>', '<v2:pOSIdent>PtV2GbyZOZzpReCKf7eFnHRmrU7K4TTcUse25gDBLjKDnzwoc8Sz5tqpCN3vNn4dZMHS+XYlQ+ScsS+WeS/PxoEkyD/byLp2xhUlTYgDucvrvLKp+sDogobmGqlmnSSO</v2:pOSIdent>', '<v2:pOSIdent>YoYw5r0/dk0UgEcID286w2rFb6t3U7giw8vvUmXDmdv364oblaqoIpw8bgi1UsDJuLTH7urInxbRTuAjkVPJkl844VwfQvfn351HMcIRpO4=</v2:pOSIdent>', '<v2:pOSIdent>zPeq/viI8Dc0WssYO5VehITpYmrNQCF7PR3vmsy5DT6An5AKp/Luf3CKklORNyHxXhboih/Oz6kq4KsXpqCVVH8yAdAZfxYtCQm25BWJXVerA7juILC9uOuhHiPN4q7k</v2:pOSIdent>', '<v2:pOSIdent>rPKv7V+fiEfstUB0S6cpEXh6yGTq4bTlCE6uBX5kXieyAh7EWrBaFnwukM66O1XZH25ALIqbX1tDBENeMzMJccMI/bn5rUrlJhEog7igBLY=</v2:pOSIdent>', '<v2:pOSIdent>WpAGVIbtrw3p6Ic2ebTbXNCwsz0FKsnGB9V9QeaExKo21vI1yF5xcnK/ftMPvAe0P43ooFP1+vRsJWe0rET59I1aQW/uq+Ca3bHca+9xTcc=</v2:pOSIdent>', '<v2:pOSIdent>m+o3Qoxrit4ZwyJIPjx3X32uMv1tXAioo/hUUaq6JmMHGXsvc9zncnGPExVsV8dslyzXyBs7yEV6mKlHKK2k7OW4tsyI1O91ftE7Rl4B6B4=</v2:pOSIdent>', '<v2:pOSIdent>f0Fq5zu50GTRnrkINyLmm4FB6t2AI+NAKWQKLMEvIYouMLntEnHVlCeIfnqDywJNzc67IW3ooE0SGX8qZd79oaAoqiqTOgSmOJZB37UHE1c=</v2:pOSIdent>', '<v2:pOSIdent>CVikHowKhw3xouJMIqJHZOijnR1LvQJ4hcufAgajhU4QQjJEHn2n19OvpxLG8AXGSDlKlRzQkWOnseHWTe89/ht9nNqJXvjUKcxpd3dr3VQ=</v2:pOSIdent>', '<v2:pOSIdent>xwHUBBpYTSRS3sFNKTf++dy1Sq83Nmg0C3LE2zx/dRI/jmDT/1OXGDmy3qOw9d0bhwXKp2Oh1GzKgb1Cn4XPvr4qRmtDDESo1yswvoJeFP30WPTfjkelYDu3p6O0eFVE</v2:pOSIdent>', '<v2:pOSIdent>8QZWq1vuQ1NdCHkoh0JT2+dtPBjool2L7dNZ6f7XTg/mUCOWuwssd0KErzLHrbhoji0ibmLF+XYB1yO8HkOMdAzdgdGISOTdPRN6VI5OtRw=</v2:pOSIdent>', '<v2:pOSIdent>UyRKGvNtD3RY7g1F6Oa/uad7WoAoj5fPL4nUuFVU42SrnDzMgM1Tsix9bmimHtrPJvf44AKjrgwgk+wbP3oLUhMW3sFzdFm2UGW4hfZo0Sw=</v2:pOSIdent>', '<v2:pOSIdent>2fa9YZ/g+IACqr1Etk+QIUPK51iiTwCA/t/nTw+U9RUmjfYorPLrzpPd46Bmj3C3tfw3cyOy5bx0ogGCOZ01eUctqHZQzXY903JlPvzPzlw=</v2:pOSIdent>', '<v2:pOSIdent>QbLYFV/XGTZN3skq8A77iw0jXtvYHadpwu1NNJiAIo2AxO/xomD4UCTqS/vTmeeX8eOr3Elw3K8/sYINSFQWG911P+EqAbPgVARJIHZvtkY=</v2:pOSIdent>', '<v2:pOSIdent>UtkReXE24+hFt9Wp0bqKaX85nwQdDmfMUgydTTHuf3xaV8DBXxPhnN/njjvOH7vurf6kdNoM0VtJq7id2emrlY9VTrLvGF+6WQl5MjmLBq0=</v2:pOSIdent>', '<v2:pOSIdent>hf/HqLIgE7zvLimKwDjWOVhOmPY03cK5NxklSV6zIn0uRs5Uh3gkcycrY7GPiEamJWSEInqSAEwmZdx3/uM9hMBXYt+pwgje7SZyLBu2DhA=</v2:pOSIdent>', '<v2:pOSIdent>o0V5H26cXD1+RFNrtHWDD5/5zfRee+2PZtNtw6TfHmL/dqT6lkuBz7xec6grhmrdiCC+G+4G3/yR+0j7jQI5kgysM49mklk1tOHmTrweKQR5jqFgXtG8YTRMo4e1Bcx+</v2:pOSIdent>', '<v2:pOSIdent>xEZvrXlG0ZciECwqZA8HsRDxiJlp9fBs8xvGltU/5rrKNmW4Nt247mvOtyXLHLspnNXQcio8j41RuWDpNtwjcde1q0aYKZzTi8AFFqOEN88=</v2:pOSIdent>', '<v2:pOSIdent>T/sOfNBmULfA5GzBpJRYu3UWEwhw4PFYydRQSh7x1PSc4RTRLXYaXTfpbt2Da17zSJPbQDKce+cHMMQVCVBRj9+U8wwRYYTBTgLsWbpMpuY=</v2:pOSIdent>', '<v2:pOSIdent>DqJj5oG/KEn8Q/Q6Kyh4kM1M3AeoyvOzDBYgQ6vQvCLC7pU1cHmPTEyzCfhCvzeZbeAuEchEqmWXu1R9UGKSNlfY9G/wZcA3lqfBd+wfigs=</v2:pOSIdent>', '<v2:pOSIdent>bWb6QEOjc94in0pmGSBFwRm4FfuaCoxE+aHEHahXFXkx9jUOSdvhaWl40efvjBFwAmnAHHJI/g0nsn0tLis0carj34MDA39ptCnBdYnH5ZA=</v2:pOSIdent>', '<v2:pOSIdent>JsnHnHK89vL/0oCWFbmIw15mkLQCUsEucRyqJhlrzKopQ2ZPOvDcxyv6C70Sxb2Nv9K7xai/Ig7giS8gJljk3mKkDItXp5ARq7bGkTVbpTw=</v2:pOSIdent>', '<v2:pOSIdent>OSAJs7W4HqDew0srlaev6U4G6+SYLaddr65lGbvSoNr/avJL76h/vK1sBGmQ9kvy0TkOuLNofgfzYOT4s5Imp3Vn8LiiR/fKy0ofj18gbPA=</v2:pOSIdent>', '<v2:pOSIdent>Vm+8vMmIsWsvcxR9zMDL9Cy+E0ZgHj9AJ3kwMqaLxguXn6wJcfM3e3LWpd7RzRxm3woikNUtGPF45crUFMpAsfsa/Bmx4YzTqTFCj0vhoQY=</v2:pOSIdent>', '<v2:pOSIdent>iXuo5APMiSDKHjvq6Zwp4znpylRk3VICHbMd0CZEnHv0Yfd9IxzLRCvYD0GcdPBgCsVQP5C/sjWn2YmF1qe/BxyobmNhG4SPsa0pKedo4PE=</v2:pOSIdent>', '<v2:pOSIdent>AGLNrRX8gxMGgFxc57odWW/yGmn7NeHtyEPqURGIoazP16SegE6xwFHfWC/gQY+WgTtLKjG3cPMzRltvADCgso5adynZFpiklJffFOc7sSo=</v2:pOSIdent>', '<v2:pOSIdent>xairWnG248pu7itR19AIT0hdzsYi1LAHuAt8fIswNgUvi97XTCdWljEuXGf2xQ4c5hhgGnY0ZVp2yOEEGwJ70iljjCDlCM46qs/+W/UHZSQ=</v2:pOSIdent>', '<v2:pOSIdent>BBgBQ2wok0L43hEZUEeiehwwgrnYkvSWpgVkTEuS44FGAKrsjBz/UVx+LWdeKO2khvGuk0dwf2GE9ziJR5j2lVd4ioIVbPKS1oaCurIfCpA=</v2:pOSIdent>', '<v2:pOSIdent>Ku76SlYfgFivONmh8bdyl02qHhLEuGPdDbCow70bilmRc26J2noXqBoufBPT4kfi2B5Nm5H9w1NFHR+pNQuGoQfdXwnXwz8VCNF2QsJnBe8ypwQghGm+6xd1Xp/20VgA</v2:pOSIdent>', '<v2:pOSIdent>l0raZybOozQ95JWgTnaQpiplmmtdzAp2RiExSTwc+CmrRcDkW8jPHrWwYA33OP9DV3647Ea9f04G8Wyca2N6FJccnQQNFaY66A5TWLwA8dc=</v2:pOSIdent>', '<v2:pOSIdent>nG1j9b9eZx7u/iGrTPtgGVOrmDaUxd1s2dC8/jiqRtKkXyuaJ7icS9jz00xy2JcS4p338ZsCnpOzwga2Y8tupePeKeUVoWjjSl+o/7/msY0=</v2:pOSIdent>', '<v2:pOSIdent>/ipU68hnjrq1J7ZDi4JBaAyBiKjxZzpGZSVIfv8yFMKSKy3PpT/lba/0c4YCdqvrexVCCAL0MxBbob3A75l2Tnkgw/HHXtm0+abSHVywLEM=</v2:pOSIdent>', '<v2:pOSIdent>/AOrBGOFR+4GtqsAvOXC/3kKd0OCEPBVRfEsIPHeW3CoGcU1dio8gmrulsH5/KEvySRvbRT2hlDOXICKukDLldMgNY5z+yASe8F1rqBlKug=</v2:pOSIdent>', '<v2:pOSIdent>J3hMa2yksIRcQaD51HVTH3Q6WzhIEBRV4Pjvzv1m9JVCaVFmqbSQLmMqp5SX+mFgX+CkR4Tf0RenGliXDwBkGky9DnZquQo+qDKWLThkZ7c=</v2:pOSIdent>', '<v2:pOSIdent>KdSYyo8J1zUPVqxHUtY+tXCq1sozzl79fDrwCjZTPA82RA81GrHfiwpq2ymtsH1mkBgkLzE1TRH+MGXYdCunCxgrju4BztjRm1Ouf3qlRaU=</v2:pOSIdent>', '<v2:pOSIdent>XHIBU/Os4CXjIriHfhjuJMtIZCEvJBRz3RTj02SaUqCUWW2nYww1irZFjR1y3ieG3vIdjnr7ZpukTGijByBS8mUDBj9jPUeUxRUhwptQp+k=</v2:pOSIdent>', '<v2:pOSIdent>uecJ/wWk2Ej6CAnwe3i0y0jfrp9Xr1oMVJ+9kLKpkU8trb/GSsJmcvNw7XJ0dzNpkKLYrpaxDPIVMKGKnG/ZMzSYtEOoqKGnRHhbt/PXjUr/RJzL4O5LlsS30GNP3Kka</v2:pOSIdent>', '<v2:pOSIdent>+VKfYaKhJDrRHUWeS2e7xO7g+HhFQapZMPa5kamaF/wSOs6r3xEPEVFhtUlWqcXO9GTopZEjqpsTbsKhZmN7VxYJSxvgcgTWMGdxYkQVCaU=</v2:pOSIdent>', '<v2:pOSIdent>VdYFVbm+86uuL5NZSDUP9DEEmK6+kQ0Yv94SD3PKGIsyVVcXQ+yl9sVe+9geW8q79xfDY/YF98BVdxRwtIHCYeMzVGLAEMhP7R8SIwcVCtPRH4gdRhvij3OuHXZOjz0M</v2:pOSIdent>', '<v2:pOSIdent>4m3Yuf1esDMzbgNGYW7kv4xM1N45Dxn1k9MaGswf4YFbSpYmJ+3xwjL90xaHQXSbHmnsQrT0+ynMYrGA2IZA8C2XWS7b0Diy4ZU0x4rQBKE=</v2:pOSIdent>', '<v2:pOSIdent>a4uuL5087aAkDOdoVblOShaQjHZZiAz79ef8xsvMcMgrPH6vAmPki7VNwOXKxvCG9eshEijbAukEr7jJOHUEcC8HpMau6Eer288lakdfmH8=</v2:pOSIdent>', '<v2:pOSIdent>wpKK2F/BDnPKTx2S67hQVOVPGlU5agILyPckG4iVAkBux64yqWY7aR5ndq6iAavR1drvKIzk14UMMDi88nOhNF7O1i6BnJF20ugsKC/upYE=</v2:pOSIdent>', '<v2:pOSIdent>Fi39z7m2FANK18yYncVWlU0YQ8u8FLjldrBRweDzDAhBc7pe75fu3JHKj+g5n/5aa4dpfuoLVrjuRQC94G/kkGKlglQD+qewgR7q6jBOwmk=</v2:pOSIdent>', '<v2:pOSIdent>JjjGmmAuY2r+vgvGvpKNjDzRo+CAGsMfhosMMP10Vq0blIcrdQ6xqI0zWSD6eKKGrDXBtI6dxcnnkgUOlFgjkH081Qeg/URu3ZByDWe/3BI=</v2:pOSIdent>', '<v2:pOSIdent>q4ZUhGQGivshfEEsiHkiC1iJJE3pRXruvCrdiEi+or/nkYeeJD1NajXvl5Mm8/CU8QeovLeXweZgIuOQW3+R6S9vo/4qfzC81k40opUrblk=</v2:pOSIdent>', '<v2:pOSIdent>mDkas+QvEOd4+XBxuIW4Da3aEEdBAod5OJM/9la0ivdkMk7DTs9DqRZEI5Lc3wAC7Yb1sw4kp/JEFP3nnG2ZcPT36EJYO+EfrC0OlzewTfM=</v2:pOSIdent>', '<v2:pOSIdent>xocTMRuuiHIYwNN3v/RUpArt2Fhetx6zLzs1TUM4gw+ObLyU2HJkAPQ5WdENo82O2DPHBJrt2XiurT7d3j3H5mEqs6IWf89iXlFyWJLkDow=</v2:pOSIdent>', '<v2:pOSIdent>3aW3srZ5a3T/ChIj+sdMrJE0sk738z0ZHA0q6GgFh5H2Szl4VYLSRCfCHyEMA8cAKwbYizIHXcv/r5goxydoDSZCgYHe6mOZsomLL2Jwop4=</v2:pOSIdent>', '<v2:pOSIdent>KhrNZfOu3UPVx0J3V8kMtS9CZ5x9bc/JsMxwurOsDV7Z/IpcR6nA43E3vtpb+uujF4/FF7VOesEOFK3IS4UbncSMhhLL215enh/PGWVACCHNXwDFbAXYk9f1KAuFGSY0</v2:pOSIdent>', '<v2:pOSIdent>OnlsGwGAyTMPH15d9slPGHS+ul00Ov2hYSesDj7FmHeRy6i+1ttOFelz2GYwTBWMONxcreKb+0Bf2840TsM6LHBDumdabpRRCj+TFicfIo0=</v2:pOSIdent>', '<v2:pOSIdent>MkyPxftPwByPP/3T9U6meQYmlU9Uga3YsRKeSLgcelx6L++1XjfRQIJPyJhaQvvlvRiyNUYZdw4tIbfYQq6t/P4y/zkOJPN2VLK3vnm1kks=</v2:pOSIdent>', '<v2:pOSIdent>YSaRmQMUJtP5iHcBKPfOwIotTcrYSx4zMLFVrcnuaCmeFEm/VL5lHuo34uh5THwLFv7UohQK3AOjWfNiucgP14yqeR9UNxTi5O9pkiZz0LI=</v2:pOSIdent>', '<v2:pOSIdent>NezMzNG/s2Rz33QBJ/J9xHsKkt3gPqkDcB/VqU6fmfWs/kc8bLBXqEfKbgE9/Co4Ah9Ft2xfVdjm9TZnDDLf0DSivtf34CqbrOgDPJv7Q/c=</v2:pOSIdent>', '<v2:pOSIdent>hMFmuv9xLKl7itElRb+ABKUfR4GPjNp8o8f7v5TImNsrDMbOSFs0n+msxztqnzvgTnj+Rm6QehwZNK64c6pIeSUBViUprt4npOhmD/7zcrk=</v2:pOSIdent>', '<v2:pOSIdent>neqUuNVqO4j95P+NofCPKL0MpZxkXTUrIQe/eQxf0fZUF4yLhcArvN3to7uRIMN7sVm18i3/pvS0bQbpHxmQT+iN8Gfl/dcR2gsSyVVLXGs=</v2:pOSIdent>', '<v2:pOSIdent>mm/dPuBRthrYVYeJFVs7KbJF8/0AcMBynbtvmHypm+QNWR7vTP4qB6Fjx93b2q7on9TIgT5u2hb9//QrjDl7NRJCaZYrCLqylJUlk4wyvV6WfgnUKGSoDqXg3KnMyIO9</v2:pOSIdent>', '<v2:pOSIdent>cc3RAb7ln/HyHThRavcVRYDuQQHgv9VV8nNlwdBNLUZ6oCPq/qyk+T1vPYEx0GCJEl+tQ7UbtUZMwecAoFcEAqknnyNkwfherStqUhxxEQ8=</v2:pOSIdent>', '<v2:pOSIdent>64R47PeqD9SONivn8apY/lJWp7PMqXzY9utJl+M+BfUUirKmMZliVuxYKEtLpIva6glOyFHdvIofu9Hwu2HKl1m5M6qSyaHfCuQu6GdIy0E=</v2:pOSIdent>', '<v2:pOSIdent>r/e02ptfcJ47n0rUY4NM6xWfd1OtN4e/Xu5+rNe3pOEOVnL0HIiVQe4Uy8l4k8SYVJNj5qAU70p692ABBUteyJl2nyFJ7iYFpjclbK8bnAo=</v2:pOSIdent>', '<v2:pOSIdent>i0/Tr+VNmKgY+wJydNVJbCob8vQemEnjdn3A2r2ffhs8dz4IHH2H2AVcFvTyEOe3ci6MD33ZHXqEu8Lr8L1xtG3SHwhy2TBVM3bEa6vFpMbxj5wBXmFfT/QAGRrOqWBN</v2:pOSIdent>', '<v2:pOSIdent>H6BJyag+3cV1xBsFPBuuip4rM871q3h2gO2AszXSo6CmQ9q6IQ+sqm+YGxa8TyS365iI6gf3iY3cV9REk4c0H9FpsORYvWNYFwG7CrJ9iLas5dj12SPyvF51BRjr/0au</v2:pOSIdent>', '<v2:pOSIdent>OlVCtLEjQ+aNPyQNdT0JZPdJ2BEokpMEB+uTlQIY3kneRjP1aRL3CA72359ulPAbO8VfGzNtFEYkByykTtoLJTljQAtit7OAw+N65g+1hCE=</v2:pOSIdent>', '<v2:pOSIdent>zjQFHCstHaYtYTIi9hORZRXYOc6k0hH288KSw9iDzCl+X9pOUGZKaa66zQQEN73fdjsw9/7YjYQ68TBXMm8URmS5tv4YM3mG5Twnjp+eFLQ=</v2:pOSIdent>', '<v2:pOSIdent>rdsGfgHvYfix3H2OkFc5hhGU9AzpRXOZ8wOen/EBHoSu+oxaE9cUuQfix2dxN4Ly+Z6KVQlqDqPxEwTEhD9dcfIiP1TKGUho0PE8lkkSZYOYQIcVm5TH5bmcWK1EL2Vf</v2:pOSIdent>', '<v2:pOSIdent>MDJxuYEcvwdwAi1Fg0is3l8pQHEuYA3JuvhPN/UJqhDXFlzmCXQwxl3WwR400xI4Kh8loBqPredEDVXts4a8Ksr7O0PlW4HuYk5l6HIpY2s=</v2:pOSIdent>', '<v2:pOSIdent>4fX93lhUET5sT1ayzq9OpcSRV0gvsmNLslOQvs8+KTdyJsmn3y+TCQng5mo8u4MYP3wirZ0sAvHunZFDqcFGEGLmoyTsulfA3fwbyWIXnO0=</v2:pOSIdent>', '<v2:pOSIdent>UKcYWvUUTpNi8flxUzlm+TSnnprgWLVUHQLYF9LrVQpOOqQ6wycE7XBa1xVt+SzU+NR+i4CvbqbaTivPkjaaQbFOZw8LEOjjFYowWGpfJHKUl6UeeOCVx+jaGjtgvaWo</v2:pOSIdent>', '<v2:pOSIdent>zmOpxLJr7ii9CZo8JeEAhu560hyoaYhJxlUGsxC/ggqb1kd+9XxbAXVjaH4LL8Pl8MeUbaTxqcB+gZD09IoChvR9cPq9ftAZ0yk1NlxNYc4=</v2:pOSIdent>', '<v2:pOSIdent>078yf28ANhKnYAoAfBZk6LwrtgWykcrWv2Inb0RySck69cjrSm5AFefIPtsNw/M2svL/JsumXXsklMRnHtccupBZ+KOedZqCraKOLujSdsc=</v2:pOSIdent>', '<v2:pOSIdent>xJxa+PcfvdT7SIrl7ltvSOlLvQpoVfDY3QhOaspu0STpIUGz9fKJVtDp0bOnnUci5FzZU28fH/A1RJeYV2ZSAOJ1bsB5jodIKw8h+rgjINU=</v2:pOSIdent>', '<v2:pOSIdent>psGq9l14Woi29AYN5bHwdxU5WmX1vyRzVSJuucNo5e2D8193gu/to3VObZbd3vc0L+fDzX+X5nL42Wu8iePZgJhokFKOM8uNqezVZiQQ6P0=</v2:pOSIdent>', '<v2:pOSIdent>Ym8cWfYJCf8Urrv3bW6nwRZlwSmAaA/8kS8GFhllL8eFIJFCj0FhuzDnHm4d/DQi+nop3gtaovf0HR4b7x9LbCQdjj8cfjGO0N/jFAM+vK4=</v2:pOSIdent>', '<v2:pOSIdent>FxrmEj8jkUJ9rfUt8DkkVOUbhQdxwKgENy+oxwXMp0yU3OttGGEKPmExw49PdHUzB2Fwto/UgZ+MAHpoXFEeOWwwuK+acbAp2CPWPzhTl9A=</v2:pOSIdent>', '<v2:pOSIdent>fwdsUaxtVKyjWdhcx8QMu3passZadTC0q5Sr0L0GOPWU1zzK73MDWdQ5MBficQF1IrTyXx7Rs9OwGPxW1syorUZI5+2oQKWwn68UnX0PwWE=</v2:pOSIdent>', '<v2:pOSIdent>Y+s9bH0/ld/NLE4dOgaHgoRcmRrSt+dsqPhNnh0oXeafk9E4WZlgsCnF1La1gw7EoZ3hLsizggDDnbV+DyNJinyL5ABL87B4d4Q1NIT8goQ=</v2:pOSIdent>', '<v2:pOSIdent>g4EDGsOOSJKaTbLxdmmIcj8xUOiCckDSBeYZG2QP8Pyo2wimkedJNVIfN+/tdChJF372XZO9lHzT3DrU5tYksUlgO+qhLrcu5O5rYerU5DaW0LTwJY0Bn931ZJMUYSeD</v2:pOSIdent>', '<v2:pOSIdent>tbRykjyqj07e8OWkHFm+S8tm9M+qF0Ql6GN5m/l4Y85srs8uJWK4nCQdC1MCZ4IM3bwHuJRNTy57+V2lkG3QAfoL6VdGB35MSX25Nh5fu3c=</v2:pOSIdent>', '<v2:pOSIdent>Z3anPBTLRy4YQTD0UgZkTJ+keVuWZ8j50lI8whQPyaERWuqwwnwsnvPL5JvmjhqosP5ukUJEFe29IEnCIx6/MSQ0jCVnAyGflCmCnQBnc3JQLWVD9vLnWZYbgp+9oL3r</v2:pOSIdent>', '<v2:pOSIdent>W6gjRuthAEnH1o8Yu7Zc0k4Kv4ZLv7aGA1z5lSGliY7LT+ipTzG5nMPXsAayqF6KbLLThknyZXMnOrxfYJ70gXNdBJdRWXoDui8Oq8kTTjM=</v2:pOSIdent>', '<v2:pOSIdent>SI/WjbMksk0HBoUSFb0r0NOoDDPWyQOD/Gjj5J9jXLz6sc4WfJV5XNHIk5db70rNpI+UYws/pK5I8LaeZTkzroFmjKWrOowSE727Vd6F8AI=</v2:pOSIdent>', '<v2:pOSIdent>3ZendyrB5RiGiS5emPZ8oWRhZZQOsLiOHI329ANsTWE3+RDPfNFmHeJzpKvspfBZpBX5RpwGNirjH3hlHeysozmb3+g52m7EfdnRYUR/iAA=</v2:pOSIdent>', '<v2:pOSIdent>+lQ0Ne+Jhd5K4uvds1/KT8qqJcoA/eJ5OloIoqvCQi04X93kbmO62f/i2fqJgk62odrpl2ye04ue7tlKR93hckH4u46kVMoHQWmYF/rBWMA=</v2:pOSIdent>', '<v2:pOSIdent>cD+k5i82mTXjR9/pvMQbIBCDJ0Z/uzTk87ZKkH4hzIB2buED0Ud5BAgWv5C4NhJGnqnEvpM8SIqRwYf/STr+nEyAaER0c3dsJ0vI5u3xHYQ=</v2:pOSIdent>', '<v2:pOSIdent>tTP8WqxRGv8mdc7niazOGdOIcMRfCRB7JY9mCaqqaUTa7+Dfu31hRdVtAa3hh0+XsMXUJvVewoV3piXC7IBr50LGZjrOLcIho++X0N07jJ0=</v2:pOSIdent>', '<v2:pOSIdent>8bg+CXEGHarWp2oK+IfpUamKDfCVz85r0uBnUCjzPdNJ6AK2a4ybpIROxdjinogDSMGKQB9jeCyt5BLEOx9qsj3iksX7gk0kyMb4XwEPBO4=</v2:pOSIdent>']\n"
     ]
    },
    {
     "data": {
      "text/plain": [
       "108"
      ]
     },
     "execution_count": 5,
     "metadata": {},
     "output_type": "execute_result"
    }
   ],
   "source": [
    "ctios = CtiOSGdal(username=username,\n",
    "                  password=password,\n",
    "                  db_path=temp_db)\n",
    "posidents = ctios.get_posidents_from_db()\n",
    "print(posidents)\n",
    "len(posidents)"
   ]
  },
  {
   "cell_type": "markdown",
   "id": "blind-minute",
   "metadata": {},
   "source": [
    "Nad seznamem zavolame metodu .process, ktera k zadanym identifikatorum aktualizuje v tabulce osobni udaje:"
   ]
  },
  {
   "cell_type": "code",
   "execution_count": 6,
   "id": "polish-stanford",
   "metadata": {
    "scrolled": false
   },
   "outputs": [
    {
     "name": "stderr",
     "output_type": "stream",
     "text": [
      "ctiOS        - INFO     - POSIDENT aOWF/BYRV4K+0xg/HdeP3T3Tm/aSXL8Z3ShJxg4zYChQJRi3EoVsQ1xr+eatOjsz8o55pTpCs81iSwIC5oNvPFZhZ5upIuj6y1Ntb5sYT1M= USPESNE STAZEN\n",
      "ctiOS        - INFO     - POSIDENT bALPx2GbQF+oclIHg6WmRdXh3VGeifIWFvCKDsbvenLQNSYNrm6stXbIt7ywtIFTKcJ8K0vSAfKeokpiRi0l3Aex77vwTqobXY/c2lb1xw0= USPESNE STAZEN\n",
      "ctiOS        - INFO     - POSIDENT MvCbj6Q05AQW6847EAgIYrqDl8FsW8iuqz8WE/HYFlpxpTCi+ZWTWE8dAPeAWfTMF1wjj1diDvFHVemk8/36dxQsW43Uru7qNvUgjA0dTLp6FJD3zaBDiCU/SbyoKdsU USPESNE STAZEN\n",
      "ctiOS        - INFO     - POSIDENT yqpT3s/QygUWqCsg/azKypTOTOuJdbjB/16kQv0m5uugaHFJh8Mtp2i7sCdt71GRZixdYAzCVqEa4mNgvEjDECGf0Fby1B2nv1NdlyFQPrg= USPESNE STAZEN\n",
      "ctiOS        - INFO     - POSIDENT 5XEbVUHVfI6OxlRPfJGQH6zTwljfLIEzxpL2+mYKOAkIlVMDACBfwbGRkxThLw94hZsh7wZCDRSKiMSbaMMEXuSHd/RO5NZXuOsJqhYGlKI= USPESNE STAZEN\n",
      "ctiOS        - INFO     - POSIDENT EGgfRTDVb68syXhEmpfl6VpmxItEm1IwCtdk82EaSNgBGKDd5gEbCPEBw6wrbaGWim1nDiiVsb1iarVPI/2OAVvMYg3BxyQUKFuMpareq+c= USPESNE STAZEN\n",
      "ctiOS        - INFO     - POSIDENT mSH6sS5yv6vA2jEOtyHeXbjjmSLmJ6SkHkWy/unkzDUZk7xIPT4ioZT0NeRHDgnO9rulMBaBITs2aW7PRZ1GTMRq6GAz0Ie+yIhff+XnzY8= USPESNE STAZEN\n",
      "ctiOS        - INFO     - POSIDENT J0XZSVcq2fC4+FYE6P3FVpDsLeaKuuk80AoPHtHneWOa/KJrhWPux7doPjfExqFN4LQpeDRfyYI7bUweOjQiYfue4Tp65/jPFCtpDLTpHj4= USPESNE STAZEN\n",
      "ctiOS        - INFO     - POSIDENT ltTJU+/1imoqO4saz1ta1pntVZVjlmlhpGVVh7Fj6CWr6Vgawjzeh7VgOuVYXDOW5lRObbNrYbtKIm2eQuy574oba80Ht3or9iloCT+zPM0= USPESNE STAZEN\n",
      "ctiOS        - INFO     - POSIDENT hkL5rQrRg4S5vLOBt4eIJJ2V2TYoj0cfedxg4BSHxDvBJaNn+d2ls2yJhQkE7K5+I/9kkq+O03kCIXt6l6W4ga3EUu0UY/A+TRgJcpxsiahtWTyp5miG9XnLxAhSWHJ5 USPESNE STAZEN\n",
      "ctiOS        - INFO     - Radky v databazi u POSIdentu aOWF/BYRV4K+0xg/HdeP3T3Tm/aSXL8Z3ShJxg4zYChQJRi3EoVsQ1xr+eatOjsz8o55pTpCs81iSwIC5oNvPFZhZ5upIuj6y1Ntb5sYT1M= aktualizovany\n",
      "ctiOS        - INFO     - Radky v databazi u POSIdentu bALPx2GbQF+oclIHg6WmRdXh3VGeifIWFvCKDsbvenLQNSYNrm6stXbIt7ywtIFTKcJ8K0vSAfKeokpiRi0l3Aex77vwTqobXY/c2lb1xw0= aktualizovany\n",
      "ctiOS        - INFO     - Radky v databazi u POSIdentu MvCbj6Q05AQW6847EAgIYrqDl8FsW8iuqz8WE/HYFlpxpTCi+ZWTWE8dAPeAWfTMF1wjj1diDvFHVemk8/36dxQsW43Uru7qNvUgjA0dTLp6FJD3zaBDiCU/SbyoKdsU aktualizovany\n",
      "ctiOS        - INFO     - Radky v databazi u POSIdentu yqpT3s/QygUWqCsg/azKypTOTOuJdbjB/16kQv0m5uugaHFJh8Mtp2i7sCdt71GRZixdYAzCVqEa4mNgvEjDECGf0Fby1B2nv1NdlyFQPrg= aktualizovany\n",
      "ctiOS        - INFO     - Radky v databazi u POSIdentu 5XEbVUHVfI6OxlRPfJGQH6zTwljfLIEzxpL2+mYKOAkIlVMDACBfwbGRkxThLw94hZsh7wZCDRSKiMSbaMMEXuSHd/RO5NZXuOsJqhYGlKI= aktualizovany\n",
      "ctiOS        - INFO     - Radky v databazi u POSIdentu EGgfRTDVb68syXhEmpfl6VpmxItEm1IwCtdk82EaSNgBGKDd5gEbCPEBw6wrbaGWim1nDiiVsb1iarVPI/2OAVvMYg3BxyQUKFuMpareq+c= aktualizovany\n",
      "ctiOS        - INFO     - Radky v databazi u POSIdentu mSH6sS5yv6vA2jEOtyHeXbjjmSLmJ6SkHkWy/unkzDUZk7xIPT4ioZT0NeRHDgnO9rulMBaBITs2aW7PRZ1GTMRq6GAz0Ie+yIhff+XnzY8= aktualizovany\n",
      "ctiOS        - INFO     - Radky v databazi u POSIdentu J0XZSVcq2fC4+FYE6P3FVpDsLeaKuuk80AoPHtHneWOa/KJrhWPux7doPjfExqFN4LQpeDRfyYI7bUweOjQiYfue4Tp65/jPFCtpDLTpHj4= aktualizovany\n",
      "ctiOS        - INFO     - Radky v databazi u POSIdentu ltTJU+/1imoqO4saz1ta1pntVZVjlmlhpGVVh7Fj6CWr6Vgawjzeh7VgOuVYXDOW5lRObbNrYbtKIm2eQuy574oba80Ht3or9iloCT+zPM0= aktualizovany\n",
      "ctiOS        - INFO     - Radky v databazi u POSIdentu hkL5rQrRg4S5vLOBt4eIJJ2V2TYoj0cfedxg4BSHxDvBJaNn+d2ls2yJhQkE7K5+I/9kkq+O03kCIXt6l6W4ga3EUu0UY/A+TRgJcpxsiahtWTyp5miG9XnLxAhSWHJ5 aktualizovany\n",
      "ctiOS        - INFO     - POSIDENT cWAf13LtjvC9SIY05qIFaek9K/RpuqJao0AMXiHsDYFjM2eS251ouFycwesABoDs2wWu+kFTmYqxhJyeR7e+WrdGQBbrYHk4M21Ai3xMSF4= USPESNE STAZEN\n",
      "ctiOS        - INFO     - POSIDENT lWpFU3UmWlpSe8TtpUMRBCFflbRtrT1aEpzxnv1MEXnpCGhTicndBKbyJjsfMJMdgH+U78n9GU5DNm6bXxNhnC2JU2MIzwpJObcy4n2Baqk= USPESNE STAZEN\n",
      "ctiOS        - INFO     - POSIDENT 1fvxg03sxZo/hSaLM7Lww9w46fBDLTZx2NREsAV7HwkGRjxGKxwq/yWF24gjR+BGxTTQSSLZzxzKsCANYGfupv2Us5sf3kcnc1BVKPtcz5s= USPESNE STAZEN\n",
      "ctiOS        - INFO     - POSIDENT ii1ts7FFbqpo6yGBWGh1nOLXCLjB90kz9iKvoIKpczc0Mv9v/qzYbRn4D5as9Bf9mjnNVahNGuqoXZSLs40xFaP0UXDmba00PDqVuo4FH5s= USPESNE STAZEN\n",
      "ctiOS        - INFO     - POSIDENT iiEV2WxdTX+t1nEWFd7yaYbQZZywMlcwPhbKqBAzOY6CX0HQ2oRjBHYMhQqUlWEI4y+81BfCeY6OP0xZQrr1RKnpMsPGHI4JzDnlw+BAUK4= USPESNE STAZEN\n",
      "ctiOS        - INFO     - POSIDENT VFeRVqNwKQBFgxQOxaZ+Uu52XPwYBW85G2cqQzfrUsf4UB1yFq1auOdYlSwQuLB4ThdgaeE4AWjmgOIn5Pk4Rif4DDcbJSu41K6TZ/PZIHw= USPESNE STAZEN\n",
      "ctiOS        - INFO     - POSIDENT 1icyYJRr8366DjQYyqdj/TTYUgGOuUSp6ck6NDaYLdQ6lU3sbdOjY6CKYEN5T6XuJ8mBowWJicz/4l0lrv0Y+AZetgmFuW0OoM7yEd+5evQ= USPESNE STAZEN\n",
      "ctiOS        - INFO     - POSIDENT hYx9AoiwOYp3PeBhp6IQj6ziSiq2pyPNpBi1mvE38CFs26YIOfEcz/gX7/onHmSLHl2uWlIZPprUd3pXACAgkJcYspPiGc8uOWt9Q18iiYA= USPESNE STAZEN\n",
      "ctiOS        - INFO     - POSIDENT YmUx0yovmm7KUEMHfNDNpoVOmGYvPqyRhXUvSy9IuU94rqInTL8t6bf0sCVjnZTbAcpxcarHierENslhHtEwj6DxtUGSIQbZSPKa5P3uA7Y= USPESNE STAZEN\n",
      "ctiOS        - INFO     - POSIDENT KT0rdHsWxrS4WVWKRhvDWBeGio9P4NTZ7lNEEIKsVLoNg0h9Aa3eaUlBOXK78gVI/NPe3cwRgpXofQaTGOJG66jDnqP52CJNzjOVfaxQWLc= USPESNE STAZEN\n",
      "ctiOS        - INFO     - Radky v databazi u POSIdentu cWAf13LtjvC9SIY05qIFaek9K/RpuqJao0AMXiHsDYFjM2eS251ouFycwesABoDs2wWu+kFTmYqxhJyeR7e+WrdGQBbrYHk4M21Ai3xMSF4= aktualizovany\n",
      "ctiOS        - INFO     - Radky v databazi u POSIdentu lWpFU3UmWlpSe8TtpUMRBCFflbRtrT1aEpzxnv1MEXnpCGhTicndBKbyJjsfMJMdgH+U78n9GU5DNm6bXxNhnC2JU2MIzwpJObcy4n2Baqk= aktualizovany\n",
      "ctiOS        - INFO     - Radky v databazi u POSIdentu 1fvxg03sxZo/hSaLM7Lww9w46fBDLTZx2NREsAV7HwkGRjxGKxwq/yWF24gjR+BGxTTQSSLZzxzKsCANYGfupv2Us5sf3kcnc1BVKPtcz5s= aktualizovany\n",
      "ctiOS        - INFO     - Radky v databazi u POSIdentu ii1ts7FFbqpo6yGBWGh1nOLXCLjB90kz9iKvoIKpczc0Mv9v/qzYbRn4D5as9Bf9mjnNVahNGuqoXZSLs40xFaP0UXDmba00PDqVuo4FH5s= aktualizovany\n",
      "ctiOS        - INFO     - Radky v databazi u POSIdentu iiEV2WxdTX+t1nEWFd7yaYbQZZywMlcwPhbKqBAzOY6CX0HQ2oRjBHYMhQqUlWEI4y+81BfCeY6OP0xZQrr1RKnpMsPGHI4JzDnlw+BAUK4= aktualizovany\n",
      "ctiOS        - INFO     - Radky v databazi u POSIdentu VFeRVqNwKQBFgxQOxaZ+Uu52XPwYBW85G2cqQzfrUsf4UB1yFq1auOdYlSwQuLB4ThdgaeE4AWjmgOIn5Pk4Rif4DDcbJSu41K6TZ/PZIHw= aktualizovany\n",
      "ctiOS        - INFO     - Radky v databazi u POSIdentu 1icyYJRr8366DjQYyqdj/TTYUgGOuUSp6ck6NDaYLdQ6lU3sbdOjY6CKYEN5T6XuJ8mBowWJicz/4l0lrv0Y+AZetgmFuW0OoM7yEd+5evQ= aktualizovany\n",
      "ctiOS        - INFO     - Radky v databazi u POSIdentu hYx9AoiwOYp3PeBhp6IQj6ziSiq2pyPNpBi1mvE38CFs26YIOfEcz/gX7/onHmSLHl2uWlIZPprUd3pXACAgkJcYspPiGc8uOWt9Q18iiYA= aktualizovany\n",
      "ctiOS        - INFO     - Radky v databazi u POSIdentu YmUx0yovmm7KUEMHfNDNpoVOmGYvPqyRhXUvSy9IuU94rqInTL8t6bf0sCVjnZTbAcpxcarHierENslhHtEwj6DxtUGSIQbZSPKa5P3uA7Y= aktualizovany\n",
      "ctiOS        - INFO     - Radky v databazi u POSIdentu KT0rdHsWxrS4WVWKRhvDWBeGio9P4NTZ7lNEEIKsVLoNg0h9Aa3eaUlBOXK78gVI/NPe3cwRgpXofQaTGOJG66jDnqP52CJNzjOVfaxQWLc= aktualizovany\n",
      "ctiOS        - INFO     - POSIDENT 5wQRil9Nd5KIrn5KWTf8+ucfKEsayz4LR/ZrAucExc8z+4hWyMyh+ABIewfIBvgQMxxF8/2HqFMn0OE/IphQisnADW27BjQ8Cn2Ui2i+xLM= USPESNE STAZEN\n",
      "ctiOS        - INFO     - POSIDENT 7TsaZA7GFeEVxMscggvr2LkRAZwqfDywZ9HtkoX92fdNI/VFseD7SjfY8rJ7IlS7o2MG7D4mG56FZUTFOUWW7a5GeMmtDAasGLtodOgvIOA= USPESNE STAZEN\n",
      "ctiOS        - INFO     - POSIDENT 00ep7V5fFBZoFMeOfcAOPMRtu0G9svLcsDyC/fYkJk3EbFIqbw2kpRaC1jjS1V8bjacEwrp/SdxXZXdtwDzFj3vKzXvHF7k7HiDpVtv6fPAUIS/cKLcyZ7viQd7pE5FE USPESNE STAZEN\n",
      "ctiOS        - INFO     - POSIDENT 4/09lLuaNar2b8ZrhcyqhU1dN1h6cdfYNCg2/RReim82UXm3H5whG2MlvoKzXFltwKfA5MonRqd32zCvZgGfvCUIbqRScDVWKy5fctYb6N0= USPESNE STAZEN\n",
      "ctiOS        - INFO     - POSIDENT PtV2GbyZOZzpReCKf7eFnHRmrU7K4TTcUse25gDBLjKDnzwoc8Sz5tqpCN3vNn4dZMHS+XYlQ+ScsS+WeS/PxoEkyD/byLp2xhUlTYgDucvrvLKp+sDogobmGqlmnSSO USPESNE STAZEN\n",
      "ctiOS        - INFO     - POSIDENT YoYw5r0/dk0UgEcID286w2rFb6t3U7giw8vvUmXDmdv364oblaqoIpw8bgi1UsDJuLTH7urInxbRTuAjkVPJkl844VwfQvfn351HMcIRpO4= USPESNE STAZEN\n",
      "ctiOS        - INFO     - POSIDENT zPeq/viI8Dc0WssYO5VehITpYmrNQCF7PR3vmsy5DT6An5AKp/Luf3CKklORNyHxXhboih/Oz6kq4KsXpqCVVH8yAdAZfxYtCQm25BWJXVerA7juILC9uOuhHiPN4q7k USPESNE STAZEN\n",
      "ctiOS        - INFO     - POSIDENT rPKv7V+fiEfstUB0S6cpEXh6yGTq4bTlCE6uBX5kXieyAh7EWrBaFnwukM66O1XZH25ALIqbX1tDBENeMzMJccMI/bn5rUrlJhEog7igBLY= USPESNE STAZEN\n",
      "ctiOS        - INFO     - POSIDENT WpAGVIbtrw3p6Ic2ebTbXNCwsz0FKsnGB9V9QeaExKo21vI1yF5xcnK/ftMPvAe0P43ooFP1+vRsJWe0rET59I1aQW/uq+Ca3bHca+9xTcc= USPESNE STAZEN\n"
     ]
    },
    {
     "name": "stderr",
     "output_type": "stream",
     "text": [
      "ctiOS        - INFO     - POSIDENT m+o3Qoxrit4ZwyJIPjx3X32uMv1tXAioo/hUUaq6JmMHGXsvc9zncnGPExVsV8dslyzXyBs7yEV6mKlHKK2k7OW4tsyI1O91ftE7Rl4B6B4= USPESNE STAZEN\n",
      "ctiOS        - INFO     - Radky v databazi u POSIdentu 5wQRil9Nd5KIrn5KWTf8+ucfKEsayz4LR/ZrAucExc8z+4hWyMyh+ABIewfIBvgQMxxF8/2HqFMn0OE/IphQisnADW27BjQ8Cn2Ui2i+xLM= aktualizovany\n",
      "ctiOS        - INFO     - Radky v databazi u POSIdentu 7TsaZA7GFeEVxMscggvr2LkRAZwqfDywZ9HtkoX92fdNI/VFseD7SjfY8rJ7IlS7o2MG7D4mG56FZUTFOUWW7a5GeMmtDAasGLtodOgvIOA= aktualizovany\n",
      "ctiOS        - INFO     - Radky v databazi u POSIdentu 00ep7V5fFBZoFMeOfcAOPMRtu0G9svLcsDyC/fYkJk3EbFIqbw2kpRaC1jjS1V8bjacEwrp/SdxXZXdtwDzFj3vKzXvHF7k7HiDpVtv6fPAUIS/cKLcyZ7viQd7pE5FE aktualizovany\n",
      "ctiOS        - INFO     - Radky v databazi u POSIdentu 4/09lLuaNar2b8ZrhcyqhU1dN1h6cdfYNCg2/RReim82UXm3H5whG2MlvoKzXFltwKfA5MonRqd32zCvZgGfvCUIbqRScDVWKy5fctYb6N0= aktualizovany\n",
      "ctiOS        - INFO     - Radky v databazi u POSIdentu PtV2GbyZOZzpReCKf7eFnHRmrU7K4TTcUse25gDBLjKDnzwoc8Sz5tqpCN3vNn4dZMHS+XYlQ+ScsS+WeS/PxoEkyD/byLp2xhUlTYgDucvrvLKp+sDogobmGqlmnSSO aktualizovany\n",
      "ctiOS        - INFO     - Radky v databazi u POSIdentu YoYw5r0/dk0UgEcID286w2rFb6t3U7giw8vvUmXDmdv364oblaqoIpw8bgi1UsDJuLTH7urInxbRTuAjkVPJkl844VwfQvfn351HMcIRpO4= aktualizovany\n",
      "ctiOS        - INFO     - Radky v databazi u POSIdentu zPeq/viI8Dc0WssYO5VehITpYmrNQCF7PR3vmsy5DT6An5AKp/Luf3CKklORNyHxXhboih/Oz6kq4KsXpqCVVH8yAdAZfxYtCQm25BWJXVerA7juILC9uOuhHiPN4q7k aktualizovany\n",
      "ctiOS        - INFO     - Radky v databazi u POSIdentu rPKv7V+fiEfstUB0S6cpEXh6yGTq4bTlCE6uBX5kXieyAh7EWrBaFnwukM66O1XZH25ALIqbX1tDBENeMzMJccMI/bn5rUrlJhEog7igBLY= aktualizovany\n",
      "ctiOS        - INFO     - Radky v databazi u POSIdentu WpAGVIbtrw3p6Ic2ebTbXNCwsz0FKsnGB9V9QeaExKo21vI1yF5xcnK/ftMPvAe0P43ooFP1+vRsJWe0rET59I1aQW/uq+Ca3bHca+9xTcc= aktualizovany\n",
      "ctiOS        - INFO     - Radky v databazi u POSIdentu m+o3Qoxrit4ZwyJIPjx3X32uMv1tXAioo/hUUaq6JmMHGXsvc9zncnGPExVsV8dslyzXyBs7yEV6mKlHKK2k7OW4tsyI1O91ftE7Rl4B6B4= aktualizovany\n",
      "ctiOS        - INFO     - POSIDENT f0Fq5zu50GTRnrkINyLmm4FB6t2AI+NAKWQKLMEvIYouMLntEnHVlCeIfnqDywJNzc67IW3ooE0SGX8qZd79oaAoqiqTOgSmOJZB37UHE1c= USPESNE STAZEN\n",
      "ctiOS        - INFO     - POSIDENT CVikHowKhw3xouJMIqJHZOijnR1LvQJ4hcufAgajhU4QQjJEHn2n19OvpxLG8AXGSDlKlRzQkWOnseHWTe89/ht9nNqJXvjUKcxpd3dr3VQ= USPESNE STAZEN\n",
      "ctiOS        - INFO     - POSIDENT xwHUBBpYTSRS3sFNKTf++dy1Sq83Nmg0C3LE2zx/dRI/jmDT/1OXGDmy3qOw9d0bhwXKp2Oh1GzKgb1Cn4XPvr4qRmtDDESo1yswvoJeFP30WPTfjkelYDu3p6O0eFVE USPESNE STAZEN\n",
      "ctiOS        - INFO     - POSIDENT 8QZWq1vuQ1NdCHkoh0JT2+dtPBjool2L7dNZ6f7XTg/mUCOWuwssd0KErzLHrbhoji0ibmLF+XYB1yO8HkOMdAzdgdGISOTdPRN6VI5OtRw= USPESNE STAZEN\n",
      "ctiOS        - INFO     - POSIDENT UyRKGvNtD3RY7g1F6Oa/uad7WoAoj5fPL4nUuFVU42SrnDzMgM1Tsix9bmimHtrPJvf44AKjrgwgk+wbP3oLUhMW3sFzdFm2UGW4hfZo0Sw= USPESNE STAZEN\n",
      "ctiOS        - INFO     - POSIDENT 2fa9YZ/g+IACqr1Etk+QIUPK51iiTwCA/t/nTw+U9RUmjfYorPLrzpPd46Bmj3C3tfw3cyOy5bx0ogGCOZ01eUctqHZQzXY903JlPvzPzlw= USPESNE STAZEN\n",
      "ctiOS        - INFO     - POSIDENT QbLYFV/XGTZN3skq8A77iw0jXtvYHadpwu1NNJiAIo2AxO/xomD4UCTqS/vTmeeX8eOr3Elw3K8/sYINSFQWG911P+EqAbPgVARJIHZvtkY= USPESNE STAZEN\n",
      "ctiOS        - INFO     - POSIDENT UtkReXE24+hFt9Wp0bqKaX85nwQdDmfMUgydTTHuf3xaV8DBXxPhnN/njjvOH7vurf6kdNoM0VtJq7id2emrlY9VTrLvGF+6WQl5MjmLBq0= USPESNE STAZEN\n",
      "ctiOS        - INFO     - POSIDENT hf/HqLIgE7zvLimKwDjWOVhOmPY03cK5NxklSV6zIn0uRs5Uh3gkcycrY7GPiEamJWSEInqSAEwmZdx3/uM9hMBXYt+pwgje7SZyLBu2DhA= USPESNE STAZEN\n",
      "ctiOS        - INFO     - POSIDENT o0V5H26cXD1+RFNrtHWDD5/5zfRee+2PZtNtw6TfHmL/dqT6lkuBz7xec6grhmrdiCC+G+4G3/yR+0j7jQI5kgysM49mklk1tOHmTrweKQR5jqFgXtG8YTRMo4e1Bcx+ USPESNE STAZEN\n",
      "ctiOS        - INFO     - Radky v databazi u POSIdentu f0Fq5zu50GTRnrkINyLmm4FB6t2AI+NAKWQKLMEvIYouMLntEnHVlCeIfnqDywJNzc67IW3ooE0SGX8qZd79oaAoqiqTOgSmOJZB37UHE1c= aktualizovany\n",
      "ctiOS        - INFO     - Radky v databazi u POSIdentu CVikHowKhw3xouJMIqJHZOijnR1LvQJ4hcufAgajhU4QQjJEHn2n19OvpxLG8AXGSDlKlRzQkWOnseHWTe89/ht9nNqJXvjUKcxpd3dr3VQ= aktualizovany\n",
      "ctiOS        - INFO     - Radky v databazi u POSIdentu xwHUBBpYTSRS3sFNKTf++dy1Sq83Nmg0C3LE2zx/dRI/jmDT/1OXGDmy3qOw9d0bhwXKp2Oh1GzKgb1Cn4XPvr4qRmtDDESo1yswvoJeFP30WPTfjkelYDu3p6O0eFVE aktualizovany\n",
      "ctiOS        - INFO     - Radky v databazi u POSIdentu 8QZWq1vuQ1NdCHkoh0JT2+dtPBjool2L7dNZ6f7XTg/mUCOWuwssd0KErzLHrbhoji0ibmLF+XYB1yO8HkOMdAzdgdGISOTdPRN6VI5OtRw= aktualizovany\n",
      "ctiOS        - INFO     - Radky v databazi u POSIdentu UyRKGvNtD3RY7g1F6Oa/uad7WoAoj5fPL4nUuFVU42SrnDzMgM1Tsix9bmimHtrPJvf44AKjrgwgk+wbP3oLUhMW3sFzdFm2UGW4hfZo0Sw= aktualizovany\n",
      "ctiOS        - INFO     - Radky v databazi u POSIdentu 2fa9YZ/g+IACqr1Etk+QIUPK51iiTwCA/t/nTw+U9RUmjfYorPLrzpPd46Bmj3C3tfw3cyOy5bx0ogGCOZ01eUctqHZQzXY903JlPvzPzlw= aktualizovany\n",
      "ctiOS        - INFO     - Radky v databazi u POSIdentu QbLYFV/XGTZN3skq8A77iw0jXtvYHadpwu1NNJiAIo2AxO/xomD4UCTqS/vTmeeX8eOr3Elw3K8/sYINSFQWG911P+EqAbPgVARJIHZvtkY= aktualizovany\n",
      "ctiOS        - INFO     - Radky v databazi u POSIdentu UtkReXE24+hFt9Wp0bqKaX85nwQdDmfMUgydTTHuf3xaV8DBXxPhnN/njjvOH7vurf6kdNoM0VtJq7id2emrlY9VTrLvGF+6WQl5MjmLBq0= aktualizovany\n",
      "ctiOS        - INFO     - Radky v databazi u POSIdentu hf/HqLIgE7zvLimKwDjWOVhOmPY03cK5NxklSV6zIn0uRs5Uh3gkcycrY7GPiEamJWSEInqSAEwmZdx3/uM9hMBXYt+pwgje7SZyLBu2DhA= aktualizovany\n",
      "ctiOS        - INFO     - Radky v databazi u POSIdentu o0V5H26cXD1+RFNrtHWDD5/5zfRee+2PZtNtw6TfHmL/dqT6lkuBz7xec6grhmrdiCC+G+4G3/yR+0j7jQI5kgysM49mklk1tOHmTrweKQR5jqFgXtG8YTRMo4e1Bcx+ aktualizovany\n",
      "ctiOS        - INFO     - POSIDENT xEZvrXlG0ZciECwqZA8HsRDxiJlp9fBs8xvGltU/5rrKNmW4Nt247mvOtyXLHLspnNXQcio8j41RuWDpNtwjcde1q0aYKZzTi8AFFqOEN88= USPESNE STAZEN\n",
      "ctiOS        - INFO     - POSIDENT T/sOfNBmULfA5GzBpJRYu3UWEwhw4PFYydRQSh7x1PSc4RTRLXYaXTfpbt2Da17zSJPbQDKce+cHMMQVCVBRj9+U8wwRYYTBTgLsWbpMpuY= USPESNE STAZEN\n",
      "ctiOS        - INFO     - POSIDENT DqJj5oG/KEn8Q/Q6Kyh4kM1M3AeoyvOzDBYgQ6vQvCLC7pU1cHmPTEyzCfhCvzeZbeAuEchEqmWXu1R9UGKSNlfY9G/wZcA3lqfBd+wfigs= USPESNE STAZEN\n",
      "ctiOS        - INFO     - POSIDENT bWb6QEOjc94in0pmGSBFwRm4FfuaCoxE+aHEHahXFXkx9jUOSdvhaWl40efvjBFwAmnAHHJI/g0nsn0tLis0carj34MDA39ptCnBdYnH5ZA= USPESNE STAZEN\n",
      "ctiOS        - INFO     - POSIDENT JsnHnHK89vL/0oCWFbmIw15mkLQCUsEucRyqJhlrzKopQ2ZPOvDcxyv6C70Sxb2Nv9K7xai/Ig7giS8gJljk3mKkDItXp5ARq7bGkTVbpTw= USPESNE STAZEN\n",
      "ctiOS        - INFO     - POSIDENT OSAJs7W4HqDew0srlaev6U4G6+SYLaddr65lGbvSoNr/avJL76h/vK1sBGmQ9kvy0TkOuLNofgfzYOT4s5Imp3Vn8LiiR/fKy0ofj18gbPA= USPESNE STAZEN\n",
      "ctiOS        - INFO     - POSIDENT Vm+8vMmIsWsvcxR9zMDL9Cy+E0ZgHj9AJ3kwMqaLxguXn6wJcfM3e3LWpd7RzRxm3woikNUtGPF45crUFMpAsfsa/Bmx4YzTqTFCj0vhoQY= USPESNE STAZEN\n",
      "ctiOS        - INFO     - POSIDENT iXuo5APMiSDKHjvq6Zwp4znpylRk3VICHbMd0CZEnHv0Yfd9IxzLRCvYD0GcdPBgCsVQP5C/sjWn2YmF1qe/BxyobmNhG4SPsa0pKedo4PE= USPESNE STAZEN\n",
      "ctiOS        - INFO     - POSIDENT AGLNrRX8gxMGgFxc57odWW/yGmn7NeHtyEPqURGIoazP16SegE6xwFHfWC/gQY+WgTtLKjG3cPMzRltvADCgso5adynZFpiklJffFOc7sSo= USPESNE STAZEN\n",
      "ctiOS        - INFO     - POSIDENT xairWnG248pu7itR19AIT0hdzsYi1LAHuAt8fIswNgUvi97XTCdWljEuXGf2xQ4c5hhgGnY0ZVp2yOEEGwJ70iljjCDlCM46qs/+W/UHZSQ= USPESNE STAZEN\n",
      "ctiOS        - INFO     - Radky v databazi u POSIdentu xEZvrXlG0ZciECwqZA8HsRDxiJlp9fBs8xvGltU/5rrKNmW4Nt247mvOtyXLHLspnNXQcio8j41RuWDpNtwjcde1q0aYKZzTi8AFFqOEN88= aktualizovany\n",
      "ctiOS        - INFO     - Radky v databazi u POSIdentu T/sOfNBmULfA5GzBpJRYu3UWEwhw4PFYydRQSh7x1PSc4RTRLXYaXTfpbt2Da17zSJPbQDKce+cHMMQVCVBRj9+U8wwRYYTBTgLsWbpMpuY= aktualizovany\n",
      "ctiOS        - INFO     - Radky v databazi u POSIdentu DqJj5oG/KEn8Q/Q6Kyh4kM1M3AeoyvOzDBYgQ6vQvCLC7pU1cHmPTEyzCfhCvzeZbeAuEchEqmWXu1R9UGKSNlfY9G/wZcA3lqfBd+wfigs= aktualizovany\n",
      "ctiOS        - INFO     - Radky v databazi u POSIdentu bWb6QEOjc94in0pmGSBFwRm4FfuaCoxE+aHEHahXFXkx9jUOSdvhaWl40efvjBFwAmnAHHJI/g0nsn0tLis0carj34MDA39ptCnBdYnH5ZA= aktualizovany\n",
      "ctiOS        - INFO     - Radky v databazi u POSIdentu JsnHnHK89vL/0oCWFbmIw15mkLQCUsEucRyqJhlrzKopQ2ZPOvDcxyv6C70Sxb2Nv9K7xai/Ig7giS8gJljk3mKkDItXp5ARq7bGkTVbpTw= aktualizovany\n",
      "ctiOS        - INFO     - Radky v databazi u POSIdentu OSAJs7W4HqDew0srlaev6U4G6+SYLaddr65lGbvSoNr/avJL76h/vK1sBGmQ9kvy0TkOuLNofgfzYOT4s5Imp3Vn8LiiR/fKy0ofj18gbPA= aktualizovany\n",
      "ctiOS        - INFO     - Radky v databazi u POSIdentu Vm+8vMmIsWsvcxR9zMDL9Cy+E0ZgHj9AJ3kwMqaLxguXn6wJcfM3e3LWpd7RzRxm3woikNUtGPF45crUFMpAsfsa/Bmx4YzTqTFCj0vhoQY= aktualizovany\n"
     ]
    },
    {
     "name": "stderr",
     "output_type": "stream",
     "text": [
      "ctiOS        - INFO     - Radky v databazi u POSIdentu iXuo5APMiSDKHjvq6Zwp4znpylRk3VICHbMd0CZEnHv0Yfd9IxzLRCvYD0GcdPBgCsVQP5C/sjWn2YmF1qe/BxyobmNhG4SPsa0pKedo4PE= aktualizovany\n",
      "ctiOS        - INFO     - Radky v databazi u POSIdentu AGLNrRX8gxMGgFxc57odWW/yGmn7NeHtyEPqURGIoazP16SegE6xwFHfWC/gQY+WgTtLKjG3cPMzRltvADCgso5adynZFpiklJffFOc7sSo= aktualizovany\n",
      "ctiOS        - INFO     - Radky v databazi u POSIdentu xairWnG248pu7itR19AIT0hdzsYi1LAHuAt8fIswNgUvi97XTCdWljEuXGf2xQ4c5hhgGnY0ZVp2yOEEGwJ70iljjCDlCM46qs/+W/UHZSQ= aktualizovany\n",
      "ctiOS        - INFO     - POSIDENT BBgBQ2wok0L43hEZUEeiehwwgrnYkvSWpgVkTEuS44FGAKrsjBz/UVx+LWdeKO2khvGuk0dwf2GE9ziJR5j2lVd4ioIVbPKS1oaCurIfCpA= USPESNE STAZEN\n",
      "ctiOS        - INFO     - POSIDENT Ku76SlYfgFivONmh8bdyl02qHhLEuGPdDbCow70bilmRc26J2noXqBoufBPT4kfi2B5Nm5H9w1NFHR+pNQuGoQfdXwnXwz8VCNF2QsJnBe8ypwQghGm+6xd1Xp/20VgA USPESNE STAZEN\n",
      "ctiOS        - INFO     - POSIDENT l0raZybOozQ95JWgTnaQpiplmmtdzAp2RiExSTwc+CmrRcDkW8jPHrWwYA33OP9DV3647Ea9f04G8Wyca2N6FJccnQQNFaY66A5TWLwA8dc= USPESNE STAZEN\n",
      "ctiOS        - INFO     - POSIDENT nG1j9b9eZx7u/iGrTPtgGVOrmDaUxd1s2dC8/jiqRtKkXyuaJ7icS9jz00xy2JcS4p338ZsCnpOzwga2Y8tupePeKeUVoWjjSl+o/7/msY0= USPESNE STAZEN\n",
      "ctiOS        - INFO     - POSIDENT /ipU68hnjrq1J7ZDi4JBaAyBiKjxZzpGZSVIfv8yFMKSKy3PpT/lba/0c4YCdqvrexVCCAL0MxBbob3A75l2Tnkgw/HHXtm0+abSHVywLEM= USPESNE STAZEN\n",
      "ctiOS        - INFO     - POSIDENT /AOrBGOFR+4GtqsAvOXC/3kKd0OCEPBVRfEsIPHeW3CoGcU1dio8gmrulsH5/KEvySRvbRT2hlDOXICKukDLldMgNY5z+yASe8F1rqBlKug= USPESNE STAZEN\n",
      "ctiOS        - INFO     - POSIDENT J3hMa2yksIRcQaD51HVTH3Q6WzhIEBRV4Pjvzv1m9JVCaVFmqbSQLmMqp5SX+mFgX+CkR4Tf0RenGliXDwBkGky9DnZquQo+qDKWLThkZ7c= USPESNE STAZEN\n",
      "ctiOS        - INFO     - POSIDENT KdSYyo8J1zUPVqxHUtY+tXCq1sozzl79fDrwCjZTPA82RA81GrHfiwpq2ymtsH1mkBgkLzE1TRH+MGXYdCunCxgrju4BztjRm1Ouf3qlRaU= USPESNE STAZEN\n",
      "ctiOS        - INFO     - POSIDENT XHIBU/Os4CXjIriHfhjuJMtIZCEvJBRz3RTj02SaUqCUWW2nYww1irZFjR1y3ieG3vIdjnr7ZpukTGijByBS8mUDBj9jPUeUxRUhwptQp+k= USPESNE STAZEN\n",
      "ctiOS        - INFO     - POSIDENT uecJ/wWk2Ej6CAnwe3i0y0jfrp9Xr1oMVJ+9kLKpkU8trb/GSsJmcvNw7XJ0dzNpkKLYrpaxDPIVMKGKnG/ZMzSYtEOoqKGnRHhbt/PXjUr/RJzL4O5LlsS30GNP3Kka USPESNE STAZEN\n",
      "ctiOS        - INFO     - Radky v databazi u POSIdentu BBgBQ2wok0L43hEZUEeiehwwgrnYkvSWpgVkTEuS44FGAKrsjBz/UVx+LWdeKO2khvGuk0dwf2GE9ziJR5j2lVd4ioIVbPKS1oaCurIfCpA= aktualizovany\n",
      "ctiOS        - INFO     - Radky v databazi u POSIdentu Ku76SlYfgFivONmh8bdyl02qHhLEuGPdDbCow70bilmRc26J2noXqBoufBPT4kfi2B5Nm5H9w1NFHR+pNQuGoQfdXwnXwz8VCNF2QsJnBe8ypwQghGm+6xd1Xp/20VgA aktualizovany\n",
      "ctiOS        - INFO     - Radky v databazi u POSIdentu l0raZybOozQ95JWgTnaQpiplmmtdzAp2RiExSTwc+CmrRcDkW8jPHrWwYA33OP9DV3647Ea9f04G8Wyca2N6FJccnQQNFaY66A5TWLwA8dc= aktualizovany\n",
      "ctiOS        - INFO     - Radky v databazi u POSIdentu nG1j9b9eZx7u/iGrTPtgGVOrmDaUxd1s2dC8/jiqRtKkXyuaJ7icS9jz00xy2JcS4p338ZsCnpOzwga2Y8tupePeKeUVoWjjSl+o/7/msY0= aktualizovany\n",
      "ctiOS        - INFO     - Radky v databazi u POSIdentu /ipU68hnjrq1J7ZDi4JBaAyBiKjxZzpGZSVIfv8yFMKSKy3PpT/lba/0c4YCdqvrexVCCAL0MxBbob3A75l2Tnkgw/HHXtm0+abSHVywLEM= aktualizovany\n",
      "ctiOS        - INFO     - Radky v databazi u POSIdentu /AOrBGOFR+4GtqsAvOXC/3kKd0OCEPBVRfEsIPHeW3CoGcU1dio8gmrulsH5/KEvySRvbRT2hlDOXICKukDLldMgNY5z+yASe8F1rqBlKug= aktualizovany\n",
      "ctiOS        - INFO     - Radky v databazi u POSIdentu J3hMa2yksIRcQaD51HVTH3Q6WzhIEBRV4Pjvzv1m9JVCaVFmqbSQLmMqp5SX+mFgX+CkR4Tf0RenGliXDwBkGky9DnZquQo+qDKWLThkZ7c= aktualizovany\n",
      "ctiOS        - INFO     - Radky v databazi u POSIdentu KdSYyo8J1zUPVqxHUtY+tXCq1sozzl79fDrwCjZTPA82RA81GrHfiwpq2ymtsH1mkBgkLzE1TRH+MGXYdCunCxgrju4BztjRm1Ouf3qlRaU= aktualizovany\n",
      "ctiOS        - INFO     - Radky v databazi u POSIdentu XHIBU/Os4CXjIriHfhjuJMtIZCEvJBRz3RTj02SaUqCUWW2nYww1irZFjR1y3ieG3vIdjnr7ZpukTGijByBS8mUDBj9jPUeUxRUhwptQp+k= aktualizovany\n",
      "ctiOS        - INFO     - Radky v databazi u POSIdentu uecJ/wWk2Ej6CAnwe3i0y0jfrp9Xr1oMVJ+9kLKpkU8trb/GSsJmcvNw7XJ0dzNpkKLYrpaxDPIVMKGKnG/ZMzSYtEOoqKGnRHhbt/PXjUr/RJzL4O5LlsS30GNP3Kka aktualizovany\n",
      "ctiOS        - INFO     - POSIDENT +VKfYaKhJDrRHUWeS2e7xO7g+HhFQapZMPa5kamaF/wSOs6r3xEPEVFhtUlWqcXO9GTopZEjqpsTbsKhZmN7VxYJSxvgcgTWMGdxYkQVCaU= USPESNE STAZEN\n",
      "ctiOS        - INFO     - POSIDENT VdYFVbm+86uuL5NZSDUP9DEEmK6+kQ0Yv94SD3PKGIsyVVcXQ+yl9sVe+9geW8q79xfDY/YF98BVdxRwtIHCYeMzVGLAEMhP7R8SIwcVCtPRH4gdRhvij3OuHXZOjz0M USPESNE STAZEN\n",
      "ctiOS        - INFO     - POSIDENT 4m3Yuf1esDMzbgNGYW7kv4xM1N45Dxn1k9MaGswf4YFbSpYmJ+3xwjL90xaHQXSbHmnsQrT0+ynMYrGA2IZA8C2XWS7b0Diy4ZU0x4rQBKE= USPESNE STAZEN\n",
      "ctiOS        - INFO     - POSIDENT a4uuL5087aAkDOdoVblOShaQjHZZiAz79ef8xsvMcMgrPH6vAmPki7VNwOXKxvCG9eshEijbAukEr7jJOHUEcC8HpMau6Eer288lakdfmH8= USPESNE STAZEN\n",
      "ctiOS        - INFO     - POSIDENT wpKK2F/BDnPKTx2S67hQVOVPGlU5agILyPckG4iVAkBux64yqWY7aR5ndq6iAavR1drvKIzk14UMMDi88nOhNF7O1i6BnJF20ugsKC/upYE= USPESNE STAZEN\n",
      "ctiOS        - INFO     - POSIDENT Fi39z7m2FANK18yYncVWlU0YQ8u8FLjldrBRweDzDAhBc7pe75fu3JHKj+g5n/5aa4dpfuoLVrjuRQC94G/kkGKlglQD+qewgR7q6jBOwmk= USPESNE STAZEN\n",
      "ctiOS        - INFO     - POSIDENT JjjGmmAuY2r+vgvGvpKNjDzRo+CAGsMfhosMMP10Vq0blIcrdQ6xqI0zWSD6eKKGrDXBtI6dxcnnkgUOlFgjkH081Qeg/URu3ZByDWe/3BI= USPESNE STAZEN\n",
      "ctiOS        - INFO     - POSIDENT q4ZUhGQGivshfEEsiHkiC1iJJE3pRXruvCrdiEi+or/nkYeeJD1NajXvl5Mm8/CU8QeovLeXweZgIuOQW3+R6S9vo/4qfzC81k40opUrblk= USPESNE STAZEN\n",
      "ctiOS        - INFO     - POSIDENT mDkas+QvEOd4+XBxuIW4Da3aEEdBAod5OJM/9la0ivdkMk7DTs9DqRZEI5Lc3wAC7Yb1sw4kp/JEFP3nnG2ZcPT36EJYO+EfrC0OlzewTfM= USPESNE STAZEN\n",
      "ctiOS        - INFO     - POSIDENT xocTMRuuiHIYwNN3v/RUpArt2Fhetx6zLzs1TUM4gw+ObLyU2HJkAPQ5WdENo82O2DPHBJrt2XiurT7d3j3H5mEqs6IWf89iXlFyWJLkDow= USPESNE STAZEN\n",
      "ctiOS        - INFO     - Radky v databazi u POSIdentu +VKfYaKhJDrRHUWeS2e7xO7g+HhFQapZMPa5kamaF/wSOs6r3xEPEVFhtUlWqcXO9GTopZEjqpsTbsKhZmN7VxYJSxvgcgTWMGdxYkQVCaU= aktualizovany\n",
      "ctiOS        - INFO     - Radky v databazi u POSIdentu VdYFVbm+86uuL5NZSDUP9DEEmK6+kQ0Yv94SD3PKGIsyVVcXQ+yl9sVe+9geW8q79xfDY/YF98BVdxRwtIHCYeMzVGLAEMhP7R8SIwcVCtPRH4gdRhvij3OuHXZOjz0M aktualizovany\n",
      "ctiOS        - INFO     - Radky v databazi u POSIdentu 4m3Yuf1esDMzbgNGYW7kv4xM1N45Dxn1k9MaGswf4YFbSpYmJ+3xwjL90xaHQXSbHmnsQrT0+ynMYrGA2IZA8C2XWS7b0Diy4ZU0x4rQBKE= aktualizovany\n",
      "ctiOS        - INFO     - Radky v databazi u POSIdentu a4uuL5087aAkDOdoVblOShaQjHZZiAz79ef8xsvMcMgrPH6vAmPki7VNwOXKxvCG9eshEijbAukEr7jJOHUEcC8HpMau6Eer288lakdfmH8= aktualizovany\n",
      "ctiOS        - INFO     - Radky v databazi u POSIdentu wpKK2F/BDnPKTx2S67hQVOVPGlU5agILyPckG4iVAkBux64yqWY7aR5ndq6iAavR1drvKIzk14UMMDi88nOhNF7O1i6BnJF20ugsKC/upYE= aktualizovany\n",
      "ctiOS        - INFO     - Radky v databazi u POSIdentu Fi39z7m2FANK18yYncVWlU0YQ8u8FLjldrBRweDzDAhBc7pe75fu3JHKj+g5n/5aa4dpfuoLVrjuRQC94G/kkGKlglQD+qewgR7q6jBOwmk= aktualizovany\n",
      "ctiOS        - INFO     - Radky v databazi u POSIdentu JjjGmmAuY2r+vgvGvpKNjDzRo+CAGsMfhosMMP10Vq0blIcrdQ6xqI0zWSD6eKKGrDXBtI6dxcnnkgUOlFgjkH081Qeg/URu3ZByDWe/3BI= aktualizovany\n",
      "ctiOS        - INFO     - Radky v databazi u POSIdentu q4ZUhGQGivshfEEsiHkiC1iJJE3pRXruvCrdiEi+or/nkYeeJD1NajXvl5Mm8/CU8QeovLeXweZgIuOQW3+R6S9vo/4qfzC81k40opUrblk= aktualizovany\n",
      "ctiOS        - INFO     - Radky v databazi u POSIdentu mDkas+QvEOd4+XBxuIW4Da3aEEdBAod5OJM/9la0ivdkMk7DTs9DqRZEI5Lc3wAC7Yb1sw4kp/JEFP3nnG2ZcPT36EJYO+EfrC0OlzewTfM= aktualizovany\n",
      "ctiOS        - INFO     - Radky v databazi u POSIdentu xocTMRuuiHIYwNN3v/RUpArt2Fhetx6zLzs1TUM4gw+ObLyU2HJkAPQ5WdENo82O2DPHBJrt2XiurT7d3j3H5mEqs6IWf89iXlFyWJLkDow= aktualizovany\n",
      "ctiOS        - INFO     - POSIDENT 3aW3srZ5a3T/ChIj+sdMrJE0sk738z0ZHA0q6GgFh5H2Szl4VYLSRCfCHyEMA8cAKwbYizIHXcv/r5goxydoDSZCgYHe6mOZsomLL2Jwop4= USPESNE STAZEN\n",
      "ctiOS        - INFO     - POSIDENT KhrNZfOu3UPVx0J3V8kMtS9CZ5x9bc/JsMxwurOsDV7Z/IpcR6nA43E3vtpb+uujF4/FF7VOesEOFK3IS4UbncSMhhLL215enh/PGWVACCHNXwDFbAXYk9f1KAuFGSY0 USPESNE STAZEN\n",
      "ctiOS        - INFO     - POSIDENT OnlsGwGAyTMPH15d9slPGHS+ul00Ov2hYSesDj7FmHeRy6i+1ttOFelz2GYwTBWMONxcreKb+0Bf2840TsM6LHBDumdabpRRCj+TFicfIo0= USPESNE STAZEN\n",
      "ctiOS        - INFO     - POSIDENT MkyPxftPwByPP/3T9U6meQYmlU9Uga3YsRKeSLgcelx6L++1XjfRQIJPyJhaQvvlvRiyNUYZdw4tIbfYQq6t/P4y/zkOJPN2VLK3vnm1kks= USPESNE STAZEN\n",
      "ctiOS        - INFO     - POSIDENT YSaRmQMUJtP5iHcBKPfOwIotTcrYSx4zMLFVrcnuaCmeFEm/VL5lHuo34uh5THwLFv7UohQK3AOjWfNiucgP14yqeR9UNxTi5O9pkiZz0LI= USPESNE STAZEN\n"
     ]
    },
    {
     "name": "stderr",
     "output_type": "stream",
     "text": [
      "ctiOS        - INFO     - POSIDENT NezMzNG/s2Rz33QBJ/J9xHsKkt3gPqkDcB/VqU6fmfWs/kc8bLBXqEfKbgE9/Co4Ah9Ft2xfVdjm9TZnDDLf0DSivtf34CqbrOgDPJv7Q/c= USPESNE STAZEN\n",
      "ctiOS        - INFO     - POSIDENT hMFmuv9xLKl7itElRb+ABKUfR4GPjNp8o8f7v5TImNsrDMbOSFs0n+msxztqnzvgTnj+Rm6QehwZNK64c6pIeSUBViUprt4npOhmD/7zcrk= USPESNE STAZEN\n",
      "ctiOS        - INFO     - POSIDENT neqUuNVqO4j95P+NofCPKL0MpZxkXTUrIQe/eQxf0fZUF4yLhcArvN3to7uRIMN7sVm18i3/pvS0bQbpHxmQT+iN8Gfl/dcR2gsSyVVLXGs= USPESNE STAZEN\n",
      "ctiOS        - INFO     - POSIDENT mm/dPuBRthrYVYeJFVs7KbJF8/0AcMBynbtvmHypm+QNWR7vTP4qB6Fjx93b2q7on9TIgT5u2hb9//QrjDl7NRJCaZYrCLqylJUlk4wyvV6WfgnUKGSoDqXg3KnMyIO9 USPESNE STAZEN\n",
      "ctiOS        - INFO     - POSIDENT cc3RAb7ln/HyHThRavcVRYDuQQHgv9VV8nNlwdBNLUZ6oCPq/qyk+T1vPYEx0GCJEl+tQ7UbtUZMwecAoFcEAqknnyNkwfherStqUhxxEQ8= USPESNE STAZEN\n",
      "ctiOS        - INFO     - Radky v databazi u POSIdentu 3aW3srZ5a3T/ChIj+sdMrJE0sk738z0ZHA0q6GgFh5H2Szl4VYLSRCfCHyEMA8cAKwbYizIHXcv/r5goxydoDSZCgYHe6mOZsomLL2Jwop4= aktualizovany\n",
      "ctiOS        - INFO     - Radky v databazi u POSIdentu KhrNZfOu3UPVx0J3V8kMtS9CZ5x9bc/JsMxwurOsDV7Z/IpcR6nA43E3vtpb+uujF4/FF7VOesEOFK3IS4UbncSMhhLL215enh/PGWVACCHNXwDFbAXYk9f1KAuFGSY0 aktualizovany\n",
      "ctiOS        - INFO     - Radky v databazi u POSIdentu OnlsGwGAyTMPH15d9slPGHS+ul00Ov2hYSesDj7FmHeRy6i+1ttOFelz2GYwTBWMONxcreKb+0Bf2840TsM6LHBDumdabpRRCj+TFicfIo0= aktualizovany\n",
      "ctiOS        - INFO     - Radky v databazi u POSIdentu MkyPxftPwByPP/3T9U6meQYmlU9Uga3YsRKeSLgcelx6L++1XjfRQIJPyJhaQvvlvRiyNUYZdw4tIbfYQq6t/P4y/zkOJPN2VLK3vnm1kks= aktualizovany\n",
      "ctiOS        - INFO     - Radky v databazi u POSIdentu YSaRmQMUJtP5iHcBKPfOwIotTcrYSx4zMLFVrcnuaCmeFEm/VL5lHuo34uh5THwLFv7UohQK3AOjWfNiucgP14yqeR9UNxTi5O9pkiZz0LI= aktualizovany\n",
      "ctiOS        - INFO     - Radky v databazi u POSIdentu NezMzNG/s2Rz33QBJ/J9xHsKkt3gPqkDcB/VqU6fmfWs/kc8bLBXqEfKbgE9/Co4Ah9Ft2xfVdjm9TZnDDLf0DSivtf34CqbrOgDPJv7Q/c= aktualizovany\n",
      "ctiOS        - INFO     - Radky v databazi u POSIdentu hMFmuv9xLKl7itElRb+ABKUfR4GPjNp8o8f7v5TImNsrDMbOSFs0n+msxztqnzvgTnj+Rm6QehwZNK64c6pIeSUBViUprt4npOhmD/7zcrk= aktualizovany\n",
      "ctiOS        - INFO     - Radky v databazi u POSIdentu neqUuNVqO4j95P+NofCPKL0MpZxkXTUrIQe/eQxf0fZUF4yLhcArvN3to7uRIMN7sVm18i3/pvS0bQbpHxmQT+iN8Gfl/dcR2gsSyVVLXGs= aktualizovany\n",
      "ctiOS        - INFO     - Radky v databazi u POSIdentu mm/dPuBRthrYVYeJFVs7KbJF8/0AcMBynbtvmHypm+QNWR7vTP4qB6Fjx93b2q7on9TIgT5u2hb9//QrjDl7NRJCaZYrCLqylJUlk4wyvV6WfgnUKGSoDqXg3KnMyIO9 aktualizovany\n",
      "ctiOS        - INFO     - Radky v databazi u POSIdentu cc3RAb7ln/HyHThRavcVRYDuQQHgv9VV8nNlwdBNLUZ6oCPq/qyk+T1vPYEx0GCJEl+tQ7UbtUZMwecAoFcEAqknnyNkwfherStqUhxxEQ8= aktualizovany\n",
      "ctiOS        - INFO     - POSIDENT 64R47PeqD9SONivn8apY/lJWp7PMqXzY9utJl+M+BfUUirKmMZliVuxYKEtLpIva6glOyFHdvIofu9Hwu2HKl1m5M6qSyaHfCuQu6GdIy0E= USPESNE STAZEN\n",
      "ctiOS        - INFO     - POSIDENT r/e02ptfcJ47n0rUY4NM6xWfd1OtN4e/Xu5+rNe3pOEOVnL0HIiVQe4Uy8l4k8SYVJNj5qAU70p692ABBUteyJl2nyFJ7iYFpjclbK8bnAo= USPESNE STAZEN\n",
      "ctiOS        - INFO     - POSIDENT i0/Tr+VNmKgY+wJydNVJbCob8vQemEnjdn3A2r2ffhs8dz4IHH2H2AVcFvTyEOe3ci6MD33ZHXqEu8Lr8L1xtG3SHwhy2TBVM3bEa6vFpMbxj5wBXmFfT/QAGRrOqWBN USPESNE STAZEN\n",
      "ctiOS        - INFO     - POSIDENT H6BJyag+3cV1xBsFPBuuip4rM871q3h2gO2AszXSo6CmQ9q6IQ+sqm+YGxa8TyS365iI6gf3iY3cV9REk4c0H9FpsORYvWNYFwG7CrJ9iLas5dj12SPyvF51BRjr/0au USPESNE STAZEN\n",
      "ctiOS        - INFO     - POSIDENT OlVCtLEjQ+aNPyQNdT0JZPdJ2BEokpMEB+uTlQIY3kneRjP1aRL3CA72359ulPAbO8VfGzNtFEYkByykTtoLJTljQAtit7OAw+N65g+1hCE= USPESNE STAZEN\n",
      "ctiOS        - INFO     - POSIDENT zjQFHCstHaYtYTIi9hORZRXYOc6k0hH288KSw9iDzCl+X9pOUGZKaa66zQQEN73fdjsw9/7YjYQ68TBXMm8URmS5tv4YM3mG5Twnjp+eFLQ= USPESNE STAZEN\n",
      "ctiOS        - INFO     - POSIDENT rdsGfgHvYfix3H2OkFc5hhGU9AzpRXOZ8wOen/EBHoSu+oxaE9cUuQfix2dxN4Ly+Z6KVQlqDqPxEwTEhD9dcfIiP1TKGUho0PE8lkkSZYOYQIcVm5TH5bmcWK1EL2Vf USPESNE STAZEN\n",
      "ctiOS        - INFO     - POSIDENT MDJxuYEcvwdwAi1Fg0is3l8pQHEuYA3JuvhPN/UJqhDXFlzmCXQwxl3WwR400xI4Kh8loBqPredEDVXts4a8Ksr7O0PlW4HuYk5l6HIpY2s= USPESNE STAZEN\n",
      "ctiOS        - INFO     - POSIDENT 4fX93lhUET5sT1ayzq9OpcSRV0gvsmNLslOQvs8+KTdyJsmn3y+TCQng5mo8u4MYP3wirZ0sAvHunZFDqcFGEGLmoyTsulfA3fwbyWIXnO0= USPESNE STAZEN\n",
      "ctiOS        - INFO     - POSIDENT UKcYWvUUTpNi8flxUzlm+TSnnprgWLVUHQLYF9LrVQpOOqQ6wycE7XBa1xVt+SzU+NR+i4CvbqbaTivPkjaaQbFOZw8LEOjjFYowWGpfJHKUl6UeeOCVx+jaGjtgvaWo USPESNE STAZEN\n",
      "ctiOS        - INFO     - Radky v databazi u POSIdentu 64R47PeqD9SONivn8apY/lJWp7PMqXzY9utJl+M+BfUUirKmMZliVuxYKEtLpIva6glOyFHdvIofu9Hwu2HKl1m5M6qSyaHfCuQu6GdIy0E= aktualizovany\n",
      "ctiOS        - INFO     - Radky v databazi u POSIdentu r/e02ptfcJ47n0rUY4NM6xWfd1OtN4e/Xu5+rNe3pOEOVnL0HIiVQe4Uy8l4k8SYVJNj5qAU70p692ABBUteyJl2nyFJ7iYFpjclbK8bnAo= aktualizovany\n",
      "ctiOS        - INFO     - Radky v databazi u POSIdentu i0/Tr+VNmKgY+wJydNVJbCob8vQemEnjdn3A2r2ffhs8dz4IHH2H2AVcFvTyEOe3ci6MD33ZHXqEu8Lr8L1xtG3SHwhy2TBVM3bEa6vFpMbxj5wBXmFfT/QAGRrOqWBN aktualizovany\n",
      "ctiOS        - INFO     - Radky v databazi u POSIdentu H6BJyag+3cV1xBsFPBuuip4rM871q3h2gO2AszXSo6CmQ9q6IQ+sqm+YGxa8TyS365iI6gf3iY3cV9REk4c0H9FpsORYvWNYFwG7CrJ9iLas5dj12SPyvF51BRjr/0au aktualizovany\n",
      "ctiOS        - INFO     - Radky v databazi u POSIdentu OlVCtLEjQ+aNPyQNdT0JZPdJ2BEokpMEB+uTlQIY3kneRjP1aRL3CA72359ulPAbO8VfGzNtFEYkByykTtoLJTljQAtit7OAw+N65g+1hCE= aktualizovany\n",
      "ctiOS        - INFO     - Radky v databazi u POSIdentu zjQFHCstHaYtYTIi9hORZRXYOc6k0hH288KSw9iDzCl+X9pOUGZKaa66zQQEN73fdjsw9/7YjYQ68TBXMm8URmS5tv4YM3mG5Twnjp+eFLQ= aktualizovany\n",
      "ctiOS        - INFO     - Radky v databazi u POSIdentu rdsGfgHvYfix3H2OkFc5hhGU9AzpRXOZ8wOen/EBHoSu+oxaE9cUuQfix2dxN4Ly+Z6KVQlqDqPxEwTEhD9dcfIiP1TKGUho0PE8lkkSZYOYQIcVm5TH5bmcWK1EL2Vf aktualizovany\n",
      "ctiOS        - INFO     - Radky v databazi u POSIdentu MDJxuYEcvwdwAi1Fg0is3l8pQHEuYA3JuvhPN/UJqhDXFlzmCXQwxl3WwR400xI4Kh8loBqPredEDVXts4a8Ksr7O0PlW4HuYk5l6HIpY2s= aktualizovany\n",
      "ctiOS        - INFO     - Radky v databazi u POSIdentu 4fX93lhUET5sT1ayzq9OpcSRV0gvsmNLslOQvs8+KTdyJsmn3y+TCQng5mo8u4MYP3wirZ0sAvHunZFDqcFGEGLmoyTsulfA3fwbyWIXnO0= aktualizovany\n",
      "ctiOS        - INFO     - Radky v databazi u POSIdentu UKcYWvUUTpNi8flxUzlm+TSnnprgWLVUHQLYF9LrVQpOOqQ6wycE7XBa1xVt+SzU+NR+i4CvbqbaTivPkjaaQbFOZw8LEOjjFYowWGpfJHKUl6UeeOCVx+jaGjtgvaWo aktualizovany\n",
      "ctiOS        - INFO     - POSIDENT zmOpxLJr7ii9CZo8JeEAhu560hyoaYhJxlUGsxC/ggqb1kd+9XxbAXVjaH4LL8Pl8MeUbaTxqcB+gZD09IoChvR9cPq9ftAZ0yk1NlxNYc4= USPESNE STAZEN\n",
      "ctiOS        - INFO     - POSIDENT 078yf28ANhKnYAoAfBZk6LwrtgWykcrWv2Inb0RySck69cjrSm5AFefIPtsNw/M2svL/JsumXXsklMRnHtccupBZ+KOedZqCraKOLujSdsc= USPESNE STAZEN\n",
      "ctiOS        - INFO     - POSIDENT xJxa+PcfvdT7SIrl7ltvSOlLvQpoVfDY3QhOaspu0STpIUGz9fKJVtDp0bOnnUci5FzZU28fH/A1RJeYV2ZSAOJ1bsB5jodIKw8h+rgjINU= USPESNE STAZEN\n",
      "ctiOS        - INFO     - POSIDENT psGq9l14Woi29AYN5bHwdxU5WmX1vyRzVSJuucNo5e2D8193gu/to3VObZbd3vc0L+fDzX+X5nL42Wu8iePZgJhokFKOM8uNqezVZiQQ6P0= USPESNE STAZEN\n",
      "ctiOS        - INFO     - POSIDENT Ym8cWfYJCf8Urrv3bW6nwRZlwSmAaA/8kS8GFhllL8eFIJFCj0FhuzDnHm4d/DQi+nop3gtaovf0HR4b7x9LbCQdjj8cfjGO0N/jFAM+vK4= USPESNE STAZEN\n",
      "ctiOS        - INFO     - POSIDENT FxrmEj8jkUJ9rfUt8DkkVOUbhQdxwKgENy+oxwXMp0yU3OttGGEKPmExw49PdHUzB2Fwto/UgZ+MAHpoXFEeOWwwuK+acbAp2CPWPzhTl9A= USPESNE STAZEN\n",
      "ctiOS        - INFO     - POSIDENT fwdsUaxtVKyjWdhcx8QMu3passZadTC0q5Sr0L0GOPWU1zzK73MDWdQ5MBficQF1IrTyXx7Rs9OwGPxW1syorUZI5+2oQKWwn68UnX0PwWE= USPESNE STAZEN\n",
      "ctiOS        - INFO     - POSIDENT Y+s9bH0/ld/NLE4dOgaHgoRcmRrSt+dsqPhNnh0oXeafk9E4WZlgsCnF1La1gw7EoZ3hLsizggDDnbV+DyNJinyL5ABL87B4d4Q1NIT8goQ= USPESNE STAZEN\n",
      "ctiOS        - INFO     - POSIDENT g4EDGsOOSJKaTbLxdmmIcj8xUOiCckDSBeYZG2QP8Pyo2wimkedJNVIfN+/tdChJF372XZO9lHzT3DrU5tYksUlgO+qhLrcu5O5rYerU5DaW0LTwJY0Bn931ZJMUYSeD USPESNE STAZEN\n",
      "ctiOS        - INFO     - POSIDENT tbRykjyqj07e8OWkHFm+S8tm9M+qF0Ql6GN5m/l4Y85srs8uJWK4nCQdC1MCZ4IM3bwHuJRNTy57+V2lkG3QAfoL6VdGB35MSX25Nh5fu3c= USPESNE STAZEN\n",
      "ctiOS        - INFO     - Radky v databazi u POSIdentu zmOpxLJr7ii9CZo8JeEAhu560hyoaYhJxlUGsxC/ggqb1kd+9XxbAXVjaH4LL8Pl8MeUbaTxqcB+gZD09IoChvR9cPq9ftAZ0yk1NlxNYc4= aktualizovany\n",
      "ctiOS        - INFO     - Radky v databazi u POSIdentu 078yf28ANhKnYAoAfBZk6LwrtgWykcrWv2Inb0RySck69cjrSm5AFefIPtsNw/M2svL/JsumXXsklMRnHtccupBZ+KOedZqCraKOLujSdsc= aktualizovany\n",
      "ctiOS        - INFO     - Radky v databazi u POSIdentu xJxa+PcfvdT7SIrl7ltvSOlLvQpoVfDY3QhOaspu0STpIUGz9fKJVtDp0bOnnUci5FzZU28fH/A1RJeYV2ZSAOJ1bsB5jodIKw8h+rgjINU= aktualizovany\n"
     ]
    },
    {
     "name": "stderr",
     "output_type": "stream",
     "text": [
      "ctiOS        - INFO     - Radky v databazi u POSIdentu psGq9l14Woi29AYN5bHwdxU5WmX1vyRzVSJuucNo5e2D8193gu/to3VObZbd3vc0L+fDzX+X5nL42Wu8iePZgJhokFKOM8uNqezVZiQQ6P0= aktualizovany\n",
      "ctiOS        - INFO     - Radky v databazi u POSIdentu Ym8cWfYJCf8Urrv3bW6nwRZlwSmAaA/8kS8GFhllL8eFIJFCj0FhuzDnHm4d/DQi+nop3gtaovf0HR4b7x9LbCQdjj8cfjGO0N/jFAM+vK4= aktualizovany\n",
      "ctiOS        - INFO     - Radky v databazi u POSIdentu FxrmEj8jkUJ9rfUt8DkkVOUbhQdxwKgENy+oxwXMp0yU3OttGGEKPmExw49PdHUzB2Fwto/UgZ+MAHpoXFEeOWwwuK+acbAp2CPWPzhTl9A= aktualizovany\n",
      "ctiOS        - INFO     - Radky v databazi u POSIdentu fwdsUaxtVKyjWdhcx8QMu3passZadTC0q5Sr0L0GOPWU1zzK73MDWdQ5MBficQF1IrTyXx7Rs9OwGPxW1syorUZI5+2oQKWwn68UnX0PwWE= aktualizovany\n",
      "ctiOS        - INFO     - Radky v databazi u POSIdentu Y+s9bH0/ld/NLE4dOgaHgoRcmRrSt+dsqPhNnh0oXeafk9E4WZlgsCnF1La1gw7EoZ3hLsizggDDnbV+DyNJinyL5ABL87B4d4Q1NIT8goQ= aktualizovany\n",
      "ctiOS        - INFO     - Radky v databazi u POSIdentu g4EDGsOOSJKaTbLxdmmIcj8xUOiCckDSBeYZG2QP8Pyo2wimkedJNVIfN+/tdChJF372XZO9lHzT3DrU5tYksUlgO+qhLrcu5O5rYerU5DaW0LTwJY0Bn931ZJMUYSeD aktualizovany\n",
      "ctiOS        - INFO     - Radky v databazi u POSIdentu tbRykjyqj07e8OWkHFm+S8tm9M+qF0Ql6GN5m/l4Y85srs8uJWK4nCQdC1MCZ4IM3bwHuJRNTy57+V2lkG3QAfoL6VdGB35MSX25Nh5fu3c= aktualizovany\n",
      "ctiOS        - INFO     - POSIDENT Z3anPBTLRy4YQTD0UgZkTJ+keVuWZ8j50lI8whQPyaERWuqwwnwsnvPL5JvmjhqosP5ukUJEFe29IEnCIx6/MSQ0jCVnAyGflCmCnQBnc3JQLWVD9vLnWZYbgp+9oL3r USPESNE STAZEN\n",
      "ctiOS        - INFO     - POSIDENT W6gjRuthAEnH1o8Yu7Zc0k4Kv4ZLv7aGA1z5lSGliY7LT+ipTzG5nMPXsAayqF6KbLLThknyZXMnOrxfYJ70gXNdBJdRWXoDui8Oq8kTTjM= USPESNE STAZEN\n",
      "ctiOS        - INFO     - POSIDENT SI/WjbMksk0HBoUSFb0r0NOoDDPWyQOD/Gjj5J9jXLz6sc4WfJV5XNHIk5db70rNpI+UYws/pK5I8LaeZTkzroFmjKWrOowSE727Vd6F8AI= USPESNE STAZEN\n",
      "ctiOS        - INFO     - POSIDENT 3ZendyrB5RiGiS5emPZ8oWRhZZQOsLiOHI329ANsTWE3+RDPfNFmHeJzpKvspfBZpBX5RpwGNirjH3hlHeysozmb3+g52m7EfdnRYUR/iAA= USPESNE STAZEN\n",
      "ctiOS        - INFO     - POSIDENT +lQ0Ne+Jhd5K4uvds1/KT8qqJcoA/eJ5OloIoqvCQi04X93kbmO62f/i2fqJgk62odrpl2ye04ue7tlKR93hckH4u46kVMoHQWmYF/rBWMA= USPESNE STAZEN\n",
      "ctiOS        - INFO     - POSIDENT cD+k5i82mTXjR9/pvMQbIBCDJ0Z/uzTk87ZKkH4hzIB2buED0Ud5BAgWv5C4NhJGnqnEvpM8SIqRwYf/STr+nEyAaER0c3dsJ0vI5u3xHYQ= USPESNE STAZEN\n",
      "ctiOS        - INFO     - POSIDENT tTP8WqxRGv8mdc7niazOGdOIcMRfCRB7JY9mCaqqaUTa7+Dfu31hRdVtAa3hh0+XsMXUJvVewoV3piXC7IBr50LGZjrOLcIho++X0N07jJ0= USPESNE STAZEN\n",
      "ctiOS        - INFO     - POSIDENT 8bg+CXEGHarWp2oK+IfpUamKDfCVz85r0uBnUCjzPdNJ6AK2a4ybpIROxdjinogDSMGKQB9jeCyt5BLEOx9qsj3iksX7gk0kyMb4XwEPBO4= USPESNE STAZEN\n",
      "ctiOS        - INFO     - Radky v databazi u POSIdentu Z3anPBTLRy4YQTD0UgZkTJ+keVuWZ8j50lI8whQPyaERWuqwwnwsnvPL5JvmjhqosP5ukUJEFe29IEnCIx6/MSQ0jCVnAyGflCmCnQBnc3JQLWVD9vLnWZYbgp+9oL3r aktualizovany\n",
      "ctiOS        - INFO     - Radky v databazi u POSIdentu W6gjRuthAEnH1o8Yu7Zc0k4Kv4ZLv7aGA1z5lSGliY7LT+ipTzG5nMPXsAayqF6KbLLThknyZXMnOrxfYJ70gXNdBJdRWXoDui8Oq8kTTjM= aktualizovany\n",
      "ctiOS        - INFO     - Radky v databazi u POSIdentu SI/WjbMksk0HBoUSFb0r0NOoDDPWyQOD/Gjj5J9jXLz6sc4WfJV5XNHIk5db70rNpI+UYws/pK5I8LaeZTkzroFmjKWrOowSE727Vd6F8AI= aktualizovany\n",
      "ctiOS        - INFO     - Radky v databazi u POSIdentu 3ZendyrB5RiGiS5emPZ8oWRhZZQOsLiOHI329ANsTWE3+RDPfNFmHeJzpKvspfBZpBX5RpwGNirjH3hlHeysozmb3+g52m7EfdnRYUR/iAA= aktualizovany\n",
      "ctiOS        - INFO     - Radky v databazi u POSIdentu +lQ0Ne+Jhd5K4uvds1/KT8qqJcoA/eJ5OloIoqvCQi04X93kbmO62f/i2fqJgk62odrpl2ye04ue7tlKR93hckH4u46kVMoHQWmYF/rBWMA= aktualizovany\n",
      "ctiOS        - INFO     - Radky v databazi u POSIdentu cD+k5i82mTXjR9/pvMQbIBCDJ0Z/uzTk87ZKkH4hzIB2buED0Ud5BAgWv5C4NhJGnqnEvpM8SIqRwYf/STr+nEyAaER0c3dsJ0vI5u3xHYQ= aktualizovany\n",
      "ctiOS        - INFO     - Radky v databazi u POSIdentu tTP8WqxRGv8mdc7niazOGdOIcMRfCRB7JY9mCaqqaUTa7+Dfu31hRdVtAa3hh0+XsMXUJvVewoV3piXC7IBr50LGZjrOLcIho++X0N07jJ0= aktualizovany\n",
      "ctiOS        - INFO     - Radky v databazi u POSIdentu 8bg+CXEGHarWp2oK+IfpUamKDfCVz85r0uBnUCjzPdNJ6AK2a4ybpIROxdjinogDSMGKQB9jeCyt5BLEOx9qsj3iksX7gk0kyMb4XwEPBO4= aktualizovany\n",
      "ctiOS        - INFO     - Pocet dotazovanych posidentu: 108.\n",
      "ctiOS        - INFO     - Pocet pozadavku do ktereho byl dotaz rozdelen: 11.\n",
      "ctiOS        - INFO     - Pocet uspesne stazenych posidentu: 108\n",
      "ctiOS        - INFO     - Neplatny identifikator: 0x.\n",
      "ctiOS        - INFO     - Expirovany identifikator: 0x.\n",
      "ctiOS        - INFO     - Opravneny subjekt neexistuje: 0x.\n"
     ]
    }
   ],
   "source": [
    "ctios.process(posidents)"
   ]
  },
  {
   "cell_type": "markdown",
   "id": "valid-effect",
   "metadata": {},
   "source": [
    "Pri posilani pozadavku na sluzbu mohou byt na strane WSDP sluzby odhaleny chyby ve vstupnim souboru: neplatny identifikator, expirovany identifikator a opravneny subjekt neexistuje. Jak muzeme videt, na konci zpracovani se nam vypise jednoducha statistika zpracovavanych subjektu obsahujici i statistiku chyb. Tuto statistiku je treba po kazdem zpracovani zkontrolovat."
   ]
  },
  {
   "cell_type": "markdown",
   "id": "confidential-gasoline",
   "metadata": {},
   "source": [
    " Nyni uz se muzeme podivat do naplnene databaze:"
   ]
  },
  {
   "cell_type": "markdown",
   "id": "conservative-clerk",
   "metadata": {},
   "source": [
    "Podivame se do naplnene databaze:"
   ]
  },
  {
   "cell_type": "code",
   "execution_count": 7,
   "id": "british-illness",
   "metadata": {},
   "outputs": [
    {
     "name": "stdout",
     "output_type": "stream",
     "text": [
      "('64R47PeqD9SONivn8apY/lJWp7PMqXzY9utJl+M+BfUUirKmMZliVuxYKEtLpIva6glOyFHdvIofu9Hwu2HKl1m5M6qSyaHfCuQu6GdIy0E=', 0, '2000-01-01T00:00:00', None, 3, 78189317010, None, None, None, None, 'OPO', 3, 1, 1, 'Česká republika', 'CESKA REPUBLIKA', None, None, None, None, None, None, None, None, None, None, None, None, None, None, None, None, None, None, None, None, None, 1, '627994601')\n",
      "('cWAf13LtjvC9SIY05qIFaek9K/RpuqJao0AMXiHsDYFjM2eS251ouFycwesABoDs2wWu+kFTmYqxhJyeR7e+WrdGQBbrYHk4M21Ai3xMSF4=', 0, '2000-01-01T00:00:00', None, 3, 54816151010, None, None, None, None, 'OFO', 2, None, None, None, None, '1606112981', None, 'Lumír', 'LUMIR', 'Hoza', 'HOZA', None, 1660, None, None, 'Hovězí', 'Komárov', None, None, 11000, None, 1, None, None, None, None, 2, '420485306')\n",
      "('psGq9l14Woi29AYN5bHwdxU5WmX1vyRzVSJuucNo5e2D8193gu/to3VObZbd3vc0L+fDzX+X5nL42Wu8iePZgJhokFKOM8uNqezVZiQQ6P0=', 0, '2000-01-01T00:00:00', None, 3, 35758491010, None, None, None, None, 'OFO', 2, None, None, None, None, '0305263299', None, 'Karel', 'KAREL', 'Král', 'KRAL', None, 1263, None, None, 'Hovězí', 'Komárov', None, None, 11000, None, 1, None, None, None, None, 3, '420954306')\n",
      "('r/e02ptfcJ47n0rUY4NM6xWfd1OtN4e/Xu5+rNe3pOEOVnL0HIiVQe4Uy8l4k8SYVJNj5qAU70p692ABBUteyJl2nyFJ7iYFpjclbK8bnAo=', 0, '2000-01-01T00:00:00', None, 3, 28195797010, None, None, None, None, 'OPO', 11, 28201807, None, 'B 2000  REAL a.s.', 'B 2000  REAL A.S.', None, None, None, None, None, None, None, 1863, '89', 'Lípová', 'Bohušov', 'Brušperk', None, None, 11000, None, 1, None, None, None, None, 4, '976106407')\n",
      "('uecJ/wWk2Ej6CAnwe3i0y0jfrp9Xr1oMVJ+9kLKpkU8trb/GSsJmcvNw7XJ0dzNpkKLYrpaxDPIVMKGKnG/ZMzSYtEOoqKGnRHhbt/PXjUr/RJzL4O5LlsS30GNP3Kka', 0, '2000-01-01T00:00:00', None, 3, 26770653010, None, '29281934010', '344038746', None, 'BSM', 1, None, None, 'Čupa Josef a Kašná Marie', 'CUPA JOSEF A KASNA MARIE', None, None, None, None, None, None, None, None, None, None, None, None, None, None, None, None, None, None, None, None, None, 5, '29281952010')\n",
      "('Vm+8vMmIsWsvcxR9zMDL9Cy+E0ZgHj9AJ3kwMqaLxguXn6wJcfM3e3LWpd7RzRxm3woikNUtGPF45crUFMpAsfsa/Bmx4YzTqTFCj0vhoQY=', 0, '2000-01-01T00:00:00', None, 3, 35101500010, None, None, None, None, 'OFO', 2, None, None, None, None, '056226223', None, 'Radana', 'RADANA', 'Pavlů', 'PAVLU', None, 1660, None, None, 'Hovězí', 'Komárov', None, None, 11000, None, 1, None, None, None, None, 6, '410371306')\n",
      "('T/sOfNBmULfA5GzBpJRYu3UWEwhw4PFYydRQSh7x1PSc4RTRLXYaXTfpbt2Da17zSJPbQDKce+cHMMQVCVBRj9+U8wwRYYTBTgLsWbpMpuY=', 0, '2000-01-01T00:00:00', None, 3, 16998598010, None, '433751306', '433752306', None, 'BSM', 1, None, None, 'Haas Petr a Kubná Marie', 'HAAS PETR A KUBNA MARIE', None, None, None, None, None, None, None, None, None, None, None, None, None, None, None, None, None, '2001-06-29T10:13:16', 2889613306, None, None, 7, '425653306')\n",
      "('lWpFU3UmWlpSe8TtpUMRBCFflbRtrT1aEpzxnv1MEXnpCGhTicndBKbyJjsfMJMdgH+U78n9GU5DNm6bXxNhnC2JU2MIzwpJObcy4n2Baqk=', 0, '2000-01-01T00:00:00', None, 3, 45216043010, None, None, None, None, 'OFO', 2, None, None, None, None, '0256134351', None, 'Julie', 'JULIE', 'Hrubá', 'HRUBA', None, 5007, None, None, 'Komárov', 'Komárov', None, None, 11000, None, 1, None, None, None, None, 8, '720498306')\n",
      "('mDkas+QvEOd4+XBxuIW4Da3aEEdBAod5OJM/9la0ivdkMk7DTs9DqRZEI5Lc3wAC7Yb1sw4kp/JEFP3nnG2ZcPT36EJYO+EfrC0OlzewTfM=', 0, '2000-01-01T00:00:00', None, 3, 35096916010, None, None, None, None, 'OFO', 2, None, None, None, None, '0405210399', None, 'Petr', 'PETR', 'Kiša', 'KISA', None, 5544, None, None, 'Hovězí', 'Komárov', None, None, 11000, None, 1, None, None, None, None, 9, '420728306')\n",
      "('7TsaZA7GFeEVxMscggvr2LkRAZwqfDywZ9HtkoX92fdNI/VFseD7SjfY8rJ7IlS7o2MG7D4mG56FZUTFOUWW7a5GeMmtDAasGLtodOgvIOA=', 0, '2000-01-01T00:00:00', None, 3, 16998598010, None, '408394306', '410371306', None, 'BSM', 1, None, None, 'Hoza Lumír a Pavlů Radana', 'HOZA LUMIR A PAVLU RADANA', None, None, None, None, None, None, None, None, None, None, None, None, None, None, None, None, None, '1997-04-23T00:00:00', 2829576306, None, None, 10, '425880306')\n",
      "('yqpT3s/QygUWqCsg/azKypTOTOuJdbjB/16kQv0m5uugaHFJh8Mtp2i7sCdt71GRZixdYAzCVqEa4mNgvEjDECGf0Fby1B2nv1NdlyFQPrg=', 0, '2000-01-01T00:00:00', None, 3, 34971783010, None, None, None, None, 'OFO', 2, None, None, None, None, '0304054751', None, 'Karel', 'KAREL', 'Lexa', 'LEXA', None, 5007, None, None, 'Komárov', 'Komárov', None, None, 11000, None, 1, None, None, None, None, 11, '720497306')\n",
      "('Z3anPBTLRy4YQTD0UgZkTJ+keVuWZ8j50lI8whQPyaERWuqwwnwsnvPL5JvmjhqosP5ukUJEFe29IEnCIx6/MSQ0jCVnAyGflCmCnQBnc3JQLWVD9vLnWZYbgp+9oL3r', 0, '2000-01-01T00:00:00', None, 3, 69895521010, None, None, None, None, 'OFO', 2, None, None, None, None, '0704067903', None, 'Otto', 'OTTO', 'Hora', 'HORA', None, 980, None, None, 'Hovězí', 'Komárov', None, None, 11000, None, 1, None, None, None, None, 12, '40779293010')\n",
      "('i0/Tr+VNmKgY+wJydNVJbCob8vQemEnjdn3A2r2ffhs8dz4IHH2H2AVcFvTyEOe3ci6MD33ZHXqEu8Lr8L1xtG3SHwhy2TBVM3bEa6vFpMbxj5wBXmFfT/QAGRrOqWBN', 0, '2000-01-01T00:00:00', None, 3, 30331638010, None, None, None, None, 'OFO', 2, None, None, None, None, '9204262188', None, 'Karel', 'KAREL', 'Čupa', 'CUPA', None, 8070, None, None, 'Hovězí', 'Komárov', None, None, 11000, None, 1, None, None, None, None, 13, '31407789010')\n",
      "('/AOrBGOFR+4GtqsAvOXC/3kKd0OCEPBVRfEsIPHeW3CoGcU1dio8gmrulsH5/KEvySRvbRT2hlDOXICKukDLldMgNY5z+yASe8F1rqBlKug=', 0, '2000-01-01T00:00:00', None, 3, 35088613010, None, None, None, None, 'OFO', 2, None, None, None, None, '7908142220', None, 'Karel', 'KAREL', 'Duda', 'DUDA', None, 3617, None, None, 'Hovězí', 'Komárov', None, None, 11000, None, 1, None, None, None, None, 14, '415169306')\n",
      "('4m3Yuf1esDMzbgNGYW7kv4xM1N45Dxn1k9MaGswf4YFbSpYmJ+3xwjL90xaHQXSbHmnsQrT0+ynMYrGA2IZA8C2XWS7b0Diy4ZU0x4rQBKE=', 0, '2000-01-01T00:00:00', None, 3, 52211641010, None, None, None, None, 'OFO', 2, None, None, None, None, '310426052', None, 'Josef', 'JOSEF', 'Just', 'JUST', None, 801, None, None, 'Komárov', 'Komárov', None, None, 11000, None, 1, None, None, None, None, 15, '414260306')\n",
      "('8QZWq1vuQ1NdCHkoh0JT2+dtPBjool2L7dNZ6f7XTg/mUCOWuwssd0KErzLHrbhoji0ibmLF+XYB1yO8HkOMdAzdgdGISOTdPRN6VI5OtRw=', 0, '2000-01-01T00:00:00', None, 3, 35862380010, None, None, None, None, 'OFO', 2, None, None, None, None, '7456155377', None, 'Radana', 'RADANA', 'Mokrá', 'MOKRA', None, 1052, '55', 'Západní', 'Podbořany', 'Brušperk', None, None, 11000, None, 1, None, None, None, None, 16, '438606306')\n",
      "('cc3RAb7ln/HyHThRavcVRYDuQQHgv9VV8nNlwdBNLUZ6oCPq/qyk+T1vPYEx0GCJEl+tQ7UbtUZMwecAoFcEAqknnyNkwfherStqUhxxEQ8=', 0, '2000-01-01T00:00:00', None, 3, 36253692010, None, None, None, None, 'OFO', 2, None, None, None, None, '231116121', None, 'Karel', 'KAREL', 'Till', 'TILL', None, 3471, '89', 'Pšeník', 'Slaný', 'Brušperk', None, None, 11000, None, 1, None, None, None, None, 17, '1457501301')\n",
      "('BBgBQ2wok0L43hEZUEeiehwwgrnYkvSWpgVkTEuS44FGAKrsjBz/UVx+LWdeKO2khvGuk0dwf2GE9ziJR5j2lVd4ioIVbPKS1oaCurIfCpA=', 0, '2000-01-01T00:00:00', None, 3, 35075107010, None, None, None, None, 'OFO', 2, None, None, None, None, '100130242', None, 'Petr', 'PETR', 'Luks', 'LUKS', None, 3794, None, None, 'Evaň', 'Stěbořice', None, None, 11000, None, 1, None, None, None, None, 18, '417404306')\n",
      "('2fa9YZ/g+IACqr1Etk+QIUPK51iiTwCA/t/nTw+U9RUmjfYorPLrzpPd46Bmj3C3tfw3cyOy5bx0ogGCOZ01eUctqHZQzXY903JlPvzPzlw=', 0, '2000-01-01T00:00:00', None, 3, 28727152010, None, None, None, None, 'OFO', 2, None, None, None, None, '231029337', None, 'Emil', 'EMIL', 'Šíma', 'SIMA', None, 7109, None, None, 'Hovězí', 'Komárov', None, None, 11000, None, 1, None, None, None, None, 19, '408129306')\n",
      "('4fX93lhUET5sT1ayzq9OpcSRV0gvsmNLslOQvs8+KTdyJsmn3y+TCQng5mo8u4MYP3wirZ0sAvHunZFDqcFGEGLmoyTsulfA3fwbyWIXnO0=', 0, '2000-01-01T00:00:00', None, 3, 35283646010, None, None, None, None, 'OFO', 2, None, None, None, None, '9704196205', None, 'Josef', 'JOSEF', 'Fus', 'FUS', None, 6310, None, None, 'Hošťálkovy', 'Hošťálkovy', None, None, 11000, None, 1, None, None, None, None, 20, '414306306')\n",
      "('KdSYyo8J1zUPVqxHUtY+tXCq1sozzl79fDrwCjZTPA82RA81GrHfiwpq2ymtsH1mkBgkLzE1TRH+MGXYdCunCxgrju4BztjRm1Ouf3qlRaU=', 0, '2000-01-01T00:00:00', None, 3, 42177181010, None, None, None, None, 'OFO', 2, None, None, None, None, '8601239713', None, 'Luboš', 'LUBOS', 'Moch', 'MOCH', None, None, None, 'U Parku', None, 'Klimkovice', None, 'AAAAAAAAA A30985422', None, None, None, None, None, None, None, 21, '416652306')\n",
      "('FxrmEj8jkUJ9rfUt8DkkVOUbhQdxwKgENy+oxwXMp0yU3OttGGEKPmExw49PdHUzB2Fwto/UgZ+MAHpoXFEeOWwwuK+acbAp2CPWPzhTl9A=', 0, '2000-01-01T00:00:00', None, 3, 36073545010, None, None, None, None, 'OFO', 2, None, None, None, None, '535423474', None, 'Zdeňka', 'ZDENKA', 'Černá', 'CERNA', None, 8100, None, 'Hájkova', 'Palkovice', 'Kopřivnice', None, None, 11000, None, 1, None, None, None, None, 22, '417911306')\n",
      "('5XEbVUHVfI6OxlRPfJGQH6zTwljfLIEzxpL2+mYKOAkIlVMDACBfwbGRkxThLw94hZsh7wZCDRSKiMSbaMMEXuSHd/RO5NZXuOsJqhYGlKI=', 0, '2000-01-01T00:00:00', None, 3, 42213030010, None, None, None, None, 'OFO', 2, None, None, None, None, '8661069274', None, 'Julie', 'JULIE', 'Emra', 'EMRA', None, 6815, None, None, 'Bruntál', 'Bruzovice', None, None, 11000, None, 1, None, None, None, None, 23, '678824306')\n",
      "('YoYw5r0/dk0UgEcID286w2rFb6t3U7giw8vvUmXDmdv364oblaqoIpw8bgi1UsDJuLTH7urInxbRTuAjkVPJkl844VwfQvfn351HMcIRpO4=', 0, '2000-01-01T00:00:00', None, 3, 16998598010, None, '441241306', '419381306', None, 'BSM', 1, None, None, 'Šíma Milan a Rucká Alenka', 'SIMA MILAN A RUCKA ALENKA', None, None, None, None, None, None, None, None, None, None, None, None, None, None, None, None, None, '2003-06-26T07:43:05', 3003873306, None, None, 24, '431275306')\n",
      "('ii1ts7FFbqpo6yGBWGh1nOLXCLjB90kz9iKvoIKpczc0Mv9v/qzYbRn4D5as9Bf9mjnNVahNGuqoXZSLs40xFaP0UXDmba00PDqVuo4FH5s=', 0, '2000-01-01T00:00:00', None, 3, 38983503010, None, None, None, None, 'OPO', 11, 26332392, None, 'Ministerstvo obrany', 'MINISTERSTVO OBRANY', None, None, None, None, None, None, None, 568, None, None, 'Komárov', 'Komárov', None, None, 11000, None, 1, None, None, None, None, 25, '403151306')\n",
      "('a4uuL5087aAkDOdoVblOShaQjHZZiAz79ef8xsvMcMgrPH6vAmPki7VNwOXKxvCG9eshEijbAukEr7jJOHUEcC8HpMau6Eer288lakdfmH8=', 0, '2000-01-01T00:00:00', None, 3, 35088613010, None, None, None, None, 'OFO', 2, None, None, None, None, '2058273041', None, 'Julie', 'JULIE', 'Volná', 'VOLNA', None, 8107, None, None, 'Hovězí', 'Komárov', None, None, 11000, None, 1, None, None, None, None, 26, '683061306')\n",
      "('SI/WjbMksk0HBoUSFb0r0NOoDDPWyQOD/Gjj5J9jXLz6sc4WfJV5XNHIk5db70rNpI+UYws/pK5I8LaeZTkzroFmjKWrOowSE727Vd6F8AI=', 0, '2000-01-01T00:00:00', None, 3, 35604519010, None, None, None, None, 'OFO', 2, None, None, None, None, '210109707', None, 'Alois', 'ALOIS', 'Peš', 'PES', None, 5368, '16', 'Švédská', 'Bohušov', 'Brušperk', None, None, 11000, None, 1, None, None, None, None, 27, '1397635301')\n",
      "('W6gjRuthAEnH1o8Yu7Zc0k4Kv4ZLv7aGA1z5lSGliY7LT+ipTzG5nMPXsAayqF6KbLLThknyZXMnOrxfYJ70gXNdBJdRWXoDui8Oq8kTTjM=', 0, '2000-01-01T00:00:00', None, 3, 62281035010, None, None, None, None, 'OFO', 2, None, None, None, None, '6257298971', None, 'Alena', 'ALENA', 'Vuová', 'VUOVA', None, 1660, None, None, 'Bravantice', 'Kopřivnice', None, None, 11000, None, 1, None, None, None, None, 28, '416794306')\n",
      "('UtkReXE24+hFt9Wp0bqKaX85nwQdDmfMUgydTTHuf3xaV8DBXxPhnN/njjvOH7vurf6kdNoM0VtJq7id2emrlY9VTrLvGF+6WQl5MjmLBq0=', 0, '2000-01-01T00:00:00', None, 3, 38756992010, None, None, None, None, 'OFO', 2, None, None, None, None, '8406096721', None, 'Jan', 'JAN', 'Mutl', 'MUTL', None, 3690, None, 'Korunní', 'Palkovice', 'Kopřivnice', None, None, 11000, None, 1, None, None, None, None, 29, '415090306')\n",
      "('Fi39z7m2FANK18yYncVWlU0YQ8u8FLjldrBRweDzDAhBc7pe75fu3JHKj+g5n/5aa4dpfuoLVrjuRQC94G/kkGKlglQD+qewgR7q6jBOwmk=', 0, '2000-01-01T00:00:00', None, 3, 35088613010, None, None, None, None, 'OFO', 2, None, None, None, None, '5756039025', None, 'Anežka', 'ANEZKA', 'Kočí', 'KOCI', None, 183, None, None, 'Hovězí', 'Komárov', None, None, 11000, None, 1, None, None, None, None, 30, '489103306')\n",
      "('UKcYWvUUTpNi8flxUzlm+TSnnprgWLVUHQLYF9LrVQpOOqQ6wycE7XBa1xVt+SzU+NR+i4CvbqbaTivPkjaaQbFOZw8LEOjjFYowWGpfJHKUl6UeeOCVx+jaGjtgvaWo', 0, '2000-01-01T00:00:00', None, 3, 59062279010, None, None, None, None, 'OFO', 2, None, None, None, None, '6161219955', None, 'Dana', 'DANA', 'Vuová', 'VUOVA', None, 2229, None, None, 'Louny', 'Slavičín', None, None, 11000, None, 1, None, None, None, None, 31, '22339543010')\n",
      "('XHIBU/Os4CXjIriHfhjuJMtIZCEvJBRz3RTj02SaUqCUWW2nYww1irZFjR1y3ieG3vIdjnr7ZpukTGijByBS8mUDBj9jPUeUxRUhwptQp+k=', 0, '2000-01-01T00:00:00', None, 3, 38823556010, None, None, None, None, 'OFO', 2, None, None, None, None, '5901217619', None, 'Josef', 'JOSEF', 'Král', 'KRAL', None, 8182, None, 'Klegova', 'Chuchelná', 'Blatnička', None, None, 11000, None, 1, None, None, None, None, 32, '1346505301')\n",
      "('WpAGVIbtrw3p6Ic2ebTbXNCwsz0FKsnGB9V9QeaExKo21vI1yF5xcnK/ftMPvAe0P43ooFP1+vRsJWe0rET59I1aQW/uq+Ca3bHca+9xTcc=', 0, '2000-01-01T00:00:00', None, 3, 35053497010, None, None, None, None, 'OFO', 2, None, None, None, None, '7656283569', None, 'Marie', 'MARIE', 'Gurná', 'GURNA', None, 183, None, None, 'Hovězí', 'Komárov', None, None, 11000, None, 1, None, None, None, None, 33, '694140306')\n",
      "('xocTMRuuiHIYwNN3v/RUpArt2Fhetx6zLzs1TUM4gw+ObLyU2HJkAPQ5WdENo82O2DPHBJrt2XiurT7d3j3H5mEqs6IWf89iXlFyWJLkDow=', 0, '2000-01-01T00:00:00', None, 3, 35760503010, None, None, None, None, 'OFO', 2, None, None, None, None, '6006161040', None, 'Petr', 'PETR', 'Hoza', 'HOZA', None, 922, None, None, 'Žernovice', 'Bravantice', None, None, 11000, None, 1, None, None, None, None, 34, '420028306')\n",
      "('MDJxuYEcvwdwAi1Fg0is3l8pQHEuYA3JuvhPN/UJqhDXFlzmCXQwxl3WwR400xI4Kh8loBqPredEDVXts4a8Ksr7O0PlW4HuYk5l6HIpY2s=', 0, '2000-01-01T00:00:00', None, 3, 35490593010, None, None, None, None, 'OFO', 2, None, None, None, None, '035722080', None, 'Marie', 'MARIE', 'Pavlů', 'PAVLU', None, 6470, None, 'Dubková', 'Palkovice', 'Kopřivnice', None, None, 11000, None, 1, None, None, None, None, 35, '411853306')\n",
      "('aOWF/BYRV4K+0xg/HdeP3T3Tm/aSXL8Z3ShJxg4zYChQJRi3EoVsQ1xr+eatOjsz8o55pTpCs81iSwIC5oNvPFZhZ5upIuj6y1Ntb5sYT1M=', 0, '2000-01-01T00:00:00', None, 3, 55312710010, None, None, None, None, 'OFO', 2, None, None, None, None, '290605834', None, 'Petr', 'PETR', 'Noga', 'NOGA', None, 1106, '108', 'Jahnova', 'Polkovice', 'Podbořany', None, None, 11000, None, 1, None, None, None, None, 36, '410946333')\n",
      "('xwHUBBpYTSRS3sFNKTf++dy1Sq83Nmg0C3LE2zx/dRI/jmDT/1OXGDmy3qOw9d0bhwXKp2Oh1GzKgb1Cn4XPvr4qRmtDDESo1yswvoJeFP30WPTfjkelYDu3p6O0eFVE', 0, '2000-01-01T00:00:00', None, 3, 69363872010, None, None, None, None, 'OFO', 2, None, None, None, None, '9154095225', None, 'Jana', 'JANA', 'Hrubá', 'HRUBA', None, 2461, None, None, 'Hovězí', 'Komárov', None, None, 11000, None, 1, None, None, None, None, 37, '45880882010')\n",
      "('zmOpxLJr7ii9CZo8JeEAhu560hyoaYhJxlUGsxC/ggqb1kd+9XxbAXVjaH4LL8Pl8MeUbaTxqcB+gZD09IoChvR9cPq9ftAZ0yk1NlxNYc4=', 0, '2000-01-01T00:00:00', None, 3, 35096916010, None, None, None, None, 'OFO', 2, None, None, None, None, '510808082', None, 'Luboš', 'LUBOS', 'Jína', 'JINA', None, 5894, None, None, 'Komárov', 'Halenkovice', None, None, 11000, None, 1, None, None, None, None, 38, '644362307')\n",
      "('CVikHowKhw3xouJMIqJHZOijnR1LvQJ4hcufAgajhU4QQjJEHn2n19OvpxLG8AXGSDlKlRzQkWOnseHWTe89/ht9nNqJXvjUKcxpd3dr3VQ=', 0, '2000-01-01T00:00:00', None, 3, 27794750010, None, None, None, None, 'OPO', 11, 67921876, None, 'B G V spol. s r.o.', 'B G V SPOL. S R.O.', None, None, None, None, None, None, None, 4257, None, 'Pstruží', 'Palkovice', 'Kopřivnice', None, None, 11000, None, 1, None, None, None, None, 39, '972158407')\n",
      "('xJxa+PcfvdT7SIrl7ltvSOlLvQpoVfDY3QhOaspu0STpIUGz9fKJVtDp0bOnnUci5FzZU28fH/A1RJeYV2ZSAOJ1bsB5jodIKw8h+rgjINU=', 0, '2000-01-01T00:00:00', None, 3, 16998598010, None, '668371306', '489082306', None, 'BSM', 1, None, None, 'Kunz Leo a Malá Marie', 'KUNZ LEO A MALA MARIE', None, None, None, None, None, None, None, None, None, None, None, None, None, None, None, None, None, '2006-11-13T09:02:50', 3194223306, None, None, 40, '668372306')\n",
      "('fwdsUaxtVKyjWdhcx8QMu3passZadTC0q5Sr0L0GOPWU1zzK73MDWdQ5MBficQF1IrTyXx7Rs9OwGPxW1syorUZI5+2oQKWwn68UnX0PwWE=', 0, '2000-01-01T00:00:00', None, 3, 16998598010, None, '421758306', '711874306', None, 'BSM', 1, None, None, 'Lexa Jan a Hrubá Kamila', 'LEXA JAN A HRUBA KAMILA', None, None, None, None, None, None, None, None, None, None, None, None, None, None, None, None, None, '2010-01-06T13:54:08', 3293858306, None, None, 41, '711875306')\n",
      "('wpKK2F/BDnPKTx2S67hQVOVPGlU5agILyPckG4iVAkBux64yqWY7aR5ndq6iAavR1drvKIzk14UMMDi88nOhNF7O1i6BnJF20ugsKC/upYE=', 0, '2000-01-01T00:00:00', None, 3, 35230494010, None, None, None, None, 'OFO', 2, None, None, None, None, '7407274919', None, 'Karel', 'KAREL', 'Giňa', 'GINA', None, 7630, None, 'Rynky', 'Palkovice', 'Kopřivnice', None, None, 11000, None, 1, None, None, None, None, 42, '898600307')\n",
      "('00ep7V5fFBZoFMeOfcAOPMRtu0G9svLcsDyC/fYkJk3EbFIqbw2kpRaC1jjS1V8bjacEwrp/SdxXZXdtwDzFj3vKzXvHF7k7HiDpVtv6fPAUIS/cKLcyZ7viQd7pE5FE', 0, '2000-01-01T00:00:00', None, 3, 35354684010, None, None, None, None, 'OFO', 2, None, None, None, None, '1409270522', None, 'Karel', 'KAREL', 'Čupa', 'CUPA', None, 1470, None, None, 'Hovězí', 'Komárov', None, None, 11000, None, 1, None, None, None, None, 43, '29184773010')\n",
      "('MvCbj6Q05AQW6847EAgIYrqDl8FsW8iuqz8WE/HYFlpxpTCi+ZWTWE8dAPeAWfTMF1wjj1diDvFHVemk8/36dxQsW43Uru7qNvUgjA0dTLp6FJD3zaBDiCU/SbyoKdsU', 0, '2000-01-01T00:00:00', None, 3, 45476631010, None, None, None, None, 'OFO', 2, None, None, None, None, '0858167508', None, 'Radana', 'RADANA', 'Křivá', 'KRIVA', None, 6658, None, None, 'Pražmo', 'Beroun', None, None, 11000, None, 1, None, None, None, None, 44, '42529571010')\n",
      "('rdsGfgHvYfix3H2OkFc5hhGU9AzpRXOZ8wOen/EBHoSu+oxaE9cUuQfix2dxN4Ly+Z6KVQlqDqPxEwTEhD9dcfIiP1TKGUho0PE8lkkSZYOYQIcVm5TH5bmcWK1EL2Vf', 0, '2000-01-01T00:00:00', None, 3, 76082464010, None, None, None, None, 'OFO', 2, None, None, None, None, '7701095391', None, 'Karel', 'KAREL', 'Šulc', 'SULC', None, 6310, None, 'Malá', 'Nový Jičín', 'Kopřivnice', None, None, 11000, None, 1, None, None, None, None, 45, '60966708010')\n",
      "('ltTJU+/1imoqO4saz1ta1pntVZVjlmlhpGVVh7Fj6CWr6Vgawjzeh7VgOuVYXDOW5lRObbNrYbtKIm2eQuy574oba80Ht3or9iloCT+zPM0=', 0, '2000-01-01T00:00:00', None, 3, 35490589010, None, None, None, None, 'OFO', 2, None, None, None, None, '980419317', None, 'Karel', 'KAREL', 'Fus', 'FUS', None, 3064, None, None, 'Odry', 'Odry', None, None, 11000, None, 1, None, None, None, None, 46, '421450302')\n",
      "('OlVCtLEjQ+aNPyQNdT0JZPdJ2BEokpMEB+uTlQIY3kneRjP1aRL3CA72359ulPAbO8VfGzNtFEYkByykTtoLJTljQAtit7OAw+N65g+1hCE=', 0, '2000-01-01T00:00:00', None, 3, 35096916010, None, None, None, None, 'OFO', 2, None, None, None, None, '6407280748', None, 'Petr', 'PETR', 'Pika', 'PIKA', None, 7999, None, None, 'Hovězí', 'Komárov', None, None, 11000, None, 1, None, None, None, None, 47, '416564306')\n",
      "('JsnHnHK89vL/0oCWFbmIw15mkLQCUsEucRyqJhlrzKopQ2ZPOvDcxyv6C70Sxb2Nv9K7xai/Ig7giS8gJljk3mKkDItXp5ARq7bGkTVbpTw=', 0, '2000-01-01T00:00:00', None, 3, 16998598010, None, '419495306', '441625306', None, 'BSM', 1, None, None, 'Ryba Pavel a Hrubá Marie', 'RYBA PAVEL A HRUBA MARIE', None, None, None, None, None, None, None, None, None, None, None, None, None, None, None, None, None, '1998-01-26T00:00:00', 2800743306, None, None, 48, '431535306')\n",
      "('nG1j9b9eZx7u/iGrTPtgGVOrmDaUxd1s2dC8/jiqRtKkXyuaJ7icS9jz00xy2JcS4p338ZsCnpOzwga2Y8tupePeKeUVoWjjSl+o/7/msY0=', 0, '2000-01-01T00:00:00', None, 3, 16998598010, None, '420564306', '442230306', None, 'BSM', 1, None, None, 'Pika Emil a Hrubá Magda', 'PIKA EMIL A HRUBA MAGDA', None, None, None, None, None, None, None, None, None, None, None, None, None, None, None, None, None, '1998-08-18T00:00:00', 2800751306, None, None, 49, '431945306')\n",
      "('OnlsGwGAyTMPH15d9slPGHS+ul00Ov2hYSesDj7FmHeRy6i+1ttOFelz2GYwTBWMONxcreKb+0Bf2840TsM6LHBDumdabpRRCj+TFicfIo0=', 0, '2000-01-01T00:00:00', None, 3, 28219988010, None, None, None, None, 'OPO', 11, 583090, None, 'Obec Mičovice', 'OBEC MICOVICE', None, None, None, None, None, None, None, 23, None, None, 'Mičovice', 'Mičovice', None, None, 38301, None, 1, None, None, None, None, 50, '403038306')\n",
      "('KhrNZfOu3UPVx0J3V8kMtS9CZ5x9bc/JsMxwurOsDV7Z/IpcR6nA43E3vtpb+uujF4/FF7VOesEOFK3IS4UbncSMhhLL215enh/PGWVACCHNXwDFbAXYk9f1KAuFGSY0', 0, '2000-01-01T00:00:00', None, 3, 45270974010, None, None, None, None, 'OFO', 2, None, None, None, None, '8306268652', None, 'Petr', 'PETR', 'Šmíd', 'SMID', None, 183, None, None, 'Hovězí', 'Komárov', None, None, 11000, None, 1, None, None, None, None, 51, '28514497010')\n",
      "('4/09lLuaNar2b8ZrhcyqhU1dN1h6cdfYNCg2/RReim82UXm3H5whG2MlvoKzXFltwKfA5MonRqd32zCvZgGfvCUIbqRScDVWKy5fctYb6N0=', 0, '2000-01-01T00:00:00', None, 3, 16998598010, None, '437684306', '414893306', None, 'BSM', 1, None, None, 'Ryba Alois a Rucká Kamila', 'RYBA ALOIS A RUCKA KAMILA', None, None, None, None, None, None, None, None, None, None, None, None, None, None, None, None, None, '2004-12-28T13:53:36', 3122710306, None, None, 52, '629738306')\n",
      "('hkL5rQrRg4S5vLOBt4eIJJ2V2TYoj0cfedxg4BSHxDvBJaNn+d2ls2yJhQkE7K5+I/9kkq+O03kCIXt6l6W4ga3EUu0UY/A+TRgJcpxsiahtWTyp5miG9XnLxAhSWHJ5', 0, '2000-01-01T00:00:00', None, 3, 65539743010, None, None, None, None, 'OPO', 4, 1312774, None, 'Státní pozemkový úřad', 'STATNI POZEMKOVY URAD', None, None, None, None, None, None, None, 1024, '11a', 'Husinecká', 'Žižkov', 'Praha', None, None, 13000, None, 1, None, None, None, '627994601', 53, '28461244010')\n",
      "('Ym8cWfYJCf8Urrv3bW6nwRZlwSmAaA/8kS8GFhllL8eFIJFCj0FhuzDnHm4d/DQi+nop3gtaovf0HR4b7x9LbCQdjj8cfjGO0N/jFAM+vK4=', 0, '2000-01-01T00:00:00', None, 3, 41269610010, None, None, None, None, 'OFO', 2, None, None, None, None, '1203275293', None, 'Emil', 'EMIL', 'Pika', 'PIKA', None, 7999, None, None, 'Hovězí', 'Komárov', None, None, 11000, None, 1, None, None, None, None, 54, '420564306')\n",
      "('OSAJs7W4HqDew0srlaev6U4G6+SYLaddr65lGbvSoNr/avJL76h/vK1sBGmQ9kvy0TkOuLNofgfzYOT4s5Imp3Vn8LiiR/fKy0ofj18gbPA=', 0, '2000-01-01T00:00:00', None, 3, 64159132010, None, None, None, None, 'OFO', 2, None, None, None, None, '5706067609', None, 'Jan', 'JAN', 'Lexa', 'LEXA', None, 5894, None, None, 'Hovězí', 'Komárov', None, None, 11000, None, 1, None, None, None, None, 55, '421758306')\n",
      "('UyRKGvNtD3RY7g1F6Oa/uad7WoAoj5fPL4nUuFVU42SrnDzMgM1Tsix9bmimHtrPJvf44AKjrgwgk+wbP3oLUhMW3sFzdFm2UGW4hfZo0Sw=', 0, '2000-01-01T00:00:00', None, 3, 35760511010, None, None, None, None, 'OFO', 2, None, None, None, None, '231113692', None, 'Pavel', 'PAVEL', 'Čech', 'CECH', None, 7935, None, 'U dvora', 'Palkovice', 'Kopřivnice', None, None, 11000, None, 1, None, None, None, None, 56, '433348306')\n",
      "('VdYFVbm+86uuL5NZSDUP9DEEmK6+kQ0Yv94SD3PKGIsyVVcXQ+yl9sVe+9geW8q79xfDY/YF98BVdxRwtIHCYeMzVGLAEMhP7R8SIwcVCtPRH4gdRhvij3OuHXZOjz0M', 0, '2000-01-01T00:00:00', None, 3, 35354684010, None, None, None, None, 'OFO', 2, None, None, None, None, '8802248829', None, 'Josef', 'JOSEF', 'Čupa', 'CUPA', None, 4386, None, None, 'Hovězí', 'Komárov', None, None, 11000, None, 2, None, None, None, None, 57, '29281934010')\n",
      "('J3hMa2yksIRcQaD51HVTH3Q6WzhIEBRV4Pjvzv1m9JVCaVFmqbSQLmMqp5SX+mFgX+CkR4Tf0RenGliXDwBkGky9DnZquQo+qDKWLThkZ7c=', 0, '2000-01-01T00:00:00', None, 3, 35493504010, None, None, None, None, 'OFO', 2, None, None, None, None, '035529683', None, 'Marta', 'MARTA', 'Rucká', 'RUCKA', None, 7109, None, None, 'Hovězí', 'Komárov', None, None, 11000, None, 1, None, None, None, None, 58, '408981306')\n",
      "('1icyYJRr8366DjQYyqdj/TTYUgGOuUSp6ck6NDaYLdQ6lU3sbdOjY6CKYEN5T6XuJ8mBowWJicz/4l0lrv0Y+AZetgmFuW0OoM7yEd+5evQ=', 0, '2000-01-01T00:00:00', None, 3, 35230494010, None, None, None, None, 'OFO', 2, None, None, None, None, '1353067925', None, 'Marie', 'MARIE', 'Hrubá', 'HRUBA', None, 3033, None, None, 'Hovězí', 'Komárov', None, None, 11000, None, 1, None, None, None, None, 59, '441625306')\n",
      "('VFeRVqNwKQBFgxQOxaZ+Uu52XPwYBW85G2cqQzfrUsf4UB1yFq1auOdYlSwQuLB4ThdgaeE4AWjmgOIn5Pk4Rif4DDcbJSu41K6TZ/PZIHw=', 0, '2000-01-01T00:00:00', None, 3, 35230494010, None, None, None, None, 'OFO', 2, None, None, None, None, '7412242750', None, 'Pavel', 'PAVEL', 'Ryba', 'RYBA', None, 3033, None, None, 'Hovězí', 'Komárov', None, None, 11000, None, 1, None, None, None, None, 60, '419495306')\n",
      "('mSH6sS5yv6vA2jEOtyHeXbjjmSLmJ6SkHkWy/unkzDUZk7xIPT4ioZT0NeRHDgnO9rulMBaBITs2aW7PRZ1GTMRq6GAz0Ie+yIhff+XnzY8=', 0, '2000-01-01T00:00:00', None, 3, 35101500010, None, None, None, None, 'OFO', 2, None, None, None, None, '8705067360', None, 'Ivan', 'IVAN', 'Býma', 'BYMA', None, 2578, None, 'Velká', 'Palkovice', 'Kopřivnice', None, None, 11000, None, 1, None, None, None, None, 61, '420089306')\n",
      "('YmUx0yovmm7KUEMHfNDNpoVOmGYvPqyRhXUvSy9IuU94rqInTL8t6bf0sCVjnZTbAcpxcarHierENslhHtEwj6DxtUGSIQbZSPKa5P3uA7Y=', 0, '2000-01-01T00:00:00', None, 3, 36161124010, None, None, None, None, 'OFO', 2, None, None, None, None, '151216351', None, 'Petr', 'PETR', 'Haas', 'HAAS', None, 501, '5', 'K lesu', 'Podbořany', 'Brušperk', None, None, 11000, None, 1, None, None, None, None, 62, '433751306')\n",
      "('MkyPxftPwByPP/3T9U6meQYmlU9Uga3YsRKeSLgcelx6L++1XjfRQIJPyJhaQvvlvRiyNUYZdw4tIbfYQq6t/P4y/zkOJPN2VLK3vnm1kks=', 0, '2000-01-01T00:00:00', None, 3, 35096916010, None, None, None, None, 'OFO', 2, None, None, None, None, '100607122', None, 'Petr', 'PETR', 'Hora', 'HORA', None, 5531, None, None, 'Hovězí', 'Komárov', None, None, 11000, None, 1, None, None, None, None, 63, '439244306')\n",
      "('+lQ0Ne+Jhd5K4uvds1/KT8qqJcoA/eJ5OloIoqvCQi04X93kbmO62f/i2fqJgk62odrpl2ye04ue7tlKR93hckH4u46kVMoHQWmYF/rBWMA=', 0, '2000-01-01T00:00:00', None, 3, 52552937010, None, None, None, None, 'OFO', 2, None, None, None, None, '400504084', None, 'Milan', 'MILAN', 'Šíma', 'SIMA', None, 2578, None, 'Velká', 'Palkovice', 'Kopřivnice', None, None, 11000, None, 1, None, None, None, None, 64, '441241306')\n",
      "('o0V5H26cXD1+RFNrtHWDD5/5zfRee+2PZtNtw6TfHmL/dqT6lkuBz7xec6grhmrdiCC+G+4G3/yR+0j7jQI5kgysM49mklk1tOHmTrweKQR5jqFgXtG8YTRMo4e1Bcx+', 0, '2000-01-01T00:00:00', None, 3, 40097569010, None, None, None, None, 'OFO', 2, None, None, None, None, '9611285717', None, 'Alois', 'ALOIS', 'Hora', 'HORA', None, 5531, None, None, 'Hovězí', 'Komárov', None, None, 11000, None, 1, None, None, None, None, 65, '40894282010')\n",
      "('mm/dPuBRthrYVYeJFVs7KbJF8/0AcMBynbtvmHypm+QNWR7vTP4qB6Fjx93b2q7on9TIgT5u2hb9//QrjDl7NRJCaZYrCLqylJUlk4wyvV6WfgnUKGSoDqXg3KnMyIO9', 0, '2000-01-01T00:00:00', None, 3, 76448152010, None, None, None, None, 'OFO', 2, None, None, None, None, '7656301565', None, 'Alenka', 'ALENKA', 'Rucká', 'RUCKA', None, 2578, None, 'Velká', 'Palkovice', 'Kopřivnice', None, None, 11000, None, 1, None, None, None, None, 66, '62961709010')\n",
      "('Ku76SlYfgFivONmh8bdyl02qHhLEuGPdDbCow70bilmRc26J2noXqBoufBPT4kfi2B5Nm5H9w1NFHR+pNQuGoQfdXwnXwz8VCNF2QsJnBe8ypwQghGm+6xd1Xp/20VgA', 0, '2000-01-01T00:00:00', None, 3, 65875620010, None, None, None, None, 'OFO', 2, None, None, None, None, '7404138038', None, 'Karel', 'KAREL', 'Kiša', 'KISA', None, 5544, None, None, 'Hovězí', 'Komárov', None, None, 11000, None, 1, None, None, None, None, 67, '48068863010')\n",
      "('J0XZSVcq2fC4+FYE6P3FVpDsLeaKuuk80AoPHtHneWOa/KJrhWPux7doPjfExqFN4LQpeDRfyYI7bUweOjQiYfue4Tp65/jPFCtpDLTpHj4=', 0, '2000-01-01T00:00:00', None, 3, 35333648010, None, None, None, None, 'OFO', 2, None, None, None, None, '8502289719', None, 'Karel', 'KAREL', 'Duda', 'DUDA', None, 4703, None, 'K Lesu', 'Střelice', 'Střelice', None, None, 11000, None, 1, None, None, None, None, 68, '1788430301')\n",
      "('g4EDGsOOSJKaTbLxdmmIcj8xUOiCckDSBeYZG2QP8Pyo2wimkedJNVIfN+/tdChJF372XZO9lHzT3DrU5tYksUlgO+qhLrcu5O5rYerU5DaW0LTwJY0Bn931ZJMUYSeD', 0, '2000-01-01T00:00:00', None, 3, 51372088010, None, None, None, None, 'OFO', 2, None, None, None, None, '6962271019', None, 'Helena', 'HELENA', 'Gorná', 'GORNA', None, 1714, None, None, 'Hovězí', 'Komárov', None, None, 11000, None, 1, None, None, None, None, 69, '44496509010')\n",
      "('hf/HqLIgE7zvLimKwDjWOVhOmPY03cK5NxklSV6zIn0uRs5Uh3gkcycrY7GPiEamJWSEInqSAEwmZdx3/uM9hMBXYt+pwgje7SZyLBu2DhA=', 0, '2000-01-01T00:00:00', None, 3, 34034867010, None, None, None, None, 'OFO', 2, None, None, None, None, '5410297816', None, 'Luboš', 'LUBOS', 'Býma', 'BYMA', None, 8087, '108', 'Vítězná', 'Zbyslavice', 'Brušperk', None, None, 11000, None, 1, None, None, None, None, 70, '418622306')\n",
      "('hMFmuv9xLKl7itElRb+ABKUfR4GPjNp8o8f7v5TImNsrDMbOSFs0n+msxztqnzvgTnj+Rm6QehwZNK64c6pIeSUBViUprt4npOhmD/7zcrk=', 0, '2000-01-01T00:00:00', None, 3, 35737840010, None, None, None, None, 'OFO', 2, None, None, None, None, '7208107709', None, 'Adolf', 'ADOLF', 'Kiša', 'KISA', None, 4442, None, None, 'Kravaře', 'Kravaře', None, None, 11000, None, 1, None, None, None, None, 71, '441804306')\n",
      "('PtV2GbyZOZzpReCKf7eFnHRmrU7K4TTcUse25gDBLjKDnzwoc8Sz5tqpCN3vNn4dZMHS+XYlQ+ScsS+WeS/PxoEkyD/byLp2xhUlTYgDucvrvLKp+sDogobmGqlmnSSO', 0, '2000-01-01T00:00:00', None, 3, 35783335010, None, None, None, None, 'OFO', 2, None, None, None, None, '7302196627', None, 'Milan', 'MILAN', 'Hora', 'HORA', None, 5531, None, None, 'Hovězí', 'Komárov', None, None, 11000, None, 1, None, None, None, None, 72, '31568597010')\n",
      "('xEZvrXlG0ZciECwqZA8HsRDxiJlp9fBs8xvGltU/5rrKNmW4Nt247mvOtyXLHLspnNXQcio8j41RuWDpNtwjcde1q0aYKZzTi8AFFqOEN88=', 0, '2000-01-01T00:00:00', None, 3, 36344536010, None, None, None, None, 'OFO', 2, None, None, None, None, '6801316434', None, 'Alois', 'ALOIS', 'Král', 'KRAL', None, 7773, None, None, 'Hovězí', 'Komárov', None, None, 11000, None, 1, None, None, None, None, 73, '418667306')\n",
      "('hYx9AoiwOYp3PeBhp6IQj6ziSiq2pyPNpBi1mvE38CFs26YIOfEcz/gX7/onHmSLHl2uWlIZPprUd3pXACAgkJcYspPiGc8uOWt9Q18iiYA=', 0, '2000-01-01T00:00:00', None, 3, 16998598010, None, '1187463301', '1192016301', None, 'BSM', 1, None, None, 'Bena Emil a Stará Jana', 'BENA EMIL A STARA JANA', None, None, None, None, None, None, None, None, None, None, None, None, None, None, None, None, None, '2009-02-20T10:10:05', 3262889306, None, None, 74, '703006306')\n",
      "('bWb6QEOjc94in0pmGSBFwRm4FfuaCoxE+aHEHahXFXkx9jUOSdvhaWl40efvjBFwAmnAHHJI/g0nsn0tLis0carj34MDA39ptCnBdYnH5ZA=', 0, '2000-01-01T00:00:00', None, 3, 35490588010, None, None, None, None, 'OFO', 2, None, None, None, None, '525901142', None, 'Sylvia', 'SYLVIA', 'Kašná', 'KASNA', None, 2353, '1', 'Štúrova', 'Slaný', 'Brušperk', None, None, 11000, None, 1, None, None, None, None, 75, '1189482301')\n",
      "('neqUuNVqO4j95P+NofCPKL0MpZxkXTUrIQe/eQxf0fZUF4yLhcArvN3to7uRIMN7sVm18i3/pvS0bQbpHxmQT+iN8Gfl/dcR2gsSyVVLXGs=', 0, '2000-01-01T00:00:00', None, 3, 65208687010, None, None, None, None, 'OFO', 2, None, None, None, None, '9056121613', None, 'Marie', 'MARIE', 'Volná', 'VOLNA', None, None, None, 'Slezská', None, 'Tišnov', None, 'AAAAAAAA AAAAAAAAA82957346', None, None, None, None, None, None, None, 76, '414499306')\n",
      "('YSaRmQMUJtP5iHcBKPfOwIotTcrYSx4zMLFVrcnuaCmeFEm/VL5lHuo34uh5THwLFv7UohQK3AOjWfNiucgP14yqeR9UNxTi5O9pkiZz0LI=', 0, '2000-01-01T00:00:00', None, 3, 35999729010, None, None, None, None, 'OFO', 2, None, None, None, None, '195209818', None, 'Petra', 'PETRA', 'Volná', 'VOLNA', None, 7745, None, 'Dubková', 'Palkovice', 'Kopřivnice', None, None, 11000, None, 1, None, None, None, None, 77, '438301306')\n",
      "('5wQRil9Nd5KIrn5KWTf8+ucfKEsayz4LR/ZrAucExc8z+4hWyMyh+ABIewfIBvgQMxxF8/2HqFMn0OE/IphQisnADW27BjQ8Cn2Ui2i+xLM=', 0, '2000-01-01T00:00:00', None, 3, 36225636010, None, None, None, None, 'OFO', 2, None, None, None, None, '301228618', None, 'Pavel', 'PAVEL', 'Moch', 'MOCH', None, 1134, None, None, 'Pražmo', 'Pražmo', None, None, 11000, None, 1, None, None, None, None, 78, '415709306')\n",
      "('H6BJyag+3cV1xBsFPBuuip4rM871q3h2gO2AszXSo6CmQ9q6IQ+sqm+YGxa8TyS365iI6gf3iY3cV9REk4c0H9FpsORYvWNYFwG7CrJ9iLas5dj12SPyvF51BRjr/0au', 0, '2000-01-01T00:00:00', None, 3, 57113277010, None, None, None, None, 'OFO', 2, None, None, None, None, '6605057503', None, 'Alois', 'ALOIS', 'Král', 'KRAL', None, 183, None, None, 'Hovězí', 'Komárov', None, None, 11000, None, 1, None, None, None, None, 79, '33079054010')\n",
      "('DqJj5oG/KEn8Q/Q6Kyh4kM1M3AeoyvOzDBYgQ6vQvCLC7pU1cHmPTEyzCfhCvzeZbeAuEchEqmWXu1R9UGKSNlfY9G/wZcA3lqfBd+wfigs=', 0, '2000-01-01T00:00:00', None, 3, 64142639010, None, None, None, None, 'OFO', 2, None, None, None, None, '5510177288', None, 'Tomáš', 'TOMAS', 'Šrek', 'SREK', None, 4181, None, 'Příčná', 'Valtice', 'Valtice', None, None, 11000, None, 1, None, None, None, None, 80, '565583306')\n",
      "('JjjGmmAuY2r+vgvGvpKNjDzRo+CAGsMfhosMMP10Vq0blIcrdQ6xqI0zWSD6eKKGrDXBtI6dxcnnkgUOlFgjkH081Qeg/URu3ZByDWe/3BI=', 0, '2000-01-01T00:00:00', None, 3, 16998598010, None, '420089306', '420614306', None, 'BSM', 1, None, None, 'Býma Ivan a Tichá Monika', 'BYMA IVAN A TICHA MONIKA', None, None, None, None, None, None, None, None, None, None, None, None, None, None, None, None, None, '2003-05-14T16:26:31', 3002450306, None, None, 81, '431780306')\n",
      "('bALPx2GbQF+oclIHg6WmRdXh3VGeifIWFvCKDsbvenLQNSYNrm6stXbIt7ywtIFTKcJ8K0vSAfKeokpiRi0l3Aex77vwTqobXY/c2lb1xw0=', 0, '2000-01-01T00:00:00', None, 3, 35088613010, None, None, None, None, 'OFO', 2, None, None, None, None, '485205848', None, 'Anna', 'ANNA', 'Kašná', 'KASNA', None, 801, None, None, 'Komárov', 'Komárov', None, None, 11000, None, 1, None, None, None, None, 82, '415903306')\n",
      "('AGLNrRX8gxMGgFxc57odWW/yGmn7NeHtyEPqURGIoazP16SegE6xwFHfWC/gQY+WgTtLKjG3cPMzRltvADCgso5adynZFpiklJffFOc7sSo=', 0, '2000-01-01T00:00:00', None, 3, 40879200010, None, None, None, None, 'OFO', 2, None, None, None, None, '341217399', None, 'Lumír', 'LUMIR', 'Hoza', 'HOZA', None, 1660, None, None, 'Hovězí', 'Komárov', None, None, 11000, None, 1, None, None, None, None, 83, '408394306')\n",
      "('cD+k5i82mTXjR9/pvMQbIBCDJ0Z/uzTk87ZKkH4hzIB2buED0Ud5BAgWv5C4NhJGnqnEvpM8SIqRwYf/STr+nEyAaER0c3dsJ0vI5u3xHYQ=', 0, '2000-01-01T00:00:00', None, 3, 16998598010, None, '439244306', '439245306', None, 'BSM', 1, None, None, 'Hora Petr a Kašná Kamila', 'HORA PETR A KASNA KAMILA', None, None, None, None, None, None, None, None, None, None, None, None, None, None, None, None, None, '2003-03-03T08:20:01', 2995952306, None, None, 84, '429795306')\n",
      "('zPeq/viI8Dc0WssYO5VehITpYmrNQCF7PR3vmsy5DT6An5AKp/Luf3CKklORNyHxXhboih/Oz6kq4KsXpqCVVH8yAdAZfxYtCQm25BWJXVerA7juILC9uOuhHiPN4q7k', 0, '2000-01-01T00:00:00', None, 3, 69235560010, None, None, None, None, 'OFO', 2, None, None, None, None, '8458239834', None, 'Alena', 'ALENA', 'Tichá', 'TICHA', None, 4386, None, 'Malá', 'Nový Jičín', 'Kopřivnice', None, None, 11000, None, 1, None, None, None, None, 85, '22339542010')\n",
      "('f0Fq5zu50GTRnrkINyLmm4FB6t2AI+NAKWQKLMEvIYouMLntEnHVlCeIfnqDywJNzc67IW3ooE0SGX8qZd79oaAoqiqTOgSmOJZB37UHE1c=', 0, '2000-01-01T00:00:00', None, 3, 79263753010, None, None, None, None, 'OPO', 4, 69797111, None, 'Úřad pro zastupování státu ve věcech majetkových', 'URAD PRO ZASTUPOVANI STATU VE VECECH MAJETKOVYCH', None, None, None, None, None, None, None, 390, '42', 'Rašínovo nábřeží', 'Nové Město', 'Praha', None, None, 12800, None, 1, None, None, None, '627994601', 86, '701910510')\n",
      "('KT0rdHsWxrS4WVWKRhvDWBeGio9P4NTZ7lNEEIKsVLoNg0h9Aa3eaUlBOXK78gVI/NPe3cwRgpXofQaTGOJG66jDnqP52CJNzjOVfaxQWLc=', 0, '2000-01-01T00:00:00', None, 3, 49491071010, None, None, None, None, 'OFO', 2, None, None, None, None, '396211174', None, 'Magda', 'MAGDA', 'Hrubá', 'HRUBA', None, 7999, None, None, 'Hovězí', 'Komárov', None, None, 11000, None, 1, None, None, None, None, 87, '442230306')\n",
      "('rPKv7V+fiEfstUB0S6cpEXh6yGTq4bTlCE6uBX5kXieyAh7EWrBaFnwukM66O1XZH25ALIqbX1tDBENeMzMJccMI/bn5rUrlJhEog7igBLY=', 0, '2000-01-01T00:00:00', None, 3, 64272059010, None, None, None, None, 'OFO', 2, None, None, None, None, '355115775', None, 'Kamila', 'KAMILA', 'Hrubá', 'HRUBA', None, 5894, None, None, 'Hovězí', 'Komárov', None, None, 11000, None, 1, None, None, None, None, 88, '711874306')\n",
      "('iXuo5APMiSDKHjvq6Zwp4znpylRk3VICHbMd0CZEnHv0Yfd9IxzLRCvYD0GcdPBgCsVQP5C/sjWn2YmF1qe/BxyobmNhG4SPsa0pKedo4PE=', 0, '2000-01-01T00:00:00', None, 3, 35260451010, None, None, None, None, 'OFO', 2, None, None, None, None, '421001630', None, 'Alois', 'ALOIS', 'Ryba', 'RYBA', None, 6835, None, 'Hájkova', 'Palkovice', 'Kopřivnice', None, None, 11000, None, 1, None, None, None, None, 89, '437684306')\n",
      "('NezMzNG/s2Rz33QBJ/J9xHsKkt3gPqkDcB/VqU6fmfWs/kc8bLBXqEfKbgE9/Co4Ah9Ft2xfVdjm9TZnDDLf0DSivtf34CqbrOgDPJv7Q/c=', 0, '2000-01-01T00:00:00', None, 3, 34971783010, None, None, None, None, 'OFO', 2, None, None, None, None, '9301015724', None, 'Leo', 'LEO', 'Kunz', 'KUNZ', None, 8070, None, None, 'Komárov', 'Komárov', None, None, 11000, None, 1, None, None, None, None, 90, '668371306')\n",
      "('1fvxg03sxZo/hSaLM7Lww9w46fBDLTZx2NREsAV7HwkGRjxGKxwq/yWF24gjR+BGxTTQSSLZzxzKsCANYGfupv2Us5sf3kcnc1BVKPtcz5s=', 0, '2000-01-01T00:00:00', None, 3, 35632494010, None, None, None, None, 'OFO', 2, None, None, None, None, '5504036043', None, 'Emil', 'EMIL', 'Bena', 'BENA', None, 2351, None, None, 'Kolín', 'Blatnička', None, None, 11000, None, 1, None, None, None, None, 91, '1187463301')\n",
      "('iiEV2WxdTX+t1nEWFd7yaYbQZZywMlcwPhbKqBAzOY6CX0HQ2oRjBHYMhQqUlWEI4y+81BfCeY6OP0xZQrr1RKnpMsPGHI4JzDnlw+BAUK4=', 0, '2000-01-01T00:00:00', None, 3, 55070268010, None, None, None, None, 'OFO', 2, None, None, None, None, '8461208349', None, 'Marie', 'MARIE', 'Kašná', 'KASNA', None, 5944, None, 'Jánská', 'Litovel', 'Litovel', None, None, 11000, None, 1, None, None, None, None, 92, '344038746')\n",
      "('QbLYFV/XGTZN3skq8A77iw0jXtvYHadpwu1NNJiAIo2AxO/xomD4UCTqS/vTmeeX8eOr3Elw3K8/sYINSFQWG911P+EqAbPgVARJIHZvtkY=', 0, '2000-01-01T00:00:00', None, 3, 37931160010, None, None, None, None, 'OPO', 4, 57558755, None, 'Obec Čermná ve Slezsku', 'OBEC CERMNA VE SLEZSKU', None, None, None, None, None, None, None, 4416, '56', 'Skalky', 'Ostravice', 'Chotěbuz', None, None, 11000, None, 1, None, None, None, '627994601', 93, '562919601')\n",
      "('tbRykjyqj07e8OWkHFm+S8tm9M+qF0Ql6GN5m/l4Y85srs8uJWK4nCQdC1MCZ4IM3bwHuJRNTy57+V2lkG3QAfoL6VdGB35MSX25Nh5fu3c=', 0, '2000-01-01T00:00:00', None, 3, 41520913010, None, None, None, None, 'OPO', 15, 83715421, None, 'NIKOL NÁPOJE a.s.', 'NIKOL NAPOJE A.S.', None, None, None, None, None, None, None, 5110, '93', 'Labuť', 'Podbořany', 'Brušperk', None, None, 11000, None, 1, None, None, None, '976106407', 94, '723361308')\n",
      "('zjQFHCstHaYtYTIi9hORZRXYOc6k0hH288KSw9iDzCl+X9pOUGZKaa66zQQEN73fdjsw9/7YjYQ68TBXMm8URmS5tv4YM3mG5Twnjp+eFLQ=', 0, '2000-01-01T00:00:00', None, 3, 35260451010, None, None, None, None, 'OFO', 2, None, None, None, None, '6852249305', None, 'Kamila', 'KAMILA', 'Rucká', 'RUCKA', None, 2649, '19', 'Pod háj', 'Tuř', 'Třinec', None, None, 11000, None, 1, None, None, None, None, 95, '414893306')\n",
      "('3aW3srZ5a3T/ChIj+sdMrJE0sk738z0ZHA0q6GgFh5H2Szl4VYLSRCfCHyEMA8cAKwbYizIHXcv/r5goxydoDSZCgYHe6mOZsomLL2Jwop4=', 0, '2000-01-01T00:00:00', None, 3, 42714797010, None, None, None, None, 'OFO', 2, None, None, None, None, '155320243', None, 'Alenka', 'ALENKA', 'Rucká', 'RUCKA', None, 2578, None, 'Velká', 'Palkovice', 'Kopřivnice', None, None, 11000, None, 1, None, None, None, None, 96, '419381306')\n",
      "('xairWnG248pu7itR19AIT0hdzsYi1LAHuAt8fIswNgUvi97XTCdWljEuXGf2xQ4c5hhgGnY0ZVp2yOEEGwJ70iljjCDlCM46qs/+W/UHZSQ=', 0, '2000-01-01T00:00:00', None, 3, 35230494010, None, None, None, None, 'OFO', 2, None, None, None, None, '6361161499', None, 'Monika', 'MONIKA', 'Tichá', 'TICHA', None, 2578, None, 'Velká', 'Palkovice', 'Kopřivnice', None, None, 11000, None, 1, None, None, None, None, 97, '420614306')\n",
      "('q4ZUhGQGivshfEEsiHkiC1iJJE3pRXruvCrdiEi+or/nkYeeJD1NajXvl5Mm8/CU8QeovLeXweZgIuOQW3+R6S9vo/4qfzC81k40opUrblk=', 0, '2000-01-01T00:00:00', None, 3, 35760506010, None, None, None, None, 'OFO', 2, None, None, None, None, '346218760', None, 'Marie', 'MARIE', 'Kubná', 'KUBNA', None, 501, '5', 'K lesu', 'Podbořany', 'Brušperk', None, None, 11000, None, 1, None, None, None, None, 98, '433752306')\n",
      "('078yf28ANhKnYAoAfBZk6LwrtgWykcrWv2Inb0RySck69cjrSm5AFefIPtsNw/M2svL/JsumXXsklMRnHtccupBZ+KOedZqCraKOLujSdsc=', 0, '2000-01-01T00:00:00', None, 3, 62172619010, None, None, None, None, 'OFO', 2, None, None, None, None, '8056211999', None, 'Kamila', 'KAMILA', 'Kašná', 'KASNA', None, 5531, None, None, 'Hovězí', 'Komárov', None, None, 11000, None, 1, None, None, None, None, 99, '439245306')\n",
      "('8bg+CXEGHarWp2oK+IfpUamKDfCVz85r0uBnUCjzPdNJ6AK2a4ybpIROxdjinogDSMGKQB9jeCyt5BLEOx9qsj3iksX7gk0kyMb4XwEPBO4=', 0, '2000-01-01T00:00:00', None, 3, 16998598010, None, '433348306', '444489306', None, 'BSM', 1, None, None, 'Čech Pavel a Černá Blanka', 'CECH PAVEL A CERNA BLANKA', None, None, None, None, None, None, None, None, None, None, None, None, None, None, None, None, None, '2004-01-21T13:43:20', 3045816306, None, None, 100, '425352306')\n",
      "('EGgfRTDVb68syXhEmpfl6VpmxItEm1IwCtdk82EaSNgBGKDd5gEbCPEBw6wrbaGWim1nDiiVsb1iarVPI/2OAVvMYg3BxyQUKFuMpareq+c=', 0, '2000-01-01T00:00:00', None, 3, 32512741010, None, None, None, None, 'OFO', 2, None, None, None, None, '175326276', None, 'Blanka', 'BLANKA', 'Černá', 'CERNA', None, 7935, None, 'U dvora', 'Palkovice', 'Kopřivnice', None, None, 11000, None, 1, None, None, None, None, 101, '444489306')\n",
      "('Y+s9bH0/ld/NLE4dOgaHgoRcmRrSt+dsqPhNnh0oXeafk9E4WZlgsCnF1La1gw7EoZ3hLsizggDDnbV+DyNJinyL5ABL87B4d4Q1NIT8goQ=', 0, '2000-01-01T00:00:00', None, 3, 46009286010, None, None, None, None, 'OFO', 2, None, None, None, None, '7656212047', None, 'Marie', 'MARIE', 'Malá', 'MALA', None, 6543, None, 'Mýtní', 'Jihlava', 'Jihlava', None, None, 11000, None, 1, None, None, None, None, 102, '489082306')\n",
      "('l0raZybOozQ95JWgTnaQpiplmmtdzAp2RiExSTwc+CmrRcDkW8jPHrWwYA33OP9DV3647Ea9f04G8Wyca2N6FJccnQQNFaY66A5TWLwA8dc=', 0, '2000-01-01T00:00:00', None, 3, 35758486010, None, None, None, None, 'OFO', 2, None, None, None, None, '465604558', None, 'Jana', 'JANA', 'Stará', 'STARA', None, 2351, None, None, 'Kolín', 'Blatnička', None, None, 11000, None, 1, None, None, None, None, 103, '1192016301')\n",
      "('/ipU68hnjrq1J7ZDi4JBaAyBiKjxZzpGZSVIfv8yFMKSKy3PpT/lba/0c4YCdqvrexVCCAL0MxBbob3A75l2Tnkgw/HHXtm0+abSHVywLEM=', 0, '2000-01-01T00:00:00', None, 3, 16998598010, None, '408129306', '408981306', None, 'BSM', 1, None, None, 'Šíma Emil a Rucká Marta', 'SIMA EMIL A RUCKA MARTA', None, None, None, None, None, None, None, None, None, None, None, None, None, None, None, None, None, '2003-06-26T07:43:05', 3003873306, None, None, 104, '425760306')\n",
      "('+VKfYaKhJDrRHUWeS2e7xO7g+HhFQapZMPa5kamaF/wSOs6r3xEPEVFhtUlWqcXO9GTopZEjqpsTbsKhZmN7VxYJSxvgcgTWMGdxYkQVCaU=', 0, '2000-01-01T00:00:00', None, 3, 68574168010, None, None, None, None, 'OFO', 2, None, None, None, None, '470211573', None, 'Pavel', 'PAVEL', 'Lexa', 'LEXA', None, 6475, None, 'Úzká', 'Palkovice', 'Kopřivnice', None, None, 11000, None, 1, None, None, None, None, 105, '421391306')\n",
      "('tTP8WqxRGv8mdc7niazOGdOIcMRfCRB7JY9mCaqqaUTa7+Dfu31hRdVtAa3hh0+XsMXUJvVewoV3piXC7IBr50LGZjrOLcIho++X0N07jJ0=', 0, '2000-01-01T00:00:00', None, 3, 50258345010, None, None, None, None, 'OFO', 2, None, None, None, None, '1951317786', None, 'Zdeňka', 'ZDENKA', 'Těžká', 'TEZKA', None, 1714, None, None, 'Komárov', 'Komárov', None, None, 11000, None, 1, None, None, None, None, 106, '444478306')\n",
      "('3ZendyrB5RiGiS5emPZ8oWRhZZQOsLiOHI329ANsTWE3+RDPfNFmHeJzpKvspfBZpBX5RpwGNirjH3hlHeysozmb3+g52m7EfdnRYUR/iAA=', 0, '2000-01-01T00:00:00', None, 3, 55213756010, None, None, None, None, 'OFO', 2, None, None, None, None, '526216265', None, 'Kamila', 'KAMILA', 'Kubná', 'KUBNA', None, 7905, None, None, 'Ostravice', 'Jihlava', None, None, 11000, None, 1, None, None, None, None, 107, '701993306')\n",
      "('m+o3Qoxrit4ZwyJIPjx3X32uMv1tXAioo/hUUaq6JmMHGXsvc9zncnGPExVsV8dslyzXyBs7yEV6mKlHKK2k7OW4tsyI1O91ftE7Rl4B6B4=', 0, '2000-01-01T00:00:00', None, 3, 65248107010, None, None, None, None, 'OFO', 2, None, None, None, None, '370415521', None, 'Petr', 'PETR', 'Kiša', 'KISA', None, 5544, None, None, 'Hovězí', 'Komárov', None, None, 11000, None, 1, None, None, None, None, 108, '411423306')\n"
     ]
    }
   ],
   "source": [
    "con = sqlite3.connect(temp_db)\n",
    "cur = con.cursor()\n",
    "\n",
    "for row in cur.execute(\"SELECT * FROM OPSUB\"):\n",
    "    print(row)\n",
    "    \n",
    "con.close()"
   ]
  },
  {
   "cell_type": "markdown",
   "id": "interstate-competition",
   "metadata": {},
   "source": [
    "Skvele! Databazi se podarilo aktualizovat. :-)"
   ]
  },
  {
   "cell_type": "markdown",
   "id": "mexican-advertiser",
   "metadata": {},
   "source": [
    "### Vyber pseudonymizovanych identifikatoru"
   ]
  },
  {
   "cell_type": "markdown",
   "id": "confidential-diamond",
   "metadata": {},
   "source": [
    "Pokud nepotrebujeme zpracovavat celou tabulku, muzeme si vybrat jen nektere pseudonymizovane identifikatory."
   ]
  },
  {
   "cell_type": "markdown",
   "id": "african-madness",
   "metadata": {},
   "source": [
    "Zase si udelame kopii databaze:"
   ]
  },
  {
   "cell_type": "code",
   "execution_count": 8,
   "id": "interim-railway",
   "metadata": {},
   "outputs": [
    {
     "name": "stdout",
     "output_type": "stream",
     "text": [
      "/tmp/tmpborfr532\n"
     ]
    }
   ],
   "source": [
    "temp_db = tempfile.mkstemp()[1]\n",
    "copyfile(db_path, temp_db)\n",
    "print(temp_db)"
   ]
  },
  {
   "cell_type": "markdown",
   "id": "senior-virgin",
   "metadata": {},
   "source": [
    "Zavolame si knihovnu a pri ziskavani identifikatoru z databaze pouzijeme parametr \"sql\". Zajima nas pouze 10 prvnich identifikatoru:"
   ]
  },
  {
   "cell_type": "code",
   "execution_count": 9,
   "id": "japanese-council",
   "metadata": {},
   "outputs": [
    {
     "name": "stdout",
     "output_type": "stream",
     "text": [
      "['<v2:pOSIdent>078yf28ANhKnYAoAfBZk6LwrtgWykcrWv2Inb0RySck69cjrSm5AFefIPtsNw/M2svL/JsumXXsklMRnHtccupBZ+KOedZqCraKOLujSdsc=</v2:pOSIdent>', '<v2:pOSIdent>3ZendyrB5RiGiS5emPZ8oWRhZZQOsLiOHI329ANsTWE3+RDPfNFmHeJzpKvspfBZpBX5RpwGNirjH3hlHeysozmb3+g52m7EfdnRYUR/iAA=</v2:pOSIdent>', '<v2:pOSIdent>+lQ0Ne+Jhd5K4uvds1/KT8qqJcoA/eJ5OloIoqvCQi04X93kbmO62f/i2fqJgk62odrpl2ye04ue7tlKR93hckH4u46kVMoHQWmYF/rBWMA=</v2:pOSIdent>', '<v2:pOSIdent>/ipU68hnjrq1J7ZDi4JBaAyBiKjxZzpGZSVIfv8yFMKSKy3PpT/lba/0c4YCdqvrexVCCAL0MxBbob3A75l2Tnkgw/HHXtm0+abSHVywLEM=</v2:pOSIdent>', '<v2:pOSIdent>1icyYJRr8366DjQYyqdj/TTYUgGOuUSp6ck6NDaYLdQ6lU3sbdOjY6CKYEN5T6XuJ8mBowWJicz/4l0lrv0Y+AZetgmFuW0OoM7yEd+5evQ=</v2:pOSIdent>', '<v2:pOSIdent>2fa9YZ/g+IACqr1Etk+QIUPK51iiTwCA/t/nTw+U9RUmjfYorPLrzpPd46Bmj3C3tfw3cyOy5bx0ogGCOZ01eUctqHZQzXY903JlPvzPzlw=</v2:pOSIdent>', '<v2:pOSIdent>00ep7V5fFBZoFMeOfcAOPMRtu0G9svLcsDyC/fYkJk3EbFIqbw2kpRaC1jjS1V8bjacEwrp/SdxXZXdtwDzFj3vKzXvHF7k7HiDpVtv6fPAUIS/cKLcyZ7viQd7pE5FE</v2:pOSIdent>', '<v2:pOSIdent>1fvxg03sxZo/hSaLM7Lww9w46fBDLTZx2NREsAV7HwkGRjxGKxwq/yWF24gjR+BGxTTQSSLZzxzKsCANYGfupv2Us5sf3kcnc1BVKPtcz5s=</v2:pOSIdent>', '<v2:pOSIdent>/AOrBGOFR+4GtqsAvOXC/3kKd0OCEPBVRfEsIPHeW3CoGcU1dio8gmrulsH5/KEvySRvbRT2hlDOXICKukDLldMgNY5z+yASe8F1rqBlKug=</v2:pOSIdent>', '<v2:pOSIdent>+VKfYaKhJDrRHUWeS2e7xO7g+HhFQapZMPa5kamaF/wSOs6r3xEPEVFhtUlWqcXO9GTopZEjqpsTbsKhZmN7VxYJSxvgcgTWMGdxYkQVCaU=</v2:pOSIdent>']\n"
     ]
    }
   ],
   "source": [
    "ctios = CtiOSGdal(username=username,\n",
    "                  password=password,\n",
    "                  db_path=temp_db)\n",
    "sql = \"SELECT * FROM OPSUB order by ID LIMIT 10\"\n",
    "posidents = ctios.get_posidents_from_db(sql) # pouzijeme parametr sql\n",
    "print(posidents)"
   ]
  },
  {
   "cell_type": "markdown",
   "id": "objective-journalist",
   "metadata": {},
   "source": [
    "Nad seznamem zavolame metodu .process, ktera k zadanym identifikatorum aktualizuje v tabulce osobni udaje:"
   ]
  },
  {
   "cell_type": "code",
   "execution_count": 10,
   "id": "clear-moral",
   "metadata": {},
   "outputs": [
    {
     "name": "stderr",
     "output_type": "stream",
     "text": [
      "ctiOS        - INFO     - POSIDENT 078yf28ANhKnYAoAfBZk6LwrtgWykcrWv2Inb0RySck69cjrSm5AFefIPtsNw/M2svL/JsumXXsklMRnHtccupBZ+KOedZqCraKOLujSdsc= USPESNE STAZEN\n",
      "ctiOS        - INFO     - POSIDENT 3ZendyrB5RiGiS5emPZ8oWRhZZQOsLiOHI329ANsTWE3+RDPfNFmHeJzpKvspfBZpBX5RpwGNirjH3hlHeysozmb3+g52m7EfdnRYUR/iAA= USPESNE STAZEN\n",
      "ctiOS        - INFO     - POSIDENT +lQ0Ne+Jhd5K4uvds1/KT8qqJcoA/eJ5OloIoqvCQi04X93kbmO62f/i2fqJgk62odrpl2ye04ue7tlKR93hckH4u46kVMoHQWmYF/rBWMA= USPESNE STAZEN\n",
      "ctiOS        - INFO     - POSIDENT /ipU68hnjrq1J7ZDi4JBaAyBiKjxZzpGZSVIfv8yFMKSKy3PpT/lba/0c4YCdqvrexVCCAL0MxBbob3A75l2Tnkgw/HHXtm0+abSHVywLEM= USPESNE STAZEN\n",
      "ctiOS        - INFO     - POSIDENT 1icyYJRr8366DjQYyqdj/TTYUgGOuUSp6ck6NDaYLdQ6lU3sbdOjY6CKYEN5T6XuJ8mBowWJicz/4l0lrv0Y+AZetgmFuW0OoM7yEd+5evQ= USPESNE STAZEN\n",
      "ctiOS        - INFO     - POSIDENT 2fa9YZ/g+IACqr1Etk+QIUPK51iiTwCA/t/nTw+U9RUmjfYorPLrzpPd46Bmj3C3tfw3cyOy5bx0ogGCOZ01eUctqHZQzXY903JlPvzPzlw= USPESNE STAZEN\n",
      "ctiOS        - INFO     - POSIDENT 00ep7V5fFBZoFMeOfcAOPMRtu0G9svLcsDyC/fYkJk3EbFIqbw2kpRaC1jjS1V8bjacEwrp/SdxXZXdtwDzFj3vKzXvHF7k7HiDpVtv6fPAUIS/cKLcyZ7viQd7pE5FE USPESNE STAZEN\n",
      "ctiOS        - INFO     - POSIDENT 1fvxg03sxZo/hSaLM7Lww9w46fBDLTZx2NREsAV7HwkGRjxGKxwq/yWF24gjR+BGxTTQSSLZzxzKsCANYGfupv2Us5sf3kcnc1BVKPtcz5s= USPESNE STAZEN\n",
      "ctiOS        - INFO     - POSIDENT /AOrBGOFR+4GtqsAvOXC/3kKd0OCEPBVRfEsIPHeW3CoGcU1dio8gmrulsH5/KEvySRvbRT2hlDOXICKukDLldMgNY5z+yASe8F1rqBlKug= USPESNE STAZEN\n",
      "ctiOS        - INFO     - POSIDENT +VKfYaKhJDrRHUWeS2e7xO7g+HhFQapZMPa5kamaF/wSOs6r3xEPEVFhtUlWqcXO9GTopZEjqpsTbsKhZmN7VxYJSxvgcgTWMGdxYkQVCaU= USPESNE STAZEN\n",
      "ctiOS        - INFO     - Radky v databazi u POSIdentu 078yf28ANhKnYAoAfBZk6LwrtgWykcrWv2Inb0RySck69cjrSm5AFefIPtsNw/M2svL/JsumXXsklMRnHtccupBZ+KOedZqCraKOLujSdsc= aktualizovany\n",
      "ctiOS        - INFO     - Radky v databazi u POSIdentu 3ZendyrB5RiGiS5emPZ8oWRhZZQOsLiOHI329ANsTWE3+RDPfNFmHeJzpKvspfBZpBX5RpwGNirjH3hlHeysozmb3+g52m7EfdnRYUR/iAA= aktualizovany\n",
      "ctiOS        - INFO     - Radky v databazi u POSIdentu +lQ0Ne+Jhd5K4uvds1/KT8qqJcoA/eJ5OloIoqvCQi04X93kbmO62f/i2fqJgk62odrpl2ye04ue7tlKR93hckH4u46kVMoHQWmYF/rBWMA= aktualizovany\n",
      "ctiOS        - INFO     - Radky v databazi u POSIdentu /ipU68hnjrq1J7ZDi4JBaAyBiKjxZzpGZSVIfv8yFMKSKy3PpT/lba/0c4YCdqvrexVCCAL0MxBbob3A75l2Tnkgw/HHXtm0+abSHVywLEM= aktualizovany\n",
      "ctiOS        - INFO     - Radky v databazi u POSIdentu 1icyYJRr8366DjQYyqdj/TTYUgGOuUSp6ck6NDaYLdQ6lU3sbdOjY6CKYEN5T6XuJ8mBowWJicz/4l0lrv0Y+AZetgmFuW0OoM7yEd+5evQ= aktualizovany\n",
      "ctiOS        - INFO     - Radky v databazi u POSIdentu 2fa9YZ/g+IACqr1Etk+QIUPK51iiTwCA/t/nTw+U9RUmjfYorPLrzpPd46Bmj3C3tfw3cyOy5bx0ogGCOZ01eUctqHZQzXY903JlPvzPzlw= aktualizovany\n",
      "ctiOS        - INFO     - Radky v databazi u POSIdentu 00ep7V5fFBZoFMeOfcAOPMRtu0G9svLcsDyC/fYkJk3EbFIqbw2kpRaC1jjS1V8bjacEwrp/SdxXZXdtwDzFj3vKzXvHF7k7HiDpVtv6fPAUIS/cKLcyZ7viQd7pE5FE aktualizovany\n",
      "ctiOS        - INFO     - Radky v databazi u POSIdentu 1fvxg03sxZo/hSaLM7Lww9w46fBDLTZx2NREsAV7HwkGRjxGKxwq/yWF24gjR+BGxTTQSSLZzxzKsCANYGfupv2Us5sf3kcnc1BVKPtcz5s= aktualizovany\n",
      "ctiOS        - INFO     - Radky v databazi u POSIdentu /AOrBGOFR+4GtqsAvOXC/3kKd0OCEPBVRfEsIPHeW3CoGcU1dio8gmrulsH5/KEvySRvbRT2hlDOXICKukDLldMgNY5z+yASe8F1rqBlKug= aktualizovany\n",
      "ctiOS        - INFO     - Radky v databazi u POSIdentu +VKfYaKhJDrRHUWeS2e7xO7g+HhFQapZMPa5kamaF/wSOs6r3xEPEVFhtUlWqcXO9GTopZEjqpsTbsKhZmN7VxYJSxvgcgTWMGdxYkQVCaU= aktualizovany\n",
      "ctiOS        - INFO     - Pocet dotazovanych posidentu: 10.\n",
      "ctiOS        - INFO     - Pocet pozadavku do ktereho byl dotaz rozdelen: 1.\n",
      "ctiOS        - INFO     - Pocet uspesne stazenych posidentu: 10\n",
      "ctiOS        - INFO     - Neplatny identifikator: 0x.\n",
      "ctiOS        - INFO     - Expirovany identifikator: 0x.\n",
      "ctiOS        - INFO     - Opravneny subjekt neexistuje: 0x.\n"
     ]
    }
   ],
   "source": [
    "ctios.process(posidents)"
   ]
  },
  {
   "cell_type": "markdown",
   "id": "amended-wayne",
   "metadata": {},
   "source": [
    "Podivame se na aktualizovanou databazi:"
   ]
  },
  {
   "cell_type": "code",
   "execution_count": 11,
   "id": "destroyed-legislature",
   "metadata": {},
   "outputs": [
    {
     "name": "stdout",
     "output_type": "stream",
     "text": [
      "('+VKfYaKhJDrRHUWeS2e7xO7g+HhFQapZMPa5kamaF/wSOs6r3xEPEVFhtUlWqcXO9GTopZEjqpsTbsKhZmN7VxYJSxvgcgTWMGdxYkQVCaU=', 0, '2000-01-01T00:00:00', None, 3, 68574168010, None, None, None, None, 'OFO', 2, None, None, None, None, '470211573', None, 'Pavel', 'PAVEL', 'Lexa', 'LEXA', None, 6475, None, 'Úzká', 'Palkovice', 'Kopřivnice', None, None, 11000, None, 1, None, None, None, None, 105, '421391306')\n",
      "('+lQ0Ne+Jhd5K4uvds1/KT8qqJcoA/eJ5OloIoqvCQi04X93kbmO62f/i2fqJgk62odrpl2ye04ue7tlKR93hckH4u46kVMoHQWmYF/rBWMA=', 0, '2000-01-01T00:00:00', None, 3, 52552937010, None, None, None, None, 'OFO', 2, None, None, None, None, '400504084', None, 'Milan', 'MILAN', 'Šíma', 'SIMA', None, 2578, None, 'Velká', 'Palkovice', 'Kopřivnice', None, None, 11000, None, 1, None, None, None, None, 64, '441241306')\n",
      "('/AOrBGOFR+4GtqsAvOXC/3kKd0OCEPBVRfEsIPHeW3CoGcU1dio8gmrulsH5/KEvySRvbRT2hlDOXICKukDLldMgNY5z+yASe8F1rqBlKug=', 0, '2000-01-01T00:00:00', None, 3, 35088613010, None, None, None, None, 'OFO', 2, None, None, None, None, '7908142220', None, 'Karel', 'KAREL', 'Duda', 'DUDA', None, 3617, None, None, 'Hovězí', 'Komárov', None, None, 11000, None, 1, None, None, None, None, 14, '415169306')\n",
      "('/ipU68hnjrq1J7ZDi4JBaAyBiKjxZzpGZSVIfv8yFMKSKy3PpT/lba/0c4YCdqvrexVCCAL0MxBbob3A75l2Tnkgw/HHXtm0+abSHVywLEM=', 0, '2000-01-01T00:00:00', None, 3, 16998598010, None, '408129306', '408981306', None, 'BSM', 1, None, None, 'Šíma Emil a Rucká Marta', 'SIMA EMIL A RUCKA MARTA', None, None, None, None, None, None, None, None, None, None, None, None, None, None, None, None, None, '2003-06-26T07:43:05', 3003873306, None, None, 104, '425760306')\n",
      "('00ep7V5fFBZoFMeOfcAOPMRtu0G9svLcsDyC/fYkJk3EbFIqbw2kpRaC1jjS1V8bjacEwrp/SdxXZXdtwDzFj3vKzXvHF7k7HiDpVtv6fPAUIS/cKLcyZ7viQd7pE5FE', 0, '2000-01-01T00:00:00', None, 3, 35354684010, None, None, None, None, 'OFO', 2, None, None, None, None, '1409270522', None, 'Karel', 'KAREL', 'Čupa', 'CUPA', None, 1470, None, None, 'Hovězí', 'Komárov', None, None, 11000, None, 1, None, None, None, None, 43, '29184773010')\n",
      "('078yf28ANhKnYAoAfBZk6LwrtgWykcrWv2Inb0RySck69cjrSm5AFefIPtsNw/M2svL/JsumXXsklMRnHtccupBZ+KOedZqCraKOLujSdsc=', 0, '2000-01-01T00:00:00', None, 3, 62172619010, None, None, None, None, 'OFO', 2, None, None, None, None, '8056211999', None, 'Kamila', 'KAMILA', 'Kašná', 'KASNA', None, 5531, None, None, 'Hovězí', 'Komárov', None, None, 11000, None, 1, None, None, None, None, 99, '439245306')\n",
      "('1fvxg03sxZo/hSaLM7Lww9w46fBDLTZx2NREsAV7HwkGRjxGKxwq/yWF24gjR+BGxTTQSSLZzxzKsCANYGfupv2Us5sf3kcnc1BVKPtcz5s=', 0, '2000-01-01T00:00:00', None, 3, 35632494010, None, None, None, None, 'OFO', 2, None, None, None, None, '5504036043', None, 'Emil', 'EMIL', 'Bena', 'BENA', None, 2351, None, None, 'Kolín', 'Blatnička', None, None, 11000, None, 1, None, None, None, None, 91, '1187463301')\n",
      "('1icyYJRr8366DjQYyqdj/TTYUgGOuUSp6ck6NDaYLdQ6lU3sbdOjY6CKYEN5T6XuJ8mBowWJicz/4l0lrv0Y+AZetgmFuW0OoM7yEd+5evQ=', 0, '2000-01-01T00:00:00', None, 3, 35230494010, None, None, None, None, 'OFO', 2, None, None, None, None, '1353067925', None, 'Marie', 'MARIE', 'Hrubá', 'HRUBA', None, 3033, None, None, 'Hovězí', 'Komárov', None, None, 11000, None, 1, None, None, None, None, 59, '441625306')\n",
      "('2fa9YZ/g+IACqr1Etk+QIUPK51iiTwCA/t/nTw+U9RUmjfYorPLrzpPd46Bmj3C3tfw3cyOy5bx0ogGCOZ01eUctqHZQzXY903JlPvzPzlw=', 0, '2000-01-01T00:00:00', None, 3, 28727152010, None, None, None, None, 'OFO', 2, None, None, None, None, '231029337', None, 'Emil', 'EMIL', 'Šíma', 'SIMA', None, 7109, None, None, 'Hovězí', 'Komárov', None, None, 11000, None, 1, None, None, None, None, 19, '408129306')\n",
      "('3ZendyrB5RiGiS5emPZ8oWRhZZQOsLiOHI329ANsTWE3+RDPfNFmHeJzpKvspfBZpBX5RpwGNirjH3hlHeysozmb3+g52m7EfdnRYUR/iAA=', 0, '2000-01-01T00:00:00', None, 3, 55213756010, None, None, None, None, 'OFO', 2, None, None, None, None, '526216265', None, 'Kamila', 'KAMILA', 'Kubná', 'KUBNA', None, 7905, None, None, 'Ostravice', 'Jihlava', None, None, 11000, None, 1, None, None, None, None, 107, '701993306')\n"
     ]
    }
   ],
   "source": [
    "con = sqlite3.connect(temp_db)\n",
    "cur = con.cursor()\n",
    "\n",
    "for row in cur.execute(\"SELECT * FROM OPSUB order by ID LIMIT 10\"):\n",
    "    print(row)\n",
    "    \n",
    "con.close()"
   ]
  },
  {
   "cell_type": "markdown",
   "id": "induced-recorder",
   "metadata": {},
   "source": [
    "Je dobre vedet, ze identifikatory nemusime ziskavat z databaze, ale muzeme je take ziskat z testoveho souboru, kde je oddelovacem carka:"
   ]
  },
  {
   "cell_type": "code",
   "execution_count": 13,
   "id": "intermediate-respondent",
   "metadata": {},
   "outputs": [
    {
     "name": "stdout",
     "output_type": "stream",
     "text": [
      "['<v2:pOSIdent>uecJ/wWk2Ej6CAnwe3i0y0jfrp9Xr1oMVJ+9kLKpkU8trb/GSsJmcvNw7XJ0dzNpkKLYrpaxDPIVMKGKnG/ZMzSYtEOoqKGnRHhbt/PXjUr/RJzL4O5LlsS30GNP3Kka</v2:pOSIdent>', '<v2:pOSIdent>\\nVm+8vMmIsWsvcxR9zMDL9Cy+E0ZgHj9AJ3kwMqaLxguXn6wJcfM3e3LWpd7RzRxm3woikNUtGPF45crUFMpAsfsa/Bmx4YzTqTFCj0vhoQY=</v2:pOSIdent>', '<v2:pOSIdent>\\nT/sOfNBmULfA5GzBpJRYu3UWEwhw4PFYydRQSh7x1PSc4RTRLXYaXTfpbt2Da17zSJPbQDKce+cHMMQVCVBRj9+U8wwRYYTBTgLsWbpMpuY=</v2:pOSIdent>', '<v2:pOSIdent>\\nlWpFU3UmWlpSe8TtpUMRBCFflbRtrT1aEpzxnv1MEXnpCGhTicndBKbyJjsfMJMdgH+U78n9GU5DNm6bXxNhnC2JU2MIzwpJObcy4n2Baqk=</v2:pOSIdent>', '<v2:pOSIdent>\\nmDkas+QvEOd4+XBxuIW4Da3aEEdBAod5OJM/9la0ivdkMk7DTs9DqRZEI5Lc3wAC7Yb1sw4kp/JEFP3nnG2ZcPT36EJYO+EfrC0OlzewTfM=</v2:pOSIdent>', '<v2:pOSIdent>\\n7TsaZA7GFeEVxMscggvr2LkRAZwqfDywZ9HtkoX92fdNI/VFseD7SjfY8rJ7IlS7o2MG7D4mG56FZUTFOUWW7a5GeMmtDAasGLtodOgvIOA=</v2:pOSIdent>', '<v2:pOSIdent>\\nyqpT3s/QygUWqCsg/azKypTOTOuJdbjB/16kQv0m5uugaHFJh8Mtp2i7sCdt71GRZixdYAzCVqEa4mNgvEjDECGf0Fby1B2nv1NdlyFQPrg=</v2:pOSIdent>', '<v2:pOSIdent>\\nZ3anPBTLRy4YQTD0UgZkTJ+keVuWZ8j50lI8whQPyaERWuqwwnwsnvPL5JvmjhqosP5ukUJEFe29IEnCIx6/MSQ0jCVnAyGflCmCnQBnc3JQLWVD9vLnWZYbgp+9oL3r</v2:pOSIdent>', '<v2:pOSIdent>\\ni0/Tr+VNmKgY+wJydNVJbCob8vQemEnjdn3A2r2ffhs8dz4IHH2H2AVcFvTyEOe3ci6MD33ZHXqEu8Lr8L1xtG3SHwhy2TBVM3bEa6vFpMbxj5wBXmFfT/QAGRrOqWBN</v2:pOSIdent>', '<v2:pOSIdent>\\n/AOrBGOFR+4GtqsAvOXC/3kKd0OCEPBVRfEsIPHeW3CoGcU1dio8gmrulsH5/KEvySRvbRT2hlDOXICKukDLldMgNY5z+yASe8F1rqBlKug=</v2:pOSIdent>', '<v2:pOSIdent>\\n64R47PeqD9SONivn8apY/qS/R7c5HB4Kcspi7xTJQ/JEHuykf8DhEZkRu0tIEVUNebT4LReS4NpT7sLVj84cw28Q9+wjXt+/x2JjtAEmGXE=</v2:pOSIdent>', '<v2:pOSIdent>\\nVFeRVqNwKQBFgxQOxaZ+UgjgMcgMADjLdrzHMTbEwclFxqgs9t3xBpsdmDhI/4aKa+tB1aLiYxs9GsyTYs/0JDKijCfHmV9pgX8IGU8ZdZU=</v2:pOSIdent>', '<v2:pOSIdent>\\npsGq9l14Woi29AYN5bHwdwC87wvSZom/L3I4Zk0LvAsATwAP8q17DvfOHIVP1PBlsU62HDEQ2F9KrEQuMn7VsxJHRsJVeMt4csqpVGBdLlE=</v2:pOSIdent>', '<v2:pOSIdent>\\nr/e02ptfcJ47n0rUY4NM60V96i9TRBDzNvb0Oox6yc6r/hPZaaHjOnljer2s/LRzOHlsHXRQHzM7DZsv0yKUcOORST4FNI4NZ+UyfQyyNHs=</v2:pOSIdent>', '<v2:pOSIdent>\\nuecJ/wWk2Ej6CAnwe3i0y+kW/NYimRi8J+7s8zgxHjFk1FMvT1+D0nvIKB3fqgrM6+/2XCv0kK+v+nXd+qPYwyoCJAogwq6iFGknkmS8vrfvIQr91UD4QyB810rt9DMZ</v2:pOSIdent>', '<v2:pOSIdent>\\nVm+8vMmIsWsvcxR9zMDL9E25La0zWowZQlZKk5vSQG1LJ4kBn1mDiNLaqUVdAsKPl535A7Fv/zaD/G/9cTplaoWKT+jtRxS2PFJw4XGq1GM=</v2:pOSIdent>', '<v2:pOSIdent>\\n+VKfYaKhJDrRHUWeS2e7xMFjeFVGld3D7MQNJ3pNQwn6paZVLu4aptTG+3rV/4CH6Je07M62FoAKKSv7BtQoZOJE3v+Bvs1w3JvIpmp3XHY=</v2:pOSIdent>', '<v2:pOSIdent>\\nZ3anPBTLRy4YQTD0UgZkTHkUYllInO84rWOk+zs07TBd20Ra2IFnf3Ic1pvqwTJ4j/U9NKultmo1F7sxOjZtnD0ksgNyEsl0jnvLUzfg2vQLf6dTAXM7/DGLuxh4hB2N</v2:pOSIdent>', '<v2:pOSIdent>\\n5XEbVUHVfI6OxlRPfJGQH08MWzUrWyI0G5JzjcTctkvJ0+7+oEZRGw1UqRQJxAAlSPeBXsA2f1vQahL1Mzz3O0+nWVxX/eU1MlZCez76Zng=</v2:pOSIdent>', '<v2:pOSIdent>\\n8QZWq1vuQ1NdCHkoh0JT2yrdkFFF1Q1bTFCpV6D60lFdl1pJcHhzJmeuL2zy9SMS/6it4WN+kI9XCHcPfXzgdexxhbvzzNipBH/eOHJ4Ff0=</v2:pOSIdent>', '<v2:pOSIdent>\\ncc3RAb7ln/HyHThRavcVRV+IAWiXt818u3z1Kl1VAvu+PkDer08z6jVytkbTcfQfK4jgZU3InU1xMwNAIjyKC2tgH82r4aiVYJ0Xts4c928=</v2:pOSIdent>', '<v2:pOSIdent>\\nbWb6QEOjc94in0pmGSBFwc1p53D946H3Prwq/bTkaqYi2sQgdrHFIy4tdLPAToFlKYyoqqMTrCykz4cncmufjUTlN5Fv2jioYOS7QrQcIIg=</v2:pOSIdent>', '<v2:pOSIdent>\\nxEZvrXlG0ZciECwqZA8HsbWt75RX/lD/ZcWf66JG5RLO2PuDiQNOoBOotYJ9enDhS7kSs9iUDh+rDu+1YwBOxpO5XnyF6jCNutyCYEoLUfU=</v2:pOSIdent>', '<v2:pOSIdent>\\nm+o3Qoxrit4ZwyJIPjx3X788EOgtJieiZYw/eqwxTPERjsqLramxBhGoAaAnooYAliQoVBYy7Q7fN2cVAxsAoUoPFaReqsfYWOZJjMBj/6Q=</v2:pOSIdent>', '<v2:pOSIdent>\\nmSH6sS5yv6vA2jEOtyHeXaXIJpC2m0Ai56aKzsVmEphUNyjFQYgC8MOLnu3+3Zugm8JQW2AJqEJYcSiqXdPbnb/03PKgyNkYWaS876wv0tg=</v2:pOSIdent>', '<v2:pOSIdent>\\nxairWnG248pu7itR19AIT87mDFI8yY0K0ms7v/iDY679wQ4EN5bMhMPSTXxgWDxMWZ0IoV/ihjGkNMXeqXHrMZsEbHBTzD9RUIOXw5M1hmE=</v2:pOSIdent>', '<v2:pOSIdent>\\n4m3Yuf1esDMzbgNGYW7kvzjlaZALZ3v3D7cXmxgCcFp0RerVtxqo8yb87oI0FBCtp49AycQ5NNI3vl+b+SEa+8SfmGU4sqBPH2pX/76wyBI=</v2:pOSIdent>', '<v2:pOSIdent>\\nBBgBQ2wok0L43hEZUEeieq8FrrQsT1SHIrpQBRwgLw2uTvTsXvGloIYnr+7J2z6t/hadCsyhcbxgrf47ByzpbY5TjyiUPxyXhlS73MKArjs=</v2:pOSIdent>', '<v2:pOSIdent>\\nltTJU+/1imoqO4saz1ta1r88QGUxEkjRTfHUiC9Y9yfDKSM4c8soK/vz7bGd1JNwQPUiFayJQdLN0gPkusnnoNLo47RqbEoQxfg+eEuvTaQ=</v2:pOSIdent>', '<v2:pOSIdent>\\nOlVCtLEjQ+aNPyQNdT0JZOkkxvwl8t9DllRl/HiNx7G3QFyZnvKA4e2LBTSX+YuK41/rSMvAnm63ZeWPyZQCX77GuP1GZwwf2hVkKzVY/94=</v2:pOSIdent>', '<v2:pOSIdent>\\nKdSYyo8J1zUPVqxHUtY+tYA2w7krH9U+59hCYU8TXGZ06e74GGekPinyLtiSz+gO7ZmpWetCSaxvu1nXa6+t7w92wpqfa5jPpkfv5HF9MMA=</v2:pOSIdent>', '<v2:pOSIdent>\\n5wQRil9Nd5KIrn5KWTf8+sksZslnMqy2tveDvYPIsd1cd9qHYs1V9d9uZVwBEVe5Sknvonhh+FDiaYEJa+RdHM3VtvGsIqsc2Hm3mX0xYfs=</v2:pOSIdent>', '<v2:pOSIdent>\\nUKcYWvUUTpNi8flxUzlm+Ss5iq0JV3CiStJSAMOk6xHFQncZraFeO9yj8OGraKiDJ8eLB0FegdXYuyYWsEXiv2H9ws95ezlKNTqR6ze7aOnR3a7NWzWJfe+R5VHfU13+</v2:pOSIdent>', '<v2:pOSIdent>\\nzPeq/viI8Dc0WssYO5VehOjTUj56DHOZWa1xlp++U1pc3F9jjPz1HW8rJdMequ9zEx7xIDHlCx/IsD8a8BPdX+yiCBj00StHAPHWAtqcHFvwjy7CdLeuFD0zp1TjEdcO</v2:pOSIdent>', '<v2:pOSIdent>\\nneqUuNVqO4j95P+NofCPKPIcWOJ1hQxiesS35U7tpS5KjH0fp1KxFm4qg2mOxo1B9tYyUQ0h9pbupPj5SZjjkeIAxXxKQL/hKH6Gv+RdP9Y=</v2:pOSIdent>', '<v2:pOSIdent>\\nzmOpxLJr7ii9CZo8JeEAhgClKtzs1ceXtACvS1V+80Uc1kH72H2wy5S4RG8sAGkbieJQ7IHDFy/ECGWWT2S6P2XX6ro1wtt0Sd+mLUurtdo=</v2:pOSIdent>', '<v2:pOSIdent>\\nUtkReXE24+hFt9Wp0bqKaYyY33KnQa2tkYNOIzR5dX3tHpzIudf1PdyfuAk3LgW+SDOjAdZWRZHn6aFD70wBa53drIKBiauDp971QKRHkNI=</v2:pOSIdent>', '<v2:pOSIdent>\\nii1ts7FFbqpo6yGBWGh1nNwJ8KPd/r3oTspqIf5h3vGTL0+oAwxVIG7n/vOELjL/uM85aT73nK73OFf/bSE0HCue39afCq2/dnb0+mUK5iE=</v2:pOSIdent>', '<v2:pOSIdent>\\nOnlsGwGAyTMPH15d9slPGLnfnhCG0pWW2IOj8lYi1AH4ubiik8lSqSSIvsalxIrKosGumhXTt7L2Z2ACwuVNFgoNi73TlcpNBBc0cN1rKss=</v2:pOSIdent>', '<v2:pOSIdent>\\nXHIBU/Os4CXjIriHfhjuJO0uS39rj7Cy2QERR1czcuBGc2lACMqQJJiwhqdXTVwoW4SxN9cgeUOY1nZVY995vfB5ru7qdk8muvNCe3CiVhY=</v2:pOSIdent>', '<v2:pOSIdent>\\nYSaRmQMUJtP5iHcBKPfOwCiKbAtCp8RZipCWM3wZ80Yzo18EjnTv2qhxy4YVSdx9RO8OiiXxy2hnHoWZwuAfCe2MRCQ09xCpm860h96PJ+c=</v2:pOSIdent>', '<v2:pOSIdent>\\nWpAGVIbtrw3p6Ic2ebTbXCHRMiixdCrvRFjOmWfbY175W4yiHP977wTo+SjDkCRnj4bPrxqLgcTDPpUBgtpakXI4Gk6t5lXwkndYpeYdxYM=</v2:pOSIdent>', '<v2:pOSIdent>\\nKhrNZfOu3UPVx0J3V8kMtVcqVSFSyD+Bl36RJUmXBfZfTFlGs1kHrrVhQ+m8AausukIlJGbJT4rjpAS3KVbku0SEHTRoFTXs63g/KzuYMPOWGZA/zLKRqN2lri5KT9rM</v2:pOSIdent>', '<v2:pOSIdent>\\nFi39z7m2FANK18yYncVWlW+cvC+JYa5flvCbdjo098zCydH+J2lepB6T5n2ve32rOcJCIPVr9gZd5MMeKSZxV4iHZ1N5qhWpmnQeG9SSAiI=</v2:pOSIdent>', '<v2:pOSIdent>\\nf0Fq5zu50GTRnrkINyLmmzjlF0RlfZOIB+nHcY1TTKCVJp8Q4upKYUYSVH+du7e0ZUc6YnLuYv5d+MMEgFyBy/wzu07s/F/SDYadL4RiMAo=</v2:pOSIdent>', '<v2:pOSIdent>\\njal/5GuoZ+/s2QkvrawUhJRYZr6wjBtFT3a5YfFpLfO0Sl6HMqxe2WPzMAmQYk/+o12GBZTFDXRnpHAquQOJB056iYSc7j1gQ36LCXfNkZM=</v2:pOSIdent>', '<v2:pOSIdent>\\nxocTMRuuiHIYwNN3v/RUpBpHZy905k4PUg0ByBs5AzqPUwGEMZV0P7xQBT8fR3+kNaI8zNNbTVv6x3LUvHmHmVTjThyJeuHC/7wP5/mo67A=</v2:pOSIdent>', '<v2:pOSIdent>\\ngJpTEEtVTpfXe97BVKt4Q8yLgTdQVjd/jf9HRypwbxP78KrooS73YQ2tQB/FZOg0JTXtrjtxjFV/Da85vocyS8niP19J9aLOj6hkcMdkMvU=</v2:pOSIdent>', '<v2:pOSIdent>\\nwpKK2F/BDnPKTx2S67hQVNDpm2wmNvl0anJnjNlgo4F5qx4RrgDpqdvyvhX6GtBupYoe4qmEw+zYsdTzz5lnKcoWav/xx/M+SeFNjo/BNsU=</v2:pOSIdent>', '<v2:pOSIdent>\\n00ep7V5fFBZoFMeOfcAOPBscKT7cUf96ksQrbzLuHv6kaD1NuhTsK0HcNLOUqe1JHn4drSKMLh7ZdAtt31PQ3oHj/GzUX2/49MnBf4Pn8sMDILmxeD01QB1MOBNDiwcz</v2:pOSIdent>', '<v2:pOSIdent>\\ng4EDGsOOSJKaTbLxdmmIcrUR4mhCtvu8K0SaOirKDXThyTcRHMsRDPDDVecEEZojDvMdd2tNYHf9ZRTWUPZ55s7RZOKwjCjaZ3253sp2o5Rpc7dh9Z98jOjrs6OblWgG</v2:pOSIdent>', '<v2:pOSIdent>\\nMDJxuYEcvwdwAi1Fg0is3vLxW3+4Opqxo2QHH30oOjTHKcZwjBtbJuPJrahXNfx6u0gPfy/FXHrnd6CgFPzOeUsP8CyZp4aPqXuujusJtQo=</v2:pOSIdent>', '<v2:pOSIdent>\\no0V5H26cXD1+RFNrtHWDD0zU5x63vQJLGlSXS8kkA3UL0XWup5oJcHFBEuLVcCUX1iel3PuxUcPnb8WWpTVafVPi2ItACk8zpP1P6DSAKt7XSiTL8qbbdVgRG3Jr4xx5</v2:pOSIdent>', '<v2:pOSIdent>\\nPtV2GbyZOZzpReCKf7eFnEHMRgNOZurHPc7HmSOXedTGOUlZWbdQdEge3ntw5F5qUM0yxYVd6qCC94Wp9wBBf+PmTyMldFSgXIZQSXxzEvKDk4Rlb5RVPd3/wK8U7dxi</v2:pOSIdent>', '<v2:pOSIdent>\\ni0/Tr+VNmKgY+wJydNVJbAEoKVVLT5CWKh2IaOOt/DkY82KD5icsdkmX2r8jt6i2R4uFJbclmrmKl48ZothVU2QgjGz9VUNtC2DhLFcr9kdweJVbEwmvYXNLE877i1rq</v2:pOSIdent>', '<v2:pOSIdent>\\nGb3IKHXZw5X6rlulIcCK23PxwLIjWwpVJ+NmMn2LVCAAdOMsNIw99Wj+oEOpV2svsjAA3PnKnNPtoUVW5uhL8Ek0XXWoFgci8ON4FaVMWn8=</v2:pOSIdent>', '<v2:pOSIdent>\\ncWAf13LtjvC9SIY05qIFaSQHSGRCIQzTfhEmPSIUZobm1eyT5cJsbjcrrOjS0Y7pzW0qsdrRxZjARIR75Hn6G8cfZTeBfaQr2ZlhSUHwgJE=</v2:pOSIdent>', '<v2:pOSIdent>\\n3ZendyrB5RiGiS5emPZ8oWNjHWvf4gnZwC3wOT5mHMVmj1CEi3h2RT2gfXehYCW5Q7fy6NnxmwuKoC1H0OAhkkLc0mjwmi1/30c1rjFXYYk=</v2:pOSIdent>', '<v2:pOSIdent>\\nhkL5rQrRg4S5vLOBt4eIJMH3f1dVEqQxppM6HXUycr7U92StiHMZK1O2Soojg8XVVDCiqcHHvXNrRM4OLr+bhJd/THXMrEXrQXCiWwzTfn0eEW8U0ybR6NIv23IajUcy</v2:pOSIdent>', '<v2:pOSIdent>\\nUyRKGvNtD3RY7g1F6Oa/uZlmVktYzq9DowCaf2G7S/DU4xqlwujkJt/rPQPJoGivDKNrkbcZimcyKODASYTkYl+rGI/T9ILChHaTAbo2cLs=</v2:pOSIdent>', '<v2:pOSIdent>\\nYmUx0yovmm7KUEMHfNDNpiZVsvpwj5TrY3BCRzo+N9KLgZYTPcp5ABehNBgXe90pWkP4jYlt0wx9d0ui4i1bOkTjM2x4IIq2Bb3JsXHLobk=</v2:pOSIdent>', '<v2:pOSIdent>\\n+lQ0Ne+Jhd5K4uvds1/KT+SoaUhcpe1+ZoJKKMLrUmSyykxy3MKi9YeNZUYXhSMnXYQ8W/+yhfD5tLrIwBk/UFuKXKNEzHsjLqyn2YW6FLA=</v2:pOSIdent>', '<v2:pOSIdent>\\nVdYFVbm+86uuL5NZSDUP9B6cir7Xv4B8yBq4uyvpXnl2SVIkIxXrgKytXjTG4nclE544LXjUTUEyG+7GGesvVouHHIKYKG4/QCA0b6TjzHdTDQPtElWKQG9oNFSTotz9</v2:pOSIdent>', '<v2:pOSIdent>\\n078yf28ANhKnYAoAfBZk6JcosYVuqw7Yur4O034D43mbGXGpgII10W2QLyyuxsOAARlsy6LTNYDEacOqFFowB/Kbi/ElbNuLIdgSI8LvNws=</v2:pOSIdent>', '<v2:pOSIdent>\\nl0raZybOozQ95JWgTnaQpriuB4IxZLBXsNS0PZc4m4mf2qd7Z6ptcR5PkHuuXd5+kAH4YpDzoTVjje+lNAOYwVa5XHkcvzSzIpfTh3xeh28=</v2:pOSIdent>', '<v2:pOSIdent>\\niiEV2WxdTX+t1nEWFd7yaWGSs/1WFFuXs7FsGU21vkbRogegVoZWZ3XwMevF4edj0+sFlw15Xgpiy7gkMbOkGDtM9soLBAzFvOeXxhA5Kis=</v2:pOSIdent>', '<v2:pOSIdent>\\nyqpT3s/QygUWqCsg/azKys4eH9HgnrneCkf7s+5tCU4mVzAufrzub/yozz5Gc2JR9wRbCuULZtXowmjdJrpsEWytWFuspwxNfjSjxjkXSrE=</v2:pOSIdent>', '<v2:pOSIdent>\\nPJyPFR97UAJxoBdlsmjsH2lYpXkQdAlKKYf4n14XlqObPe2HoVuj+7irPlYgLJ63yyoYu1WTgQCzIRN5zTidnlzGKoQwAsXgVf7OoVLDMXY=</v2:pOSIdent>', '<v2:pOSIdent>\\nhMFmuv9xLKl7itElRb+ABBQSe9e3YJv1JmgYgNNx/Zxik1+9gaw7k6+CyNNieO75vkz6GryN+q7Y91m6bhJC+gZd+rlhbb2Lr8Q+2+2Njko=</v2:pOSIdent>', '<v2:pOSIdent>\\ntTP8WqxRGv8mdc7niazOGc1oh+0r8VFk1T/rJOlck3VbSuO1IUl/pmSid6VnbC94ZpLjuwdQ/Szb3VycnIQDr8mvlMPH6crz88lYOh4V9bs=</v2:pOSIdent>', '<v2:pOSIdent>\\nT/sOfNBmULfA5GzBpJRYu6wczeEqY9PMiEJqjItJfphE+kk1gEdpA1tlCs0gT8mb1fgDE/YnGLHDNRItCnghcpz4Dbmk2+GeI8bSjwge2qc=</v2:pOSIdent>', '<v2:pOSIdent>\\n8bg+CXEGHarWp2oK+IfpUXXC5BvZO12PH+U352KGNy+N0ZHFb84S7pLdoqfRQ3bNvSAogey9XN0Sr9I2OoFXbj0wJIS+4Nyjvrj4DTVFdzU=</v2:pOSIdent>', '<v2:pOSIdent>\\nhYx9AoiwOYp3PeBhp6IQjyvNz0590N4tVxxt4Ob1B+1lDtTcpIC+hZ4stOeByd0oshTNPdZhJ3wjsXK2iFX25K5TefyzatRwCZuaRbUPiYQ=</v2:pOSIdent>', '<v2:pOSIdent>\\nhf/HqLIgE7zvLimKwDjWOfjFObH65Ev2HjkDcfkBe/OAfifJgNjyAMVZ8fnkAddPJa35+4hF2TtO3ZH9RXwOuX02JSvq98F1JS8dTeHodSw=</v2:pOSIdent>', '<v2:pOSIdent>\\n/AOrBGOFR+4GtqsAvOXC/4/EdRYW1Pg4L2FnKGmxEh9oexYYBufF/4KX/WLHKnQkxHBgMF+Qi59bG7ovKTlz3Y59mp99CZpeWh80QDBNfHU=</v2:pOSIdent>', '<v2:pOSIdent>\\ncD+k5i82mTXjR9/pvMQbIClTVirVdMujPFoun2TvULw5kKba2m5j1c8Si2ZRWLeI3XPIi2Wbw2UgBgJ0IRwhc3RdyjQd57PKqEl1Kl2HrY8=</v2:pOSIdent>', '<v2:pOSIdent>\\nbALPx2GbQF+oclIHg6WmRSZlDOCgT8jgUA75/sodRn3WrbsvW2UjSy8WzAZDzQDEy8Xnh78MYgflB3bj7YN4dIB1Yl5umc8Wl1eodzK1ZUM=</v2:pOSIdent>', '<v2:pOSIdent>\\nSdB2fyORYqWU8StQGFHcfvYir+Sjaxqfkcnyvk4cGjZ30Kj4YZ2FTOmo8MbotRrNy+Gf/83eb+QkCaDd+xSlLxzP6qnOTnMEeyvmr0cxDp4=</v2:pOSIdent>', '<v2:pOSIdent>\\nYoYw5r0/dk0UgEcID286wyQoY9cYdelOnpMEw2kswF0+qpp0DyC/+ij1wekQvg84ZZETwTFw9G7RKH3Wb6G97nVHfPhskJTtMnd1IKQGcCc=</v2:pOSIdent>', '<v2:pOSIdent>\\nJjjGmmAuY2r+vgvGvpKNjGj30sAn/jfyy4VRzGFA6QysdFCfcFuMPK1N2YcxO8pu/nHtFbxi62dbIC9/f5Xbf67p6PntcVdz3Njn02Zujks=</v2:pOSIdent>', '<v2:pOSIdent>\\nJ0XZSVcq2fC4+FYE6P3FVhjjdLoUMrXTnmHfq9YPbYL2Sy/OihinBEBbGBx2VP90+7mcr81PbIESLtfgWfnlEVVSseNSYUN2Fmvcx/g9RSY=</v2:pOSIdent>', '<v2:pOSIdent>\\nfwdsUaxtVKyjWdhcx8QMuw9Ywtvv9T55lhMla7w7AqtdQBL8kYMvxsvyv2pGn0A1M79SXoEor2kfVEGyT/tMYSSzTkqHENa5JAlZLtSqcd0=</v2:pOSIdent>', '<v2:pOSIdent>\\nQbLYFV/XGTZN3skq8A77ix3mqWspwj1bx9mWIFb+9Drc2fTo29JCC9h7uRIycIqx7llS+zpJOC1kdeC4hjPPBw0eLJ2YChT/PxdLHvpKjJM=</v2:pOSIdent>', '<v2:pOSIdent>\\ntbRykjyqj07e8OWkHFm+S1OvUPG6vuZGceZ0IFELhbU2EA2Rm6d/m5PDLlCPOb7vif0m5S6qwsxdcIk9kObst/mA+vXsZUAKfRaE0BHtF+w=</v2:pOSIdent>', '<v2:pOSIdent>\\nlWpFU3UmWlpSe8TtpUMRBPQE91GjOWt5dwYrq3BYv1VmNVQmmMkfgclvHOwVt+vUYmvV8Jg7276degQYlGOTjx4MvKz7InL/vha7OdnK/ds=</v2:pOSIdent>', '<v2:pOSIdent>\\nmDkas+QvEOd4+XBxuIW4DZGMdtqcgFxXBhQwcde+qtDsqRCpcCO5IEm4bTIZwf6AaJxw7SF4xoE4O0yfMaYhvuqHmIIdfWEsezkGRWjvmEE=</v2:pOSIdent>', '<v2:pOSIdent>\\n/ipU68hnjrq1J7ZDi4JBaGloYLaxU2mef3KLjZzjxz2UCbQw6jKGZ3X3HXGtziAstJSprCrlMgZN3Uqzzfho1wdlRhrBG3VMEzJpGcTTJIY=</v2:pOSIdent>', '<v2:pOSIdent>\\niXuo5APMiSDKHjvq6Zwp44oI+zSW2dJp1WO+ScrzhO83x2LP0xReVbUceB6YI8I0lgRGkgJAApxqYItDSrcf0cEMHzTvBWn9CvzjrUnP4BI=</v2:pOSIdent>', '<v2:pOSIdent>\\na4uuL5087aAkDOdoVblOSpnublyTjoEvmTpBX7Z8gPk1cGEle+QheYUlCQhk4t3eUJ9wXdFPjvoZpGlFdZLK/STQrznCV8C9jtMUrL8uTAo=</v2:pOSIdent>', '<v2:pOSIdent>\\nFxrmEj8jkUJ9rfUt8DkkVBItIvFwDlq41Bvzt6ji48briBAIRwe5PyqsuZasgTCtBr83sfercJwpbxvo2P8T3dbCVN3Y/Q7NlDuKZGBZAiw=</v2:pOSIdent>', '<v2:pOSIdent>\\nW6gjRuthAEnH1o8Yu7Zc0lU7Ne+Mmfpg8+t+ghUjFk/BaNpxiouTj4ew6Ah/Le/GzncymEagoNVQ5iO4tmhm2i+bCsUV6pZxrteUXG/9Eos=</v2:pOSIdent>', '<v2:pOSIdent>\\nSI/WjbMksk0HBoUSFb0r0LFcki6En0o0qty8c0tKvSLvY2C9ASQ5pIAtmrtABQ9MfTbyuyFuYkaiCP0I2ahBZ0WSg0y/SpNfiMF4AEdpO1U=</v2:pOSIdent>', '<v2:pOSIdent>\\nJsnHnHK89vL/0oCWFbmIwxHsrg33nfyoQyL4Sr+WIs+smhahF6Txbsa6ELK8FePO29itgICQYef3LIcbGaZ6hXzQUGQ2yv8uE/qYKr85LW0=</v2:pOSIdent>', '<v2:pOSIdent>\\n2fa9YZ/g+IACqr1Etk+QISpL9d6xAgGv9ehh//G5wYmpTgw6ScosOMoO/XrMQ4/iueoE5gO1XXg3Vz6jMrCTmMnpC0VsacjJTkTo2imP8HY=</v2:pOSIdent>', '<v2:pOSIdent>\\nAGLNrRX8gxMGgFxc57odWbW7lZAZ3DlvsladWARuDv7Zi1Poz4co7b/ot5Z2+AWpAU1s9mkzgMUZN8rAFg9WLOHcg3hBokJHEsSAI8Dax2o=</v2:pOSIdent>', '<v2:pOSIdent>\\nH6BJyag+3cV1xBsFPBuuihKMV3FTZPvigGGrAIyKIzYLF0J+l0kwXVnm3N02HPgKItlNiQSIgQIQxurjJybiEpdqqTrMLwh9t+n6MjvqrdeiPh/Vwhqo1hkMjUQv2bij</v2:pOSIdent>', '<v2:pOSIdent>\\nCVikHowKhw3xouJMIqJHZIJldi4KNwh2MqLwGlz6pZfeZEuAqImRKclv4tzj3E6IijNd7ExcpF9alNkD6KhfOWxkqfbE330Uei9IP6cgDao=</v2:pOSIdent>', '<v2:pOSIdent>\\nYm8cWfYJCf8Urrv3bW6nwUJcPxszDeucSbn9lU5+t41cWxO0MJJmfGVLRQOiD53jxQw0XApjpkmZ9RvnRv1X4Enlt5jCuLBahK7jh9uEgqA=</v2:pOSIdent>', '<v2:pOSIdent>\\nOSAJs7W4HqDew0srlaev6cggRYA9XQN/hVCKCKcmOXMThdUC8W95OXy/OA35RPRz4YJ5x8R39Y9858GBd72Y3pyrxFTDG1KtKb4J/9RAI8g=</v2:pOSIdent>', '<v2:pOSIdent>\\nDqJj5oG/KEn8Q/Q6Kyh4kNL7mPwgFg6S+Yi63kGy/5ol+Uqj2BZpc8nCc8uH3y9+DKLwSpEk5gM3DCzsif4SXOm+DKU2UC8b4NAIkPxVLpk=</v2:pOSIdent>', '<v2:pOSIdent>\\n4/09lLuaNar2b8ZrhcyqhRguh9EZlg6A8BQAVrGyBmdPFmt5PhslylS73oJ7lpblpUz4iDC4vpG9TMNAwhp++lxDwmOSNYgeTwNTay67NZU=</v2:pOSIdent>', '<v2:pOSIdent>\\n7TsaZA7GFeEVxMscggvr2EG+8r/pXVdcDn7S2vS29MHabTM0tqR/K36WPbgSvqBoMVzP0gz+zwEP7aOjLhzYHMBz/4Ns8o81ucLVl5L2/gg=</v2:pOSIdent>', '<v2:pOSIdent>\\nMkyPxftPwByPP/3T9U6meYJvFAKaOkLg1Yeb3NC/2tD4q38qMCbbk69kMm/+vdJuCZ23RFqmx4r7dC9prpbmxcl9+bqGfig/XhtBGcFyX2s=</v2:pOSIdent>', '<v2:pOSIdent>\\n4fX93lhUET5sT1ayzq9OpWkFMsp9IkEofA0fKB9jtwjjFYth2WXcp0Aem2/YpkKn0TJwafOxs5YSmazihYiRSaQXLrS15o/qS57TCNmiouY=</v2:pOSIdent>', '<v2:pOSIdent>\\nNezMzNG/s2Rz33QBJ/J9xIS5H5rcgALTE8bz+JRxG+KqGjDmJlq8PfV4tAXcmZpOZ8H/8gt+t++pWd93xCDTnzBtt7TP71CgsH+4N2lAcIE=</v2:pOSIdent>', '<v2:pOSIdent>\\n1fvxg03sxZo/hSaLM7LwwzPzvtkdzyRLjYspEuCC+awOIAFINH4xC+KRipTeMQNwcFkp5pbcdGhi4ejqP4L73huK+9/JDI+t2KpMlMd+7P4=</v2:pOSIdent>', '<v2:pOSIdent>\\nnG1j9b9eZx7u/iGrTPtgGePfhWWldw22wD4ynssUN3MYreT+lZ0q3WIhligNFOfi1jc47DNgBXjJH9v0wWkE2rkqjwGUWeyajidK7XJ9D0E=</v2:pOSIdent>', '<v2:pOSIdent>\\nxJxa+PcfvdT7SIrl7ltvSLR9Gc02gmxfQM6N53Xg8XYeGNQt5/cNEvvRpk23FqLLoEwKXXOPT2nV5rlmO/lPRK0stI1BJ4ZdE5zniQ2o27E=</v2:pOSIdent>', '<v2:pOSIdent>\\nJ3hMa2yksIRcQaD51HVTH+jS6j5wtxaR6cY07AtCyzfPodl4RihHKtq7xR48gK3mVcb8pO6sgb3rj64dQNtC6xMl6HfQdAgDKcMY3lDACik=</v2:pOSIdent>', '<v2:pOSIdent>\\nzjQFHCstHaYtYTIi9hORZUM4ucW4T93nNHc3Aj1piEqlTAwaqOMzj0lwDvjBQoHXplVNBSuOcc8cQlQYrootj85RzLOmVbNSlmYacWXtc8s=</v2:pOSIdent>', '<v2:pOSIdent>\\n3aW3srZ5a3T/ChIj+sdMrF81zkfWFxeK5DhVUrSKTbBw46gylbdXXNV7mRSar07Y0XbZHNg1LpXhwc+5A6FgFZYImS+T8qNt9to4LMMoJJM=</v2:pOSIdent>', '<v2:pOSIdent>\\nq4ZUhGQGivshfEEsiHkiC/Z/WMhqXqfp2rjvYC3QPEo2tq4scG+gserbW/RD4b6Ak8/l5BZVYmFigZPKPnuE8FdABd+xHvj6UtvBAGftfu0=</v2:pOSIdent>', '<v2:pOSIdent>\\n1icyYJRr8366DjQYyqdj/RsgzSmUUODcxzYRO/yxkVQLtSyllEbwVT5rDfIENIv3DHuzcyCJmYTDoZYdeQTAP0K8dHlwqEQlqc8S7EEQRzE=</v2:pOSIdent>', '<v2:pOSIdent>\\nKT0rdHsWxrS4WVWKRhvDWF4wohAl7ptbymQtM7+Oce8Dh4qUSBxwaQjCUwVJObc8w7k7HygPHU++poV/JZY1guHPI5CVtwc7uFVekn8Uifk=</v2:pOSIdent>', '<v2:pOSIdent>\\nEGgfRTDVb68syXhEmpfl6VyVfGFM/wOpgHUxqfmd7w/pW/n27IKW7NykhMIZDxPcCW6Koph/c0hRt9aBD0hZI6QAnDoYU00riM14VbzHgdc=</v2:pOSIdent>', '<v2:pOSIdent>\\nY+s9bH0/ld/NLE4dOgaHgpP8aqkP5KFqTnXre6aAZmh3p+E/w0+ZN8JSfT34toCMfo+veVuowB7N2RwNhxIPuIBx18KRsX47xEO2jxrL02A=</v2:pOSIdent>', '<v2:pOSIdent>\\nrPKv7V+fiEfstUB0S6cpEQi7IBT2muAaLzF23+kw5m7LvXnqZ4Uery1yyng1sNRncVlCHAPH8HouHZ0CM4SI40RF6O1dwwbVUuhOpgBxtDs=\\n</v2:pOSIdent>']\n"
     ]
    }
   ],
   "source": [
    "txt_path = os.path.join(module_path, 'services', 'ctiOS', 'data', 'input', 'ctios_all.txt')\n",
    "posidents = ctios.get_posidents_from_txt(txt_path)\n",
    "print(posidents)"
   ]
  },
  {
   "cell_type": "markdown",
   "id": "considerable-hardwood",
   "metadata": {},
   "source": [
    "Nebo je muzeme rovnou inicializovat jako seznam, ktery predame jako argument do funkce ctios.process()."
   ]
  }
 ],
 "metadata": {
  "kernelspec": {
   "display_name": "Python 3",
   "language": "python",
   "name": "python3"
  },
  "language_info": {
   "codemirror_mode": {
    "name": "ipython",
    "version": 3
   },
   "file_extension": ".py",
   "mimetype": "text/x-python",
   "name": "python",
   "nbconvert_exporter": "python",
   "pygments_lexer": "ipython3",
   "version": "3.6.9"
  }
 },
 "nbformat": 4,
 "nbformat_minor": 5
}
