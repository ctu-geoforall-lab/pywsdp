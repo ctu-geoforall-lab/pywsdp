{
 "cells": [
  {
   "cell_type": "markdown",
   "id": "weird-recipe",
   "metadata": {},
   "source": [
    "# Modul CtiOSJson"
   ]
  },
  {
   "cell_type": "markdown",
   "id": "incredible-arena",
   "metadata": {},
   "source": [
    "Nejdrive naimportujeme knihovny:"
   ]
  },
  {
   "cell_type": "code",
   "execution_count": 1,
   "id": "organizational-metropolitan",
   "metadata": {},
   "outputs": [],
   "source": [
    "import os\n",
    "import sys\n",
    "import sqlite3\n",
    "\n",
    "# Moduly jsou v jinem adresari, je tedy nutne tento adresar pridat do sys.path\n",
    "module_path = os.path.abspath(os.path.join('../../'))\n",
    "if module_path not in sys.path:\n",
    "   sys.path.append(module_path)\n",
    "\n",
    "from modules.CtiOS import CtiOS"
   ]
  },
  {
   "cell_type": "markdown",
   "id": "tutorial-space",
   "metadata": {},
   "source": [
    "Pote nadefinujeme parametry nutne pro inicializaci knihovny:"
   ]
  },
  {
   "cell_type": "code",
   "execution_count": 2,
   "id": "based-russian",
   "metadata": {},
   "outputs": [
    {
     "name": "stdout",
     "output_type": "stream",
     "text": [
      "ctiOS->ctiOSJson\n",
      "/home/linwe/pywsdp/data/input/ctios_template.json\n",
      "['<v2:pOSIdent>m+o3Qoxrit4ZwyJIPjx3X788EOgtJieiZYw/eqwxTPERjsqLramxBhGoAaAnooYAliQoVBYy7Q7fN2cVAxsAoUoPFaReqsfYWOZJjMBj/6Q=</v2:pOSIdent><v2:pOSIdent>mSH6sS5yv6vA2jEOtyHeXaXIJpC2m0Ai56aKzsVmEphUNyjFQYgC8MOLnu3+3Zugm8JQW2AJqEJYcSiqXdPbnb/03PKgyNkYWaS876wv0tg=</v2:pOSIdent><v2:pOSIdent>xairWnG248pu7itR19AIT87mDFI8yY0K0ms7v/iDY679wQ4EN5bMhMPSTXxgWDxMWZ0IoV/ihjGkNMXeqXHrMZsEbHBTzD9RUIOXw5M1hmE=</v2:pOSIdent><v2:pOSIdent>4m3Yuf1esDMzbgNGYW7kvzjlaZALZ3v3D7cXmxgCcFp0RerVtxqo8yb87oI0FBCtp49AycQ5NNI3vl+b+SEa+8SfmGU4sqBPH2pX/76wyBI=</v2:pOSIdent><v2:pOSIdent>BBgBQ2wok0L43hEZUEeieq8FrrQsT1SHIrpQBRwgLw2uTvTsXvGloIYnr+7J2z6t/hadCsyhcbxgrf47ByzpbY5TjyiUPxyXhlS73MKArjs=</v2:pOSIdent><v2:pOSIdent>ltTJU+/1imoqO4saz1ta1r88QGUxEkjRTfHUiC9Y9yfDKSM4c8soK/vz7bGd1JNwQPUiFayJQdLN0gPkusnnoNLo47RqbEoQxfg+eEuvTaQ=</v2:pOSIdent><v2:pOSIdent>OlVCtLEjQ+aNPyQNdT0JZOkkxvwl8t9DllRl/HiNx7G3QFyZnvKA4e2LBTSX+YuK41/rSMvAnm63ZeWPyZQCX77GuP1GZwwf2hVkKzVY/94=</v2:pOSIdent><v2:pOSIdent>KdSYyo8J1zUPVqxHUtY+tYA2w7krH9U+59hCYU8TXGZ06e74GGekPinyLtiSz+gO7ZmpWetCSaxvu1nXa6+t7w92wpqfa5jPpkfv5HF9MMA=</v2:pOSIdent><v2:pOSIdent>5wQRil9Nd5KIrn5KWTf8+sksZslnMqy2tveDvYPIsd1cd9qHYs1V9d9uZVwBEVe5Sknvonhh+FDiaYEJa+RdHM3VtvGsIqsc2Hm3mX0xYfs=</v2:pOSIdent><v2:pOSIdent>UKcYWvUUTpNi8flxUzlm+Ss5iq0JV3CiStJSAMOk6xHFQncZraFeO9yj8OGraKiDJ8eLB0FegdXYuyYWsEXiv2H9ws95ezlKNTqR6ze7aOnR3a7NWzWJfe+R5VHfU13+</v2:pOSIdent>']\n",
      "('WSTEST', 'WSHESLO')\n",
      "/home/linwe/pywsdp/services\n",
      "/home/linwe/pywsdp/services/ctiOS\n",
      "ctiOSJson\n",
      "ctiOS\n",
      "/home/linwe/pywsdp/services/ctiOS/config/settings.ini\n",
      "/home/linwe/pywsdp/services/ctiOS/config/ctiOS.xml\n",
      "{'content_type': 'text/xml;charset=UTF-8', 'accept_encoding': 'gzip,deflate', 'soap_action': 'http://katastr.cuzk.cz/ctios/ctios', 'connection': 'Keep-Alive', 'endpoint': 'https://wsdptrial.cuzk.cz/trial/ws/ctios/2.8/ctios'}\n"
     ]
    }
   ],
   "source": [
    "ctiOS = CtiOS()\n",
    "json = os.path.join('../', module_path, 'data', 'input', 'ctios_template.json')\n",
    "ctiOS.nacti_identifikatory_z_json_souboru(json)\n",
    "\n",
    "print(ctiOS.ctios)\n",
    "print(ctiOS.ctios.parameters)\n",
    "print(ctiOS.ctios.xml_attrs)\n",
    "print(ctiOS.ctios.credentials)\n",
    "print(ctiOS.ctios.modules_dir)\n",
    "print(ctiOS.ctios.service_dir)\n",
    "print(ctiOS.ctios.service_name)\n",
    "print(ctiOS.ctios.service_group)\n",
    "print(ctiOS.ctios.config_path)\n",
    "print(ctiOS.ctios.template_path)\n",
    "print(ctiOS.ctios.service_headers)"
   ]
  },
  {
   "cell_type": "markdown",
   "id": "dimensional-cream",
   "metadata": {},
   "source": [
    "Zavolame knihovnu a zpracujeme dane posidenty do formy slovniku:\n"
   ]
  },
  {
   "cell_type": "code",
   "execution_count": 3,
   "id": "imported-disorder",
   "metadata": {},
   "outputs": [
    {
     "name": "stderr",
     "output_type": "stream",
     "text": [
      "CtiOS        - INFO     - POSIDENT m+o3Qoxrit4ZwyJIPjx3X788EOgtJieiZYw/eqwxTPERjsqLramxBhGoAaAnooYAliQoVBYy7Q7fN2cVAxsAoUoPFaReqsfYWOZJjMBj/6Q= EXPIROVANY IDENTIFIKATOR\n",
      "CtiOS        - INFO     - POSIDENT mSH6sS5yv6vA2jEOtyHeXaXIJpC2m0Ai56aKzsVmEphUNyjFQYgC8MOLnu3+3Zugm8JQW2AJqEJYcSiqXdPbnb/03PKgyNkYWaS876wv0tg= EXPIROVANY IDENTIFIKATOR\n",
      "CtiOS        - INFO     - POSIDENT xairWnG248pu7itR19AIT87mDFI8yY0K0ms7v/iDY679wQ4EN5bMhMPSTXxgWDxMWZ0IoV/ihjGkNMXeqXHrMZsEbHBTzD9RUIOXw5M1hmE= EXPIROVANY IDENTIFIKATOR\n",
      "CtiOS        - INFO     - POSIDENT 4m3Yuf1esDMzbgNGYW7kvzjlaZALZ3v3D7cXmxgCcFp0RerVtxqo8yb87oI0FBCtp49AycQ5NNI3vl+b+SEa+8SfmGU4sqBPH2pX/76wyBI= EXPIROVANY IDENTIFIKATOR\n",
      "CtiOS        - INFO     - POSIDENT BBgBQ2wok0L43hEZUEeieq8FrrQsT1SHIrpQBRwgLw2uTvTsXvGloIYnr+7J2z6t/hadCsyhcbxgrf47ByzpbY5TjyiUPxyXhlS73MKArjs= EXPIROVANY IDENTIFIKATOR\n",
      "CtiOS        - INFO     - POSIDENT ltTJU+/1imoqO4saz1ta1r88QGUxEkjRTfHUiC9Y9yfDKSM4c8soK/vz7bGd1JNwQPUiFayJQdLN0gPkusnnoNLo47RqbEoQxfg+eEuvTaQ= EXPIROVANY IDENTIFIKATOR\n",
      "CtiOS        - INFO     - POSIDENT OlVCtLEjQ+aNPyQNdT0JZOkkxvwl8t9DllRl/HiNx7G3QFyZnvKA4e2LBTSX+YuK41/rSMvAnm63ZeWPyZQCX77GuP1GZwwf2hVkKzVY/94= EXPIROVANY IDENTIFIKATOR\n",
      "CtiOS        - INFO     - POSIDENT KdSYyo8J1zUPVqxHUtY+tYA2w7krH9U+59hCYU8TXGZ06e74GGekPinyLtiSz+gO7ZmpWetCSaxvu1nXa6+t7w92wpqfa5jPpkfv5HF9MMA= EXPIROVANY IDENTIFIKATOR\n",
      "CtiOS        - INFO     - POSIDENT 5wQRil9Nd5KIrn5KWTf8+sksZslnMqy2tveDvYPIsd1cd9qHYs1V9d9uZVwBEVe5Sknvonhh+FDiaYEJa+RdHM3VtvGsIqsc2Hm3mX0xYfs= EXPIROVANY IDENTIFIKATOR\n",
      "CtiOS        - INFO     - POSIDENT UKcYWvUUTpNi8flxUzlm+Ss5iq0JV3CiStJSAMOk6xHFQncZraFeO9yj8OGraKiDJ8eLB0FegdXYuyYWsEXiv2H9ws95ezlKNTqR6ze7aOnR3a7NWzWJfe+R5VHfU13+ EXPIROVANY IDENTIFIKATOR\n",
      "CtiOS        - INFO     - Pocet dotazovanych posidentu: 10\n",
      "CtiOS        - INFO     - Pocet pozadavku do ktereho byl dotaz rozdelen: 1\n",
      "CtiOS        - INFO     - Pocet uspesne stazenych posidentu: 0\n",
      "CtiOS        - INFO     - Neplatny identifikator: 0x\n",
      "CtiOS        - INFO     - Expirovany identifikator: 10x\n",
      "CtiOS        - INFO     - Opravneny subjekt neexistuje: 0x\n"
     ]
    },
    {
     "name": "stdout",
     "output_type": "stream",
     "text": [
      "{}\n"
     ]
    }
   ],
   "source": [
    "vysledek = ctiOS.zpracuj_identifikatory()\n",
    "print(vysledek)"
   ]
  },
  {
   "cell_type": "markdown",
   "id": "serial-samoa",
   "metadata": {},
   "source": [
    "Muzeme si vsimnout ze jsme pravdepodobne pouzili stary soubor, jelikoz posidenty jsou expirovane. Zkusime tedy obstarat aktualni data a nyni uz se dobereme vysledku:"
   ]
  },
  {
   "cell_type": "code",
   "execution_count": 4,
   "id": "artificial-eating",
   "metadata": {},
   "outputs": [
    {
     "name": "stdout",
     "output_type": "stream",
     "text": [
      "ctiOS->ctiOSJson\n",
      "/home/linwe/pywsdp/data/input/ctios_template2.json\n",
      "['<v2:pOSIdent>uecJ/wWk2Ej6CAnwe3i0y0jfrp9Xr1oMVJ+9kLKpkU8trb/GSsJmcvNw7XJ0dzNpkKLYrpaxDPIVMKGKnG/ZMzSYtEOoqKGnRHhbt/PXjUr/RJzL4O5LlsS30GNP3Kka</v2:pOSIdent><v2:pOSIdent>uecJ/wWk2Ej6CAnwe3i0y0jfrp9Xr1oMVJ+9kLKpkU8trb/GSsJmcvNw7XJ0dzNpkKLYrpaxDPIVMKGKnG/ZMzSYtEOoqKGnRHhbt/PXjUr/RJzL4O5LlsS30GNP3Kka</v2:pOSIdent><v2:pOSIdent>Vm+8vMmIsWsvcxR9zMDL9Cy+E0ZgHj9AJ3kwMqaLxguXn6wJcfM3e3LWpd7RzRxm3woikNUtGPF45crUFMpAsfsa/Bmx4YzTqTFCj0vhoQY=</v2:pOSIdent><v2:pOSIdent>T/sOfNBmULfA5GzBpJRYu3UWEwhw4PFYydRQSh7x1PSc4RTRLXYaXTfpbt2Da17zSJPbQDKce+cHMMQVCVBRj9+U8wwRYYTBTgLsWbpMpuY=</v2:pOSIdent><v2:pOSIdent>lWpFU3UmWlpSe8TtpUMRBCFflbRtrT1aEpzxnv1MEXnpCGhTicndBKbyJjsfMJMdgH+U78n9GU5DNm6bXxNhnC2JU2MIzwpJObcy4n2Baqk=</v2:pOSIdent><v2:pOSIdent>mDkas+QvEOd4+XBxuIW4Da3aEEdBAod5OJM/9la0ivdkMk7DTs9DqRZEI5Lc3wAC7Yb1sw4kp/JEFP3nnG2ZcPT36EJYO+EfrC0OlzewTfM=</v2:pOSIdent><v2:pOSIdent>7TsaZA7GFeEVxMscggvr2LkRAZwqfDywZ9HtkoX92fdNI/VFseD7SjfY8rJ7IlS7o2MG7D4mG56FZUTFOUWW7a5GeMmtDAasGLtodOgvIOA=</v2:pOSIdent><v2:pOSIdent>yqpT3s/QygUWqCsg/azKypTOTOuJdbjB/16kQv0m5uugaHFJh8Mtp2i7sCdt71GRZixdYAzCVqEa4mNgvEjDECGf0Fby1B2nv1NdlyFQPrg=</v2:pOSIdent><v2:pOSIdent>Z3anPBTLRy4YQTD0UgZkTJ+keVuWZ8j50lI8whQPyaERWuqwwnwsnvPL5JvmjhqosP5ukUJEFe29IEnCIx6/MSQ0jCVnAyGflCmCnQBnc3JQLWVD9vLnWZYbgp+9oL3r</v2:pOSIdent><v2:pOSIdent>i0/Tr+VNmKgY+wJydNVJbCob8vQemEnjdn3A2r2ffhs8dz4IHH2H2AVcFvTyEOe3ci6MD33ZHXqEu8Lr8L1xtG3SHwhy2TBVM3bEa6vFpMbxj5wBXmFfT/QAGRrOqWBN</v2:pOSIdent>', '<v2:pOSIdent>/AOrBGOFR+4GtqsAvOXC/3kKd0OCEPBVRfEsIPHeW3CoGcU1dio8gmrulsH5/KEvySRvbRT2hlDOXICKukDLldMgNY5z+yASe8F1rqBlKug=</v2:pOSIdent>']\n",
      "('WSTEST', 'WSHESLO')\n",
      "/home/linwe/pywsdp/services\n",
      "/home/linwe/pywsdp/services/ctiOS\n",
      "ctiOSJson\n",
      "ctiOS\n",
      "/home/linwe/pywsdp/services/ctiOS/config/settings.ini\n",
      "/home/linwe/pywsdp/services/ctiOS/config/ctiOS.xml\n",
      "{'content_type': 'text/xml;charset=UTF-8', 'accept_encoding': 'gzip,deflate', 'soap_action': 'http://katastr.cuzk.cz/ctios/ctios', 'connection': 'Keep-Alive', 'endpoint': 'https://wsdptrial.cuzk.cz/trial/ws/ctios/2.8/ctios'}\n"
     ]
    }
   ],
   "source": [
    "ctiOS = CtiOS()\n",
    "json = os.path.join('../', module_path, 'data', 'input', 'ctios_template2.json')\n",
    "ctiOS.nacti_identifikatory_z_json_souboru(json)\n",
    "\n",
    "print(ctiOS.ctios)\n",
    "print(ctiOS.ctios.parameters)\n",
    "print(ctiOS.ctios.xml_attrs)\n",
    "print(ctiOS.ctios.credentials)\n",
    "print(ctiOS.ctios.modules_dir)\n",
    "print(ctiOS.ctios.service_dir)\n",
    "print(ctiOS.ctios.service_name)\n",
    "print(ctiOS.ctios.service_group)\n",
    "print(ctiOS.ctios.config_path)\n",
    "print(ctiOS.ctios.template_path)\n",
    "print(ctiOS.ctios.service_headers)"
   ]
  },
  {
   "cell_type": "markdown",
   "id": "competitive-murder",
   "metadata": {},
   "source": [
    "Zavolame knihovnu a zpracujeme dane posidenty do formy slovniku:"
   ]
  },
  {
   "cell_type": "code",
   "execution_count": 5,
   "id": "timely-portable",
   "metadata": {},
   "outputs": [
    {
     "name": "stderr",
     "output_type": "stream",
     "text": [
      "CtiOS        - INFO     - POSIDENT uecJ/wWk2Ej6CAnwe3i0y0jfrp9Xr1oMVJ+9kLKpkU8trb/GSsJmcvNw7XJ0dzNpkKLYrpaxDPIVMKGKnG/ZMzSYtEOoqKGnRHhbt/PXjUr/RJzL4O5LlsS30GNP3Kka USPESNE STAZEN\n",
      "CtiOS        - INFO     - POSIDENT uecJ/wWk2Ej6CAnwe3i0y0jfrp9Xr1oMVJ+9kLKpkU8trb/GSsJmcvNw7XJ0dzNpkKLYrpaxDPIVMKGKnG/ZMzSYtEOoqKGnRHhbt/PXjUr/RJzL4O5LlsS30GNP3Kka USPESNE STAZEN\n",
      "CtiOS        - INFO     - POSIDENT Vm+8vMmIsWsvcxR9zMDL9Cy+E0ZgHj9AJ3kwMqaLxguXn6wJcfM3e3LWpd7RzRxm3woikNUtGPF45crUFMpAsfsa/Bmx4YzTqTFCj0vhoQY= USPESNE STAZEN\n",
      "CtiOS        - INFO     - POSIDENT T/sOfNBmULfA5GzBpJRYu3UWEwhw4PFYydRQSh7x1PSc4RTRLXYaXTfpbt2Da17zSJPbQDKce+cHMMQVCVBRj9+U8wwRYYTBTgLsWbpMpuY= USPESNE STAZEN\n",
      "CtiOS        - INFO     - POSIDENT lWpFU3UmWlpSe8TtpUMRBCFflbRtrT1aEpzxnv1MEXnpCGhTicndBKbyJjsfMJMdgH+U78n9GU5DNm6bXxNhnC2JU2MIzwpJObcy4n2Baqk= USPESNE STAZEN\n",
      "CtiOS        - INFO     - POSIDENT mDkas+QvEOd4+XBxuIW4Da3aEEdBAod5OJM/9la0ivdkMk7DTs9DqRZEI5Lc3wAC7Yb1sw4kp/JEFP3nnG2ZcPT36EJYO+EfrC0OlzewTfM= USPESNE STAZEN\n",
      "CtiOS        - INFO     - POSIDENT 7TsaZA7GFeEVxMscggvr2LkRAZwqfDywZ9HtkoX92fdNI/VFseD7SjfY8rJ7IlS7o2MG7D4mG56FZUTFOUWW7a5GeMmtDAasGLtodOgvIOA= USPESNE STAZEN\n",
      "CtiOS        - INFO     - POSIDENT yqpT3s/QygUWqCsg/azKypTOTOuJdbjB/16kQv0m5uugaHFJh8Mtp2i7sCdt71GRZixdYAzCVqEa4mNgvEjDECGf0Fby1B2nv1NdlyFQPrg= USPESNE STAZEN\n",
      "CtiOS        - INFO     - POSIDENT Z3anPBTLRy4YQTD0UgZkTJ+keVuWZ8j50lI8whQPyaERWuqwwnwsnvPL5JvmjhqosP5ukUJEFe29IEnCIx6/MSQ0jCVnAyGflCmCnQBnc3JQLWVD9vLnWZYbgp+9oL3r USPESNE STAZEN\n",
      "CtiOS        - INFO     - POSIDENT i0/Tr+VNmKgY+wJydNVJbCob8vQemEnjdn3A2r2ffhs8dz4IHH2H2AVcFvTyEOe3ci6MD33ZHXqEu8Lr8L1xtG3SHwhy2TBVM3bEa6vFpMbxj5wBXmFfT/QAGRrOqWBN USPESNE STAZEN\n",
      "CtiOS        - INFO     - POSIDENT /AOrBGOFR+4GtqsAvOXC/3kKd0OCEPBVRfEsIPHeW3CoGcU1dio8gmrulsH5/KEvySRvbRT2hlDOXICKukDLldMgNY5z+yASe8F1rqBlKug= USPESNE STAZEN\n",
      "CtiOS        - INFO     - Pocet dotazovanych posidentu: 11\n",
      "CtiOS        - INFO     - Pocet pozadavku do ktereho byl dotaz rozdelen: 2\n",
      "CtiOS        - INFO     - Pocet uspesne stazenych posidentu: 11\n",
      "CtiOS        - INFO     - Neplatny identifikator: 0x\n",
      "CtiOS        - INFO     - Expirovany identifikator: 0x\n",
      "CtiOS        - INFO     - Opravneny subjekt neexistuje: 0x\n"
     ]
    },
    {
     "name": "stdout",
     "output_type": "stream",
     "text": [
      "{'uecJ/wWk2Ej6CAnwe3i0y0jfrp9Xr1oMVJ+9kLKpkU8trb/GSsJmcvNw7XJ0dzNpkKLYrpaxDPIVMKGKnG/ZMzSYtEOoqKGnRHhbt/PXjUr/RJzL4O5LlsS30GNP3Kka': {'stavDat': '0', 'datumVzniku': '2000-01-01T00:00:00', 'priznakKontext': '3', 'rizeniIdVzniku': '26770653010', 'partnerBsm1': '29281934010', 'partnerBsm2': '344038746', 'opsubType': 'BSM', 'charOsType': '1', 'nazev': 'Čupa Josef a Kašná Marie', 'nazevU': 'CUPA JOSEF A KASNA MARIE', 'osId': '29281952010'}, 'Vm+8vMmIsWsvcxR9zMDL9Cy+E0ZgHj9AJ3kwMqaLxguXn6wJcfM3e3LWpd7RzRxm3woikNUtGPF45crUFMpAsfsa/Bmx4YzTqTFCj0vhoQY=': {'stavDat': '0', 'datumVzniku': '2000-01-01T00:00:00', 'priznakKontext': '3', 'rizeniIdVzniku': '35101500010', 'opsubType': 'OFO', 'charOsType': '2', 'rodneCislo': '056226223', 'jmeno': 'Radana', 'jmenoU': 'RADANA', 'prijmeni': 'Pavlů', 'prijmeniU': 'PAVLU', 'cisloDomovni': '1660', 'castObce': 'Hovězí', 'obec': 'Komárov', 'psc': '11000', 'cpCe': '1', 'osId': '410371306'}, 'T/sOfNBmULfA5GzBpJRYu3UWEwhw4PFYydRQSh7x1PSc4RTRLXYaXTfpbt2Da17zSJPbQDKce+cHMMQVCVBRj9+U8wwRYYTBTgLsWbpMpuY=': {'stavDat': '0', 'datumVzniku': '2000-01-01T00:00:00', 'priznakKontext': '3', 'rizeniIdVzniku': '16998598010', 'partnerBsm1': '433751306', 'partnerBsm2': '433752306', 'opsubType': 'BSM', 'charOsType': '1', 'nazev': 'Haas Petr a Kubná Marie', 'nazevU': 'HAAS PETR A KUBNA MARIE', 'datumVzniku2': '2001-06-29T10:13:16', 'rizeniIdVzniku2': '2889613306', 'osId': '425653306'}, 'lWpFU3UmWlpSe8TtpUMRBCFflbRtrT1aEpzxnv1MEXnpCGhTicndBKbyJjsfMJMdgH+U78n9GU5DNm6bXxNhnC2JU2MIzwpJObcy4n2Baqk=': {'stavDat': '0', 'datumVzniku': '2000-01-01T00:00:00', 'priznakKontext': '3', 'rizeniIdVzniku': '45216043010', 'opsubType': 'OFO', 'charOsType': '2', 'rodneCislo': '0256134351', 'jmeno': 'Julie', 'jmenoU': 'JULIE', 'prijmeni': 'Hrubá', 'prijmeniU': 'HRUBA', 'cisloDomovni': '5007', 'castObce': 'Komárov', 'obec': 'Komárov', 'psc': '11000', 'cpCe': '1', 'osId': '720498306'}, 'mDkas+QvEOd4+XBxuIW4Da3aEEdBAod5OJM/9la0ivdkMk7DTs9DqRZEI5Lc3wAC7Yb1sw4kp/JEFP3nnG2ZcPT36EJYO+EfrC0OlzewTfM=': {'stavDat': '0', 'datumVzniku': '2000-01-01T00:00:00', 'priznakKontext': '3', 'rizeniIdVzniku': '35096916010', 'opsubType': 'OFO', 'charOsType': '2', 'rodneCislo': '0405210399', 'jmeno': 'Petr', 'jmenoU': 'PETR', 'prijmeni': 'Kiša', 'prijmeniU': 'KISA', 'cisloDomovni': '5544', 'castObce': 'Hovězí', 'obec': 'Komárov', 'psc': '11000', 'cpCe': '1', 'osId': '420728306'}, '7TsaZA7GFeEVxMscggvr2LkRAZwqfDywZ9HtkoX92fdNI/VFseD7SjfY8rJ7IlS7o2MG7D4mG56FZUTFOUWW7a5GeMmtDAasGLtodOgvIOA=': {'stavDat': '0', 'datumVzniku': '2000-01-01T00:00:00', 'priznakKontext': '3', 'rizeniIdVzniku': '16998598010', 'partnerBsm1': '408394306', 'partnerBsm2': '410371306', 'opsubType': 'BSM', 'charOsType': '1', 'nazev': 'Hoza Lumír a Pavlů Radana', 'nazevU': 'HOZA LUMIR A PAVLU RADANA', 'datumVzniku2': '1997-04-23T00:00:00', 'rizeniIdVzniku2': '2829576306', 'osId': '425880306'}, 'yqpT3s/QygUWqCsg/azKypTOTOuJdbjB/16kQv0m5uugaHFJh8Mtp2i7sCdt71GRZixdYAzCVqEa4mNgvEjDECGf0Fby1B2nv1NdlyFQPrg=': {'stavDat': '0', 'datumVzniku': '2000-01-01T00:00:00', 'priznakKontext': '3', 'rizeniIdVzniku': '34971783010', 'opsubType': 'OFO', 'charOsType': '2', 'rodneCislo': '0304054751', 'jmeno': 'Karel', 'jmenoU': 'KAREL', 'prijmeni': 'Lexa', 'prijmeniU': 'LEXA', 'cisloDomovni': '5007', 'castObce': 'Komárov', 'obec': 'Komárov', 'psc': '11000', 'cpCe': '1', 'osId': '720497306'}, 'Z3anPBTLRy4YQTD0UgZkTJ+keVuWZ8j50lI8whQPyaERWuqwwnwsnvPL5JvmjhqosP5ukUJEFe29IEnCIx6/MSQ0jCVnAyGflCmCnQBnc3JQLWVD9vLnWZYbgp+9oL3r': {'stavDat': '0', 'datumVzniku': '2000-01-01T00:00:00', 'priznakKontext': '3', 'rizeniIdVzniku': '69895521010', 'opsubType': 'OFO', 'charOsType': '2', 'rodneCislo': '0704067903', 'jmeno': 'Otto', 'jmenoU': 'OTTO', 'prijmeni': 'Hora', 'prijmeniU': 'HORA', 'cisloDomovni': '980', 'castObce': 'Hovězí', 'obec': 'Komárov', 'psc': '11000', 'cpCe': '1', 'osId': '40779293010'}, 'i0/Tr+VNmKgY+wJydNVJbCob8vQemEnjdn3A2r2ffhs8dz4IHH2H2AVcFvTyEOe3ci6MD33ZHXqEu8Lr8L1xtG3SHwhy2TBVM3bEa6vFpMbxj5wBXmFfT/QAGRrOqWBN': {'stavDat': '0', 'datumVzniku': '2000-01-01T00:00:00', 'priznakKontext': '3', 'rizeniIdVzniku': '30331638010', 'opsubType': 'OFO', 'charOsType': '2', 'rodneCislo': '9204262188', 'jmeno': 'Karel', 'jmenoU': 'KAREL', 'prijmeni': 'Čupa', 'prijmeniU': 'CUPA', 'cisloDomovni': '8070', 'castObce': 'Hovězí', 'obec': 'Komárov', 'psc': '11000', 'cpCe': '1', 'osId': '31407789010'}, '/AOrBGOFR+4GtqsAvOXC/3kKd0OCEPBVRfEsIPHeW3CoGcU1dio8gmrulsH5/KEvySRvbRT2hlDOXICKukDLldMgNY5z+yASe8F1rqBlKug=': {'stavDat': '0', 'datumVzniku': '2000-01-01T00:00:00', 'priznakKontext': '3', 'rizeniIdVzniku': '35088613010', 'opsubType': 'OFO', 'charOsType': '2', 'rodneCislo': '7908142220', 'jmeno': 'Karel', 'jmenoU': 'KAREL', 'prijmeni': 'Duda', 'prijmeniU': 'DUDA', 'cisloDomovni': '3617', 'castObce': 'Hovězí', 'obec': 'Komárov', 'psc': '11000', 'cpCe': '1', 'osId': '415169306'}}\n"
     ]
    }
   ],
   "source": [
    "vysledek = ctiOS.zpracuj_identifikatory()\n",
    "print(vysledek)"
   ]
  },
  {
   "cell_type": "markdown",
   "id": "secondary-duration",
   "metadata": {},
   "source": [
    "Slovnik nyni muzeme vyexportovat do csv souboru:"
   ]
  },
  {
   "cell_type": "code",
   "execution_count": 6,
   "id": "ordinary-ending",
   "metadata": {},
   "outputs": [
    {
     "name": "stderr",
     "output_type": "stream",
     "text": [
      "CtiOS        - INFO     - Vystupni soubor je k dispozici zde: /home/linwe/pywsdp/data/output/ctios_08_48_11_29_11_2021.csv\n"
     ]
    },
    {
     "name": "stdout",
     "output_type": "stream",
     "text": [
      "/home/linwe/pywsdp/data/output/ctios_08_48_11_29_11_2021.csv\n"
     ]
    }
   ],
   "source": [
    "output = ctiOS.uloz_vystup(vysledek, \"csv\", os.path.join('../', module_path, 'data', 'output'))\n",
    "print(output)"
   ]
  },
  {
   "cell_type": "markdown",
   "id": "reverse-twist",
   "metadata": {},
   "source": [
    "Nebo do souboru formatu json, zalezi na preferencich:"
   ]
  },
  {
   "cell_type": "code",
   "execution_count": 7,
   "id": "concerned-baseball",
   "metadata": {},
   "outputs": [
    {
     "name": "stderr",
     "output_type": "stream",
     "text": [
      "CtiOS        - INFO     - Vystupni soubor je k dispozici zde: /home/linwe/pywsdp/data/output/ctios_08_48_11_29_11_2021.json\n"
     ]
    },
    {
     "name": "stdout",
     "output_type": "stream",
     "text": [
      "/home/linwe/pywsdp/data/output/ctios_08_48_11_29_11_2021.json\n"
     ]
    }
   ],
   "source": [
    "output = ctiOS.uloz_vystup(vysledek, \"json\", os.path.join('../', module_path, 'data', 'output'))\n",
    "print(output)"
   ]
  }
 ],
 "metadata": {
  "kernelspec": {
   "display_name": "Python 3",
   "language": "python",
   "name": "python3"
  },
  "language_info": {
   "codemirror_mode": {
    "name": "ipython",
    "version": 3
   },
   "file_extension": ".py",
   "mimetype": "text/x-python",
   "name": "python",
   "nbconvert_exporter": "python",
   "pygments_lexer": "ipython3",
   "version": "3.6.9"
  }
 },
 "nbformat": 4,
 "nbformat_minor": 5
}
