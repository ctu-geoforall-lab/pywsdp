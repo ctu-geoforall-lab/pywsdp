{
 "cells": [
  {
   "cell_type": "markdown",
   "id": "weird-recipe",
   "metadata": {},
   "source": [
    "# Modul CtiOSJson"
   ]
  },
  {
   "cell_type": "markdown",
   "id": "incredible-arena",
   "metadata": {},
   "source": [
    "Nejdrive naimportujeme knihovny:"
   ]
  },
  {
   "cell_type": "code",
   "execution_count": 1,
   "id": "organizational-metropolitan",
   "metadata": {},
   "outputs": [],
   "source": [
    "import os\n",
    "import sys\n",
    "import sqlite3\n",
    "\n",
    "# Moduly jsou v jinem adresari, je tedy nutne tento adresar pridat do sys.path\n",
    "module_path = os.path.abspath(os.path.join('../../'))\n",
    "if module_path not in sys.path:\n",
    "   sys.path.append(module_path)\n",
    "\n",
    "from pywsdp.modules import CtiOS\n",
    "from pywsdp import OutputFormat"
   ]
  },
  {
   "cell_type": "markdown",
   "id": "tutorial-space",
   "metadata": {},
   "source": [
    "Pote nadefinujeme parametry nutne pro inicializaci knihovny:"
   ]
  },
  {
   "cell_type": "code",
   "execution_count": 2,
   "id": "based-russian",
   "metadata": {},
   "outputs": [
    {
     "name": "stdout",
     "output_type": "stream",
     "text": [
      "<pywsdp.modules.CtiOS.CtiOS object at 0x7f4c0ebb3390>\n",
      "/home/linwe/pywsdp/data/input/ctios_template.json\n",
      "{'ctiOSJson': '/home/linwe/pywsdp/data/input/ctios_template.json'}\n",
      "ctiOS->ctiOSJson\n",
      "/home/linwe/pywsdp/data/input/ctios_template.json\n",
      "['<v2:pOSIdent>m+o3Qoxrit4ZwyJIPjx3X788EOgtJieiZYw/eqwxTPERjsqLramxBhGoAaAnooYAliQoVBYy7Q7fN2cVAxsAoUoPFaReqsfYWOZJjMBj/6Q=</v2:pOSIdent><v2:pOSIdent>mSH6sS5yv6vA2jEOtyHeXaXIJpC2m0Ai56aKzsVmEphUNyjFQYgC8MOLnu3+3Zugm8JQW2AJqEJYcSiqXdPbnb/03PKgyNkYWaS876wv0tg=</v2:pOSIdent><v2:pOSIdent>xairWnG248pu7itR19AIT87mDFI8yY0K0ms7v/iDY679wQ4EN5bMhMPSTXxgWDxMWZ0IoV/ihjGkNMXeqXHrMZsEbHBTzD9RUIOXw5M1hmE=</v2:pOSIdent><v2:pOSIdent>4m3Yuf1esDMzbgNGYW7kvzjlaZALZ3v3D7cXmxgCcFp0RerVtxqo8yb87oI0FBCtp49AycQ5NNI3vl+b+SEa+8SfmGU4sqBPH2pX/76wyBI=</v2:pOSIdent><v2:pOSIdent>BBgBQ2wok0L43hEZUEeieq8FrrQsT1SHIrpQBRwgLw2uTvTsXvGloIYnr+7J2z6t/hadCsyhcbxgrf47ByzpbY5TjyiUPxyXhlS73MKArjs=</v2:pOSIdent><v2:pOSIdent>ltTJU+/1imoqO4saz1ta1r88QGUxEkjRTfHUiC9Y9yfDKSM4c8soK/vz7bGd1JNwQPUiFayJQdLN0gPkusnnoNLo47RqbEoQxfg+eEuvTaQ=</v2:pOSIdent><v2:pOSIdent>OlVCtLEjQ+aNPyQNdT0JZOkkxvwl8t9DllRl/HiNx7G3QFyZnvKA4e2LBTSX+YuK41/rSMvAnm63ZeWPyZQCX77GuP1GZwwf2hVkKzVY/94=</v2:pOSIdent><v2:pOSIdent>KdSYyo8J1zUPVqxHUtY+tYA2w7krH9U+59hCYU8TXGZ06e74GGekPinyLtiSz+gO7ZmpWetCSaxvu1nXa6+t7w92wpqfa5jPpkfv5HF9MMA=</v2:pOSIdent><v2:pOSIdent>5wQRil9Nd5KIrn5KWTf8+sksZslnMqy2tveDvYPIsd1cd9qHYs1V9d9uZVwBEVe5Sknvonhh+FDiaYEJa+RdHM3VtvGsIqsc2Hm3mX0xYfs=</v2:pOSIdent><v2:pOSIdent>UKcYWvUUTpNi8flxUzlm+Ss5iq0JV3CiStJSAMOk6xHFQncZraFeO9yj8OGraKiDJ8eLB0FegdXYuyYWsEXiv2H9ws95ezlKNTqR6ze7aOnR3a7NWzWJfe+R5VHfU13+</v2:pOSIdent>']\n",
      "('WSTEST', 'WSHESLO')\n",
      "/home/linwe/pywsdp/pywsdp/services\n",
      "/home/linwe/pywsdp/pywsdp/services/ctiOS\n",
      "ctiOSJson\n",
      "ctiOS\n",
      "/home/linwe/pywsdp/pywsdp/services/ctiOS/config/settings.ini\n",
      "/home/linwe/pywsdp/pywsdp/services/ctiOS/config/ctiOS.xml\n",
      "{'content_type': 'text/xml;charset=UTF-8', 'accept_encoding': 'gzip,deflate', 'soap_action': 'http://katastr.cuzk.cz/ctios/ctios', 'connection': 'Keep-Alive', 'endpoint': 'https://wsdptrial.cuzk.cz/trial/ws/ctios/2.8/ctios'}\n"
     ]
    }
   ],
   "source": [
    "ctiOS = CtiOS()\n",
    "print(ctiOS)\n",
    "json = os.path.join('../', module_path, 'data', 'input', 'ctios_template.json')\n",
    "print(json)\n",
    "ctios = ctiOS.nacti_identifikatory_z_json_souboru(json)\n",
    "\n",
    "print(ctiOS.ctios)\n",
    "print(ctiOS.ctios.parameters)\n",
    "print(ctiOS.ctios.xml_attrs)\n",
    "print(ctiOS.ctios.credentials)\n",
    "print(ctiOS.ctios.services_dir)\n",
    "print(ctiOS.ctios.service_dir)\n",
    "print(ctiOS.ctios.service_name)\n",
    "print(ctiOS.ctios.service_group)\n",
    "print(ctiOS.ctios.config_path)\n",
    "print(ctiOS.ctios.template_path)\n",
    "print(ctiOS.ctios.service_headers)"
   ]
  },
  {
   "cell_type": "markdown",
   "id": "dimensional-cream",
   "metadata": {},
   "source": [
    "Zavolame knihovnu a zpracujeme dane posidenty do formy slovniku:\n"
   ]
  },
  {
   "cell_type": "code",
   "execution_count": 3,
   "id": "imported-disorder",
   "metadata": {},
   "outputs": [
    {
     "name": "stderr",
     "output_type": "stream",
     "text": [
      "CtiOS        - CRITICAL - WSDP REQUEST ERROR - 503 Server Error: Service Unavailable for url: https://wsdptrial.cuzk.cz/trial/ws/ctios/2.8/ctios\n"
     ]
    },
    {
     "ename": "WSDPRequestError",
     "evalue": "(<WSDPLogger CtiOS (DEBUG)>, HTTPError('503 Server Error: Service Unavailable for url: https://wsdptrial.cuzk.cz/trial/ws/ctios/2.8/ctios',))",
     "output_type": "error",
     "traceback": [
      "\u001b[0;31m---------------------------------------------------------------------------\u001b[0m",
      "\u001b[0;31mHTTPError\u001b[0m                                 Traceback (most recent call last)",
      "\u001b[0;32m~/pywsdp/pywsdp/base/__init__.py\u001b[0m in \u001b[0;36m_call_service\u001b[0;34m(self, xml)\u001b[0m\n\u001b[1;32m    208\u001b[0m             )\n\u001b[0;32m--> 209\u001b[0;31m             \u001b[0mr\u001b[0m\u001b[0;34m.\u001b[0m\u001b[0mraise_for_status\u001b[0m\u001b[0;34m(\u001b[0m\u001b[0;34m)\u001b[0m\u001b[0;34m\u001b[0m\u001b[0;34m\u001b[0m\u001b[0m\n\u001b[0m\u001b[1;32m    210\u001b[0m             \u001b[0;31m# if self.log_dir:\u001b[0m\u001b[0;34m\u001b[0m\u001b[0;34m\u001b[0m\u001b[0;34m\u001b[0m\u001b[0m\n",
      "\u001b[0;32m/usr/lib/python3/dist-packages/requests/models.py\u001b[0m in \u001b[0;36mraise_for_status\u001b[0;34m(self)\u001b[0m\n\u001b[1;32m    934\u001b[0m         \u001b[0;32mif\u001b[0m \u001b[0mhttp_error_msg\u001b[0m\u001b[0;34m:\u001b[0m\u001b[0;34m\u001b[0m\u001b[0;34m\u001b[0m\u001b[0m\n\u001b[0;32m--> 935\u001b[0;31m             \u001b[0;32mraise\u001b[0m \u001b[0mHTTPError\u001b[0m\u001b[0;34m(\u001b[0m\u001b[0mhttp_error_msg\u001b[0m\u001b[0;34m,\u001b[0m \u001b[0mresponse\u001b[0m\u001b[0;34m=\u001b[0m\u001b[0mself\u001b[0m\u001b[0;34m)\u001b[0m\u001b[0;34m\u001b[0m\u001b[0;34m\u001b[0m\u001b[0m\n\u001b[0m\u001b[1;32m    936\u001b[0m \u001b[0;34m\u001b[0m\u001b[0m\n",
      "\u001b[0;31mHTTPError\u001b[0m: 503 Server Error: Service Unavailable for url: https://wsdptrial.cuzk.cz/trial/ws/ctios/2.8/ctios",
      "\nDuring handling of the above exception, another exception occurred:\n",
      "\u001b[0;31mWSDPRequestError\u001b[0m                          Traceback (most recent call last)",
      "\u001b[0;32m<ipython-input-3-7633f6cda41c>\u001b[0m in \u001b[0;36m<module>\u001b[0;34m\u001b[0m\n\u001b[0;32m----> 1\u001b[0;31m \u001b[0mvysledek\u001b[0m \u001b[0;34m=\u001b[0m \u001b[0mctiOS\u001b[0m\u001b[0;34m.\u001b[0m\u001b[0mzpracuj_identifikatory\u001b[0m\u001b[0;34m(\u001b[0m\u001b[0;34m)\u001b[0m\u001b[0;34m\u001b[0m\u001b[0;34m\u001b[0m\u001b[0m\n\u001b[0m\u001b[1;32m      2\u001b[0m \u001b[0mprint\u001b[0m\u001b[0;34m(\u001b[0m\u001b[0mvysledek\u001b[0m\u001b[0;34m)\u001b[0m\u001b[0;34m\u001b[0m\u001b[0;34m\u001b[0m\u001b[0m\n",
      "\u001b[0;32m~/pywsdp/pywsdp/modules/CtiOS/__init__.py\u001b[0m in \u001b[0;36mzpracuj_identifikatory\u001b[0;34m(self)\u001b[0m\n\u001b[1;32m    121\u001b[0m         \u001b[0mudaji\u001b[0m \u001b[0mvstupni\u001b[0m \u001b[0mdatabazi\u001b[0m\u001b[0;34m.\u001b[0m\u001b[0;34m\u001b[0m\u001b[0;34m\u001b[0m\u001b[0m\n\u001b[1;32m    122\u001b[0m         \"\"\"\n\u001b[0;32m--> 123\u001b[0;31m         \u001b[0;32mreturn\u001b[0m \u001b[0mself\u001b[0m\u001b[0;34m.\u001b[0m\u001b[0mctios\u001b[0m\u001b[0;34m.\u001b[0m\u001b[0m_process\u001b[0m\u001b[0;34m(\u001b[0m\u001b[0;34m)\u001b[0m\u001b[0;34m\u001b[0m\u001b[0;34m\u001b[0m\u001b[0m\n\u001b[0m\u001b[1;32m    124\u001b[0m \u001b[0;34m\u001b[0m\u001b[0m\n\u001b[1;32m    125\u001b[0m     \u001b[0;32mdef\u001b[0m \u001b[0muloz_vystup\u001b[0m\u001b[0;34m(\u001b[0m\u001b[0mself\u001b[0m\u001b[0;34m,\u001b[0m \u001b[0mosobni_udaje\u001b[0m\u001b[0;34m,\u001b[0m \u001b[0mvystupni_soubor\u001b[0m\u001b[0;34m,\u001b[0m \u001b[0mformat_souboru\u001b[0m\u001b[0;34m)\u001b[0m\u001b[0;34m:\u001b[0m\u001b[0;34m\u001b[0m\u001b[0;34m\u001b[0m\u001b[0m\n",
      "\u001b[0;32m~/pywsdp/pywsdp/services/ctiOS/__init__.py\u001b[0m in \u001b[0;36m_process\u001b[0;34m(self)\u001b[0m\n\u001b[1;32m    128\u001b[0m         \u001b[0;32mfor\u001b[0m \u001b[0mxml_attr\u001b[0m \u001b[0;32min\u001b[0m \u001b[0mself\u001b[0m\u001b[0;34m.\u001b[0m\u001b[0mxml_attrs\u001b[0m\u001b[0;34m:\u001b[0m\u001b[0;34m\u001b[0m\u001b[0;34m\u001b[0m\u001b[0m\n\u001b[1;32m    129\u001b[0m             \u001b[0mxml\u001b[0m \u001b[0;34m=\u001b[0m \u001b[0mself\u001b[0m\u001b[0;34m.\u001b[0m\u001b[0m_renderXML\u001b[0m\u001b[0;34m(\u001b[0m\u001b[0mposidents\u001b[0m\u001b[0;34m=\u001b[0m\u001b[0mxml_attr\u001b[0m\u001b[0;34m)\u001b[0m\u001b[0;34m\u001b[0m\u001b[0;34m\u001b[0m\u001b[0m\n\u001b[0;32m--> 130\u001b[0;31m             \u001b[0mresponse_xml\u001b[0m \u001b[0;34m=\u001b[0m \u001b[0mself\u001b[0m\u001b[0;34m.\u001b[0m\u001b[0m_call_service\u001b[0m\u001b[0;34m(\u001b[0m\u001b[0mxml\u001b[0m\u001b[0;34m)\u001b[0m\u001b[0;34m\u001b[0m\u001b[0;34m\u001b[0m\u001b[0m\n\u001b[0m\u001b[1;32m    131\u001b[0m             \u001b[0mdictionary\u001b[0m \u001b[0;34m=\u001b[0m \u001b[0;34m{\u001b[0m\u001b[0;34m**\u001b[0m\u001b[0mdictionary\u001b[0m\u001b[0;34m,\u001b[0m \u001b[0;34m**\u001b[0m\u001b[0mself\u001b[0m\u001b[0;34m.\u001b[0m\u001b[0m_parseXML\u001b[0m\u001b[0;34m(\u001b[0m\u001b[0mresponse_xml\u001b[0m\u001b[0;34m)\u001b[0m\u001b[0;34m}\u001b[0m\u001b[0;34m\u001b[0m\u001b[0;34m\u001b[0m\u001b[0m\n\u001b[1;32m    132\u001b[0m         \u001b[0mself\u001b[0m\u001b[0;34m.\u001b[0m\u001b[0m_write_stats\u001b[0m\u001b[0;34m(\u001b[0m\u001b[0;34m)\u001b[0m\u001b[0;34m\u001b[0m\u001b[0;34m\u001b[0m\u001b[0m\n",
      "\u001b[0;32m~/pywsdp/pywsdp/base/__init__.py\u001b[0m in \u001b[0;36m_call_service\u001b[0;34m(self, xml)\u001b[0m\n\u001b[1;32m    211\u001b[0m             \u001b[0;31m#    self.logger.debug(response_xml)\u001b[0m\u001b[0;34m\u001b[0m\u001b[0;34m\u001b[0m\u001b[0;34m\u001b[0m\u001b[0m\n\u001b[1;32m    212\u001b[0m         \u001b[0;32mexcept\u001b[0m \u001b[0mrequests\u001b[0m\u001b[0;34m.\u001b[0m\u001b[0mexceptions\u001b[0m\u001b[0;34m.\u001b[0m\u001b[0mRequestException\u001b[0m \u001b[0;32mas\u001b[0m \u001b[0me\u001b[0m\u001b[0;34m:\u001b[0m\u001b[0;34m\u001b[0m\u001b[0;34m\u001b[0m\u001b[0m\n\u001b[0;32m--> 213\u001b[0;31m             \u001b[0;32mraise\u001b[0m \u001b[0mWSDPRequestError\u001b[0m\u001b[0;34m(\u001b[0m\u001b[0mself\u001b[0m\u001b[0;34m.\u001b[0m\u001b[0mlogger\u001b[0m\u001b[0;34m,\u001b[0m \u001b[0me\u001b[0m\u001b[0;34m)\u001b[0m\u001b[0;34m\u001b[0m\u001b[0;34m\u001b[0m\u001b[0m\n\u001b[0m\u001b[1;32m    214\u001b[0m         \u001b[0mresponse_xml\u001b[0m \u001b[0;34m=\u001b[0m \u001b[0mr\u001b[0m\u001b[0;34m.\u001b[0m\u001b[0mtext\u001b[0m\u001b[0;34m\u001b[0m\u001b[0;34m\u001b[0m\u001b[0m\n\u001b[1;32m    215\u001b[0m         \u001b[0;32mreturn\u001b[0m \u001b[0mresponse_xml\u001b[0m\u001b[0;34m\u001b[0m\u001b[0;34m\u001b[0m\u001b[0m\n",
      "\u001b[0;31mWSDPRequestError\u001b[0m: (<WSDPLogger CtiOS (DEBUG)>, HTTPError('503 Server Error: Service Unavailable for url: https://wsdptrial.cuzk.cz/trial/ws/ctios/2.8/ctios',))"
     ]
    }
   ],
   "source": [
    "vysledek = ctiOS.zpracuj_identifikatory()\n",
    "print(vysledek)"
   ]
  },
  {
   "cell_type": "markdown",
   "id": "serial-samoa",
   "metadata": {},
   "source": [
    "Muzeme si vsimnout ze jsme pravdepodobne pouzili stary soubor, jelikoz posidenty jsou expirovane. Zkusime tedy obstarat aktualni data a nyni uz se dobereme vysledku:"
   ]
  },
  {
   "cell_type": "code",
   "execution_count": null,
   "id": "artificial-eating",
   "metadata": {},
   "outputs": [],
   "source": [
    "ctiOS = CtiOS()\n",
    "json = os.path.join('../', module_path, 'data', 'input', 'ctios_template2.json')\n",
    "ctiOS.nacti_identifikatory_z_json_souboru(json)\n",
    "\n",
    "print(ctiOS.ctios)\n",
    "print(ctiOS.ctios.parameters)\n",
    "print(ctiOS.ctios.xml_attrs)\n",
    "print(ctiOS.ctios.credentials)\n",
    "print(ctiOS.ctios.services_dir)\n",
    "print(ctiOS.ctios.service_dir)\n",
    "print(ctiOS.ctios.service_name)\n",
    "print(ctiOS.ctios.service_group)\n",
    "print(ctiOS.ctios.config_path)\n",
    "print(ctiOS.ctios.template_path)\n",
    "print(ctiOS.ctios.service_headers)"
   ]
  },
  {
   "cell_type": "markdown",
   "id": "competitive-murder",
   "metadata": {},
   "source": [
    "Zavolame knihovnu a zpracujeme dane posidenty do formy slovniku:"
   ]
  },
  {
   "cell_type": "code",
   "execution_count": null,
   "id": "timely-portable",
   "metadata": {},
   "outputs": [],
   "source": [
    "vysledek = ctiOS.zpracuj_identifikatory()\n",
    "print(vysledek)"
   ]
  },
  {
   "cell_type": "markdown",
   "id": "secondary-duration",
   "metadata": {},
   "source": [
    "Slovnik nyni muzeme vyexportovat do csv souboru:"
   ]
  },
  {
   "cell_type": "code",
   "execution_count": null,
   "id": "ordinary-ending",
   "metadata": {},
   "outputs": [],
   "source": [
    "vystupni_soubor = os.path.join('../', module_path, 'data', 'output', 'ctios.csv')\n",
    "ctiOS.uloz_vystup(vysledek, vystupni_soubor , OutputFormat.Csv)"
   ]
  },
  {
   "cell_type": "markdown",
   "id": "reverse-twist",
   "metadata": {},
   "source": [
    "Nebo do souboru formatu json, zalezi na preferencich:"
   ]
  },
  {
   "cell_type": "code",
   "execution_count": null,
   "id": "concerned-baseball",
   "metadata": {},
   "outputs": [],
   "source": [
    "vystupni_soubor = os.path.join('../', module_path, 'data', 'output', 'ctios.json')\n",
    "ctiOS.uloz_vystup(vysledek, vystupni_soubor, OutputFormat.Json)\n"
   ]
  },
  {
   "cell_type": "code",
   "execution_count": null,
   "id": "charged-virus",
   "metadata": {},
   "outputs": [],
   "source": []
  }
 ],
 "metadata": {
  "kernelspec": {
   "display_name": "Python 3",
   "language": "python",
   "name": "python3"
  },
  "language_info": {
   "codemirror_mode": {
    "name": "ipython",
    "version": 3
   },
   "file_extension": ".py",
   "mimetype": "text/x-python",
   "name": "python",
   "nbconvert_exporter": "python",
   "pygments_lexer": "ipython3",
   "version": "3.6.9"
  }
 },
 "nbformat": 4,
 "nbformat_minor": 5
}
