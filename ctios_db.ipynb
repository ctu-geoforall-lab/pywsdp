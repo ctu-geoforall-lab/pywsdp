{
 "cells": [
  {
   "cell_type": "markdown",
   "id": "instructional-favor",
   "metadata": {},
   "source": [
    "# Knihovna CtiOsGdal"
   ]
  },
  {
   "cell_type": "markdown",
   "id": "incorporated-employer",
   "metadata": {},
   "source": [
    "Nejdrive naimportujeme knihovny:"
   ]
  },
  {
   "cell_type": "code",
   "execution_count": 1,
   "id": "fewer-right",
   "metadata": {},
   "outputs": [],
   "source": [
    "import os\n",
    "import sys\n",
    "import sqlite3\n",
    "from ctios.gdal import CtiOsGdal"
   ]
  },
  {
   "cell_type": "markdown",
   "id": "tutorial-space",
   "metadata": {},
   "source": [
    "Pote nadefinujeme parametry nutne pro inicializaci knihovny:"
   ]
  },
  {
   "cell_type": "code",
   "execution_count": 2,
   "id": "based-russian",
   "metadata": {},
   "outputs": [
    {
     "name": "stdout",
     "output_type": "stream",
     "text": [
      "/home/linwe/pywsdp/tests/input_data/Export_1-4.db\n",
      "/home/linwe/pywsdp/ctios/config/settings.ini\n",
      "/home/linwe/pywsdp/tests/output_data\n",
      "/home/linwe/pywsdp/tests/ctios\n"
     ]
    }
   ],
   "source": [
    "username = \"WSTEST\"\n",
    "password = \"WSHESLO\"\n",
    "db_path = os.path.join(os.path.abspath('tests'), 'input_data', 'Export_1-4.db')\n",
    "config_path = os.path.join(os.path.abspath('ctios'), 'config', 'settings.ini') #nepovinny\n",
    "out_dir = os.path.join(os.path.abspath('tests'), 'output_data') #nepovinny\n",
    "log_dir = os.path.join(os.path.abspath('tests'), 'ctios') #nepovinny\n",
    "sql=\"SELECT * FROM OPSUB order by ID LIMIT 10\" #nepovinny\n",
    "print(db_path)\n",
    "print(config_path)\n",
    "print(out_dir)\n",
    "print(log_dir)"
   ]
  },
  {
   "cell_type": "markdown",
   "id": "excessive-circuit",
   "metadata": {},
   "source": [
    "V dalsim kroku se podivame do databaze VFK, kde uvidime nevyplnene osobni udaje:"
   ]
  },
  {
   "cell_type": "code",
   "execution_count": 3,
   "id": "resident-premises",
   "metadata": {
    "scrolled": true
   },
   "outputs": [
    {
     "name": "stdout",
     "output_type": "stream",
     "text": [
      "('+VKfYaKhJDrRHUWeS2e7xO7g+HhFQapZMPa5kamaF/wSOs6r3xEPEVFhtUlWqcXO9GTopZEjqpsTbsKhZmN7VxYJSxvgcgTWMGdxYkQVCaU=', None, None, None, None, None, None, None, None, None, 'OFO', 2, None, None, None, None, None, None, None, None, None, None, None, None, None, None, None, None, None, None, None, None, None, None, None, None, None, 105)\n",
      "('+lQ0Ne+Jhd5K4uvds1/KT8qqJcoA/eJ5OloIoqvCQi04X93kbmO62f/i2fqJgk62odrpl2ye04ue7tlKR93hckH4u46kVMoHQWmYF/rBWMA=', None, None, None, None, None, None, None, None, None, 'OFO', 2, None, None, None, None, None, None, None, None, None, None, None, None, None, None, None, None, None, None, None, None, None, None, None, None, None, 64)\n",
      "('/AOrBGOFR+4GtqsAvOXC/3kKd0OCEPBVRfEsIPHeW3CoGcU1dio8gmrulsH5/KEvySRvbRT2hlDOXICKukDLldMgNY5z+yASe8F1rqBlKug=', None, None, None, None, None, None, None, None, None, 'OFO', 2, None, None, None, None, None, None, None, None, None, None, None, None, None, None, None, None, None, None, None, None, None, None, None, None, None, 14)\n",
      "('/ipU68hnjrq1J7ZDi4JBaAyBiKjxZzpGZSVIfv8yFMKSKy3PpT/lba/0c4YCdqvrexVCCAL0MxBbob3A75l2Tnkgw/HHXtm0+abSHVywLEM=', None, None, None, None, None, None, '2fa9YZ/g+IACqr1Etk+QIUPK51iiTwCA/t/nTw+U9RUmjfYorPLrzpPd46Bmj3C3tfw3cyOy5bx0ogGCOZ01eUctqHZQzXY903JlPvzPzlw=', 'J3hMa2yksIRcQaD51HVTH3Q6WzhIEBRV4Pjvzv1m9JVCaVFmqbSQLmMqp5SX+mFgX+CkR4Tf0RenGliXDwBkGky9DnZquQo+qDKWLThkZ7c=', None, 'BSM', 1, None, None, None, None, None, None, None, None, None, None, None, None, None, None, None, None, None, None, None, None, None, None, None, None, None, 104)\n",
      "('00ep7V5fFBZoFMeOfcAOPMRtu0G9svLcsDyC/fYkJk3EbFIqbw2kpRaC1jjS1V8bjacEwrp/SdxXZXdtwDzFj3vKzXvHF7k7HiDpVtv6fPAUIS/cKLcyZ7viQd7pE5FE', None, None, None, None, None, None, None, None, None, 'OFO', 2, None, None, None, None, None, None, None, None, None, None, None, None, None, None, None, None, None, None, None, None, None, None, None, None, None, 43)\n",
      "('078yf28ANhKnYAoAfBZk6LwrtgWykcrWv2Inb0RySck69cjrSm5AFefIPtsNw/M2svL/JsumXXsklMRnHtccupBZ+KOedZqCraKOLujSdsc=', None, None, None, None, None, None, None, None, None, 'OFO', 2, None, None, None, None, None, None, None, None, None, None, None, None, None, None, None, None, None, None, None, None, None, None, None, None, None, 99)\n",
      "('1fvxg03sxZo/hSaLM7Lww9w46fBDLTZx2NREsAV7HwkGRjxGKxwq/yWF24gjR+BGxTTQSSLZzxzKsCANYGfupv2Us5sf3kcnc1BVKPtcz5s=', None, None, None, None, None, None, None, None, None, 'OFO', 2, None, None, None, None, None, None, None, None, None, None, None, None, None, None, None, None, None, None, None, None, None, None, None, None, None, 91)\n",
      "('1icyYJRr8366DjQYyqdj/TTYUgGOuUSp6ck6NDaYLdQ6lU3sbdOjY6CKYEN5T6XuJ8mBowWJicz/4l0lrv0Y+AZetgmFuW0OoM7yEd+5evQ=', None, None, None, None, None, None, None, None, None, 'OFO', 2, None, None, None, None, None, None, None, None, None, None, None, None, None, None, None, None, None, None, None, None, None, None, None, None, None, 59)\n",
      "('2fa9YZ/g+IACqr1Etk+QIUPK51iiTwCA/t/nTw+U9RUmjfYorPLrzpPd46Bmj3C3tfw3cyOy5bx0ogGCOZ01eUctqHZQzXY903JlPvzPzlw=', None, None, None, None, None, None, None, None, None, 'OFO', 2, None, None, None, None, None, None, None, None, None, None, None, None, None, None, None, None, None, None, None, None, None, None, None, None, None, 19)\n",
      "('3ZendyrB5RiGiS5emPZ8oWRhZZQOsLiOHI329ANsTWE3+RDPfNFmHeJzpKvspfBZpBX5RpwGNirjH3hlHeysozmb3+g52m7EfdnRYUR/iAA=', None, None, None, None, None, None, None, None, None, 'OFO', 2, None, None, None, None, None, None, None, None, None, None, None, None, None, None, None, None, None, None, None, None, None, None, None, None, None, 107)\n"
     ]
    }
   ],
   "source": [
    "con = sqlite3.connect(db_path)\n",
    "cur = con.cursor()\n",
    "\n",
    "for row in cur.execute(\"SELECT * FROM OPSUB order by ID LIMIT 10\"):\n",
    "    print(row)\n",
    "    \n",
    "con.close()"
   ]
  },
  {
   "cell_type": "markdown",
   "id": "dimensional-cream",
   "metadata": {},
   "source": [
    "Zavolame knihovnu a naplnime VFK databazi osobnimi udaji:\n"
   ]
  },
  {
   "cell_type": "code",
   "execution_count": 4,
   "id": "boolean-politics",
   "metadata": {},
   "outputs": [
    {
     "name": "stderr",
     "output_type": "stream",
     "text": [
      "pyctios      - INFO     - POSIDENT +VKfYaKhJDrRHUWeS2e7xO7g+HhFQapZMPa5kamaF/wSOs6r3xEPEVFhtUlWqcXO9GTopZEjqpsTbsKhZmN7VxYJSxvgcgTWMGdxYkQVCaU= USPESNE STAZEN\n",
      "pyctios      - INFO     - POSIDENT 00ep7V5fFBZoFMeOfcAOPMRtu0G9svLcsDyC/fYkJk3EbFIqbw2kpRaC1jjS1V8bjacEwrp/SdxXZXdtwDzFj3vKzXvHF7k7HiDpVtv6fPAUIS/cKLcyZ7viQd7pE5FE USPESNE STAZEN\n",
      "pyctios      - INFO     - POSIDENT 1fvxg03sxZo/hSaLM7Lww9w46fBDLTZx2NREsAV7HwkGRjxGKxwq/yWF24gjR+BGxTTQSSLZzxzKsCANYGfupv2Us5sf3kcnc1BVKPtcz5s= USPESNE STAZEN\n",
      "pyctios      - INFO     - POSIDENT /ipU68hnjrq1J7ZDi4JBaAyBiKjxZzpGZSVIfv8yFMKSKy3PpT/lba/0c4YCdqvrexVCCAL0MxBbob3A75l2Tnkgw/HHXtm0+abSHVywLEM= USPESNE STAZEN\n",
      "pyctios      - INFO     - POSIDENT 2fa9YZ/g+IACqr1Etk+QIUPK51iiTwCA/t/nTw+U9RUmjfYorPLrzpPd46Bmj3C3tfw3cyOy5bx0ogGCOZ01eUctqHZQzXY903JlPvzPzlw= USPESNE STAZEN\n",
      "pyctios      - INFO     - POSIDENT /AOrBGOFR+4GtqsAvOXC/3kKd0OCEPBVRfEsIPHeW3CoGcU1dio8gmrulsH5/KEvySRvbRT2hlDOXICKukDLldMgNY5z+yASe8F1rqBlKug= USPESNE STAZEN\n",
      "pyctios      - INFO     - POSIDENT 3ZendyrB5RiGiS5emPZ8oWRhZZQOsLiOHI329ANsTWE3+RDPfNFmHeJzpKvspfBZpBX5RpwGNirjH3hlHeysozmb3+g52m7EfdnRYUR/iAA= USPESNE STAZEN\n",
      "pyctios      - INFO     - POSIDENT 078yf28ANhKnYAoAfBZk6LwrtgWykcrWv2Inb0RySck69cjrSm5AFefIPtsNw/M2svL/JsumXXsklMRnHtccupBZ+KOedZqCraKOLujSdsc= USPESNE STAZEN\n",
      "pyctios      - INFO     - POSIDENT 1icyYJRr8366DjQYyqdj/TTYUgGOuUSp6ck6NDaYLdQ6lU3sbdOjY6CKYEN5T6XuJ8mBowWJicz/4l0lrv0Y+AZetgmFuW0OoM7yEd+5evQ= USPESNE STAZEN\n",
      "pyctios      - INFO     - POSIDENT +lQ0Ne+Jhd5K4uvds1/KT8qqJcoA/eJ5OloIoqvCQi04X93kbmO62f/i2fqJgk62odrpl2ye04ue7tlKR93hckH4u46kVMoHQWmYF/rBWMA= USPESNE STAZEN\n",
      "pyctios      - INFO     - Radky v databazi u POSIdentu +VKfYaKhJDrRHUWeS2e7xO7g+HhFQapZMPa5kamaF/wSOs6r3xEPEVFhtUlWqcXO9GTopZEjqpsTbsKhZmN7VxYJSxvgcgTWMGdxYkQVCaU= aktualizovany\n",
      "pyctios      - INFO     - Radky v databazi u POSIdentu 00ep7V5fFBZoFMeOfcAOPMRtu0G9svLcsDyC/fYkJk3EbFIqbw2kpRaC1jjS1V8bjacEwrp/SdxXZXdtwDzFj3vKzXvHF7k7HiDpVtv6fPAUIS/cKLcyZ7viQd7pE5FE aktualizovany\n",
      "pyctios      - INFO     - Radky v databazi u POSIdentu 1fvxg03sxZo/hSaLM7Lww9w46fBDLTZx2NREsAV7HwkGRjxGKxwq/yWF24gjR+BGxTTQSSLZzxzKsCANYGfupv2Us5sf3kcnc1BVKPtcz5s= aktualizovany\n",
      "pyctios      - INFO     - Radky v databazi u POSIdentu /ipU68hnjrq1J7ZDi4JBaAyBiKjxZzpGZSVIfv8yFMKSKy3PpT/lba/0c4YCdqvrexVCCAL0MxBbob3A75l2Tnkgw/HHXtm0+abSHVywLEM= aktualizovany\n",
      "pyctios      - INFO     - Radky v databazi u POSIdentu 2fa9YZ/g+IACqr1Etk+QIUPK51iiTwCA/t/nTw+U9RUmjfYorPLrzpPd46Bmj3C3tfw3cyOy5bx0ogGCOZ01eUctqHZQzXY903JlPvzPzlw= aktualizovany\n",
      "pyctios      - INFO     - Radky v databazi u POSIdentu /AOrBGOFR+4GtqsAvOXC/3kKd0OCEPBVRfEsIPHeW3CoGcU1dio8gmrulsH5/KEvySRvbRT2hlDOXICKukDLldMgNY5z+yASe8F1rqBlKug= aktualizovany\n",
      "pyctios      - INFO     - Radky v databazi u POSIdentu 3ZendyrB5RiGiS5emPZ8oWRhZZQOsLiOHI329ANsTWE3+RDPfNFmHeJzpKvspfBZpBX5RpwGNirjH3hlHeysozmb3+g52m7EfdnRYUR/iAA= aktualizovany\n",
      "pyctios      - INFO     - Radky v databazi u POSIdentu 078yf28ANhKnYAoAfBZk6LwrtgWykcrWv2Inb0RySck69cjrSm5AFefIPtsNw/M2svL/JsumXXsklMRnHtccupBZ+KOedZqCraKOLujSdsc= aktualizovany\n",
      "pyctios      - INFO     - Radky v databazi u POSIdentu 1icyYJRr8366DjQYyqdj/TTYUgGOuUSp6ck6NDaYLdQ6lU3sbdOjY6CKYEN5T6XuJ8mBowWJicz/4l0lrv0Y+AZetgmFuW0OoM7yEd+5evQ= aktualizovany\n",
      "pyctios      - INFO     - Radky v databazi u POSIdentu +lQ0Ne+Jhd5K4uvds1/KT8qqJcoA/eJ5OloIoqvCQi04X93kbmO62f/i2fqJgk62odrpl2ye04ue7tlKR93hckH4u46kVMoHQWmYF/rBWMA= aktualizovany\n",
      "pyctios      - INFO     - Pocet dotazovanych posidentu: 10.\n",
      "pyctios      - INFO     - Pocet pozadavku do ktereho byl dotaz rozdelen: 1.\n",
      "pyctios      - INFO     - Pocet uspesne stazenych posidentu: 10\n",
      "pyctios      - INFO     - Neplatny identifikator: 0x.\n",
      "pyctios      - INFO     - Expirovany identifikator: 0x.\n",
      "pyctios      - INFO     - Opravneny subjekt neexistuje: 0x.\n"
     ]
    }
   ],
   "source": [
    "ctios = CtiOsGdal(username=username,\n",
    "                  password=password,\n",
    "                  db_path=db_path,\n",
    "                  sql=sql,\n",
    "                  config_path=config_path,\n",
    "                  out_dir=out_dir,\n",
    "                  log_dir=log_dir)\n",
    "ctios.process()"
   ]
  },
  {
   "cell_type": "markdown",
   "id": "conservative-clerk",
   "metadata": {},
   "source": [
    "Podivame se do naplnene databaze:"
   ]
  },
  {
   "cell_type": "code",
   "execution_count": 5,
   "id": "british-illness",
   "metadata": {},
   "outputs": [
    {
     "name": "stdout",
     "output_type": "stream",
     "text": [
      "('+VKfYaKhJDrRHUWeS2e7xO7g+HhFQapZMPa5kamaF/wSOs6r3xEPEVFhtUlWqcXO9GTopZEjqpsTbsKhZmN7VxYJSxvgcgTWMGdxYkQVCaU=', 0, '2000-01-01T00:00:00', None, 3, 37752260010, None, None, None, None, 'OFO', 2, None, None, None, None, '470211573', None, 'Josef', 'JOSEF', 'Lexa', 'LEXA', None, 317, '28', 'Rodinná', 'Tuř', 'Třinec', None, None, 11000, None, 1, None, None, None, None, 105, '421391306')\n",
      "('+lQ0Ne+Jhd5K4uvds1/KT8qqJcoA/eJ5OloIoqvCQi04X93kbmO62f/i2fqJgk62odrpl2ye04ue7tlKR93hckH4u46kVMoHQWmYF/rBWMA=', 0, '2000-01-01T00:00:00', None, 3, 32848747010, None, None, None, None, 'OFO', 2, None, None, None, None, '400504084', None, 'Evald', 'EVALD', 'Šíma', 'SIMA', None, 1012, None, 'Velká', 'Palkovice', 'Kopřivnice', None, None, 11000, None, 1, None, None, None, None, 64, '441241306')\n",
      "('/AOrBGOFR+4GtqsAvOXC/3kKd0OCEPBVRfEsIPHeW3CoGcU1dio8gmrulsH5/KEvySRvbRT2hlDOXICKukDLldMgNY5z+yASe8F1rqBlKug=', 0, '2000-01-01T00:00:00', None, 3, 35088613010, None, None, None, None, 'OFO', 2, None, None, None, None, '7908142220', None, 'Jan', 'JAN', 'Duda', 'DUDA', None, 15, None, None, 'Hovězí', 'Komárov', None, None, 11000, None, 1, None, None, None, None, 14, '415169306')\n",
      "('/ipU68hnjrq1J7ZDi4JBaAyBiKjxZzpGZSVIfv8yFMKSKy3PpT/lba/0c4YCdqvrexVCCAL0MxBbob3A75l2Tnkgw/HHXtm0+abSHVywLEM=', 0, '2000-01-01T00:00:00', None, 3, 16998598010, None, '408129306', '408981306', None, 'BSM', 1, None, None, 'Šíma Petr a Hurná Marta', 'SIMA PETR A HURNA MARTA', None, None, None, None, None, None, None, None, None, None, None, None, None, None, None, None, None, '2003-06-26T07:43:05', 3003873306, None, None, 104, '425760306')\n",
      "('00ep7V5fFBZoFMeOfcAOPMRtu0G9svLcsDyC/fYkJk3EbFIqbw2kpRaC1jjS1V8bjacEwrp/SdxXZXdtwDzFj3vKzXvHF7k7HiDpVtv6fPAUIS/cKLcyZ7viQd7pE5FE', 0, '2000-01-01T00:00:00', None, 3, 35354684010, None, None, None, None, 'OFO', 2, None, None, None, None, '1409270522', None, 'Jan', 'JAN', 'Čupa', 'CUPA', None, 18, None, None, 'Hovězí', 'Komárov', None, None, 11000, None, 1, None, None, None, None, 43, '29184773010')\n",
      "('078yf28ANhKnYAoAfBZk6LwrtgWykcrWv2Inb0RySck69cjrSm5AFefIPtsNw/M2svL/JsumXXsklMRnHtccupBZ+KOedZqCraKOLujSdsc=', 0, '2000-01-01T00:00:00', None, 3, 30331638010, None, None, None, None, 'OFO', 2, None, None, None, None, '8056211999', None, 'Kamila', 'KAMILA', 'Zlotá', 'ZLOTA', None, 29, None, None, 'Hovězí', 'Komárov', None, None, 11000, None, 1, None, None, None, None, 99, '439245306')\n",
      "('1fvxg03sxZo/hSaLM7Lww9w46fBDLTZx2NREsAV7HwkGRjxGKxwq/yWF24gjR+BGxTTQSSLZzxzKsCANYGfupv2Us5sf3kcnc1BVKPtcz5s=', 0, '2000-01-01T00:00:00', None, 3, 35632494010, None, None, None, None, 'OFO', 2, None, None, None, None, '5504036043', None, 'Karel', 'KAREL', 'Bena', 'BENA', None, 71, None, None, 'Kolín', 'Blatnička', None, None, 11000, None, 1, None, None, None, None, 91, '1187463301')\n",
      "('1icyYJRr8366DjQYyqdj/TTYUgGOuUSp6ck6NDaYLdQ6lU3sbdOjY6CKYEN5T6XuJ8mBowWJicz/4l0lrv0Y+AZetgmFuW0OoM7yEd+5evQ=', 0, '2000-01-01T00:00:00', None, 3, 35230494010, None, None, None, None, 'OFO', 2, None, None, None, None, '1353067925', None, 'Marie', 'MARIE', 'Malá', 'MALA', None, 2, None, None, 'Hovězí', 'Komárov', None, None, 11000, None, 1, None, None, None, None, 59, '441625306')\n",
      "('2fa9YZ/g+IACqr1Etk+QIUPK51iiTwCA/t/nTw+U9RUmjfYorPLrzpPd46Bmj3C3tfw3cyOy5bx0ogGCOZ01eUctqHZQzXY903JlPvzPzlw=', 0, '2000-01-01T00:00:00', None, 3, 28727152010, None, None, None, None, 'OFO', 2, None, None, None, None, '231029337', None, 'Petr', 'PETR', 'Šíma', 'SIMA', None, 4, None, None, 'Hovězí', 'Komárov', None, None, 11000, None, 1, None, None, None, None, 19, '408129306')\n",
      "('3ZendyrB5RiGiS5emPZ8oWRhZZQOsLiOHI329ANsTWE3+RDPfNFmHeJzpKvspfBZpBX5RpwGNirjH3hlHeysozmb3+g52m7EfdnRYUR/iAA=', 0, '2000-01-01T00:00:00', None, 3, 45270974010, None, None, None, None, 'OFO', 2, None, None, None, None, '526216265', None, 'Kamila', 'KAMILA', 'Černá', 'CERNA', None, 25, None, None, 'Ostravice', 'Jihlava', None, None, 11000, None, 1, None, None, None, None, 107, '701993306')\n"
     ]
    }
   ],
   "source": [
    "out_dir = os.path.join(os.path.abspath('tests'), 'output_data', 'Export_1-4.db')\n",
    "con = sqlite3.connect(out_dir)\n",
    "cur = con.cursor()\n",
    "\n",
    "for row in cur.execute(\"SELECT * FROM OPSUB order by ID LIMIT 10\"):\n",
    "    print(row)\n",
    "    \n",
    "con.close()"
   ]
  }
 ],
 "metadata": {
  "kernelspec": {
   "display_name": "Python 3",
   "language": "python",
   "name": "python3"
  },
  "language_info": {
   "codemirror_mode": {
    "name": "ipython",
    "version": 3
   },
   "file_extension": ".py",
   "mimetype": "text/x-python",
   "name": "python",
   "nbconvert_exporter": "python",
   "pygments_lexer": "ipython3",
   "version": "3.6.9"
  }
 },
 "nbformat": 4,
 "nbformat_minor": 5
}
