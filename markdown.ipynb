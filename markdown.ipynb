{
 "cells": [
  {
   "cell_type": "markdown",
   "id": "instructional-favor",
   "metadata": {},
   "source": [
    "# Knihovna Ctios"
   ]
  },
  {
   "cell_type": "markdown",
   "id": "incorporated-employer",
   "metadata": {},
   "source": [
    "Nejdrive naimportujeme knihovny:"
   ]
  },
  {
   "cell_type": "code",
   "execution_count": 1,
   "id": "fewer-right",
   "metadata": {},
   "outputs": [],
   "source": [
    "from os.path import expanduser\n",
    "import tempfile\n",
    "from shutil import copyfile\n",
    "import sqlite3\n",
    "import os\n",
    "from ctios import CtiOs\n",
    "from ctios.exceptions import CtiOsError\n",
    "from ctios.logger import Logger"
   ]
  },
  {
   "cell_type": "markdown",
   "id": "tutorial-space",
   "metadata": {},
   "source": [
    "Pote nadefinujeme vsech pet parametru nutnych pro inicializaci knihovny:"
   ]
  },
  {
   "cell_type": "code",
   "execution_count": 2,
   "id": "exciting-container",
   "metadata": {},
   "outputs": [],
   "source": [
    "user = 'WSTEST'\n",
    "password = 'WSHESLO'\n",
    "log = os.path.join(expanduser(\"~\"), \"pyctios\", \"tests\")\n",
    "db = os.path.join(expanduser(\"~\"), \"pyctios\", \"tests\", \"input_data\", \"Export_1-4.db\") # Cesta k VFK souboru\n",
    "sql = \"SELECT ID FROM OPSUB order by ID LIMIT 10\" # Vyber pseudonymizovanych identifikatoru z VFK souboru"
   ]
  },
  {
   "cell_type": "markdown",
   "id": "exact-giant",
   "metadata": {},
   "source": [
    "V dalsim kroku vytvorime prechodnou databazi, kterou budeme editovat:"
   ]
  },
  {
   "cell_type": "code",
   "execution_count": 3,
   "id": "resident-premises",
   "metadata": {},
   "outputs": [
    {
     "data": {
      "text/plain": [
       "'/tmp/tmpjoy9muip'"
      ]
     },
     "execution_count": 3,
     "metadata": {},
     "output_type": "execute_result"
    }
   ],
   "source": [
    "temp_db = tempfile.mkstemp()[1]\n",
    "copyfile(db, temp_db)"
   ]
  },
  {
   "cell_type": "markdown",
   "id": "dimensional-cream",
   "metadata": {},
   "source": [
    "Podivame se na _zatim_ prazdne zaznamy v databazi, ktere odpovidaji pozadovanym identifikatorum:"
   ]
  },
  {
   "cell_type": "code",
   "execution_count": 4,
   "id": "british-illness",
   "metadata": {},
   "outputs": [
    {
     "name": "stdout",
     "output_type": "stream",
     "text": [
      "('+VKfYaKhJDrRHUWeS2e7xMFjeFVGld3D7MQNJ3pNQwn6paZVLu4aptTG+3rV/4CH6Je07M62FoAKKSv7BtQoZOJE3v+Bvs1w3JvIpmp3XHY=', None, None, None, None, None, None, None, None, None, 'OFO', 2, None, None, None, None, None, None, None, None, None, None, None, None, None, None, None, None, None, None, None, None, None, None, None, None, None, 7)\n",
      "('+lQ0Ne+Jhd5K4uvds1/KT+SoaUhcpe1+ZoJKKMLrUmSyykxy3MKi9YeNZUYXhSMnXYQ8W/+yhfD5tLrIwBk/UFuKXKNEzHsjLqyn2YW6FLA=', None, None, None, None, None, None, None, None, None, 'OFO', 2, None, None, None, None, None, None, None, None, None, None, None, None, None, None, None, None, None, None, None, None, None, None, None, None, None, 52)\n",
      "('/AOrBGOFR+4GtqsAvOXC/4/EdRYW1Pg4L2FnKGmxEh9oexYYBufF/4KX/WLHKnQkxHBgMF+Qi59bG7ovKTlz3Y59mp99CZpeWh80QDBNfHU=', None, None, None, None, None, None, None, None, None, 'OFO', 2, None, None, None, None, None, None, None, None, None, None, None, None, None, None, None, None, None, None, None, None, None, None, None, None, None, 65)\n",
      "('/ipU68hnjrq1J7ZDi4JBaGloYLaxU2mef3KLjZzjxz2UCbQw6jKGZ3X3HXGtziAstJSprCrlMgZN3Uqzzfho1wdlRhrBG3VMEzJpGcTTJIY=', None, None, None, None, None, None, '2fa9YZ/g+IACqr1Etk+QISpL9d6xAgGv9ehh//G5wYmpTgw6ScosOMoO/XrMQ4/iueoE5gO1XXg3Vz6jMrCTmMnpC0VsacjJTkTo2imP8HY=', 'J3hMa2yksIRcQaD51HVTH+jS6j5wtxaR6cY07AtCyzfPodl4RihHKtq7xR48gK3mVcb8pO6sgb3rj64dQNtC6xMl6HfQdAgDKcMY3lDACik=', None, 'BSM', 1, None, None, None, None, None, None, None, None, None, None, None, None, None, None, None, None, None, None, None, None, None, None, None, None, None, 77)\n",
      "('00ep7V5fFBZoFMeOfcAOPBscKT7cUf96ksQrbzLuHv6kaD1NuhTsK0HcNLOUqe1JHn4drSKMLh7ZdAtt31PQ3oHj/GzUX2/49MnBf4Pn8sMDILmxeD01QB1MOBNDiwcz', None, None, None, None, None, None, None, None, None, 'OFO', 2, None, None, None, None, None, None, None, None, None, None, None, None, None, None, None, None, None, None, None, None, None, None, None, None, None, 40)\n",
      "('078yf28ANhKnYAoAfBZk6JcosYVuqw7Yur4O034D43mbGXGpgII10W2QLyyuxsOAARlsy6LTNYDEacOqFFowB/Kbi/ElbNuLIdgSI8LvNws=', None, None, None, None, None, None, None, None, None, 'OFO', 2, None, None, None, None, None, None, None, None, None, None, None, None, None, None, None, None, None, None, None, None, None, None, None, None, None, 54)\n",
      "('1fvxg03sxZo/hSaLM7LwwzPzvtkdzyRLjYspEuCC+awOIAFINH4xC+KRipTeMQNwcFkp5pbcdGhi4ejqP4L73huK+9/JDI+t2KpMlMd+7P4=', None, None, None, None, None, None, None, None, None, 'OFO', 2, None, None, None, None, None, None, None, None, None, None, None, None, None, None, None, None, None, None, None, None, None, None, None, None, None, 96)\n",
      "('1icyYJRr8366DjQYyqdj/RsgzSmUUODcxzYRO/yxkVQLtSyllEbwVT5rDfIENIv3DHuzcyCJmYTDoZYdeQTAP0K8dHlwqEQlqc8S7EEQRzE=', None, None, None, None, None, None, None, None, None, 'OFO', 2, None, None, None, None, None, None, None, None, None, None, None, None, None, None, None, None, None, None, None, None, None, None, None, None, None, 103)\n",
      "('2fa9YZ/g+IACqr1Etk+QISpL9d6xAgGv9ehh//G5wYmpTgw6ScosOMoO/XrMQ4/iueoE5gO1XXg3Vz6jMrCTmMnpC0VsacjJTkTo2imP8HY=', None, None, None, None, None, None, None, None, None, 'OFO', 2, None, None, None, None, None, None, None, None, None, None, None, None, None, None, None, None, None, None, None, None, None, None, None, None, None, 84)\n",
      "('3ZendyrB5RiGiS5emPZ8oWNjHWvf4gnZwC3wOT5mHMVmj1CEi3h2RT2gfXehYCW5Q7fy6NnxmwuKoC1H0OAhkkLc0mjwmi1/30c1rjFXYYk=', None, None, None, None, None, None, None, None, None, 'OFO', 2, None, None, None, None, None, None, None, None, None, None, None, None, None, None, None, None, None, None, None, None, None, None, None, None, None, 48)\n"
     ]
    }
   ],
   "source": [
    "con = sqlite3.connect(temp_db)\n",
    "cur = con.cursor()\n",
    "\n",
    "for row in cur.execute(\"SELECT * FROM OPSUB order by ID LIMIT 10\"):\n",
    "    print(row)\n",
    "    \n",
    "con.close()"
   ]
  },
  {
   "cell_type": "markdown",
   "id": "subsequent-control",
   "metadata": {},
   "source": [
    "Inicializujeme knihovnu:"
   ]
  },
  {
   "cell_type": "code",
   "execution_count": 5,
   "id": "boolean-politics",
   "metadata": {},
   "outputs": [],
   "source": [
    "co = CtiOs(user, password, log_dir=log)"
   ]
  },
  {
   "cell_type": "markdown",
   "id": "adjustable-carbon",
   "metadata": {},
   "source": [
    "Nastavime databazi:"
   ]
  },
  {
   "cell_type": "code",
   "execution_count": 6,
   "id": "random-tooth",
   "metadata": {},
   "outputs": [],
   "source": [
    "db_path = co.set_db(temp_db)"
   ]
  },
  {
   "cell_type": "markdown",
   "id": "identical-heating",
   "metadata": {},
   "source": [
    "Vybereme id pseudonymizovanych identifikatoru z databaze:"
   ]
  },
  {
   "cell_type": "code",
   "execution_count": 7,
   "id": "impossible-director",
   "metadata": {},
   "outputs": [],
   "source": [
    "ids = co.set_ids_from_db(db_path, sql)"
   ]
  },
  {
   "cell_type": "markdown",
   "id": "reserved-presence",
   "metadata": {},
   "source": [
    "Posleme pozadavek na server WSDP CUZK a provedeme zpracovani vracenych osobnich udaju do prechodne databaze"
   ]
  },
  {
   "cell_type": "code",
   "execution_count": 8,
   "id": "freelance-julian",
   "metadata": {},
   "outputs": [
    {
     "name": "stderr",
     "output_type": "stream",
     "text": [
      "pyctios      - INFO     - Pocet jedinecnych ID v seznamu: 10\n"
     ]
    },
    {
     "ename": "KeyError",
     "evalue": "'service headers'",
     "output_type": "error",
     "traceback": [
      "\u001b[0;31m---------------------------------------------------------------------------\u001b[0m",
      "\u001b[0;31mKeyError\u001b[0m                                  Traceback (most recent call last)",
      "\u001b[0;32m<ipython-input-8-6340eb5744a2>\u001b[0m in \u001b[0;36m<module>\u001b[0;34m\u001b[0m\n\u001b[0;32m----> 1\u001b[0;31m \u001b[0mco\u001b[0m\u001b[0;34m.\u001b[0m\u001b[0mquery_requests\u001b[0m\u001b[0;34m(\u001b[0m\u001b[0mids\u001b[0m\u001b[0;34m,\u001b[0m \u001b[0mdb_path\u001b[0m\u001b[0;34m)\u001b[0m\u001b[0;34m\u001b[0m\u001b[0;34m\u001b[0m\u001b[0m\n\u001b[0m",
      "\u001b[0;32m~/pyctios/ctios/__init__.py\u001b[0m in \u001b[0;36mquery_requests\u001b[0;34m(self, ids, db_path)\u001b[0m\n\u001b[1;32m    359\u001b[0m         \u001b[0mLogger\u001b[0m\u001b[0;34m.\u001b[0m\u001b[0minfo\u001b[0m\u001b[0;34m(\u001b[0m\u001b[0;34m'Pocet jedinecnych ID v seznamu: {}'\u001b[0m\u001b[0;34m.\u001b[0m\u001b[0mformat\u001b[0m\u001b[0;34m(\u001b[0m\u001b[0mlen\u001b[0m\u001b[0;34m(\u001b[0m\u001b[0mids\u001b[0m\u001b[0;34m)\u001b[0m\u001b[0;34m)\u001b[0m\u001b[0;34m)\u001b[0m\u001b[0;34m\u001b[0m\u001b[0;34m\u001b[0m\u001b[0m\n\u001b[1;32m    360\u001b[0m \u001b[0;34m\u001b[0m\u001b[0m\n\u001b[0;32m--> 361\u001b[0;31m         \u001b[0m_max_num\u001b[0m \u001b[0;34m=\u001b[0m \u001b[0mself\u001b[0m\u001b[0;34m.\u001b[0m\u001b[0m_config\u001b[0m\u001b[0;34m[\u001b[0m\u001b[0;34m'service headers'\u001b[0m\u001b[0;34m]\u001b[0m\u001b[0;34m.\u001b[0m\u001b[0mgetint\u001b[0m\u001b[0;34m(\u001b[0m\u001b[0;34m'max_num'\u001b[0m\u001b[0;34m)\u001b[0m\u001b[0;34m\u001b[0m\u001b[0;34m\u001b[0m\u001b[0m\n\u001b[0m\u001b[1;32m    362\u001b[0m \u001b[0;34m\u001b[0m\u001b[0m\n\u001b[1;32m    363\u001b[0m         \u001b[0;32mif\u001b[0m \u001b[0mlen\u001b[0m\u001b[0;34m(\u001b[0m\u001b[0mids\u001b[0m\u001b[0;34m)\u001b[0m \u001b[0;34m<=\u001b[0m \u001b[0m_max_num\u001b[0m\u001b[0;34m:\u001b[0m\u001b[0;34m\u001b[0m\u001b[0;34m\u001b[0m\u001b[0m\n",
      "\u001b[0;32m/usr/lib/python3.6/configparser.py\u001b[0m in \u001b[0;36m__getitem__\u001b[0;34m(self, key)\u001b[0m\n\u001b[1;32m    957\u001b[0m     \u001b[0;32mdef\u001b[0m \u001b[0m__getitem__\u001b[0m\u001b[0;34m(\u001b[0m\u001b[0mself\u001b[0m\u001b[0;34m,\u001b[0m \u001b[0mkey\u001b[0m\u001b[0;34m)\u001b[0m\u001b[0;34m:\u001b[0m\u001b[0;34m\u001b[0m\u001b[0;34m\u001b[0m\u001b[0m\n\u001b[1;32m    958\u001b[0m         \u001b[0;32mif\u001b[0m \u001b[0mkey\u001b[0m \u001b[0;34m!=\u001b[0m \u001b[0mself\u001b[0m\u001b[0;34m.\u001b[0m\u001b[0mdefault_section\u001b[0m \u001b[0;32mand\u001b[0m \u001b[0;32mnot\u001b[0m \u001b[0mself\u001b[0m\u001b[0;34m.\u001b[0m\u001b[0mhas_section\u001b[0m\u001b[0;34m(\u001b[0m\u001b[0mkey\u001b[0m\u001b[0;34m)\u001b[0m\u001b[0;34m:\u001b[0m\u001b[0;34m\u001b[0m\u001b[0;34m\u001b[0m\u001b[0m\n\u001b[0;32m--> 959\u001b[0;31m             \u001b[0;32mraise\u001b[0m \u001b[0mKeyError\u001b[0m\u001b[0;34m(\u001b[0m\u001b[0mkey\u001b[0m\u001b[0;34m)\u001b[0m\u001b[0;34m\u001b[0m\u001b[0;34m\u001b[0m\u001b[0m\n\u001b[0m\u001b[1;32m    960\u001b[0m         \u001b[0;32mreturn\u001b[0m \u001b[0mself\u001b[0m\u001b[0;34m.\u001b[0m\u001b[0m_proxies\u001b[0m\u001b[0;34m[\u001b[0m\u001b[0mkey\u001b[0m\u001b[0;34m]\u001b[0m\u001b[0;34m\u001b[0m\u001b[0;34m\u001b[0m\u001b[0m\n\u001b[1;32m    961\u001b[0m \u001b[0;34m\u001b[0m\u001b[0m\n",
      "\u001b[0;31mKeyError\u001b[0m: 'service headers'"
     ]
    }
   ],
   "source": [
    "co.query_requests(ids, db_path)"
   ]
  },
  {
   "cell_type": "markdown",
   "id": "geographic-serum",
   "metadata": {},
   "source": [
    "Vysledne vyplnene udaje si z databaze zobrazime:"
   ]
  },
  {
   "cell_type": "code",
   "execution_count": null,
   "id": "alien-collection",
   "metadata": {},
   "outputs": [],
   "source": [
    "con = sqlite3.connect(temp_db)\n",
    "cur = con.cursor()\n",
    "\n",
    "for row in cur.execute(\"SELECT * FROM OPSUB order by ID LIMIT 10\"):\n",
    "    print(row)\n",
    "    \n",
    "con.close()"
   ]
  }
 ],
 "metadata": {
  "kernelspec": {
   "display_name": "Python 3",
   "language": "python",
   "name": "python3"
  },
  "language_info": {
   "codemirror_mode": {
    "name": "ipython",
    "version": 3
   },
   "file_extension": ".py",
   "mimetype": "text/x-python",
   "name": "python",
   "nbconvert_exporter": "python",
   "pygments_lexer": "ipython3",
   "version": "3.6.9"
  }
 },
 "nbformat": 4,
 "nbformat_minor": 5
}
