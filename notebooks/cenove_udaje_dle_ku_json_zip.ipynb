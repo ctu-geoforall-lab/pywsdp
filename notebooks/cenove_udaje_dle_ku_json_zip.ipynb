{
 "cells": [
  {
   "cell_type": "markdown",
   "id": "instructional-favor",
   "metadata": {},
   "source": [
    "## Ukázka zpracování cenových údajů, uložení souboru sestavy"
   ]
  },
  {
   "cell_type": "markdown",
   "id": "21313b8d",
   "metadata": {},
   "source": [
    "Nejprve naimportujeme knihovny a potřebné moduly. Pro účely notebooku je třeba přidat cestu k modulu pywsdp do PATH."
   ]
  },
  {
   "cell_type": "code",
   "execution_count": 1,
   "id": "fewer-right",
   "metadata": {},
   "outputs": [],
   "source": [
    "import os\n",
    "import sys\n",
    "library_path = os.path.abspath(os.path.join(\"../../\"))\n",
    "sys.path.append(library_path)\n",
    "\n",
    "from pywsdp.modules import GenerujCenoveUdajeDleKu\n"
   ]
  },
  {
   "cell_type": "markdown",
   "id": "75219328",
   "metadata": {},
   "source": [
    "Přihlásíme se k modulu GenerujCenoveUdajeDleKu. Pro tento účel využijeme testovací přístupové údaje do DP."
   ]
  },
  {
   "cell_type": "code",
   "execution_count": 2,
   "id": "b71f2fbd",
   "metadata": {},
   "outputs": [],
   "source": [
    "creds_test = [\"WSTEST\", \"WSHESLO\"]\n",
    "cen_udaje = GenerujCenoveUdajeDleKu(creds_test, trial=True)"
   ]
  },
  {
   "cell_type": "markdown",
   "id": "b10b3a20",
   "metadata": {},
   "source": [
    "Načteme identifikátory z JSON souboru."
   ]
  },
  {
   "cell_type": "code",
   "execution_count": 3,
   "id": "654c8be8",
   "metadata": {},
   "outputs": [
    {
     "name": "stdout",
     "output_type": "stream",
     "text": [
      "{'katastrUzemiKod': 732630, 'rok': 2020, 'mesicOd': 9, 'mesicDo': 12, 'format': 'zip'}\n"
     ]
    }
   ],
   "source": [
    "json_path_generujCen = os.path.abspath(\n",
    "    os.path.join(\n",
    "        library_path, \"tests\",\n",
    "        \"data\",\n",
    "        \"input\",\n",
    "        \"generujCenoveUdajeDleKu_template.json\",\n",
    "    )\n",
    ")\n",
    "parametry_generujCen_json = cen_udaje.nacti_identifikatory_z_json_souboru(json_path_generujCen)\n",
    "print(parametry_generujCen_json)"
   ]
  },
  {
   "cell_type": "markdown",
   "id": "8e79059b",
   "metadata": {},
   "source": [
    "Pošleme požadavek na WSDP službu generujCenoveUdajeDleKu."
   ]
  },
  {
   "cell_type": "code",
   "execution_count": 4,
   "id": "2719c63b",
   "metadata": {},
   "outputs": [
    {
     "name": "stderr",
     "output_type": "stream",
     "text": [
      "generujCenoveUdajeDleKu - INFO     -  \n",
      "generujCenoveUdajeDleKu - INFO     - Požadovaná akce byla úspěšně provedena.\n"
     ]
    }
   ],
   "source": [
    "sestava = cen_udaje.posli_pozadavek(parametry_generujCen_json)"
   ]
  },
  {
   "cell_type": "markdown",
   "id": "d9b1bdee",
   "metadata": {},
   "source": [
    "Vypíšeme si údaje o vytvořené sestavě."
   ]
  },
  {
   "cell_type": "code",
   "execution_count": 5,
   "id": "1403e941",
   "metadata": {},
   "outputs": [
    {
     "name": "stderr",
     "output_type": "stream",
     "text": [
      "generujCenoveUdajeDleKu - INFO     -  \n",
      "generujCenoveUdajeDleKu - INFO     - Požadovaná akce byla úspěšně provedena.\n"
     ]
    },
    {
     "name": "stdout",
     "output_type": "stream",
     "text": [
      "{'id': 146225781011, 'nazev': 'Cenové údaje podle katastrálního území', 'pocetJednotek': 3, 'pocetStran': 3, 'cena': Decimal('15'), 'datumPozadavku': '2022-10-29T07:59:55', 'datumSpusteni': '2022-10-29T07:59:55', 'datumVytvoreni': '2022-10-29T07:59:55', 'idNadrizeneSestavy': None, 'idPodrizeneSestavy': [], 'stav': 'zpracován', 'format': 'zip', 'elZnacka': 'n', 'casoveRaziko': None, 'souborSestavy': None}\n"
     ]
    }
   ],
   "source": [
    "info = cen_udaje.vypis_info_o_sestave(sestava)\n",
    "print(info)"
   ]
  },
  {
   "cell_type": "markdown",
   "id": "a8c7c2ce",
   "metadata": {},
   "source": [
    "Zaúčtujeme sestavu. Součástí odpovědi bude zašifrovaný ZIP soubor s cenovými údaji."
   ]
  },
  {
   "cell_type": "code",
   "execution_count": 6,
   "id": "77c1d9fc",
   "metadata": {},
   "outputs": [
    {
     "name": "stderr",
     "output_type": "stream",
     "text": [
      "generujCenoveUdajeDleKu - INFO     -  \n",
      "generujCenoveUdajeDleKu - INFO     - Požadovaná akce byla úspěšně provedena.\n"
     ]
    }
   ],
   "source": [
    "zauctovani = cen_udaje.zauctuj_sestavu(sestava)"
   ]
  },
  {
   "cell_type": "markdown",
   "id": "130a97a1",
   "metadata": {},
   "source": [
    "Dešifrujeme soubor a uložíme si ho do požadovaného adresáře. Pokud adresář neexistuje, knihovna ho sama vytvoří."
   ]
  },
  {
   "cell_type": "code",
   "execution_count": 7,
   "id": "a6c1acf7",
   "metadata": {},
   "outputs": [
    {
     "name": "stderr",
     "output_type": "stream",
     "text": [
      "generujCenoveUdajeDleKu - INFO     - Vystupni soubor je k dispozici zde: /home/linduska/pywsdp/tests/data/output/cen_udaje_07_59_56_29_10_2022.zip\n"
     ]
    }
   ],
   "source": [
    "vystupni_adresar = os.path.abspath(\n",
    "    os.path.join(library_path, \"tests\", \"data\", \"output\")\n",
    ")\n",
    "cesta = cen_udaje.uloz_vystup(zauctovani, vystupni_adresar)"
   ]
  },
  {
   "cell_type": "markdown",
   "id": "e268931c",
   "metadata": {},
   "source": [
    "Smažeme sestavu - již nebude účtem přístupná."
   ]
  },
  {
   "cell_type": "code",
   "execution_count": 8,
   "id": "867ba2a8",
   "metadata": {},
   "outputs": [
    {
     "name": "stderr",
     "output_type": "stream",
     "text": [
      "generujCenoveUdajeDleKu - INFO     -  \n",
      "generujCenoveUdajeDleKu - INFO     - Požadovaná akce byla úspěšně provedena.\n"
     ]
    }
   ],
   "source": [
    "smazani = cen_udaje.vymaz_sestavu(sestava)"
   ]
  }
 ],
 "metadata": {
  "kernelspec": {
   "display_name": "Python 3 (ipykernel)",
   "language": "python",
   "name": "python3"
  },
  "language_info": {
   "codemirror_mode": {
    "name": "ipython",
    "version": 3
   },
   "file_extension": ".py",
   "mimetype": "text/x-python",
   "name": "python",
   "nbconvert_exporter": "python",
   "pygments_lexer": "ipython3",
   "version": "3.10.6"
  }
 },
 "nbformat": 4,
 "nbformat_minor": 5
}
